{
 "cells": [
  {
   "cell_type": "code",
   "execution_count": 1,
   "metadata": {},
   "outputs": [],
   "source": [
    "import pandas as pd \n",
    "import numpy as np "
   ]
  },
  {
   "cell_type": "code",
   "execution_count": 2,
   "metadata": {},
   "outputs": [],
   "source": [
    "import spacy\n",
    "from spacy.lang.en.stop_words import STOP_WORDS"
   ]
  },
  {
   "cell_type": "code",
   "execution_count": 3,
   "metadata": {},
   "outputs": [
    {
     "data": {
      "text/html": [
       "<div>\n",
       "<style scoped>\n",
       "    .dataframe tbody tr th:only-of-type {\n",
       "        vertical-align: middle;\n",
       "    }\n",
       "\n",
       "    .dataframe tbody tr th {\n",
       "        vertical-align: top;\n",
       "    }\n",
       "\n",
       "    .dataframe thead th {\n",
       "        text-align: right;\n",
       "    }\n",
       "</style>\n",
       "<table border=\"1\" class=\"dataframe\">\n",
       "  <thead>\n",
       "    <tr style=\"text-align: right;\">\n",
       "      <th></th>\n",
       "      <th>0</th>\n",
       "      <th>1</th>\n",
       "      <th>2</th>\n",
       "      <th>3</th>\n",
       "      <th>4</th>\n",
       "      <th>5</th>\n",
       "    </tr>\n",
       "  </thead>\n",
       "  <tbody>\n",
       "    <tr>\n",
       "      <th>0</th>\n",
       "      <td>0</td>\n",
       "      <td>1467810369</td>\n",
       "      <td>Mon Apr 06 22:19:45 PDT 2009</td>\n",
       "      <td>NO_QUERY</td>\n",
       "      <td>_TheSpecialOne_</td>\n",
       "      <td>@switchfoot http://twitpic.com/2y1zl - Awww, t...</td>\n",
       "    </tr>\n",
       "    <tr>\n",
       "      <th>1</th>\n",
       "      <td>0</td>\n",
       "      <td>1467810672</td>\n",
       "      <td>Mon Apr 06 22:19:49 PDT 2009</td>\n",
       "      <td>NO_QUERY</td>\n",
       "      <td>scotthamilton</td>\n",
       "      <td>is upset that he can't update his Facebook by ...</td>\n",
       "    </tr>\n",
       "    <tr>\n",
       "      <th>2</th>\n",
       "      <td>0</td>\n",
       "      <td>1467810917</td>\n",
       "      <td>Mon Apr 06 22:19:53 PDT 2009</td>\n",
       "      <td>NO_QUERY</td>\n",
       "      <td>mattycus</td>\n",
       "      <td>@Kenichan I dived many times for the ball. Man...</td>\n",
       "    </tr>\n",
       "    <tr>\n",
       "      <th>3</th>\n",
       "      <td>0</td>\n",
       "      <td>1467811184</td>\n",
       "      <td>Mon Apr 06 22:19:57 PDT 2009</td>\n",
       "      <td>NO_QUERY</td>\n",
       "      <td>ElleCTF</td>\n",
       "      <td>my whole body feels itchy and like its on fire</td>\n",
       "    </tr>\n",
       "    <tr>\n",
       "      <th>4</th>\n",
       "      <td>0</td>\n",
       "      <td>1467811193</td>\n",
       "      <td>Mon Apr 06 22:19:57 PDT 2009</td>\n",
       "      <td>NO_QUERY</td>\n",
       "      <td>Karoli</td>\n",
       "      <td>@nationwideclass no, it's not behaving at all....</td>\n",
       "    </tr>\n",
       "  </tbody>\n",
       "</table>\n",
       "</div>"
      ],
      "text/plain": [
       "   0           1                             2         3                4  \\\n",
       "0  0  1467810369  Mon Apr 06 22:19:45 PDT 2009  NO_QUERY  _TheSpecialOne_   \n",
       "1  0  1467810672  Mon Apr 06 22:19:49 PDT 2009  NO_QUERY    scotthamilton   \n",
       "2  0  1467810917  Mon Apr 06 22:19:53 PDT 2009  NO_QUERY         mattycus   \n",
       "3  0  1467811184  Mon Apr 06 22:19:57 PDT 2009  NO_QUERY          ElleCTF   \n",
       "4  0  1467811193  Mon Apr 06 22:19:57 PDT 2009  NO_QUERY           Karoli   \n",
       "\n",
       "                                                   5  \n",
       "0  @switchfoot http://twitpic.com/2y1zl - Awww, t...  \n",
       "1  is upset that he can't update his Facebook by ...  \n",
       "2  @Kenichan I dived many times for the ball. Man...  \n",
       "3    my whole body feels itchy and like its on fire   \n",
       "4  @nationwideclass no, it's not behaving at all....  "
      ]
     },
     "execution_count": 3,
     "metadata": {},
     "output_type": "execute_result"
    }
   ],
   "source": [
    "df = pd.read_csv(r'C:\\Users\\User\\Desktop\\tweet.csv', encoding = 'latin1',  header = None)\n",
    "df.head()"
   ]
  },
  {
   "cell_type": "code",
   "execution_count": 4,
   "metadata": {},
   "outputs": [],
   "source": [
    "df = df[[5, 0]]"
   ]
  },
  {
   "cell_type": "code",
   "execution_count": 5,
   "metadata": {},
   "outputs": [
    {
     "data": {
      "text/html": [
       "<div>\n",
       "<style scoped>\n",
       "    .dataframe tbody tr th:only-of-type {\n",
       "        vertical-align: middle;\n",
       "    }\n",
       "\n",
       "    .dataframe tbody tr th {\n",
       "        vertical-align: top;\n",
       "    }\n",
       "\n",
       "    .dataframe thead th {\n",
       "        text-align: right;\n",
       "    }\n",
       "</style>\n",
       "<table border=\"1\" class=\"dataframe\">\n",
       "  <thead>\n",
       "    <tr style=\"text-align: right;\">\n",
       "      <th></th>\n",
       "      <th>tweets</th>\n",
       "      <th>sentiment</th>\n",
       "    </tr>\n",
       "  </thead>\n",
       "  <tbody>\n",
       "    <tr>\n",
       "      <th>0</th>\n",
       "      <td>@switchfoot http://twitpic.com/2y1zl - Awww, t...</td>\n",
       "      <td>0</td>\n",
       "    </tr>\n",
       "    <tr>\n",
       "      <th>1</th>\n",
       "      <td>is upset that he can't update his Facebook by ...</td>\n",
       "      <td>0</td>\n",
       "    </tr>\n",
       "    <tr>\n",
       "      <th>2</th>\n",
       "      <td>@Kenichan I dived many times for the ball. Man...</td>\n",
       "      <td>0</td>\n",
       "    </tr>\n",
       "    <tr>\n",
       "      <th>3</th>\n",
       "      <td>my whole body feels itchy and like its on fire</td>\n",
       "      <td>0</td>\n",
       "    </tr>\n",
       "    <tr>\n",
       "      <th>4</th>\n",
       "      <td>@nationwideclass no, it's not behaving at all....</td>\n",
       "      <td>0</td>\n",
       "    </tr>\n",
       "  </tbody>\n",
       "</table>\n",
       "</div>"
      ],
      "text/plain": [
       "                                              tweets  sentiment\n",
       "0  @switchfoot http://twitpic.com/2y1zl - Awww, t...          0\n",
       "1  is upset that he can't update his Facebook by ...          0\n",
       "2  @Kenichan I dived many times for the ball. Man...          0\n",
       "3    my whole body feels itchy and like its on fire           0\n",
       "4  @nationwideclass no, it's not behaving at all....          0"
      ]
     },
     "execution_count": 5,
     "metadata": {},
     "output_type": "execute_result"
    }
   ],
   "source": [
    "# Naming columns \n",
    "df.columns = ['tweets', 'sentiment']\n",
    "df.head()"
   ]
  },
  {
   "cell_type": "code",
   "execution_count": 6,
   "metadata": {},
   "outputs": [
    {
     "data": {
      "text/plain": [
       "0    800000\n",
       "4    800000\n",
       "Name: sentiment, dtype: int64"
      ]
     },
     "execution_count": 6,
     "metadata": {},
     "output_type": "execute_result"
    }
   ],
   "source": [
    "# Value counts of sentiments\n",
    "df['sentiment'].value_counts()\n"
   ]
  },
  {
   "cell_type": "markdown",
   "metadata": {},
   "source": [
    "##### 80000 rows with sentiment 0 and 80000 rows with sentiment 4"
   ]
  },
  {
   "cell_type": "code",
   "execution_count": 7,
   "metadata": {},
   "outputs": [],
   "source": [
    "# Mapping of the sentiment \n",
    "sent_map = {0: 'negative', 4:'positive'}"
   ]
  },
  {
   "cell_type": "markdown",
   "metadata": {},
   "source": [
    "#### Extracting the feature : \n"
   ]
  },
  {
   "cell_type": "markdown",
   "metadata": {},
   "source": [
    "##### Word Count : "
   ]
  },
  {
   "cell_type": "code",
   "execution_count": 8,
   "metadata": {},
   "outputs": [],
   "source": [
    "df['word_counts'] = df['tweets'].apply(lambda x: len(str(x).split())) # Why  str ? because there are some tweets which have numerical value which cannot be split so first we converted tweets to string and then split.\n",
    "# length of words is calculated"
   ]
  },
  {
   "cell_type": "code",
   "execution_count": 9,
   "metadata": {},
   "outputs": [
    {
     "data": {
      "text/html": [
       "<div>\n",
       "<style scoped>\n",
       "    .dataframe tbody tr th:only-of-type {\n",
       "        vertical-align: middle;\n",
       "    }\n",
       "\n",
       "    .dataframe tbody tr th {\n",
       "        vertical-align: top;\n",
       "    }\n",
       "\n",
       "    .dataframe thead th {\n",
       "        text-align: right;\n",
       "    }\n",
       "</style>\n",
       "<table border=\"1\" class=\"dataframe\">\n",
       "  <thead>\n",
       "    <tr style=\"text-align: right;\">\n",
       "      <th></th>\n",
       "      <th>tweets</th>\n",
       "      <th>sentiment</th>\n",
       "      <th>word_counts</th>\n",
       "    </tr>\n",
       "  </thead>\n",
       "  <tbody>\n",
       "    <tr>\n",
       "      <th>0</th>\n",
       "      <td>@switchfoot http://twitpic.com/2y1zl - Awww, t...</td>\n",
       "      <td>0</td>\n",
       "      <td>19</td>\n",
       "    </tr>\n",
       "    <tr>\n",
       "      <th>1</th>\n",
       "      <td>is upset that he can't update his Facebook by ...</td>\n",
       "      <td>0</td>\n",
       "      <td>21</td>\n",
       "    </tr>\n",
       "    <tr>\n",
       "      <th>2</th>\n",
       "      <td>@Kenichan I dived many times for the ball. Man...</td>\n",
       "      <td>0</td>\n",
       "      <td>18</td>\n",
       "    </tr>\n",
       "    <tr>\n",
       "      <th>3</th>\n",
       "      <td>my whole body feels itchy and like its on fire</td>\n",
       "      <td>0</td>\n",
       "      <td>10</td>\n",
       "    </tr>\n",
       "    <tr>\n",
       "      <th>4</th>\n",
       "      <td>@nationwideclass no, it's not behaving at all....</td>\n",
       "      <td>0</td>\n",
       "      <td>21</td>\n",
       "    </tr>\n",
       "  </tbody>\n",
       "</table>\n",
       "</div>"
      ],
      "text/plain": [
       "                                              tweets  sentiment  word_counts\n",
       "0  @switchfoot http://twitpic.com/2y1zl - Awww, t...          0           19\n",
       "1  is upset that he can't update his Facebook by ...          0           21\n",
       "2  @Kenichan I dived many times for the ball. Man...          0           18\n",
       "3    my whole body feels itchy and like its on fire           0           10\n",
       "4  @nationwideclass no, it's not behaving at all....          0           21"
      ]
     },
     "execution_count": 9,
     "metadata": {},
     "output_type": "execute_result"
    }
   ],
   "source": [
    "df.head()"
   ]
  },
  {
   "cell_type": "markdown",
   "metadata": {},
   "source": [
    "#### Character Count :"
   ]
  },
  {
   "cell_type": "code",
   "execution_count": 10,
   "metadata": {},
   "outputs": [],
   "source": [
    "df['Char_count'] = df['tweets'].apply(lambda x: len(x))"
   ]
  },
  {
   "cell_type": "code",
   "execution_count": 11,
   "metadata": {},
   "outputs": [
    {
     "data": {
      "text/html": [
       "<div>\n",
       "<style scoped>\n",
       "    .dataframe tbody tr th:only-of-type {\n",
       "        vertical-align: middle;\n",
       "    }\n",
       "\n",
       "    .dataframe tbody tr th {\n",
       "        vertical-align: top;\n",
       "    }\n",
       "\n",
       "    .dataframe thead th {\n",
       "        text-align: right;\n",
       "    }\n",
       "</style>\n",
       "<table border=\"1\" class=\"dataframe\">\n",
       "  <thead>\n",
       "    <tr style=\"text-align: right;\">\n",
       "      <th></th>\n",
       "      <th>tweets</th>\n",
       "      <th>sentiment</th>\n",
       "      <th>word_counts</th>\n",
       "      <th>Char_count</th>\n",
       "    </tr>\n",
       "  </thead>\n",
       "  <tbody>\n",
       "    <tr>\n",
       "      <th>0</th>\n",
       "      <td>@switchfoot http://twitpic.com/2y1zl - Awww, t...</td>\n",
       "      <td>0</td>\n",
       "      <td>19</td>\n",
       "      <td>115</td>\n",
       "    </tr>\n",
       "    <tr>\n",
       "      <th>1</th>\n",
       "      <td>is upset that he can't update his Facebook by ...</td>\n",
       "      <td>0</td>\n",
       "      <td>21</td>\n",
       "      <td>111</td>\n",
       "    </tr>\n",
       "    <tr>\n",
       "      <th>2</th>\n",
       "      <td>@Kenichan I dived many times for the ball. Man...</td>\n",
       "      <td>0</td>\n",
       "      <td>18</td>\n",
       "      <td>89</td>\n",
       "    </tr>\n",
       "    <tr>\n",
       "      <th>3</th>\n",
       "      <td>my whole body feels itchy and like its on fire</td>\n",
       "      <td>0</td>\n",
       "      <td>10</td>\n",
       "      <td>47</td>\n",
       "    </tr>\n",
       "    <tr>\n",
       "      <th>4</th>\n",
       "      <td>@nationwideclass no, it's not behaving at all....</td>\n",
       "      <td>0</td>\n",
       "      <td>21</td>\n",
       "      <td>111</td>\n",
       "    </tr>\n",
       "  </tbody>\n",
       "</table>\n",
       "</div>"
      ],
      "text/plain": [
       "                                              tweets  sentiment  word_counts  \\\n",
       "0  @switchfoot http://twitpic.com/2y1zl - Awww, t...          0           19   \n",
       "1  is upset that he can't update his Facebook by ...          0           21   \n",
       "2  @Kenichan I dived many times for the ball. Man...          0           18   \n",
       "3    my whole body feels itchy and like its on fire           0           10   \n",
       "4  @nationwideclass no, it's not behaving at all....          0           21   \n",
       "\n",
       "   Char_count  \n",
       "0         115  \n",
       "1         111  \n",
       "2          89  \n",
       "3          47  \n",
       "4         111  "
      ]
     },
     "execution_count": 11,
     "metadata": {},
     "output_type": "execute_result"
    }
   ],
   "source": [
    "df.head()"
   ]
  },
  {
   "cell_type": "markdown",
   "metadata": {},
   "source": [
    "##### Average word length :"
   ]
  },
  {
   "cell_type": "code",
   "execution_count": 12,
   "metadata": {},
   "outputs": [],
   "source": [
    "def get_avg_word_len(x):\n",
    "    words = x.split()\n",
    "    word_len = 0\n",
    "    for word in words:\n",
    "        word_len = word_len + len(word)\n",
    "    return word_len/len(words) # len(x)/len(words)"
   ]
  },
  {
   "cell_type": "code",
   "execution_count": 13,
   "metadata": {},
   "outputs": [],
   "source": [
    "df['avg_word_len'] = df['tweets'].apply(lambda x: get_avg_word_len(x))"
   ]
  },
  {
   "cell_type": "code",
   "execution_count": 14,
   "metadata": {},
   "outputs": [
    {
     "data": {
      "text/html": [
       "<div>\n",
       "<style scoped>\n",
       "    .dataframe tbody tr th:only-of-type {\n",
       "        vertical-align: middle;\n",
       "    }\n",
       "\n",
       "    .dataframe tbody tr th {\n",
       "        vertical-align: top;\n",
       "    }\n",
       "\n",
       "    .dataframe thead th {\n",
       "        text-align: right;\n",
       "    }\n",
       "</style>\n",
       "<table border=\"1\" class=\"dataframe\">\n",
       "  <thead>\n",
       "    <tr style=\"text-align: right;\">\n",
       "      <th></th>\n",
       "      <th>tweets</th>\n",
       "      <th>sentiment</th>\n",
       "      <th>word_counts</th>\n",
       "      <th>Char_count</th>\n",
       "      <th>avg_word_len</th>\n",
       "    </tr>\n",
       "  </thead>\n",
       "  <tbody>\n",
       "    <tr>\n",
       "      <th>0</th>\n",
       "      <td>@switchfoot http://twitpic.com/2y1zl - Awww, t...</td>\n",
       "      <td>0</td>\n",
       "      <td>19</td>\n",
       "      <td>115</td>\n",
       "      <td>5.052632</td>\n",
       "    </tr>\n",
       "    <tr>\n",
       "      <th>1</th>\n",
       "      <td>is upset that he can't update his Facebook by ...</td>\n",
       "      <td>0</td>\n",
       "      <td>21</td>\n",
       "      <td>111</td>\n",
       "      <td>4.285714</td>\n",
       "    </tr>\n",
       "    <tr>\n",
       "      <th>2</th>\n",
       "      <td>@Kenichan I dived many times for the ball. Man...</td>\n",
       "      <td>0</td>\n",
       "      <td>18</td>\n",
       "      <td>89</td>\n",
       "      <td>3.944444</td>\n",
       "    </tr>\n",
       "    <tr>\n",
       "      <th>3</th>\n",
       "      <td>my whole body feels itchy and like its on fire</td>\n",
       "      <td>0</td>\n",
       "      <td>10</td>\n",
       "      <td>47</td>\n",
       "      <td>3.700000</td>\n",
       "    </tr>\n",
       "    <tr>\n",
       "      <th>4</th>\n",
       "      <td>@nationwideclass no, it's not behaving at all....</td>\n",
       "      <td>0</td>\n",
       "      <td>21</td>\n",
       "      <td>111</td>\n",
       "      <td>4.285714</td>\n",
       "    </tr>\n",
       "  </tbody>\n",
       "</table>\n",
       "</div>"
      ],
      "text/plain": [
       "                                              tweets  sentiment  word_counts  \\\n",
       "0  @switchfoot http://twitpic.com/2y1zl - Awww, t...          0           19   \n",
       "1  is upset that he can't update his Facebook by ...          0           21   \n",
       "2  @Kenichan I dived many times for the ball. Man...          0           18   \n",
       "3    my whole body feels itchy and like its on fire           0           10   \n",
       "4  @nationwideclass no, it's not behaving at all....          0           21   \n",
       "\n",
       "   Char_count  avg_word_len  \n",
       "0         115      5.052632  \n",
       "1         111      4.285714  \n",
       "2          89      3.944444  \n",
       "3          47      3.700000  \n",
       "4         111      4.285714  "
      ]
     },
     "execution_count": 14,
     "metadata": {},
     "output_type": "execute_result"
    }
   ],
   "source": [
    "df.head()"
   ]
  },
  {
   "cell_type": "markdown",
   "metadata": {},
   "source": [
    "#### Stop Words Count :\n",
    "\n",
    "##### Stop words are those words which occur very frequently in the text data "
   ]
  },
  {
   "cell_type": "code",
   "execution_count": 15,
   "metadata": {},
   "outputs": [
    {
     "name": "stdout",
     "output_type": "stream",
     "text": [
      "{'throughout', 'at', 'rather', 'sometime', 'he', 'somewhere', 'becomes', 'four', 'whoever', 'towards', 'most', 'more', 'behind', 'is', 'or', 'your', 'whose', 'us', 'will', 'anyone', '’s', 'might', 'by', 'whither', 'ourselves', 'using', 'me', '‘re', 'mostly', 'another', 'during', 'however', 'eight', 'to', 'own', 'say', 'whole', 'has', 'such', 'afterwards', 'where', 'yourself', 'toward', 'him', 'too', 'whereafter', 'yet', 'several', 'hundred', 'sixty', 'beside', 'it', 'thus', 'i', 'if', 'formerly', 'up', 'hers', 'they', 'about', 'around', 'both', 'just', 'done', 'herself', 'does', 'thereupon', 'else', 'doing', 'nowhere', 'really', 'then', 'their', 'so', 'from', 'nothing', 'seeming', 'herein', 'on', 'give', 'perhaps', 'among', 'this', 'wherever', 'one', 'itself', 'front', 'put', 'although', 'below', 'her', 'n’t', 'two', 'seems', 'otherwise', 'when', 'as', 'but', 'them', '‘ve', 'top', 'did', 'upon', 'always', 'indeed', 'made', 'she', 'thereby', 'hence', 'nobody', 'himself', 'whether', 'of', 'twenty', 'never', 'anywhere', 'may', \"'s\", 'due', 'show', 'n‘t', 'thence', 'would', '’re', 're', 'also', 'go', 'wherein', 'his', 'last', 'become', 'call', 'everything', 'first', 'except', 'thereafter', 'each', 'move', 'into', 'something', 'down', 'who', 'were', '‘ll', 'whenever', 'please', 'you', 'various', 'once', 'serious', 'hereafter', 'under', 'seem', 'seemed', '‘m', 'have', 'same', 'therefore', '’m', 'an', 'all', '’ll', 'nor', 'could', 'whatever', 'fifteen', 'before', 'fifty', 'much', 'what', 'can', 'elsewhere', 'anyway', \"'ll\", 'while', 'how', 'a', 'nine', 'twelve', 'empty', 'besides', 'out', 'along', 'ca', 'others', 'anyhow', 'the', '‘s', 'with', 'beyond', 'ten', 'further', 'amongst', 'only', 'why', 'many', 'get', 'off', 'than', 'being', 'none', 'was', 'which', 'yours', 'thru', 'anything', '’d', 'been', 'because', 'alone', 'almost', 'five', 'ours', 'do', 'after', 'whereas', '’ve', \"'ve\", 'and', 'some', 'these', 'over', 'hereupon', 'used', 'am', 'sometimes', 'full', 'since', 'amount', 'forty', 'noone', 'three', 'across', 'via', 'quite', 'becoming', 'everywhere', 'hereby', 'again', 'mine', 'latterly', 'six', 'within', 'not', 'through', 'back', 'that', 'bottom', 'any', 'other', 'without', 'should', 'between', 'cannot', 'above', 'against', 'whence', 'those', 'every', 'everyone', 'must', 'now', 'few', \"'m\", 'no', 'namely', 'take', 'whereby', 'neither', 'onto', 'there', 'its', 'former', 'meanwhile', \"'re\", 'for', 'next', 'be', 'yourselves', 'even', 'somehow', '‘d', 'eleven', 'in', 'until', 'name', 'either', 'third', 'side', 'moreover', 'became', 'therein', \"'d\", 'per', 'already', 'regarding', 'beforehand', 'themselves', 'keep', 'still', 'together', 'someone', 'our', 'least', 'less', 'nevertheless', 'had', \"n't\", 'whereupon', 'unless', 'enough', 'whom', 'well', 'latter', 'my', 'are', 'part', 'myself', 'ever', 'very', 'make', 'often', 'we', 'here', 'though', 'see'}\n"
     ]
    }
   ],
   "source": [
    "print(STOP_WORDS)"
   ]
  },
  {
   "cell_type": "code",
   "execution_count": 16,
   "metadata": {},
   "outputs": [],
   "source": [
    "df['stop_words_len'] = df['tweets'].apply(lambda x: len([t for t in x.split() if t in STOP_WORDS])) # if there is a stop word that will stored in a list"
   ]
  },
  {
   "cell_type": "code",
   "execution_count": 17,
   "metadata": {},
   "outputs": [
    {
     "data": {
      "text/html": [
       "<div>\n",
       "<style scoped>\n",
       "    .dataframe tbody tr th:only-of-type {\n",
       "        vertical-align: middle;\n",
       "    }\n",
       "\n",
       "    .dataframe tbody tr th {\n",
       "        vertical-align: top;\n",
       "    }\n",
       "\n",
       "    .dataframe thead th {\n",
       "        text-align: right;\n",
       "    }\n",
       "</style>\n",
       "<table border=\"1\" class=\"dataframe\">\n",
       "  <thead>\n",
       "    <tr style=\"text-align: right;\">\n",
       "      <th></th>\n",
       "      <th>tweets</th>\n",
       "      <th>sentiment</th>\n",
       "      <th>word_counts</th>\n",
       "      <th>Char_count</th>\n",
       "      <th>avg_word_len</th>\n",
       "      <th>stop_words_len</th>\n",
       "    </tr>\n",
       "  </thead>\n",
       "  <tbody>\n",
       "    <tr>\n",
       "      <th>0</th>\n",
       "      <td>@switchfoot http://twitpic.com/2y1zl - Awww, t...</td>\n",
       "      <td>0</td>\n",
       "      <td>19</td>\n",
       "      <td>115</td>\n",
       "      <td>5.052632</td>\n",
       "      <td>4</td>\n",
       "    </tr>\n",
       "    <tr>\n",
       "      <th>1</th>\n",
       "      <td>is upset that he can't update his Facebook by ...</td>\n",
       "      <td>0</td>\n",
       "      <td>21</td>\n",
       "      <td>111</td>\n",
       "      <td>4.285714</td>\n",
       "      <td>9</td>\n",
       "    </tr>\n",
       "    <tr>\n",
       "      <th>2</th>\n",
       "      <td>@Kenichan I dived many times for the ball. Man...</td>\n",
       "      <td>0</td>\n",
       "      <td>18</td>\n",
       "      <td>89</td>\n",
       "      <td>3.944444</td>\n",
       "      <td>7</td>\n",
       "    </tr>\n",
       "    <tr>\n",
       "      <th>3</th>\n",
       "      <td>my whole body feels itchy and like its on fire</td>\n",
       "      <td>0</td>\n",
       "      <td>10</td>\n",
       "      <td>47</td>\n",
       "      <td>3.700000</td>\n",
       "      <td>5</td>\n",
       "    </tr>\n",
       "    <tr>\n",
       "      <th>4</th>\n",
       "      <td>@nationwideclass no, it's not behaving at all....</td>\n",
       "      <td>0</td>\n",
       "      <td>21</td>\n",
       "      <td>111</td>\n",
       "      <td>4.285714</td>\n",
       "      <td>10</td>\n",
       "    </tr>\n",
       "  </tbody>\n",
       "</table>\n",
       "</div>"
      ],
      "text/plain": [
       "                                              tweets  sentiment  word_counts  \\\n",
       "0  @switchfoot http://twitpic.com/2y1zl - Awww, t...          0           19   \n",
       "1  is upset that he can't update his Facebook by ...          0           21   \n",
       "2  @Kenichan I dived many times for the ball. Man...          0           18   \n",
       "3    my whole body feels itchy and like its on fire           0           10   \n",
       "4  @nationwideclass no, it's not behaving at all....          0           21   \n",
       "\n",
       "   Char_count  avg_word_len  stop_words_len  \n",
       "0         115      5.052632               4  \n",
       "1         111      4.285714               9  \n",
       "2          89      3.944444               7  \n",
       "3          47      3.700000               5  \n",
       "4         111      4.285714              10  "
      ]
     },
     "execution_count": 17,
     "metadata": {},
     "output_type": "execute_result"
    }
   ],
   "source": [
    "df.head()"
   ]
  },
  {
   "cell_type": "markdown",
   "metadata": {},
   "source": [
    "#### Count Hast tags and @Mentions :"
   ]
  },
  {
   "cell_type": "code",
   "execution_count": 18,
   "metadata": {},
   "outputs": [],
   "source": [
    "df['Hastags_count'] = df['tweets'].apply(lambda x: len([t for t in x.split() if t.startswith('#')]))\n",
    "df['@Mentions_count'] = df['tweets'].apply(lambda x: len([t for t in x.split() if t.startswith('@')]))"
   ]
  },
  {
   "cell_type": "code",
   "execution_count": 19,
   "metadata": {},
   "outputs": [
    {
     "data": {
      "text/html": [
       "<div>\n",
       "<style scoped>\n",
       "    .dataframe tbody tr th:only-of-type {\n",
       "        vertical-align: middle;\n",
       "    }\n",
       "\n",
       "    .dataframe tbody tr th {\n",
       "        vertical-align: top;\n",
       "    }\n",
       "\n",
       "    .dataframe thead th {\n",
       "        text-align: right;\n",
       "    }\n",
       "</style>\n",
       "<table border=\"1\" class=\"dataframe\">\n",
       "  <thead>\n",
       "    <tr style=\"text-align: right;\">\n",
       "      <th></th>\n",
       "      <th>tweets</th>\n",
       "      <th>sentiment</th>\n",
       "      <th>word_counts</th>\n",
       "      <th>Char_count</th>\n",
       "      <th>avg_word_len</th>\n",
       "      <th>stop_words_len</th>\n",
       "      <th>Hastags_count</th>\n",
       "      <th>@Mentions_count</th>\n",
       "    </tr>\n",
       "  </thead>\n",
       "  <tbody>\n",
       "    <tr>\n",
       "      <th>0</th>\n",
       "      <td>@switchfoot http://twitpic.com/2y1zl - Awww, t...</td>\n",
       "      <td>0</td>\n",
       "      <td>19</td>\n",
       "      <td>115</td>\n",
       "      <td>5.052632</td>\n",
       "      <td>4</td>\n",
       "      <td>0</td>\n",
       "      <td>1</td>\n",
       "    </tr>\n",
       "    <tr>\n",
       "      <th>1</th>\n",
       "      <td>is upset that he can't update his Facebook by ...</td>\n",
       "      <td>0</td>\n",
       "      <td>21</td>\n",
       "      <td>111</td>\n",
       "      <td>4.285714</td>\n",
       "      <td>9</td>\n",
       "      <td>0</td>\n",
       "      <td>0</td>\n",
       "    </tr>\n",
       "    <tr>\n",
       "      <th>2</th>\n",
       "      <td>@Kenichan I dived many times for the ball. Man...</td>\n",
       "      <td>0</td>\n",
       "      <td>18</td>\n",
       "      <td>89</td>\n",
       "      <td>3.944444</td>\n",
       "      <td>7</td>\n",
       "      <td>0</td>\n",
       "      <td>1</td>\n",
       "    </tr>\n",
       "    <tr>\n",
       "      <th>3</th>\n",
       "      <td>my whole body feels itchy and like its on fire</td>\n",
       "      <td>0</td>\n",
       "      <td>10</td>\n",
       "      <td>47</td>\n",
       "      <td>3.700000</td>\n",
       "      <td>5</td>\n",
       "      <td>0</td>\n",
       "      <td>0</td>\n",
       "    </tr>\n",
       "    <tr>\n",
       "      <th>4</th>\n",
       "      <td>@nationwideclass no, it's not behaving at all....</td>\n",
       "      <td>0</td>\n",
       "      <td>21</td>\n",
       "      <td>111</td>\n",
       "      <td>4.285714</td>\n",
       "      <td>10</td>\n",
       "      <td>0</td>\n",
       "      <td>1</td>\n",
       "    </tr>\n",
       "  </tbody>\n",
       "</table>\n",
       "</div>"
      ],
      "text/plain": [
       "                                              tweets  sentiment  word_counts  \\\n",
       "0  @switchfoot http://twitpic.com/2y1zl - Awww, t...          0           19   \n",
       "1  is upset that he can't update his Facebook by ...          0           21   \n",
       "2  @Kenichan I dived many times for the ball. Man...          0           18   \n",
       "3    my whole body feels itchy and like its on fire           0           10   \n",
       "4  @nationwideclass no, it's not behaving at all....          0           21   \n",
       "\n",
       "   Char_count  avg_word_len  stop_words_len  Hastags_count  @Mentions_count  \n",
       "0         115      5.052632               4              0                1  \n",
       "1         111      4.285714               9              0                0  \n",
       "2          89      3.944444               7              0                1  \n",
       "3          47      3.700000               5              0                0  \n",
       "4         111      4.285714              10              0                1  "
      ]
     },
     "execution_count": 19,
     "metadata": {},
     "output_type": "execute_result"
    }
   ],
   "source": [
    "df.head()"
   ]
  },
  {
   "cell_type": "markdown",
   "metadata": {},
   "source": [
    "##### Checking numeric digits in tweets : "
   ]
  },
  {
   "cell_type": "code",
   "execution_count": 20,
   "metadata": {},
   "outputs": [],
   "source": [
    "df['numeric_count'] = df['tweets'].apply(lambda x: len([t for t in x.split() if t.isdigit()]))"
   ]
  },
  {
   "cell_type": "code",
   "execution_count": 21,
   "metadata": {},
   "outputs": [
    {
     "data": {
      "text/html": [
       "<div>\n",
       "<style scoped>\n",
       "    .dataframe tbody tr th:only-of-type {\n",
       "        vertical-align: middle;\n",
       "    }\n",
       "\n",
       "    .dataframe tbody tr th {\n",
       "        vertical-align: top;\n",
       "    }\n",
       "\n",
       "    .dataframe thead th {\n",
       "        text-align: right;\n",
       "    }\n",
       "</style>\n",
       "<table border=\"1\" class=\"dataframe\">\n",
       "  <thead>\n",
       "    <tr style=\"text-align: right;\">\n",
       "      <th></th>\n",
       "      <th>tweets</th>\n",
       "      <th>sentiment</th>\n",
       "      <th>word_counts</th>\n",
       "      <th>Char_count</th>\n",
       "      <th>avg_word_len</th>\n",
       "      <th>stop_words_len</th>\n",
       "      <th>Hastags_count</th>\n",
       "      <th>@Mentions_count</th>\n",
       "      <th>numeric_count</th>\n",
       "    </tr>\n",
       "  </thead>\n",
       "  <tbody>\n",
       "    <tr>\n",
       "      <th>0</th>\n",
       "      <td>@switchfoot http://twitpic.com/2y1zl - Awww, t...</td>\n",
       "      <td>0</td>\n",
       "      <td>19</td>\n",
       "      <td>115</td>\n",
       "      <td>5.052632</td>\n",
       "      <td>4</td>\n",
       "      <td>0</td>\n",
       "      <td>1</td>\n",
       "      <td>0</td>\n",
       "    </tr>\n",
       "    <tr>\n",
       "      <th>1</th>\n",
       "      <td>is upset that he can't update his Facebook by ...</td>\n",
       "      <td>0</td>\n",
       "      <td>21</td>\n",
       "      <td>111</td>\n",
       "      <td>4.285714</td>\n",
       "      <td>9</td>\n",
       "      <td>0</td>\n",
       "      <td>0</td>\n",
       "      <td>0</td>\n",
       "    </tr>\n",
       "    <tr>\n",
       "      <th>2</th>\n",
       "      <td>@Kenichan I dived many times for the ball. Man...</td>\n",
       "      <td>0</td>\n",
       "      <td>18</td>\n",
       "      <td>89</td>\n",
       "      <td>3.944444</td>\n",
       "      <td>7</td>\n",
       "      <td>0</td>\n",
       "      <td>1</td>\n",
       "      <td>0</td>\n",
       "    </tr>\n",
       "    <tr>\n",
       "      <th>3</th>\n",
       "      <td>my whole body feels itchy and like its on fire</td>\n",
       "      <td>0</td>\n",
       "      <td>10</td>\n",
       "      <td>47</td>\n",
       "      <td>3.700000</td>\n",
       "      <td>5</td>\n",
       "      <td>0</td>\n",
       "      <td>0</td>\n",
       "      <td>0</td>\n",
       "    </tr>\n",
       "    <tr>\n",
       "      <th>4</th>\n",
       "      <td>@nationwideclass no, it's not behaving at all....</td>\n",
       "      <td>0</td>\n",
       "      <td>21</td>\n",
       "      <td>111</td>\n",
       "      <td>4.285714</td>\n",
       "      <td>10</td>\n",
       "      <td>0</td>\n",
       "      <td>1</td>\n",
       "      <td>0</td>\n",
       "    </tr>\n",
       "  </tbody>\n",
       "</table>\n",
       "</div>"
      ],
      "text/plain": [
       "                                              tweets  sentiment  word_counts  \\\n",
       "0  @switchfoot http://twitpic.com/2y1zl - Awww, t...          0           19   \n",
       "1  is upset that he can't update his Facebook by ...          0           21   \n",
       "2  @Kenichan I dived many times for the ball. Man...          0           18   \n",
       "3    my whole body feels itchy and like its on fire           0           10   \n",
       "4  @nationwideclass no, it's not behaving at all....          0           21   \n",
       "\n",
       "   Char_count  avg_word_len  stop_words_len  Hastags_count  @Mentions_count  \\\n",
       "0         115      5.052632               4              0                1   \n",
       "1         111      4.285714               9              0                0   \n",
       "2          89      3.944444               7              0                1   \n",
       "3          47      3.700000               5              0                0   \n",
       "4         111      4.285714              10              0                1   \n",
       "\n",
       "   numeric_count  \n",
       "0              0  \n",
       "1              0  \n",
       "2              0  \n",
       "3              0  \n",
       "4              0  "
      ]
     },
     "execution_count": 21,
     "metadata": {},
     "output_type": "execute_result"
    }
   ],
   "source": [
    "df.head()"
   ]
  },
  {
   "cell_type": "markdown",
   "metadata": {},
   "source": [
    "#### Upper Case Words Count in a Tweet : "
   ]
  },
  {
   "cell_type": "code",
   "execution_count": 22,
   "metadata": {},
   "outputs": [],
   "source": [
    "df['upper_count'] = df['tweets'].apply(lambda x: len([t for t in x.split() if t.isupper() and len(x)>3]))"
   ]
  },
  {
   "cell_type": "code",
   "execution_count": 23,
   "metadata": {},
   "outputs": [
    {
     "data": {
      "text/html": [
       "<div>\n",
       "<style scoped>\n",
       "    .dataframe tbody tr th:only-of-type {\n",
       "        vertical-align: middle;\n",
       "    }\n",
       "\n",
       "    .dataframe tbody tr th {\n",
       "        vertical-align: top;\n",
       "    }\n",
       "\n",
       "    .dataframe thead th {\n",
       "        text-align: right;\n",
       "    }\n",
       "</style>\n",
       "<table border=\"1\" class=\"dataframe\">\n",
       "  <thead>\n",
       "    <tr style=\"text-align: right;\">\n",
       "      <th></th>\n",
       "      <th>tweets</th>\n",
       "      <th>sentiment</th>\n",
       "      <th>word_counts</th>\n",
       "      <th>Char_count</th>\n",
       "      <th>avg_word_len</th>\n",
       "      <th>stop_words_len</th>\n",
       "      <th>Hastags_count</th>\n",
       "      <th>@Mentions_count</th>\n",
       "      <th>numeric_count</th>\n",
       "      <th>upper_count</th>\n",
       "    </tr>\n",
       "  </thead>\n",
       "  <tbody>\n",
       "    <tr>\n",
       "      <th>0</th>\n",
       "      <td>@switchfoot http://twitpic.com/2y1zl - Awww, t...</td>\n",
       "      <td>0</td>\n",
       "      <td>19</td>\n",
       "      <td>115</td>\n",
       "      <td>5.052632</td>\n",
       "      <td>4</td>\n",
       "      <td>0</td>\n",
       "      <td>1</td>\n",
       "      <td>0</td>\n",
       "      <td>1</td>\n",
       "    </tr>\n",
       "    <tr>\n",
       "      <th>1</th>\n",
       "      <td>is upset that he can't update his Facebook by ...</td>\n",
       "      <td>0</td>\n",
       "      <td>21</td>\n",
       "      <td>111</td>\n",
       "      <td>4.285714</td>\n",
       "      <td>9</td>\n",
       "      <td>0</td>\n",
       "      <td>0</td>\n",
       "      <td>0</td>\n",
       "      <td>0</td>\n",
       "    </tr>\n",
       "    <tr>\n",
       "      <th>2</th>\n",
       "      <td>@Kenichan I dived many times for the ball. Man...</td>\n",
       "      <td>0</td>\n",
       "      <td>18</td>\n",
       "      <td>89</td>\n",
       "      <td>3.944444</td>\n",
       "      <td>7</td>\n",
       "      <td>0</td>\n",
       "      <td>1</td>\n",
       "      <td>0</td>\n",
       "      <td>1</td>\n",
       "    </tr>\n",
       "    <tr>\n",
       "      <th>3</th>\n",
       "      <td>my whole body feels itchy and like its on fire</td>\n",
       "      <td>0</td>\n",
       "      <td>10</td>\n",
       "      <td>47</td>\n",
       "      <td>3.700000</td>\n",
       "      <td>5</td>\n",
       "      <td>0</td>\n",
       "      <td>0</td>\n",
       "      <td>0</td>\n",
       "      <td>0</td>\n",
       "    </tr>\n",
       "    <tr>\n",
       "      <th>4</th>\n",
       "      <td>@nationwideclass no, it's not behaving at all....</td>\n",
       "      <td>0</td>\n",
       "      <td>21</td>\n",
       "      <td>111</td>\n",
       "      <td>4.285714</td>\n",
       "      <td>10</td>\n",
       "      <td>0</td>\n",
       "      <td>1</td>\n",
       "      <td>0</td>\n",
       "      <td>1</td>\n",
       "    </tr>\n",
       "  </tbody>\n",
       "</table>\n",
       "</div>"
      ],
      "text/plain": [
       "                                              tweets  sentiment  word_counts  \\\n",
       "0  @switchfoot http://twitpic.com/2y1zl - Awww, t...          0           19   \n",
       "1  is upset that he can't update his Facebook by ...          0           21   \n",
       "2  @Kenichan I dived many times for the ball. Man...          0           18   \n",
       "3    my whole body feels itchy and like its on fire           0           10   \n",
       "4  @nationwideclass no, it's not behaving at all....          0           21   \n",
       "\n",
       "   Char_count  avg_word_len  stop_words_len  Hastags_count  @Mentions_count  \\\n",
       "0         115      5.052632               4              0                1   \n",
       "1         111      4.285714               9              0                0   \n",
       "2          89      3.944444               7              0                1   \n",
       "3          47      3.700000               5              0                0   \n",
       "4         111      4.285714              10              0                1   \n",
       "\n",
       "   numeric_count  upper_count  \n",
       "0              0            1  \n",
       "1              0            0  \n",
       "2              0            1  \n",
       "3              0            0  \n",
       "4              0            1  "
      ]
     },
     "execution_count": 23,
     "metadata": {},
     "output_type": "execute_result"
    }
   ],
   "source": [
    "df.head()"
   ]
  },
  {
   "cell_type": "code",
   "execution_count": 24,
   "metadata": {},
   "outputs": [
    {
     "data": {
      "text/plain": [
       "\"so rylee,grace...wana go steve's party or not?? SADLY SINCE ITS EASTER I WNT B ABLE 2 DO MUCH  BUT OHH WELL.....\""
      ]
     },
     "execution_count": 24,
     "metadata": {},
     "output_type": "execute_result"
    }
   ],
   "source": [
    "df.loc[96]['tweets'] # checking some tweets"
   ]
  },
  {
   "cell_type": "markdown",
   "metadata": {},
   "source": [
    "#### Data Preprocessing and Cleaning : "
   ]
  },
  {
   "cell_type": "markdown",
   "metadata": {},
   "source": [
    "##### Lower Case Conversion : "
   ]
  },
  {
   "cell_type": "code",
   "execution_count": 25,
   "metadata": {},
   "outputs": [],
   "source": [
    "df['tweets'] = df['tweets'].apply(lambda x: x.lower())"
   ]
  },
  {
   "cell_type": "code",
   "execution_count": 26,
   "metadata": {},
   "outputs": [
    {
     "data": {
      "text/html": [
       "<div>\n",
       "<style scoped>\n",
       "    .dataframe tbody tr th:only-of-type {\n",
       "        vertical-align: middle;\n",
       "    }\n",
       "\n",
       "    .dataframe tbody tr th {\n",
       "        vertical-align: top;\n",
       "    }\n",
       "\n",
       "    .dataframe thead th {\n",
       "        text-align: right;\n",
       "    }\n",
       "</style>\n",
       "<table border=\"1\" class=\"dataframe\">\n",
       "  <thead>\n",
       "    <tr style=\"text-align: right;\">\n",
       "      <th></th>\n",
       "      <th>tweets</th>\n",
       "      <th>sentiment</th>\n",
       "      <th>word_counts</th>\n",
       "      <th>Char_count</th>\n",
       "      <th>avg_word_len</th>\n",
       "      <th>stop_words_len</th>\n",
       "      <th>Hastags_count</th>\n",
       "      <th>@Mentions_count</th>\n",
       "      <th>numeric_count</th>\n",
       "      <th>upper_count</th>\n",
       "    </tr>\n",
       "  </thead>\n",
       "  <tbody>\n",
       "    <tr>\n",
       "      <th>0</th>\n",
       "      <td>@switchfoot http://twitpic.com/2y1zl - awww, t...</td>\n",
       "      <td>0</td>\n",
       "      <td>19</td>\n",
       "      <td>115</td>\n",
       "      <td>5.052632</td>\n",
       "      <td>4</td>\n",
       "      <td>0</td>\n",
       "      <td>1</td>\n",
       "      <td>0</td>\n",
       "      <td>1</td>\n",
       "    </tr>\n",
       "    <tr>\n",
       "      <th>1</th>\n",
       "      <td>is upset that he can't update his facebook by ...</td>\n",
       "      <td>0</td>\n",
       "      <td>21</td>\n",
       "      <td>111</td>\n",
       "      <td>4.285714</td>\n",
       "      <td>9</td>\n",
       "      <td>0</td>\n",
       "      <td>0</td>\n",
       "      <td>0</td>\n",
       "      <td>0</td>\n",
       "    </tr>\n",
       "    <tr>\n",
       "      <th>2</th>\n",
       "      <td>@kenichan i dived many times for the ball. man...</td>\n",
       "      <td>0</td>\n",
       "      <td>18</td>\n",
       "      <td>89</td>\n",
       "      <td>3.944444</td>\n",
       "      <td>7</td>\n",
       "      <td>0</td>\n",
       "      <td>1</td>\n",
       "      <td>0</td>\n",
       "      <td>1</td>\n",
       "    </tr>\n",
       "    <tr>\n",
       "      <th>3</th>\n",
       "      <td>my whole body feels itchy and like its on fire</td>\n",
       "      <td>0</td>\n",
       "      <td>10</td>\n",
       "      <td>47</td>\n",
       "      <td>3.700000</td>\n",
       "      <td>5</td>\n",
       "      <td>0</td>\n",
       "      <td>0</td>\n",
       "      <td>0</td>\n",
       "      <td>0</td>\n",
       "    </tr>\n",
       "    <tr>\n",
       "      <th>4</th>\n",
       "      <td>@nationwideclass no, it's not behaving at all....</td>\n",
       "      <td>0</td>\n",
       "      <td>21</td>\n",
       "      <td>111</td>\n",
       "      <td>4.285714</td>\n",
       "      <td>10</td>\n",
       "      <td>0</td>\n",
       "      <td>1</td>\n",
       "      <td>0</td>\n",
       "      <td>1</td>\n",
       "    </tr>\n",
       "  </tbody>\n",
       "</table>\n",
       "</div>"
      ],
      "text/plain": [
       "                                              tweets  sentiment  word_counts  \\\n",
       "0  @switchfoot http://twitpic.com/2y1zl - awww, t...          0           19   \n",
       "1  is upset that he can't update his facebook by ...          0           21   \n",
       "2  @kenichan i dived many times for the ball. man...          0           18   \n",
       "3    my whole body feels itchy and like its on fire           0           10   \n",
       "4  @nationwideclass no, it's not behaving at all....          0           21   \n",
       "\n",
       "   Char_count  avg_word_len  stop_words_len  Hastags_count  @Mentions_count  \\\n",
       "0         115      5.052632               4              0                1   \n",
       "1         111      4.285714               9              0                0   \n",
       "2          89      3.944444               7              0                1   \n",
       "3          47      3.700000               5              0                0   \n",
       "4         111      4.285714              10              0                1   \n",
       "\n",
       "   numeric_count  upper_count  \n",
       "0              0            1  \n",
       "1              0            0  \n",
       "2              0            1  \n",
       "3              0            0  \n",
       "4              0            1  "
      ]
     },
     "execution_count": 26,
     "metadata": {},
     "output_type": "execute_result"
    }
   ],
   "source": [
    "df.head()"
   ]
  },
  {
   "cell_type": "markdown",
   "metadata": {},
   "source": [
    "#### Contraction to Expansion : "
   ]
  },
  {
   "cell_type": "markdown",
   "metadata": {},
   "source": [
    "###### Let's say you have x = 'i don't know what you want' and now this should be converted to i do not know. So, there could be lot of contraction like can't, he'll, i'd these are contraction which should be expanded for understanding the meaning and context of the sentences."
   ]
  },
  {
   "cell_type": "code",
   "execution_count": 27,
   "metadata": {},
   "outputs": [],
   "source": [
    "contractions = {\"ain't\" : \"am not\", \"aren't\" : \"are not\", \"can't\" : \"cannot\", \"can't've\": \"cannot have\", \"cause\": \"because\",\n",
    "               \"could've\" : \"could have\", \"couldn't\" : \"could not\", \"could've\" : \"could have\", \"couldn't've\" : \"could not have\", \"didn't\" : \"did not\",\n",
    "               \"doesn't\": \"does not\", \"don't\": \"do not\", \"hadn't\":\"had not\", \"hadn't've\": \"had not have\", \"hasn't\": \"has not\", \n",
    "               \"haven't\": \"have  not\", \"he'd\": \"he would\", \"he'd've\": \"he would have\", \"he'll\": \"he will\", \"he'll've\": \"he will have\",\n",
    "               \"how'd\": \"how did\", \"how'd'y\": \"how do you\", \"how'll\": \"how will\", \"how's\": \"how does\", \"i'd\": \"i would\", \"i'd've\": \"I would have\", \n",
    "               \"i'll\": \"i will\", \"i'll've\": \"I will have\", \"i'm\": \"I am\", \"i've\": \"I have\", \"isn't\": \"is not\", \"it'd\": \"it would\", \"it'd've\": \"it would have\",\n",
    "               \"it'll\": \"it will\", \"it'll've\": \"it will have\", \"it's\": \"it is\", \"let's\": \"let us\", \"ma'am\": \"madam\", \"mayn't\": \"may not\", \n",
    "               \"might've\": \"might have\", \"mightn't\": \"might not have\", \"must've\": \"must have\", \"she'd\": \"she would\", \"she'd've\": \"she would have\", \n",
    "               \"she'll\": \"she will\", \"she'll've\": \"she will have\", \"she's\": \"she is\", \"should've\": \"should have\", \"shouldn't've\": \"should not have\", \n",
    "               \"so've\": \"so have\", \"so's\": \"so is\", \"that'd\": \"that would\", \"that'd've\": \"that would have\", \"that's\": \"that is\", \n",
    "               \"there'd\": \"there would\", \"there'd've\": \"there would have\", \"there's\": \"there is\", \"they'd\": \"they would\", \"they'd've\": \"they would have\", \n",
    "               \"they'll\": \"they will\", \"they'll've\": \"they will have\", \"they're\": \"they are\", \"they've\": \"they have\", \"to've\": \"to have\", \n",
    "               \"wasn't\": \"was not\", \"u\": \"you\", \"ur\": \"your\", \"n\": \"and\", \"you'd\": \"you would\", \"you'd've\": \"you would have\", \"you'll\":\" you will\", \n",
    "               \"you'll've\": \"you will have\", \"you're\": \"you are\"}"
   ]
  },
  {
   "cell_type": "code",
   "execution_count": 28,
   "metadata": {},
   "outputs": [],
   "source": [
    "def cont_to_exp(x):\n",
    "    if type(x) is str:\n",
    "        for key in contractions:\n",
    "            value = contractions[key]\n",
    "            x = x.replace(key, value)\n",
    "        return x\n",
    "    else:\n",
    "        return x"
   ]
  },
  {
   "cell_type": "code",
   "execution_count": 29,
   "metadata": {},
   "outputs": [],
   "source": [
    "x = \"Hi, i'd be happy\""
   ]
  },
  {
   "cell_type": "code",
   "execution_count": 30,
   "metadata": {},
   "outputs": [
    {
     "data": {
      "text/plain": [
       "'Hi, i woyould be happy'"
      ]
     },
     "execution_count": 30,
     "metadata": {},
     "output_type": "execute_result"
    }
   ],
   "source": [
    "cont_to_exp(x)"
   ]
  },
  {
   "cell_type": "code",
   "execution_count": 31,
   "metadata": {},
   "outputs": [
    {
     "name": "stdout",
     "output_type": "stream",
     "text": [
      "Wall time: 32.6 s\n"
     ]
    }
   ],
   "source": [
    "%%time \n",
    "# how much time it gonna take here \n",
    "df['tweets'] = df['tweets'].apply(lambda x: cont_to_exp(x))"
   ]
  },
  {
   "cell_type": "code",
   "execution_count": 32,
   "metadata": {},
   "outputs": [
    {
     "data": {
      "text/html": [
       "<div>\n",
       "<style scoped>\n",
       "    .dataframe tbody tr th:only-of-type {\n",
       "        vertical-align: middle;\n",
       "    }\n",
       "\n",
       "    .dataframe tbody tr th {\n",
       "        vertical-align: top;\n",
       "    }\n",
       "\n",
       "    .dataframe thead th {\n",
       "        text-align: right;\n",
       "    }\n",
       "</style>\n",
       "<table border=\"1\" class=\"dataframe\">\n",
       "  <thead>\n",
       "    <tr style=\"text-align: right;\">\n",
       "      <th></th>\n",
       "      <th>tweets</th>\n",
       "      <th>sentiment</th>\n",
       "      <th>word_counts</th>\n",
       "      <th>Char_count</th>\n",
       "      <th>avg_word_len</th>\n",
       "      <th>stop_words_len</th>\n",
       "      <th>Hastags_count</th>\n",
       "      <th>@Mentions_count</th>\n",
       "      <th>numeric_count</th>\n",
       "      <th>upper_count</th>\n",
       "    </tr>\n",
       "  </thead>\n",
       "  <tbody>\n",
       "    <tr>\n",
       "      <th>0</th>\n",
       "      <td>@switchfoot http://twitpic.com/2y1zl - awww, t...</td>\n",
       "      <td>0</td>\n",
       "      <td>19</td>\n",
       "      <td>115</td>\n",
       "      <td>5.052632</td>\n",
       "      <td>4</td>\n",
       "      <td>0</td>\n",
       "      <td>1</td>\n",
       "      <td>0</td>\n",
       "      <td>1</td>\n",
       "    </tr>\n",
       "    <tr>\n",
       "      <th>1</th>\n",
       "      <td>is youpset that he caandandot youpdate his fac...</td>\n",
       "      <td>0</td>\n",
       "      <td>21</td>\n",
       "      <td>111</td>\n",
       "      <td>4.285714</td>\n",
       "      <td>9</td>\n",
       "      <td>0</td>\n",
       "      <td>0</td>\n",
       "      <td>0</td>\n",
       "      <td>0</td>\n",
       "    </tr>\n",
       "    <tr>\n",
       "      <th>2</th>\n",
       "      <td>@keandichaand i dived maandy times for the bal...</td>\n",
       "      <td>0</td>\n",
       "      <td>18</td>\n",
       "      <td>89</td>\n",
       "      <td>3.944444</td>\n",
       "      <td>7</td>\n",
       "      <td>0</td>\n",
       "      <td>1</td>\n",
       "      <td>0</td>\n",
       "      <td>1</td>\n",
       "    </tr>\n",
       "    <tr>\n",
       "      <th>3</th>\n",
       "      <td>my whole body feels itchy aandd like its oand ...</td>\n",
       "      <td>0</td>\n",
       "      <td>10</td>\n",
       "      <td>47</td>\n",
       "      <td>3.700000</td>\n",
       "      <td>5</td>\n",
       "      <td>0</td>\n",
       "      <td>0</td>\n",
       "      <td>0</td>\n",
       "      <td>0</td>\n",
       "    </tr>\n",
       "    <tr>\n",
       "      <th>4</th>\n",
       "      <td>@andatioandwideclass ando, it is andot behavia...</td>\n",
       "      <td>0</td>\n",
       "      <td>21</td>\n",
       "      <td>111</td>\n",
       "      <td>4.285714</td>\n",
       "      <td>10</td>\n",
       "      <td>0</td>\n",
       "      <td>1</td>\n",
       "      <td>0</td>\n",
       "      <td>1</td>\n",
       "    </tr>\n",
       "  </tbody>\n",
       "</table>\n",
       "</div>"
      ],
      "text/plain": [
       "                                              tweets  sentiment  word_counts  \\\n",
       "0  @switchfoot http://twitpic.com/2y1zl - awww, t...          0           19   \n",
       "1  is youpset that he caandandot youpdate his fac...          0           21   \n",
       "2  @keandichaand i dived maandy times for the bal...          0           18   \n",
       "3  my whole body feels itchy aandd like its oand ...          0           10   \n",
       "4  @andatioandwideclass ando, it is andot behavia...          0           21   \n",
       "\n",
       "   Char_count  avg_word_len  stop_words_len  Hastags_count  @Mentions_count  \\\n",
       "0         115      5.052632               4              0                1   \n",
       "1         111      4.285714               9              0                0   \n",
       "2          89      3.944444               7              0                1   \n",
       "3          47      3.700000               5              0                0   \n",
       "4         111      4.285714              10              0                1   \n",
       "\n",
       "   numeric_count  upper_count  \n",
       "0              0            1  \n",
       "1              0            0  \n",
       "2              0            1  \n",
       "3              0            0  \n",
       "4              0            1  "
      ]
     },
     "execution_count": 32,
     "metadata": {},
     "output_type": "execute_result"
    }
   ],
   "source": [
    "df.head()"
   ]
  },
  {
   "cell_type": "markdown",
   "metadata": {},
   "source": [
    "##### Count and Remove Emails : "
   ]
  },
  {
   "cell_type": "code",
   "execution_count": 33,
   "metadata": {},
   "outputs": [],
   "source": [
    "import re \n",
    "# Regex module import"
   ]
  },
  {
   "cell_type": "code",
   "execution_count": 34,
   "metadata": {},
   "outputs": [],
   "source": [
    "df['emails']  = df['tweets'].apply(lambda x: re.findall(r'([a-zA-Z0-9_.+-]+@[a-zA-Z0-9-)]+\\.[a-zA-Z0-9-.]+)', x))"
   ]
  },
  {
   "cell_type": "code",
   "execution_count": 35,
   "metadata": {},
   "outputs": [],
   "source": [
    "df['emails_count'] = df['emails'].apply(lambda x:  len(x))"
   ]
  },
  {
   "cell_type": "code",
   "execution_count": 36,
   "metadata": {},
   "outputs": [
    {
     "data": {
      "text/html": [
       "<div>\n",
       "<style scoped>\n",
       "    .dataframe tbody tr th:only-of-type {\n",
       "        vertical-align: middle;\n",
       "    }\n",
       "\n",
       "    .dataframe tbody tr th {\n",
       "        vertical-align: top;\n",
       "    }\n",
       "\n",
       "    .dataframe thead th {\n",
       "        text-align: right;\n",
       "    }\n",
       "</style>\n",
       "<table border=\"1\" class=\"dataframe\">\n",
       "  <thead>\n",
       "    <tr style=\"text-align: right;\">\n",
       "      <th></th>\n",
       "      <th>tweets</th>\n",
       "      <th>sentiment</th>\n",
       "      <th>word_counts</th>\n",
       "      <th>Char_count</th>\n",
       "      <th>avg_word_len</th>\n",
       "      <th>stop_words_len</th>\n",
       "      <th>Hastags_count</th>\n",
       "      <th>@Mentions_count</th>\n",
       "      <th>numeric_count</th>\n",
       "      <th>upper_count</th>\n",
       "      <th>emails</th>\n",
       "      <th>emails_count</th>\n",
       "    </tr>\n",
       "  </thead>\n",
       "  <tbody>\n",
       "    <tr>\n",
       "      <th>4054</th>\n",
       "      <td>i waandt a andew laptop.  hp tx2000 is the bom...</td>\n",
       "      <td>0</td>\n",
       "      <td>20</td>\n",
       "      <td>103</td>\n",
       "      <td>4.150000</td>\n",
       "      <td>6</td>\n",
       "      <td>0</td>\n",
       "      <td>0</td>\n",
       "      <td>0</td>\n",
       "      <td>4</td>\n",
       "      <td>[gabbehhramos@yahoo.com]</td>\n",
       "      <td>1</td>\n",
       "    </tr>\n",
       "    <tr>\n",
       "      <th>7917</th>\n",
       "      <td>who stole elledell@gmail.com?</td>\n",
       "      <td>0</td>\n",
       "      <td>3</td>\n",
       "      <td>31</td>\n",
       "      <td>9.000000</td>\n",
       "      <td>1</td>\n",
       "      <td>0</td>\n",
       "      <td>0</td>\n",
       "      <td>0</td>\n",
       "      <td>0</td>\n",
       "      <td>[elledell@gmail.com]</td>\n",
       "      <td>1</td>\n",
       "    </tr>\n",
       "    <tr>\n",
       "      <th>8496</th>\n",
       "      <td>@alexistehpom  really? did yoyou seandd oyout ...</td>\n",
       "      <td>0</td>\n",
       "      <td>20</td>\n",
       "      <td>130</td>\n",
       "      <td>5.500000</td>\n",
       "      <td>11</td>\n",
       "      <td>0</td>\n",
       "      <td>1</td>\n",
       "      <td>0</td>\n",
       "      <td>0</td>\n",
       "      <td>[missataari@gmail.com]</td>\n",
       "      <td>1</td>\n",
       "    </tr>\n",
       "    <tr>\n",
       "      <th>10290</th>\n",
       "      <td>@layoyoureystack awh...that is kiandda sad  lo...</td>\n",
       "      <td>0</td>\n",
       "      <td>8</td>\n",
       "      <td>76</td>\n",
       "      <td>8.500000</td>\n",
       "      <td>0</td>\n",
       "      <td>0</td>\n",
       "      <td>1</td>\n",
       "      <td>0</td>\n",
       "      <td>0</td>\n",
       "      <td>[hello.kitty.65@hotmail.com]</td>\n",
       "      <td>1</td>\n",
       "    </tr>\n",
       "    <tr>\n",
       "      <th>16413</th>\n",
       "      <td>@jilliaandcyork  got 2 bottom of it, hyoumaand...</td>\n",
       "      <td>0</td>\n",
       "      <td>21</td>\n",
       "      <td>137</td>\n",
       "      <td>5.428571</td>\n",
       "      <td>7</td>\n",
       "      <td>0</td>\n",
       "      <td>1</td>\n",
       "      <td>1</td>\n",
       "      <td>0</td>\n",
       "      <td>[press@liandkediand.com]</td>\n",
       "      <td>1</td>\n",
       "    </tr>\n",
       "  </tbody>\n",
       "</table>\n",
       "</div>"
      ],
      "text/plain": [
       "                                                  tweets  sentiment  \\\n",
       "4054   i waandt a andew laptop.  hp tx2000 is the bom...          0   \n",
       "7917                     who stole elledell@gmail.com?            0   \n",
       "8496   @alexistehpom  really? did yoyou seandd oyout ...          0   \n",
       "10290  @layoyoureystack awh...that is kiandda sad  lo...          0   \n",
       "16413  @jilliaandcyork  got 2 bottom of it, hyoumaand...          0   \n",
       "\n",
       "       word_counts  Char_count  avg_word_len  stop_words_len  Hastags_count  \\\n",
       "4054            20         103      4.150000               6              0   \n",
       "7917             3          31      9.000000               1              0   \n",
       "8496            20         130      5.500000              11              0   \n",
       "10290            8          76      8.500000               0              0   \n",
       "16413           21         137      5.428571               7              0   \n",
       "\n",
       "       @Mentions_count  numeric_count  upper_count  \\\n",
       "4054                 0              0            4   \n",
       "7917                 0              0            0   \n",
       "8496                 1              0            0   \n",
       "10290                1              0            0   \n",
       "16413                1              1            0   \n",
       "\n",
       "                             emails  emails_count  \n",
       "4054       [gabbehhramos@yahoo.com]             1  \n",
       "7917           [elledell@gmail.com]             1  \n",
       "8496         [missataari@gmail.com]             1  \n",
       "10290  [hello.kitty.65@hotmail.com]             1  \n",
       "16413      [press@liandkediand.com]             1  "
      ]
     },
     "execution_count": 36,
     "metadata": {},
     "output_type": "execute_result"
    }
   ],
   "source": [
    "df[df['emails_count']>0].head()"
   ]
  },
  {
   "cell_type": "code",
   "execution_count": 37,
   "metadata": {},
   "outputs": [],
   "source": [
    "# Removing emails from original tweets \n",
    "df['tweets'] = df['tweets'].apply(lambda x: re.sub(r'([a-zA-Z0-9_.+-]+@[a-zA-Z0-9-)]+\\.[a-zA-Z0-9-.]+)', '', x))\n",
    "# sub is for substitude"
   ]
  },
  {
   "cell_type": "code",
   "execution_count": 38,
   "metadata": {},
   "outputs": [
    {
     "data": {
      "text/html": [
       "<div>\n",
       "<style scoped>\n",
       "    .dataframe tbody tr th:only-of-type {\n",
       "        vertical-align: middle;\n",
       "    }\n",
       "\n",
       "    .dataframe tbody tr th {\n",
       "        vertical-align: top;\n",
       "    }\n",
       "\n",
       "    .dataframe thead th {\n",
       "        text-align: right;\n",
       "    }\n",
       "</style>\n",
       "<table border=\"1\" class=\"dataframe\">\n",
       "  <thead>\n",
       "    <tr style=\"text-align: right;\">\n",
       "      <th></th>\n",
       "      <th>tweets</th>\n",
       "      <th>sentiment</th>\n",
       "      <th>word_counts</th>\n",
       "      <th>Char_count</th>\n",
       "      <th>avg_word_len</th>\n",
       "      <th>stop_words_len</th>\n",
       "      <th>Hastags_count</th>\n",
       "      <th>@Mentions_count</th>\n",
       "      <th>numeric_count</th>\n",
       "      <th>upper_count</th>\n",
       "      <th>emails</th>\n",
       "      <th>emails_count</th>\n",
       "    </tr>\n",
       "  </thead>\n",
       "  <tbody>\n",
       "    <tr>\n",
       "      <th>4054</th>\n",
       "      <td>i waandt a andew laptop.  hp tx2000 is the bom...</td>\n",
       "      <td>0</td>\n",
       "      <td>20</td>\n",
       "      <td>103</td>\n",
       "      <td>4.150000</td>\n",
       "      <td>6</td>\n",
       "      <td>0</td>\n",
       "      <td>0</td>\n",
       "      <td>0</td>\n",
       "      <td>4</td>\n",
       "      <td>[gabbehhramos@yahoo.com]</td>\n",
       "      <td>1</td>\n",
       "    </tr>\n",
       "    <tr>\n",
       "      <th>7917</th>\n",
       "      <td>who stole ?</td>\n",
       "      <td>0</td>\n",
       "      <td>3</td>\n",
       "      <td>31</td>\n",
       "      <td>9.000000</td>\n",
       "      <td>1</td>\n",
       "      <td>0</td>\n",
       "      <td>0</td>\n",
       "      <td>0</td>\n",
       "      <td>0</td>\n",
       "      <td>[elledell@gmail.com]</td>\n",
       "      <td>1</td>\n",
       "    </tr>\n",
       "    <tr>\n",
       "      <th>8496</th>\n",
       "      <td>@alexistehpom  really? did yoyou seandd oyout ...</td>\n",
       "      <td>0</td>\n",
       "      <td>20</td>\n",
       "      <td>130</td>\n",
       "      <td>5.500000</td>\n",
       "      <td>11</td>\n",
       "      <td>0</td>\n",
       "      <td>1</td>\n",
       "      <td>0</td>\n",
       "      <td>0</td>\n",
       "      <td>[missataari@gmail.com]</td>\n",
       "      <td>1</td>\n",
       "    </tr>\n",
       "    <tr>\n",
       "      <th>10290</th>\n",
       "      <td>@layoyoureystack awh...that is kiandda sad  lo...</td>\n",
       "      <td>0</td>\n",
       "      <td>8</td>\n",
       "      <td>76</td>\n",
       "      <td>8.500000</td>\n",
       "      <td>0</td>\n",
       "      <td>0</td>\n",
       "      <td>1</td>\n",
       "      <td>0</td>\n",
       "      <td>0</td>\n",
       "      <td>[hello.kitty.65@hotmail.com]</td>\n",
       "      <td>1</td>\n",
       "    </tr>\n",
       "    <tr>\n",
       "      <th>16413</th>\n",
       "      <td>@jilliaandcyork  got 2 bottom of it, hyoumaand...</td>\n",
       "      <td>0</td>\n",
       "      <td>21</td>\n",
       "      <td>137</td>\n",
       "      <td>5.428571</td>\n",
       "      <td>7</td>\n",
       "      <td>0</td>\n",
       "      <td>1</td>\n",
       "      <td>1</td>\n",
       "      <td>0</td>\n",
       "      <td>[press@liandkediand.com]</td>\n",
       "      <td>1</td>\n",
       "    </tr>\n",
       "  </tbody>\n",
       "</table>\n",
       "</div>"
      ],
      "text/plain": [
       "                                                  tweets  sentiment  \\\n",
       "4054   i waandt a andew laptop.  hp tx2000 is the bom...          0   \n",
       "7917                                       who stole ?            0   \n",
       "8496   @alexistehpom  really? did yoyou seandd oyout ...          0   \n",
       "10290  @layoyoureystack awh...that is kiandda sad  lo...          0   \n",
       "16413  @jilliaandcyork  got 2 bottom of it, hyoumaand...          0   \n",
       "\n",
       "       word_counts  Char_count  avg_word_len  stop_words_len  Hastags_count  \\\n",
       "4054            20         103      4.150000               6              0   \n",
       "7917             3          31      9.000000               1              0   \n",
       "8496            20         130      5.500000              11              0   \n",
       "10290            8          76      8.500000               0              0   \n",
       "16413           21         137      5.428571               7              0   \n",
       "\n",
       "       @Mentions_count  numeric_count  upper_count  \\\n",
       "4054                 0              0            4   \n",
       "7917                 0              0            0   \n",
       "8496                 1              0            0   \n",
       "10290                1              0            0   \n",
       "16413                1              1            0   \n",
       "\n",
       "                             emails  emails_count  \n",
       "4054       [gabbehhramos@yahoo.com]             1  \n",
       "7917           [elledell@gmail.com]             1  \n",
       "8496         [missataari@gmail.com]             1  \n",
       "10290  [hello.kitty.65@hotmail.com]             1  \n",
       "16413      [press@liandkediand.com]             1  "
      ]
     },
     "execution_count": 38,
     "metadata": {},
     "output_type": "execute_result"
    }
   ],
   "source": [
    "df[df['emails_count']>0].head()"
   ]
  },
  {
   "cell_type": "markdown",
   "metadata": {},
   "source": [
    "#### Count URLs and Remove it: "
   ]
  },
  {
   "cell_type": "code",
   "execution_count": 39,
   "metadata": {},
   "outputs": [],
   "source": [
    "df['urls_flag'] = df['tweets'].apply(lambda x: len(re.findall(r'(http|ftp|https)://([\\w_-]+(?:(?:\\.[\\w_-]+)+))([\\w.,@?^=%&:/~+#-]*[\\w@?^=%&/~+#-])?', x))) "
   ]
  },
  {
   "cell_type": "code",
   "execution_count": 40,
   "metadata": {},
   "outputs": [
    {
     "ename": "TypeError",
     "evalue": "unsupported operand type(s) for &: 'str' and 'int'",
     "output_type": "error",
     "traceback": [
      "\u001b[1;31m---------------------------------------------------------------------------\u001b[0m",
      "\u001b[1;31mTypeError\u001b[0m                                 Traceback (most recent call last)",
      "\u001b[1;32m<ipython-input-40-8dbe83f81d78>\u001b[0m in \u001b[0;36m<module>\u001b[1;34m\u001b[0m\n\u001b[1;32m----> 1\u001b[1;33m \u001b[0mre\u001b[0m\u001b[1;33m.\u001b[0m\u001b[0mfindall\u001b[0m\u001b[1;33m(\u001b[0m\u001b[1;34mr'(http|ftp|https)://([\\w_-]+(?:(?:\\.[\\w_-]+)+))([\\w.,@?^=%&:/~+#-]*[\\w@?^=%&/~+#-])?'\u001b[0m\u001b[1;33m,\u001b[0m\u001b[1;34m''\u001b[0m\u001b[1;33m,\u001b[0m \u001b[0mx\u001b[0m\u001b[1;33m)\u001b[0m\u001b[1;33m\u001b[0m\u001b[1;33m\u001b[0m\u001b[0m\n\u001b[0m",
      "\u001b[1;32m~\\anaconda3\\lib\\re.py\u001b[0m in \u001b[0;36mfindall\u001b[1;34m(pattern, string, flags)\u001b[0m\n\u001b[0;32m    239\u001b[0m \u001b[1;33m\u001b[0m\u001b[0m\n\u001b[0;32m    240\u001b[0m     Empty matches are included in the result.\"\"\"\n\u001b[1;32m--> 241\u001b[1;33m     \u001b[1;32mreturn\u001b[0m \u001b[0m_compile\u001b[0m\u001b[1;33m(\u001b[0m\u001b[0mpattern\u001b[0m\u001b[1;33m,\u001b[0m \u001b[0mflags\u001b[0m\u001b[1;33m)\u001b[0m\u001b[1;33m.\u001b[0m\u001b[0mfindall\u001b[0m\u001b[1;33m(\u001b[0m\u001b[0mstring\u001b[0m\u001b[1;33m)\u001b[0m\u001b[1;33m\u001b[0m\u001b[1;33m\u001b[0m\u001b[0m\n\u001b[0m\u001b[0;32m    242\u001b[0m \u001b[1;33m\u001b[0m\u001b[0m\n\u001b[0;32m    243\u001b[0m \u001b[1;32mdef\u001b[0m \u001b[0mfinditer\u001b[0m\u001b[1;33m(\u001b[0m\u001b[0mpattern\u001b[0m\u001b[1;33m,\u001b[0m \u001b[0mstring\u001b[0m\u001b[1;33m,\u001b[0m \u001b[0mflags\u001b[0m\u001b[1;33m=\u001b[0m\u001b[1;36m0\u001b[0m\u001b[1;33m)\u001b[0m\u001b[1;33m:\u001b[0m\u001b[1;33m\u001b[0m\u001b[1;33m\u001b[0m\u001b[0m\n",
      "\u001b[1;32m~\\anaconda3\\lib\\re.py\u001b[0m in \u001b[0;36m_compile\u001b[1;34m(pattern, flags)\u001b[0m\n\u001b[0;32m    302\u001b[0m     \u001b[1;32mif\u001b[0m \u001b[1;32mnot\u001b[0m \u001b[0msre_compile\u001b[0m\u001b[1;33m.\u001b[0m\u001b[0misstring\u001b[0m\u001b[1;33m(\u001b[0m\u001b[0mpattern\u001b[0m\u001b[1;33m)\u001b[0m\u001b[1;33m:\u001b[0m\u001b[1;33m\u001b[0m\u001b[1;33m\u001b[0m\u001b[0m\n\u001b[0;32m    303\u001b[0m         \u001b[1;32mraise\u001b[0m \u001b[0mTypeError\u001b[0m\u001b[1;33m(\u001b[0m\u001b[1;34m\"first argument must be string or compiled pattern\"\u001b[0m\u001b[1;33m)\u001b[0m\u001b[1;33m\u001b[0m\u001b[1;33m\u001b[0m\u001b[0m\n\u001b[1;32m--> 304\u001b[1;33m     \u001b[0mp\u001b[0m \u001b[1;33m=\u001b[0m \u001b[0msre_compile\u001b[0m\u001b[1;33m.\u001b[0m\u001b[0mcompile\u001b[0m\u001b[1;33m(\u001b[0m\u001b[0mpattern\u001b[0m\u001b[1;33m,\u001b[0m \u001b[0mflags\u001b[0m\u001b[1;33m)\u001b[0m\u001b[1;33m\u001b[0m\u001b[1;33m\u001b[0m\u001b[0m\n\u001b[0m\u001b[0;32m    305\u001b[0m     \u001b[1;32mif\u001b[0m \u001b[1;32mnot\u001b[0m \u001b[1;33m(\u001b[0m\u001b[0mflags\u001b[0m \u001b[1;33m&\u001b[0m \u001b[0mDEBUG\u001b[0m\u001b[1;33m)\u001b[0m\u001b[1;33m:\u001b[0m\u001b[1;33m\u001b[0m\u001b[1;33m\u001b[0m\u001b[0m\n\u001b[0;32m    306\u001b[0m         \u001b[1;32mif\u001b[0m \u001b[0mlen\u001b[0m\u001b[1;33m(\u001b[0m\u001b[0m_cache\u001b[0m\u001b[1;33m)\u001b[0m \u001b[1;33m>=\u001b[0m \u001b[0m_MAXCACHE\u001b[0m\u001b[1;33m:\u001b[0m\u001b[1;33m\u001b[0m\u001b[1;33m\u001b[0m\u001b[0m\n",
      "\u001b[1;32m~\\anaconda3\\lib\\sre_compile.py\u001b[0m in \u001b[0;36mcompile\u001b[1;34m(p, flags)\u001b[0m\n\u001b[0;32m    762\u001b[0m     \u001b[1;32mif\u001b[0m \u001b[0misstring\u001b[0m\u001b[1;33m(\u001b[0m\u001b[0mp\u001b[0m\u001b[1;33m)\u001b[0m\u001b[1;33m:\u001b[0m\u001b[1;33m\u001b[0m\u001b[1;33m\u001b[0m\u001b[0m\n\u001b[0;32m    763\u001b[0m         \u001b[0mpattern\u001b[0m \u001b[1;33m=\u001b[0m \u001b[0mp\u001b[0m\u001b[1;33m\u001b[0m\u001b[1;33m\u001b[0m\u001b[0m\n\u001b[1;32m--> 764\u001b[1;33m         \u001b[0mp\u001b[0m \u001b[1;33m=\u001b[0m \u001b[0msre_parse\u001b[0m\u001b[1;33m.\u001b[0m\u001b[0mparse\u001b[0m\u001b[1;33m(\u001b[0m\u001b[0mp\u001b[0m\u001b[1;33m,\u001b[0m \u001b[0mflags\u001b[0m\u001b[1;33m)\u001b[0m\u001b[1;33m\u001b[0m\u001b[1;33m\u001b[0m\u001b[0m\n\u001b[0m\u001b[0;32m    765\u001b[0m     \u001b[1;32melse\u001b[0m\u001b[1;33m:\u001b[0m\u001b[1;33m\u001b[0m\u001b[1;33m\u001b[0m\u001b[0m\n\u001b[0;32m    766\u001b[0m         \u001b[0mpattern\u001b[0m \u001b[1;33m=\u001b[0m \u001b[1;32mNone\u001b[0m\u001b[1;33m\u001b[0m\u001b[1;33m\u001b[0m\u001b[0m\n",
      "\u001b[1;32m~\\anaconda3\\lib\\sre_parse.py\u001b[0m in \u001b[0;36mparse\u001b[1;34m(str, flags, state)\u001b[0m\n\u001b[0;32m    946\u001b[0m \u001b[1;33m\u001b[0m\u001b[0m\n\u001b[0;32m    947\u001b[0m     \u001b[1;32mtry\u001b[0m\u001b[1;33m:\u001b[0m\u001b[1;33m\u001b[0m\u001b[1;33m\u001b[0m\u001b[0m\n\u001b[1;32m--> 948\u001b[1;33m         \u001b[0mp\u001b[0m \u001b[1;33m=\u001b[0m \u001b[0m_parse_sub\u001b[0m\u001b[1;33m(\u001b[0m\u001b[0msource\u001b[0m\u001b[1;33m,\u001b[0m \u001b[0mstate\u001b[0m\u001b[1;33m,\u001b[0m \u001b[0mflags\u001b[0m \u001b[1;33m&\u001b[0m \u001b[0mSRE_FLAG_VERBOSE\u001b[0m\u001b[1;33m,\u001b[0m \u001b[1;36m0\u001b[0m\u001b[1;33m)\u001b[0m\u001b[1;33m\u001b[0m\u001b[1;33m\u001b[0m\u001b[0m\n\u001b[0m\u001b[0;32m    949\u001b[0m     \u001b[1;32mexcept\u001b[0m \u001b[0mVerbose\u001b[0m\u001b[1;33m:\u001b[0m\u001b[1;33m\u001b[0m\u001b[1;33m\u001b[0m\u001b[0m\n\u001b[0;32m    950\u001b[0m         \u001b[1;31m# the VERBOSE flag was switched on inside the pattern.  to be\u001b[0m\u001b[1;33m\u001b[0m\u001b[1;33m\u001b[0m\u001b[1;33m\u001b[0m\u001b[0m\n",
      "\u001b[1;31mTypeError\u001b[0m: unsupported operand type(s) for &: 'str' and 'int'"
     ]
    }
   ],
   "source": [
    "re.findall(r'(http|ftp|https)://([\\w_-]+(?:(?:\\.[\\w_-]+)+))([\\w.,@?^=%&:/~+#-]*[\\w@?^=%&/~+#-])?','', x)"
   ]
  },
  {
   "cell_type": "code",
   "execution_count": 41,
   "metadata": {},
   "outputs": [],
   "source": [
    "df['tweets'] = df['tweets'].apply(lambda x: re.sub(r'(http|ftp|https)://([\\w_-]+(?:(?:\\.[\\w_-]+)+))([\\w.,@?^=%&:/~+#-]*[\\w@?^=%&/~+#-])?', '' , x))"
   ]
  },
  {
   "cell_type": "code",
   "execution_count": 42,
   "metadata": {},
   "outputs": [
    {
     "data": {
      "text/html": [
       "<div>\n",
       "<style scoped>\n",
       "    .dataframe tbody tr th:only-of-type {\n",
       "        vertical-align: middle;\n",
       "    }\n",
       "\n",
       "    .dataframe tbody tr th {\n",
       "        vertical-align: top;\n",
       "    }\n",
       "\n",
       "    .dataframe thead th {\n",
       "        text-align: right;\n",
       "    }\n",
       "</style>\n",
       "<table border=\"1\" class=\"dataframe\">\n",
       "  <thead>\n",
       "    <tr style=\"text-align: right;\">\n",
       "      <th></th>\n",
       "      <th>tweets</th>\n",
       "      <th>sentiment</th>\n",
       "      <th>word_counts</th>\n",
       "      <th>Char_count</th>\n",
       "      <th>avg_word_len</th>\n",
       "      <th>stop_words_len</th>\n",
       "      <th>Hastags_count</th>\n",
       "      <th>@Mentions_count</th>\n",
       "      <th>numeric_count</th>\n",
       "      <th>upper_count</th>\n",
       "      <th>emails</th>\n",
       "      <th>emails_count</th>\n",
       "      <th>urls_flag</th>\n",
       "    </tr>\n",
       "  </thead>\n",
       "  <tbody>\n",
       "    <tr>\n",
       "      <th>0</th>\n",
       "      <td>@switchfoot  - awww, that is a byoummer.  yoyo...</td>\n",
       "      <td>0</td>\n",
       "      <td>19</td>\n",
       "      <td>115</td>\n",
       "      <td>5.052632</td>\n",
       "      <td>4</td>\n",
       "      <td>0</td>\n",
       "      <td>1</td>\n",
       "      <td>0</td>\n",
       "      <td>1</td>\n",
       "      <td>[]</td>\n",
       "      <td>0</td>\n",
       "      <td>1</td>\n",
       "    </tr>\n",
       "    <tr>\n",
       "      <th>1</th>\n",
       "      <td>is youpset that he caandandot youpdate his fac...</td>\n",
       "      <td>0</td>\n",
       "      <td>21</td>\n",
       "      <td>111</td>\n",
       "      <td>4.285714</td>\n",
       "      <td>9</td>\n",
       "      <td>0</td>\n",
       "      <td>0</td>\n",
       "      <td>0</td>\n",
       "      <td>0</td>\n",
       "      <td>[]</td>\n",
       "      <td>0</td>\n",
       "      <td>0</td>\n",
       "    </tr>\n",
       "    <tr>\n",
       "      <th>2</th>\n",
       "      <td>@keandichaand i dived maandy times for the bal...</td>\n",
       "      <td>0</td>\n",
       "      <td>18</td>\n",
       "      <td>89</td>\n",
       "      <td>3.944444</td>\n",
       "      <td>7</td>\n",
       "      <td>0</td>\n",
       "      <td>1</td>\n",
       "      <td>0</td>\n",
       "      <td>1</td>\n",
       "      <td>[]</td>\n",
       "      <td>0</td>\n",
       "      <td>0</td>\n",
       "    </tr>\n",
       "    <tr>\n",
       "      <th>3</th>\n",
       "      <td>my whole body feels itchy aandd like its oand ...</td>\n",
       "      <td>0</td>\n",
       "      <td>10</td>\n",
       "      <td>47</td>\n",
       "      <td>3.700000</td>\n",
       "      <td>5</td>\n",
       "      <td>0</td>\n",
       "      <td>0</td>\n",
       "      <td>0</td>\n",
       "      <td>0</td>\n",
       "      <td>[]</td>\n",
       "      <td>0</td>\n",
       "      <td>0</td>\n",
       "    </tr>\n",
       "    <tr>\n",
       "      <th>4</th>\n",
       "      <td>@andatioandwideclass ando, it is andot behavia...</td>\n",
       "      <td>0</td>\n",
       "      <td>21</td>\n",
       "      <td>111</td>\n",
       "      <td>4.285714</td>\n",
       "      <td>10</td>\n",
       "      <td>0</td>\n",
       "      <td>1</td>\n",
       "      <td>0</td>\n",
       "      <td>1</td>\n",
       "      <td>[]</td>\n",
       "      <td>0</td>\n",
       "      <td>0</td>\n",
       "    </tr>\n",
       "  </tbody>\n",
       "</table>\n",
       "</div>"
      ],
      "text/plain": [
       "                                              tweets  sentiment  word_counts  \\\n",
       "0  @switchfoot  - awww, that is a byoummer.  yoyo...          0           19   \n",
       "1  is youpset that he caandandot youpdate his fac...          0           21   \n",
       "2  @keandichaand i dived maandy times for the bal...          0           18   \n",
       "3  my whole body feels itchy aandd like its oand ...          0           10   \n",
       "4  @andatioandwideclass ando, it is andot behavia...          0           21   \n",
       "\n",
       "   Char_count  avg_word_len  stop_words_len  Hastags_count  @Mentions_count  \\\n",
       "0         115      5.052632               4              0                1   \n",
       "1         111      4.285714               9              0                0   \n",
       "2          89      3.944444               7              0                1   \n",
       "3          47      3.700000               5              0                0   \n",
       "4         111      4.285714              10              0                1   \n",
       "\n",
       "   numeric_count  upper_count emails  emails_count  urls_flag  \n",
       "0              0            1     []             0          1  \n",
       "1              0            0     []             0          0  \n",
       "2              0            1     []             0          0  \n",
       "3              0            0     []             0          0  \n",
       "4              0            1     []             0          0  "
      ]
     },
     "execution_count": 42,
     "metadata": {},
     "output_type": "execute_result"
    }
   ],
   "source": [
    "df.head()"
   ]
  },
  {
   "cell_type": "code",
   "execution_count": 43,
   "metadata": {},
   "outputs": [
    {
     "data": {
      "text/plain": [
       "'@switchfoot  - awww, that is a byoummer.  yoyou shoyoulda got david carr of third day to do it. ;d'"
      ]
     },
     "execution_count": 43,
     "metadata": {},
     "output_type": "execute_result"
    }
   ],
   "source": [
    "df.loc[0]['tweets']"
   ]
  },
  {
   "cell_type": "markdown",
   "metadata": {},
   "source": [
    "#### Remove RT (Retweet): "
   ]
  },
  {
   "cell_type": "code",
   "execution_count": 44,
   "metadata": {},
   "outputs": [],
   "source": [
    "df['tweets'] = df['tweets'].apply(lambda x: re.sub('RT', '', x))"
   ]
  },
  {
   "cell_type": "markdown",
   "metadata": {},
   "source": [
    "#### Special Chars removal or punctuation removal :"
   ]
  },
  {
   "cell_type": "code",
   "execution_count": 45,
   "metadata": {},
   "outputs": [],
   "source": [
    "df['tweets'] = df['tweets'].apply(lambda x: re.sub('[^A-Z a-z 0-9]+', '', x))"
   ]
  },
  {
   "cell_type": "code",
   "execution_count": 46,
   "metadata": {},
   "outputs": [
    {
     "data": {
      "text/html": [
       "<div>\n",
       "<style scoped>\n",
       "    .dataframe tbody tr th:only-of-type {\n",
       "        vertical-align: middle;\n",
       "    }\n",
       "\n",
       "    .dataframe tbody tr th {\n",
       "        vertical-align: top;\n",
       "    }\n",
       "\n",
       "    .dataframe thead th {\n",
       "        text-align: right;\n",
       "    }\n",
       "</style>\n",
       "<table border=\"1\" class=\"dataframe\">\n",
       "  <thead>\n",
       "    <tr style=\"text-align: right;\">\n",
       "      <th></th>\n",
       "      <th>tweets</th>\n",
       "      <th>sentiment</th>\n",
       "      <th>word_counts</th>\n",
       "      <th>Char_count</th>\n",
       "      <th>avg_word_len</th>\n",
       "      <th>stop_words_len</th>\n",
       "      <th>Hastags_count</th>\n",
       "      <th>@Mentions_count</th>\n",
       "      <th>numeric_count</th>\n",
       "      <th>upper_count</th>\n",
       "      <th>emails</th>\n",
       "      <th>emails_count</th>\n",
       "      <th>urls_flag</th>\n",
       "    </tr>\n",
       "  </thead>\n",
       "  <tbody>\n",
       "    <tr>\n",
       "      <th>0</th>\n",
       "      <td>switchfoot   awww that is a byoummer  yoyou sh...</td>\n",
       "      <td>0</td>\n",
       "      <td>19</td>\n",
       "      <td>115</td>\n",
       "      <td>5.052632</td>\n",
       "      <td>4</td>\n",
       "      <td>0</td>\n",
       "      <td>1</td>\n",
       "      <td>0</td>\n",
       "      <td>1</td>\n",
       "      <td>[]</td>\n",
       "      <td>0</td>\n",
       "      <td>1</td>\n",
       "    </tr>\n",
       "    <tr>\n",
       "      <th>1</th>\n",
       "      <td>is youpset that he caandandot youpdate his fac...</td>\n",
       "      <td>0</td>\n",
       "      <td>21</td>\n",
       "      <td>111</td>\n",
       "      <td>4.285714</td>\n",
       "      <td>9</td>\n",
       "      <td>0</td>\n",
       "      <td>0</td>\n",
       "      <td>0</td>\n",
       "      <td>0</td>\n",
       "      <td>[]</td>\n",
       "      <td>0</td>\n",
       "      <td>0</td>\n",
       "    </tr>\n",
       "    <tr>\n",
       "      <th>2</th>\n",
       "      <td>keandichaand i dived maandy times for the ball...</td>\n",
       "      <td>0</td>\n",
       "      <td>18</td>\n",
       "      <td>89</td>\n",
       "      <td>3.944444</td>\n",
       "      <td>7</td>\n",
       "      <td>0</td>\n",
       "      <td>1</td>\n",
       "      <td>0</td>\n",
       "      <td>1</td>\n",
       "      <td>[]</td>\n",
       "      <td>0</td>\n",
       "      <td>0</td>\n",
       "    </tr>\n",
       "    <tr>\n",
       "      <th>3</th>\n",
       "      <td>my whole body feels itchy aandd like its oand ...</td>\n",
       "      <td>0</td>\n",
       "      <td>10</td>\n",
       "      <td>47</td>\n",
       "      <td>3.700000</td>\n",
       "      <td>5</td>\n",
       "      <td>0</td>\n",
       "      <td>0</td>\n",
       "      <td>0</td>\n",
       "      <td>0</td>\n",
       "      <td>[]</td>\n",
       "      <td>0</td>\n",
       "      <td>0</td>\n",
       "    </tr>\n",
       "    <tr>\n",
       "      <th>4</th>\n",
       "      <td>andatioandwideclass ando it is andot behaviand...</td>\n",
       "      <td>0</td>\n",
       "      <td>21</td>\n",
       "      <td>111</td>\n",
       "      <td>4.285714</td>\n",
       "      <td>10</td>\n",
       "      <td>0</td>\n",
       "      <td>1</td>\n",
       "      <td>0</td>\n",
       "      <td>1</td>\n",
       "      <td>[]</td>\n",
       "      <td>0</td>\n",
       "      <td>0</td>\n",
       "    </tr>\n",
       "  </tbody>\n",
       "</table>\n",
       "</div>"
      ],
      "text/plain": [
       "                                              tweets  sentiment  word_counts  \\\n",
       "0  switchfoot   awww that is a byoummer  yoyou sh...          0           19   \n",
       "1  is youpset that he caandandot youpdate his fac...          0           21   \n",
       "2  keandichaand i dived maandy times for the ball...          0           18   \n",
       "3  my whole body feels itchy aandd like its oand ...          0           10   \n",
       "4  andatioandwideclass ando it is andot behaviand...          0           21   \n",
       "\n",
       "   Char_count  avg_word_len  stop_words_len  Hastags_count  @Mentions_count  \\\n",
       "0         115      5.052632               4              0                1   \n",
       "1         111      4.285714               9              0                0   \n",
       "2          89      3.944444               7              0                1   \n",
       "3          47      3.700000               5              0                0   \n",
       "4         111      4.285714              10              0                1   \n",
       "\n",
       "   numeric_count  upper_count emails  emails_count  urls_flag  \n",
       "0              0            1     []             0          1  \n",
       "1              0            0     []             0          0  \n",
       "2              0            1     []             0          0  \n",
       "3              0            0     []             0          0  \n",
       "4              0            1     []             0          0  "
      ]
     },
     "execution_count": 46,
     "metadata": {},
     "output_type": "execute_result"
    }
   ],
   "source": [
    "df.head()"
   ]
  },
  {
   "cell_type": "markdown",
   "metadata": {},
   "source": [
    "#### Remove Multiple Spaces ('hi   hello   ') : "
   ]
  },
  {
   "cell_type": "code",
   "execution_count": 47,
   "metadata": {},
   "outputs": [],
   "source": [
    "df['tweets'] = df['tweets'].apply(lambda x: \" \".join(x.split()))"
   ]
  },
  {
   "cell_type": "code",
   "execution_count": 48,
   "metadata": {},
   "outputs": [
    {
     "data": {
      "text/html": [
       "<div>\n",
       "<style scoped>\n",
       "    .dataframe tbody tr th:only-of-type {\n",
       "        vertical-align: middle;\n",
       "    }\n",
       "\n",
       "    .dataframe tbody tr th {\n",
       "        vertical-align: top;\n",
       "    }\n",
       "\n",
       "    .dataframe thead th {\n",
       "        text-align: right;\n",
       "    }\n",
       "</style>\n",
       "<table border=\"1\" class=\"dataframe\">\n",
       "  <thead>\n",
       "    <tr style=\"text-align: right;\">\n",
       "      <th></th>\n",
       "      <th>tweets</th>\n",
       "      <th>sentiment</th>\n",
       "      <th>word_counts</th>\n",
       "      <th>Char_count</th>\n",
       "      <th>avg_word_len</th>\n",
       "      <th>stop_words_len</th>\n",
       "      <th>Hastags_count</th>\n",
       "      <th>@Mentions_count</th>\n",
       "      <th>numeric_count</th>\n",
       "      <th>upper_count</th>\n",
       "      <th>emails</th>\n",
       "      <th>emails_count</th>\n",
       "      <th>urls_flag</th>\n",
       "    </tr>\n",
       "  </thead>\n",
       "  <tbody>\n",
       "    <tr>\n",
       "      <th>0</th>\n",
       "      <td>switchfoot awww that is a byoummer yoyou shoyo...</td>\n",
       "      <td>0</td>\n",
       "      <td>19</td>\n",
       "      <td>115</td>\n",
       "      <td>5.052632</td>\n",
       "      <td>4</td>\n",
       "      <td>0</td>\n",
       "      <td>1</td>\n",
       "      <td>0</td>\n",
       "      <td>1</td>\n",
       "      <td>[]</td>\n",
       "      <td>0</td>\n",
       "      <td>1</td>\n",
       "    </tr>\n",
       "    <tr>\n",
       "      <th>1</th>\n",
       "      <td>is youpset that he caandandot youpdate his fac...</td>\n",
       "      <td>0</td>\n",
       "      <td>21</td>\n",
       "      <td>111</td>\n",
       "      <td>4.285714</td>\n",
       "      <td>9</td>\n",
       "      <td>0</td>\n",
       "      <td>0</td>\n",
       "      <td>0</td>\n",
       "      <td>0</td>\n",
       "      <td>[]</td>\n",
       "      <td>0</td>\n",
       "      <td>0</td>\n",
       "    </tr>\n",
       "    <tr>\n",
       "      <th>2</th>\n",
       "      <td>keandichaand i dived maandy times for the ball...</td>\n",
       "      <td>0</td>\n",
       "      <td>18</td>\n",
       "      <td>89</td>\n",
       "      <td>3.944444</td>\n",
       "      <td>7</td>\n",
       "      <td>0</td>\n",
       "      <td>1</td>\n",
       "      <td>0</td>\n",
       "      <td>1</td>\n",
       "      <td>[]</td>\n",
       "      <td>0</td>\n",
       "      <td>0</td>\n",
       "    </tr>\n",
       "    <tr>\n",
       "      <th>3</th>\n",
       "      <td>my whole body feels itchy aandd like its oand ...</td>\n",
       "      <td>0</td>\n",
       "      <td>10</td>\n",
       "      <td>47</td>\n",
       "      <td>3.700000</td>\n",
       "      <td>5</td>\n",
       "      <td>0</td>\n",
       "      <td>0</td>\n",
       "      <td>0</td>\n",
       "      <td>0</td>\n",
       "      <td>[]</td>\n",
       "      <td>0</td>\n",
       "      <td>0</td>\n",
       "    </tr>\n",
       "    <tr>\n",
       "      <th>4</th>\n",
       "      <td>andatioandwideclass ando it is andot behaviand...</td>\n",
       "      <td>0</td>\n",
       "      <td>21</td>\n",
       "      <td>111</td>\n",
       "      <td>4.285714</td>\n",
       "      <td>10</td>\n",
       "      <td>0</td>\n",
       "      <td>1</td>\n",
       "      <td>0</td>\n",
       "      <td>1</td>\n",
       "      <td>[]</td>\n",
       "      <td>0</td>\n",
       "      <td>0</td>\n",
       "    </tr>\n",
       "  </tbody>\n",
       "</table>\n",
       "</div>"
      ],
      "text/plain": [
       "                                              tweets  sentiment  word_counts  \\\n",
       "0  switchfoot awww that is a byoummer yoyou shoyo...          0           19   \n",
       "1  is youpset that he caandandot youpdate his fac...          0           21   \n",
       "2  keandichaand i dived maandy times for the ball...          0           18   \n",
       "3  my whole body feels itchy aandd like its oand ...          0           10   \n",
       "4  andatioandwideclass ando it is andot behaviand...          0           21   \n",
       "\n",
       "   Char_count  avg_word_len  stop_words_len  Hastags_count  @Mentions_count  \\\n",
       "0         115      5.052632               4              0                1   \n",
       "1         111      4.285714               9              0                0   \n",
       "2          89      3.944444               7              0                1   \n",
       "3          47      3.700000               5              0                0   \n",
       "4         111      4.285714              10              0                1   \n",
       "\n",
       "   numeric_count  upper_count emails  emails_count  urls_flag  \n",
       "0              0            1     []             0          1  \n",
       "1              0            0     []             0          0  \n",
       "2              0            1     []             0          0  \n",
       "3              0            0     []             0          0  \n",
       "4              0            1     []             0          0  "
      ]
     },
     "execution_count": 48,
     "metadata": {},
     "output_type": "execute_result"
    }
   ],
   "source": [
    "df.head()"
   ]
  },
  {
   "cell_type": "markdown",
   "metadata": {},
   "source": [
    "#### Removing HTML tags :"
   ]
  },
  {
   "cell_type": "code",
   "execution_count": 49,
   "metadata": {},
   "outputs": [],
   "source": [
    "from bs4 import BeautifulSoup"
   ]
  },
  {
   "cell_type": "code",
   "execution_count": 50,
   "metadata": {},
   "outputs": [
    {
     "name": "stderr",
     "output_type": "stream",
     "text": [
      "C:\\Users\\User\\anaconda3\\lib\\site-packages\\bs4\\__init__.py:332: MarkupResemblesLocatorWarning: \"cookies\" looks like a filename, not markup. You should probably open this file and pass the filehandle into Beautiful Soup.\n",
      "  warnings.warn(\n"
     ]
    },
    {
     "name": "stdout",
     "output_type": "stream",
     "text": [
      "Wall time: 7min 49s\n"
     ]
    }
   ],
   "source": [
    "%%time\n",
    "df['tweets'] = df['tweets'].apply(lambda x: BeautifulSoup(x, 'lxml').get_text())"
   ]
  },
  {
   "cell_type": "markdown",
   "metadata": {},
   "source": [
    "#### Remove Accented Chars : "
   ]
  },
  {
   "cell_type": "code",
   "execution_count": 51,
   "metadata": {},
   "outputs": [],
   "source": [
    "import unicodedata"
   ]
  },
  {
   "cell_type": "code",
   "execution_count": 52,
   "metadata": {},
   "outputs": [],
   "source": [
    "def remove_accented_chars(x):\n",
    "    x = unicodedata.normalize('NFKD', x).encode('ascii', 'ignore').decode('utf-8', 'ignore')\n",
    "    return x"
   ]
  },
  {
   "cell_type": "code",
   "execution_count": 53,
   "metadata": {},
   "outputs": [],
   "source": [
    "df['tweets']= df['tweets'].apply(lambda x: remove_accented_chars(x))"
   ]
  },
  {
   "cell_type": "code",
   "execution_count": 54,
   "metadata": {},
   "outputs": [
    {
     "data": {
      "text/html": [
       "<div>\n",
       "<style scoped>\n",
       "    .dataframe tbody tr th:only-of-type {\n",
       "        vertical-align: middle;\n",
       "    }\n",
       "\n",
       "    .dataframe tbody tr th {\n",
       "        vertical-align: top;\n",
       "    }\n",
       "\n",
       "    .dataframe thead th {\n",
       "        text-align: right;\n",
       "    }\n",
       "</style>\n",
       "<table border=\"1\" class=\"dataframe\">\n",
       "  <thead>\n",
       "    <tr style=\"text-align: right;\">\n",
       "      <th></th>\n",
       "      <th>tweets</th>\n",
       "      <th>sentiment</th>\n",
       "      <th>word_counts</th>\n",
       "      <th>Char_count</th>\n",
       "      <th>avg_word_len</th>\n",
       "      <th>stop_words_len</th>\n",
       "      <th>Hastags_count</th>\n",
       "      <th>@Mentions_count</th>\n",
       "      <th>numeric_count</th>\n",
       "      <th>upper_count</th>\n",
       "      <th>emails</th>\n",
       "      <th>emails_count</th>\n",
       "      <th>urls_flag</th>\n",
       "    </tr>\n",
       "  </thead>\n",
       "  <tbody>\n",
       "    <tr>\n",
       "      <th>0</th>\n",
       "      <td>switchfoot awww that is a byoummer yoyou shoyo...</td>\n",
       "      <td>0</td>\n",
       "      <td>19</td>\n",
       "      <td>115</td>\n",
       "      <td>5.052632</td>\n",
       "      <td>4</td>\n",
       "      <td>0</td>\n",
       "      <td>1</td>\n",
       "      <td>0</td>\n",
       "      <td>1</td>\n",
       "      <td>[]</td>\n",
       "      <td>0</td>\n",
       "      <td>1</td>\n",
       "    </tr>\n",
       "    <tr>\n",
       "      <th>1</th>\n",
       "      <td>is youpset that he caandandot youpdate his fac...</td>\n",
       "      <td>0</td>\n",
       "      <td>21</td>\n",
       "      <td>111</td>\n",
       "      <td>4.285714</td>\n",
       "      <td>9</td>\n",
       "      <td>0</td>\n",
       "      <td>0</td>\n",
       "      <td>0</td>\n",
       "      <td>0</td>\n",
       "      <td>[]</td>\n",
       "      <td>0</td>\n",
       "      <td>0</td>\n",
       "    </tr>\n",
       "    <tr>\n",
       "      <th>2</th>\n",
       "      <td>keandichaand i dived maandy times for the ball...</td>\n",
       "      <td>0</td>\n",
       "      <td>18</td>\n",
       "      <td>89</td>\n",
       "      <td>3.944444</td>\n",
       "      <td>7</td>\n",
       "      <td>0</td>\n",
       "      <td>1</td>\n",
       "      <td>0</td>\n",
       "      <td>1</td>\n",
       "      <td>[]</td>\n",
       "      <td>0</td>\n",
       "      <td>0</td>\n",
       "    </tr>\n",
       "    <tr>\n",
       "      <th>3</th>\n",
       "      <td>my whole body feels itchy aandd like its oand ...</td>\n",
       "      <td>0</td>\n",
       "      <td>10</td>\n",
       "      <td>47</td>\n",
       "      <td>3.700000</td>\n",
       "      <td>5</td>\n",
       "      <td>0</td>\n",
       "      <td>0</td>\n",
       "      <td>0</td>\n",
       "      <td>0</td>\n",
       "      <td>[]</td>\n",
       "      <td>0</td>\n",
       "      <td>0</td>\n",
       "    </tr>\n",
       "    <tr>\n",
       "      <th>4</th>\n",
       "      <td>andatioandwideclass ando it is andot behaviand...</td>\n",
       "      <td>0</td>\n",
       "      <td>21</td>\n",
       "      <td>111</td>\n",
       "      <td>4.285714</td>\n",
       "      <td>10</td>\n",
       "      <td>0</td>\n",
       "      <td>1</td>\n",
       "      <td>0</td>\n",
       "      <td>1</td>\n",
       "      <td>[]</td>\n",
       "      <td>0</td>\n",
       "      <td>0</td>\n",
       "    </tr>\n",
       "  </tbody>\n",
       "</table>\n",
       "</div>"
      ],
      "text/plain": [
       "                                              tweets  sentiment  word_counts  \\\n",
       "0  switchfoot awww that is a byoummer yoyou shoyo...          0           19   \n",
       "1  is youpset that he caandandot youpdate his fac...          0           21   \n",
       "2  keandichaand i dived maandy times for the ball...          0           18   \n",
       "3  my whole body feels itchy aandd like its oand ...          0           10   \n",
       "4  andatioandwideclass ando it is andot behaviand...          0           21   \n",
       "\n",
       "   Char_count  avg_word_len  stop_words_len  Hastags_count  @Mentions_count  \\\n",
       "0         115      5.052632               4              0                1   \n",
       "1         111      4.285714               9              0                0   \n",
       "2          89      3.944444               7              0                1   \n",
       "3          47      3.700000               5              0                0   \n",
       "4         111      4.285714              10              0                1   \n",
       "\n",
       "   numeric_count  upper_count emails  emails_count  urls_flag  \n",
       "0              0            1     []             0          1  \n",
       "1              0            0     []             0          0  \n",
       "2              0            1     []             0          0  \n",
       "3              0            0     []             0          0  \n",
       "4              0            1     []             0          0  "
      ]
     },
     "execution_count": 54,
     "metadata": {},
     "output_type": "execute_result"
    }
   ],
   "source": [
    "df.head()"
   ]
  },
  {
   "cell_type": "markdown",
   "metadata": {},
   "source": [
    "#### SpaCy and NLP :"
   ]
  },
  {
   "cell_type": "code",
   "execution_count": 55,
   "metadata": {},
   "outputs": [],
   "source": [
    "# Removing stop words \n",
    "import spacy"
   ]
  },
  {
   "cell_type": "code",
   "execution_count": 56,
   "metadata": {},
   "outputs": [],
   "source": [
    "df['tweets'] = df['tweets'].apply(lambda x: \" \".join([t for t in x.split() if t not in STOP_WORDS]))"
   ]
  },
  {
   "cell_type": "code",
   "execution_count": 57,
   "metadata": {},
   "outputs": [
    {
     "data": {
      "text/html": [
       "<div>\n",
       "<style scoped>\n",
       "    .dataframe tbody tr th:only-of-type {\n",
       "        vertical-align: middle;\n",
       "    }\n",
       "\n",
       "    .dataframe tbody tr th {\n",
       "        vertical-align: top;\n",
       "    }\n",
       "\n",
       "    .dataframe thead th {\n",
       "        text-align: right;\n",
       "    }\n",
       "</style>\n",
       "<table border=\"1\" class=\"dataframe\">\n",
       "  <thead>\n",
       "    <tr style=\"text-align: right;\">\n",
       "      <th></th>\n",
       "      <th>tweets</th>\n",
       "      <th>sentiment</th>\n",
       "      <th>word_counts</th>\n",
       "      <th>Char_count</th>\n",
       "      <th>avg_word_len</th>\n",
       "      <th>stop_words_len</th>\n",
       "      <th>Hastags_count</th>\n",
       "      <th>@Mentions_count</th>\n",
       "      <th>numeric_count</th>\n",
       "      <th>upper_count</th>\n",
       "      <th>emails</th>\n",
       "      <th>emails_count</th>\n",
       "      <th>urls_flag</th>\n",
       "    </tr>\n",
       "  </thead>\n",
       "  <tbody>\n",
       "    <tr>\n",
       "      <th>0</th>\n",
       "      <td>switchfoot awww byoummer yoyou shoyoulda got d...</td>\n",
       "      <td>0</td>\n",
       "      <td>19</td>\n",
       "      <td>115</td>\n",
       "      <td>5.052632</td>\n",
       "      <td>4</td>\n",
       "      <td>0</td>\n",
       "      <td>1</td>\n",
       "      <td>0</td>\n",
       "      <td>1</td>\n",
       "      <td>[]</td>\n",
       "      <td>0</td>\n",
       "      <td>1</td>\n",
       "    </tr>\n",
       "    <tr>\n",
       "      <th>1</th>\n",
       "      <td>youpset caandandot youpdate facebook textiandg...</td>\n",
       "      <td>0</td>\n",
       "      <td>21</td>\n",
       "      <td>111</td>\n",
       "      <td>4.285714</td>\n",
       "      <td>9</td>\n",
       "      <td>0</td>\n",
       "      <td>0</td>\n",
       "      <td>0</td>\n",
       "      <td>0</td>\n",
       "      <td>[]</td>\n",
       "      <td>0</td>\n",
       "      <td>0</td>\n",
       "    </tr>\n",
       "    <tr>\n",
       "      <th>2</th>\n",
       "      <td>keandichaand dived maandy times ball maandaged...</td>\n",
       "      <td>0</td>\n",
       "      <td>18</td>\n",
       "      <td>89</td>\n",
       "      <td>3.944444</td>\n",
       "      <td>7</td>\n",
       "      <td>0</td>\n",
       "      <td>1</td>\n",
       "      <td>0</td>\n",
       "      <td>1</td>\n",
       "      <td>[]</td>\n",
       "      <td>0</td>\n",
       "      <td>0</td>\n",
       "    </tr>\n",
       "    <tr>\n",
       "      <th>3</th>\n",
       "      <td>body feels itchy aandd like oand fire</td>\n",
       "      <td>0</td>\n",
       "      <td>10</td>\n",
       "      <td>47</td>\n",
       "      <td>3.700000</td>\n",
       "      <td>5</td>\n",
       "      <td>0</td>\n",
       "      <td>0</td>\n",
       "      <td>0</td>\n",
       "      <td>0</td>\n",
       "      <td>[]</td>\n",
       "      <td>0</td>\n",
       "      <td>0</td>\n",
       "    </tr>\n",
       "    <tr>\n",
       "      <th>4</th>\n",
       "      <td>andatioandwideclass ando andot behaviandg I ma...</td>\n",
       "      <td>0</td>\n",
       "      <td>21</td>\n",
       "      <td>111</td>\n",
       "      <td>4.285714</td>\n",
       "      <td>10</td>\n",
       "      <td>0</td>\n",
       "      <td>1</td>\n",
       "      <td>0</td>\n",
       "      <td>1</td>\n",
       "      <td>[]</td>\n",
       "      <td>0</td>\n",
       "      <td>0</td>\n",
       "    </tr>\n",
       "  </tbody>\n",
       "</table>\n",
       "</div>"
      ],
      "text/plain": [
       "                                              tweets  sentiment  word_counts  \\\n",
       "0  switchfoot awww byoummer yoyou shoyoulda got d...          0           19   \n",
       "1  youpset caandandot youpdate facebook textiandg...          0           21   \n",
       "2  keandichaand dived maandy times ball maandaged...          0           18   \n",
       "3              body feels itchy aandd like oand fire          0           10   \n",
       "4  andatioandwideclass ando andot behaviandg I ma...          0           21   \n",
       "\n",
       "   Char_count  avg_word_len  stop_words_len  Hastags_count  @Mentions_count  \\\n",
       "0         115      5.052632               4              0                1   \n",
       "1         111      4.285714               9              0                0   \n",
       "2          89      3.944444               7              0                1   \n",
       "3          47      3.700000               5              0                0   \n",
       "4         111      4.285714              10              0                1   \n",
       "\n",
       "   numeric_count  upper_count emails  emails_count  urls_flag  \n",
       "0              0            1     []             0          1  \n",
       "1              0            0     []             0          0  \n",
       "2              0            1     []             0          0  \n",
       "3              0            0     []             0          0  \n",
       "4              0            1     []             0          0  "
      ]
     },
     "execution_count": 57,
     "metadata": {},
     "output_type": "execute_result"
    }
   ],
   "source": [
    "df.head()"
   ]
  },
  {
   "cell_type": "markdown",
   "metadata": {},
   "source": [
    "#### Convert into base or root form of word : "
   ]
  },
  {
   "cell_type": "code",
   "execution_count": 58,
   "metadata": {},
   "outputs": [
    {
     "name": "stderr",
     "output_type": "stream",
     "text": [
      "Traceback (most recent call last):\n",
      "  File \"C:\\Users\\User\\anaconda3\\lib\\site-packages\\urllib3\\connection.py\", line 159, in _new_conn\n",
      "    conn = connection.create_connection(\n",
      "  File \"C:\\Users\\User\\anaconda3\\lib\\site-packages\\urllib3\\util\\connection.py\", line 61, in create_connection\n",
      "    for res in socket.getaddrinfo(host, port, family, socket.SOCK_STREAM):\n",
      "  File \"C:\\Users\\User\\anaconda3\\lib\\socket.py\", line 918, in getaddrinfo\n",
      "    for res in _socket.getaddrinfo(host, port, family, type, proto, flags):\n",
      "socket.gaierror: [Errno 11001] getaddrinfo failed\n",
      "\n",
      "During handling of the above exception, another exception occurred:\n",
      "\n",
      "Traceback (most recent call last):\n",
      "  File \"C:\\Users\\User\\anaconda3\\lib\\site-packages\\urllib3\\connectionpool.py\", line 670, in urlopen\n",
      "    httplib_response = self._make_request(\n",
      "  File \"C:\\Users\\User\\anaconda3\\lib\\site-packages\\urllib3\\connectionpool.py\", line 381, in _make_request\n",
      "    self._validate_conn(conn)\n",
      "  File \"C:\\Users\\User\\anaconda3\\lib\\site-packages\\urllib3\\connectionpool.py\", line 978, in _validate_conn\n",
      "    conn.connect()\n",
      "  File \"C:\\Users\\User\\anaconda3\\lib\\site-packages\\urllib3\\connection.py\", line 309, in connect\n",
      "    conn = self._new_conn()\n",
      "  File \"C:\\Users\\User\\anaconda3\\lib\\site-packages\\urllib3\\connection.py\", line 171, in _new_conn\n",
      "    raise NewConnectionError(\n",
      "urllib3.exceptions.NewConnectionError: <urllib3.connection.HTTPSConnection object at 0x0000027D595C3460>: Failed to establish a new connection: [Errno 11001] getaddrinfo failed\n",
      "\n",
      "During handling of the above exception, another exception occurred:\n",
      "\n",
      "Traceback (most recent call last):\n",
      "  File \"C:\\Users\\User\\anaconda3\\lib\\site-packages\\requests\\adapters.py\", line 439, in send\n",
      "    resp = conn.urlopen(\n",
      "  File \"C:\\Users\\User\\anaconda3\\lib\\site-packages\\urllib3\\connectionpool.py\", line 726, in urlopen\n",
      "    retries = retries.increment(\n",
      "  File \"C:\\Users\\User\\anaconda3\\lib\\site-packages\\urllib3\\util\\retry.py\", line 446, in increment\n",
      "    raise MaxRetryError(_pool, url, error or ResponseError(cause))\n",
      "urllib3.exceptions.MaxRetryError: HTTPSConnectionPool(host='raw.githubusercontent.com', port=443): Max retries exceeded with url: /explosion/spacy-models/master/compatibility.json (Caused by NewConnectionError('<urllib3.connection.HTTPSConnection object at 0x0000027D595C3460>: Failed to establish a new connection: [Errno 11001] getaddrinfo failed'))\n",
      "\n",
      "During handling of the above exception, another exception occurred:\n",
      "\n",
      "Traceback (most recent call last):\n",
      "  File \"C:\\Users\\User\\anaconda3\\lib\\runpy.py\", line 194, in _run_module_as_main\n",
      "    return _run_code(code, main_globals, None,\n",
      "  File \"C:\\Users\\User\\anaconda3\\lib\\runpy.py\", line 87, in _run_code\n",
      "    exec(code, run_globals)\n",
      "  File \"C:\\Users\\User\\anaconda3\\lib\\site-packages\\spacy\\__main__.py\", line 4, in <module>\n",
      "    setup_cli()\n",
      "  File \"C:\\Users\\User\\anaconda3\\lib\\site-packages\\spacy\\cli\\_util.py\", line 71, in setup_cli\n",
      "    command(prog_name=COMMAND)\n",
      "  File \"C:\\Users\\User\\anaconda3\\lib\\site-packages\\click\\core.py\", line 829, in __call__\n",
      "    return self.main(*args, **kwargs)\n",
      "  File \"C:\\Users\\User\\anaconda3\\lib\\site-packages\\click\\core.py\", line 782, in main\n",
      "    rv = self.invoke(ctx)\n",
      "  File \"C:\\Users\\User\\anaconda3\\lib\\site-packages\\click\\core.py\", line 1259, in invoke\n",
      "    return _process_result(sub_ctx.command.invoke(sub_ctx))\n",
      "  File \"C:\\Users\\User\\anaconda3\\lib\\site-packages\\click\\core.py\", line 1066, in invoke\n",
      "    return ctx.invoke(self.callback, **ctx.params)\n",
      "  File \"C:\\Users\\User\\anaconda3\\lib\\site-packages\\click\\core.py\", line 610, in invoke\n",
      "    return callback(*args, **kwargs)\n",
      "  File \"C:\\Users\\User\\anaconda3\\lib\\site-packages\\typer\\main.py\", line 500, in wrapper\n",
      "    return callback(**use_params)  # type: ignore\n",
      "  File \"C:\\Users\\User\\anaconda3\\lib\\site-packages\\spacy\\cli\\download.py\", line 35, in download_cli\n",
      "    download(model, direct, sdist, *ctx.args)\n",
      "  File \"C:\\Users\\User\\anaconda3\\lib\\site-packages\\spacy\\cli\\download.py\", line 67, in download\n",
      "    compatibility = get_compatibility()\n",
      "  File \"C:\\Users\\User\\anaconda3\\lib\\site-packages\\spacy\\cli\\download.py\", line 78, in get_compatibility\n",
      "    r = requests.get(about.__compatibility__)\n",
      "  File \"C:\\Users\\User\\anaconda3\\lib\\site-packages\\requests\\api.py\", line 76, in get\n",
      "    return request('get', url, params=params, **kwargs)\n",
      "  File \"C:\\Users\\User\\anaconda3\\lib\\site-packages\\requests\\api.py\", line 61, in request\n",
      "    return session.request(method=method, url=url, **kwargs)\n",
      "  File \"C:\\Users\\User\\anaconda3\\lib\\site-packages\\requests\\sessions.py\", line 530, in request\n",
      "    resp = self.send(prep, **send_kwargs)\n",
      "  File \"C:\\Users\\User\\anaconda3\\lib\\site-packages\\requests\\sessions.py\", line 643, in send\n",
      "    r = adapter.send(request, **kwargs)\n",
      "  File \"C:\\Users\\User\\anaconda3\\lib\\site-packages\\requests\\adapters.py\", line 516, in send\n",
      "    raise ConnectionError(e, request=request)\n",
      "requests.exceptions.ConnectionError: HTTPSConnectionPool(host='raw.githubusercontent.com', port=443): Max retries exceeded with url: /explosion/spacy-models/master/compatibility.json (Caused by NewConnectionError('<urllib3.connection.HTTPSConnection object at 0x0000027D595C3460>: Failed to establish a new connection: [Errno 11001] getaddrinfo failed'))\n"
     ]
    }
   ],
   "source": [
    "!python -m spacy download en_core_web_sm"
   ]
  },
  {
   "cell_type": "code",
   "execution_count": 59,
   "metadata": {},
   "outputs": [],
   "source": [
    "nlp = spacy.load('en_core_web_sm')"
   ]
  },
  {
   "cell_type": "code",
   "execution_count": 60,
   "metadata": {},
   "outputs": [],
   "source": [
    "def make_to_base(x):\n",
    "    x_list = []\n",
    "    doc = nlp(x)\n",
    "    \n",
    "    for token in doc:\n",
    "        lemma = str(token.lemma)\n",
    "        if lemma == 'PRON-' or lemma == 'be':\n",
    "            lemma = token.text\n",
    "        x_list.append(lemma)\n",
    "    print(\" \".join(x_list))"
   ]
  },
  {
   "cell_type": "markdown",
   "metadata": {},
   "source": [
    "##### We can apply make_to_base function on tweet through apply but will not apply as dataset is huge and it will take more than two hours... "
   ]
  },
  {
   "cell_type": "markdown",
   "metadata": {},
   "source": [
    "#### Common word removal : "
   ]
  },
  {
   "cell_type": "code",
   "execution_count": 61,
   "metadata": {},
   "outputs": [
    {
     "data": {
      "text/plain": [
       "0    switchfoot awww byoummer yoyou shoyoulda got d...\n",
       "1    youpset caandandot youpdate facebook textiandg...\n",
       "2    keandichaand dived maandy times ball maandaged...\n",
       "3                body feels itchy aandd like oand fire\n",
       "4    andatioandwideclass ando andot behaviandg I ma...\n",
       "Name: tweets, dtype: object"
      ]
     },
     "execution_count": 61,
     "metadata": {},
     "output_type": "execute_result"
    }
   ],
   "source": [
    "df.head()['tweets']"
   ]
  },
  {
   "cell_type": "markdown",
   "metadata": {},
   "source": [
    "##### We will join above sentence so that common words can be removed....... we are doing initial later apply all over the datasets."
   ]
  },
  {
   "cell_type": "code",
   "execution_count": 62,
   "metadata": {},
   "outputs": [
    {
     "data": {
      "text/plain": [
       "'switchfoot awww byoummer yoyou shoyoulda got david carr day d youpset caandandot youpdate facebook textiandg aandd cry resyoult school today blah keandichaand dived maandy times ball maandaged save 50 rest oyout boyouandds body feels itchy aandd like oand fire andatioandwideclass ando andot behaviandg I mad bebecayouse caandandot yoyou'"
      ]
     },
     "execution_count": 62,
     "metadata": {},
     "output_type": "execute_result"
    }
   ],
   "source": [
    "' '.join(df.head()['tweets'])"
   ]
  },
  {
   "cell_type": "code",
   "execution_count": 63,
   "metadata": {},
   "outputs": [],
   "source": [
    "text = ' '.join(df['tweets'])"
   ]
  },
  {
   "cell_type": "code",
   "execution_count": 64,
   "metadata": {},
   "outputs": [],
   "source": [
    "text = text.split()"
   ]
  },
  {
   "cell_type": "code",
   "execution_count": 65,
   "metadata": {},
   "outputs": [],
   "source": [
    "freq_comm = pd.Series(text).value_counts()"
   ]
  },
  {
   "cell_type": "code",
   "execution_count": 66,
   "metadata": {},
   "outputs": [
    {
     "data": {
      "text/plain": [
       "aandd                298376\n",
       "yoyou                290372\n",
       "andot                219139\n",
       "iand                 214216\n",
       "oand                 167087\n",
       "                      ...  \n",
       "comfydidandt              1\n",
       "youppppbed                1\n",
       "forcelearandiandg         1\n",
       "erylate                   1\n",
       "speakiandgyouph4h         1\n",
       "Length: 775186, dtype: int64"
      ]
     },
     "execution_count": 66,
     "metadata": {},
     "output_type": "execute_result"
    }
   ],
   "source": [
    "freq_comm"
   ]
  },
  {
   "cell_type": "markdown",
   "metadata": {},
   "source": [
    "##### we will take only top 20 occurring words as whole will take lot of time to do so.."
   ]
  },
  {
   "cell_type": "code",
   "execution_count": 67,
   "metadata": {},
   "outputs": [],
   "source": [
    "f20 = freq_comm[:20]"
   ]
  },
  {
   "cell_type": "code",
   "execution_count": 68,
   "metadata": {},
   "outputs": [
    {
     "data": {
      "text/plain": [
       "aandd       298376\n",
       "yoyou       290372\n",
       "andot       219139\n",
       "iand        214216\n",
       "oand        167087\n",
       "I           148096\n",
       "byout       127461\n",
       "jyoust      125055\n",
       "andow        90361\n",
       "good         89404\n",
       "youp         88467\n",
       "day          82375\n",
       "oyout        80527\n",
       "like         77749\n",
       "ando         73638\n",
       "yoyoyour     64967\n",
       "today        64611\n",
       "goiandg      64090\n",
       "love         63473\n",
       "work         62848\n",
       "dtype: int64"
      ]
     },
     "execution_count": 68,
     "metadata": {},
     "output_type": "execute_result"
    }
   ],
   "source": [
    "f20"
   ]
  },
  {
   "cell_type": "code",
   "execution_count": 69,
   "metadata": {},
   "outputs": [],
   "source": [
    "df['tweets'] = df['tweets'].apply(lambda x: \" \".join([t for t in x.split() if t not in f20]))\n",
    "# Removing most top twenty occurring words "
   ]
  },
  {
   "cell_type": "markdown",
   "metadata": {},
   "source": [
    "#### Rare words removal : "
   ]
  },
  {
   "cell_type": "code",
   "execution_count": 70,
   "metadata": {},
   "outputs": [
    {
     "data": {
      "text/plain": [
       "aandd                298376\n",
       "yoyou                290372\n",
       "andot                219139\n",
       "iand                 214216\n",
       "oand                 167087\n",
       "                      ...  \n",
       "comfydidandt              1\n",
       "youppppbed                1\n",
       "forcelearandiandg         1\n",
       "erylate                   1\n",
       "speakiandgyouph4h         1\n",
       "Length: 775186, dtype: int64"
      ]
     },
     "execution_count": 70,
     "metadata": {},
     "output_type": "execute_result"
    }
   ],
   "source": [
    "freq_comm"
   ]
  },
  {
   "cell_type": "markdown",
   "metadata": {},
   "source": [
    "##### In start we have most occurring words and in the end we haverare occurring word ......."
   ]
  },
  {
   "cell_type": "code",
   "execution_count": 71,
   "metadata": {},
   "outputs": [],
   "source": [
    "rare20 = freq_comm[-20:] # rare 20 words ..."
   ]
  },
  {
   "cell_type": "code",
   "execution_count": 72,
   "metadata": {},
   "outputs": [
    {
     "data": {
      "text/plain": [
       "doandandypaandgiliandaand    1\n",
       "physed                       1\n",
       "caandeveand                  1\n",
       "ayatollahs                   1\n",
       "semiayouto                   1\n",
       "woandderlaanddfaands         1\n",
       "52flicks                     1\n",
       "sandoriandgdyoude            1\n",
       "daadddd                      1\n",
       "byouela                      1\n",
       "theotherbrit                 1\n",
       "fastfiande                   1\n",
       "tomfriedhof                  1\n",
       "grarrrrr                     1\n",
       "4ampampqyouot6               1\n",
       "comfydidandt                 1\n",
       "youppppbed                   1\n",
       "forcelearandiandg            1\n",
       "erylate                      1\n",
       "speakiandgyouph4h            1\n",
       "dtype: int64"
      ]
     },
     "execution_count": 72,
     "metadata": {},
     "output_type": "execute_result"
    }
   ],
   "source": [
    "rare20"
   ]
  },
  {
   "cell_type": "code",
   "execution_count": 73,
   "metadata": {},
   "outputs": [],
   "source": [
    "rare = freq_comm[freq_comm.values == 1]"
   ]
  },
  {
   "cell_type": "code",
   "execution_count": 74,
   "metadata": {},
   "outputs": [
    {
     "data": {
      "text/plain": [
       "myiandkyfiandgers    1\n",
       "bleakosity11         1\n",
       "taswaiand            1\n",
       "leaandandechaand     1\n",
       "yeahampplease        1\n",
       "                    ..\n",
       "comfydidandt         1\n",
       "youppppbed           1\n",
       "forcelearandiandg    1\n",
       "erylate              1\n",
       "speakiandgyouph4h    1\n",
       "Length: 525330, dtype: int64"
      ]
     },
     "execution_count": 74,
     "metadata": {},
     "output_type": "execute_result"
    }
   ],
   "source": [
    "rare\n"
   ]
  },
  {
   "cell_type": "markdown",
   "metadata": {},
   "source": [
    "##### This will take only lot of time so we will take only rarely occurring twenty words ..."
   ]
  },
  {
   "cell_type": "code",
   "execution_count": 75,
   "metadata": {},
   "outputs": [],
   "source": [
    "df['tweets'] = df['tweets'].apply(lambda x: ' '.join([t for t in x.split() if t not in rare20]))"
   ]
  },
  {
   "cell_type": "code",
   "execution_count": 76,
   "metadata": {},
   "outputs": [
    {
     "data": {
      "text/html": [
       "<div>\n",
       "<style scoped>\n",
       "    .dataframe tbody tr th:only-of-type {\n",
       "        vertical-align: middle;\n",
       "    }\n",
       "\n",
       "    .dataframe tbody tr th {\n",
       "        vertical-align: top;\n",
       "    }\n",
       "\n",
       "    .dataframe thead th {\n",
       "        text-align: right;\n",
       "    }\n",
       "</style>\n",
       "<table border=\"1\" class=\"dataframe\">\n",
       "  <thead>\n",
       "    <tr style=\"text-align: right;\">\n",
       "      <th></th>\n",
       "      <th>tweets</th>\n",
       "      <th>sentiment</th>\n",
       "      <th>word_counts</th>\n",
       "      <th>Char_count</th>\n",
       "      <th>avg_word_len</th>\n",
       "      <th>stop_words_len</th>\n",
       "      <th>Hastags_count</th>\n",
       "      <th>@Mentions_count</th>\n",
       "      <th>numeric_count</th>\n",
       "      <th>upper_count</th>\n",
       "      <th>emails</th>\n",
       "      <th>emails_count</th>\n",
       "      <th>urls_flag</th>\n",
       "    </tr>\n",
       "  </thead>\n",
       "  <tbody>\n",
       "    <tr>\n",
       "      <th>0</th>\n",
       "      <td>switchfoot awww byoummer shoyoulda got david c...</td>\n",
       "      <td>0</td>\n",
       "      <td>19</td>\n",
       "      <td>115</td>\n",
       "      <td>5.052632</td>\n",
       "      <td>4</td>\n",
       "      <td>0</td>\n",
       "      <td>1</td>\n",
       "      <td>0</td>\n",
       "      <td>1</td>\n",
       "      <td>[]</td>\n",
       "      <td>0</td>\n",
       "      <td>1</td>\n",
       "    </tr>\n",
       "    <tr>\n",
       "      <th>1</th>\n",
       "      <td>youpset caandandot youpdate facebook textiandg...</td>\n",
       "      <td>0</td>\n",
       "      <td>21</td>\n",
       "      <td>111</td>\n",
       "      <td>4.285714</td>\n",
       "      <td>9</td>\n",
       "      <td>0</td>\n",
       "      <td>0</td>\n",
       "      <td>0</td>\n",
       "      <td>0</td>\n",
       "      <td>[]</td>\n",
       "      <td>0</td>\n",
       "      <td>0</td>\n",
       "    </tr>\n",
       "    <tr>\n",
       "      <th>2</th>\n",
       "      <td>keandichaand dived maandy times ball maandaged...</td>\n",
       "      <td>0</td>\n",
       "      <td>18</td>\n",
       "      <td>89</td>\n",
       "      <td>3.944444</td>\n",
       "      <td>7</td>\n",
       "      <td>0</td>\n",
       "      <td>1</td>\n",
       "      <td>0</td>\n",
       "      <td>1</td>\n",
       "      <td>[]</td>\n",
       "      <td>0</td>\n",
       "      <td>0</td>\n",
       "    </tr>\n",
       "    <tr>\n",
       "      <th>3</th>\n",
       "      <td>body feels itchy fire</td>\n",
       "      <td>0</td>\n",
       "      <td>10</td>\n",
       "      <td>47</td>\n",
       "      <td>3.700000</td>\n",
       "      <td>5</td>\n",
       "      <td>0</td>\n",
       "      <td>0</td>\n",
       "      <td>0</td>\n",
       "      <td>0</td>\n",
       "      <td>[]</td>\n",
       "      <td>0</td>\n",
       "      <td>0</td>\n",
       "    </tr>\n",
       "    <tr>\n",
       "      <th>4</th>\n",
       "      <td>andatioandwideclass behaviandg mad bebecayouse...</td>\n",
       "      <td>0</td>\n",
       "      <td>21</td>\n",
       "      <td>111</td>\n",
       "      <td>4.285714</td>\n",
       "      <td>10</td>\n",
       "      <td>0</td>\n",
       "      <td>1</td>\n",
       "      <td>0</td>\n",
       "      <td>1</td>\n",
       "      <td>[]</td>\n",
       "      <td>0</td>\n",
       "      <td>0</td>\n",
       "    </tr>\n",
       "  </tbody>\n",
       "</table>\n",
       "</div>"
      ],
      "text/plain": [
       "                                              tweets  sentiment  word_counts  \\\n",
       "0  switchfoot awww byoummer shoyoulda got david c...          0           19   \n",
       "1  youpset caandandot youpdate facebook textiandg...          0           21   \n",
       "2  keandichaand dived maandy times ball maandaged...          0           18   \n",
       "3                              body feels itchy fire          0           10   \n",
       "4  andatioandwideclass behaviandg mad bebecayouse...          0           21   \n",
       "\n",
       "   Char_count  avg_word_len  stop_words_len  Hastags_count  @Mentions_count  \\\n",
       "0         115      5.052632               4              0                1   \n",
       "1         111      4.285714               9              0                0   \n",
       "2          89      3.944444               7              0                1   \n",
       "3          47      3.700000               5              0                0   \n",
       "4         111      4.285714              10              0                1   \n",
       "\n",
       "   numeric_count  upper_count emails  emails_count  urls_flag  \n",
       "0              0            1     []             0          1  \n",
       "1              0            0     []             0          0  \n",
       "2              0            1     []             0          0  \n",
       "3              0            0     []             0          0  \n",
       "4              0            1     []             0          0  "
      ]
     },
     "execution_count": 76,
     "metadata": {},
     "output_type": "execute_result"
    }
   ],
   "source": [
    "df.head()"
   ]
  },
  {
   "cell_type": "markdown",
   "metadata": {},
   "source": [
    "#### Word Cloud Visualization :"
   ]
  },
  {
   "cell_type": "code",
   "execution_count": null,
   "metadata": {},
   "outputs": [],
   "source": [
    "!pip install wordcloud\n",
    "# install wordcloud"
   ]
  },
  {
   "cell_type": "code",
   "execution_count": 77,
   "metadata": {},
   "outputs": [
    {
     "name": "stderr",
     "output_type": "stream",
     "text": [
      "In C:\\Users\\User\\anaconda3\\lib\\site-packages\\matplotlib\\mpl-data\\stylelib\\_classic_test.mplstyle: \n",
      "The text.latex.preview rcparam was deprecated in Matplotlib 3.3 and will be removed two minor releases later.\n",
      "In C:\\Users\\User\\anaconda3\\lib\\site-packages\\matplotlib\\mpl-data\\stylelib\\_classic_test.mplstyle: \n",
      "The mathtext.fallback_to_cm rcparam was deprecated in Matplotlib 3.3 and will be removed two minor releases later.\n",
      "In C:\\Users\\User\\anaconda3\\lib\\site-packages\\matplotlib\\mpl-data\\stylelib\\_classic_test.mplstyle: Support for setting the 'mathtext.fallback_to_cm' rcParam is deprecated since 3.3 and will be removed two minor releases later; use 'mathtext.fallback : 'cm' instead.\n",
      "In C:\\Users\\User\\anaconda3\\lib\\site-packages\\matplotlib\\mpl-data\\stylelib\\_classic_test.mplstyle: \n",
      "The validate_bool_maybe_none function was deprecated in Matplotlib 3.3 and will be removed two minor releases later.\n",
      "In C:\\Users\\User\\anaconda3\\lib\\site-packages\\matplotlib\\mpl-data\\stylelib\\_classic_test.mplstyle: \n",
      "The savefig.jpeg_quality rcparam was deprecated in Matplotlib 3.3 and will be removed two minor releases later.\n",
      "In C:\\Users\\User\\anaconda3\\lib\\site-packages\\matplotlib\\mpl-data\\stylelib\\_classic_test.mplstyle: \n",
      "The keymap.all_axes rcparam was deprecated in Matplotlib 3.3 and will be removed two minor releases later.\n",
      "In C:\\Users\\User\\anaconda3\\lib\\site-packages\\matplotlib\\mpl-data\\stylelib\\_classic_test.mplstyle: \n",
      "The animation.avconv_path rcparam was deprecated in Matplotlib 3.3 and will be removed two minor releases later.\n",
      "In C:\\Users\\User\\anaconda3\\lib\\site-packages\\matplotlib\\mpl-data\\stylelib\\_classic_test.mplstyle: \n",
      "The animation.avconv_args rcparam was deprecated in Matplotlib 3.3 and will be removed two minor releases later.\n"
     ]
    }
   ],
   "source": [
    "from wordcloud import WordCloud\n",
    "import matplotlib.pyplot as plt\n",
    "%matplotlib inline"
   ]
  },
  {
   "cell_type": "code",
   "execution_count": 78,
   "metadata": {},
   "outputs": [],
   "source": [
    "x = \" \".join(text[:20000])\n",
    "# taking few words only else computer will hang, it will take long time "
   ]
  },
  {
   "cell_type": "code",
   "execution_count": 79,
   "metadata": {},
   "outputs": [
    {
     "data": {
      "text/plain": [
       "13761140"
      ]
     },
     "execution_count": 79,
     "metadata": {},
     "output_type": "execute_result"
    }
   ],
   "source": [
    "len(text)"
   ]
  },
  {
   "cell_type": "code",
   "execution_count": 80,
   "metadata": {},
   "outputs": [
    {
     "data": {
      "text/plain": [
       "'switchfoot awww byoummer yoyou shoyoulda got david carr day d youpset caandandot youpdate facebook textiandg aandd cry resyoult school today blah keandichaand dived maandy times ball maandaged save 50 rest oyout boyouandds body feels itchy aandd like oand fire andatioandwideclass ando andot behaviandg I mad bebecayouse caandandot yoyou kwesidei andot crew andeed hyoug loltrish hey loandg time ando yes raiands bit oandly bit lol I fiande thaandks yoyou tatiaandak andope andot twittera qyoue myouera spriandg break iand plaiand city sandowiandg jyoust repierced ears caregiviandg coyould andot bear watch aandd thoyought youa loss embarrassiandg octoliandz16 coyouandts idk yoyou andever talk aandymore smarrisoand woyouldve beeand byout andot gyouand andot thoyough zac sandyders jyoust doyoucheclowand iamjazzyfizzle wish got watch yoyou miss yoyou aandd iamlilandicki premiere hollis death sceande hyoyourt severely watch oand film wry directors cyout andot oyout andow aboyout file taxes lettya ahh ive waandted reandt love soyouanddtrack fakerpattypattz oh dear yoyou driandkiandg oyout forgotteand table driandks alydesigands oyout day andot myouch doande oande frieandd called aandd asked meet mid valley todaybyout I ando time sigh aandgrybarista baked yoyou cake byout ated week andot goiandg hoped blagh class 8 tomorrow hate wheand aandd wake people youp jyoust goiandg cry sleep watchiandg marley aandd im sad andow misslilly ooooh lol leslie aandd ok woandt agaiand leslie woandt mad agaiand meh lover exceptioand track gets depressed time some1 hacked accoyouandt oand aim andow andew oande alielayyous waandt promote gear aandd groove byout youandforandately ando ride b goiandg oande iand aandaheim iand thoyough thoyought sleepiandg iand aand optioand tomorrow byout realiziandg andow andot evalyouatioands iand morandiandg aandd work iand afterandooand jyoulieebaby awe love yoyou 1 miss yoyou hyoumpandiandja cry asiaand eyes sleep andight ok I sick aandd speandt aand hoyoyour sittiandg iand shower becayouse sick staandd aandd held pyouke like champ bed andow cocomix04 ill tell ya story later andot good day aandd ill workiand like hoyoyours missxyou sorry bed time came gmt1 fleyoyourylis andot depressiandg andot thiandk eveand waandt kandow aboyout kids iand syouitcases bed class 812 work 123 gym 35 6 theand class 610 aandother day goandanda fly miss girlfrieandd andot feel like gettiandg youp today byout got styoudy tomorrows practical exam hes reasoand teardrops oand gyouitar oandly oande eandoyough break heart sad sad sad andot kandow byout hate feeliandg waandanda sleep aandd caandandot joandathaandrkandight awww soo wish yoyou fiandally comfortable im sad missed falliandg asleep jyoust heard aboyout tracy girls body beiandg foyouandd sad heart breaks family vieandandah yay I happy yoyou yoyoyour job byout meaands time aandd yoyou jyoust checked youser timeliande oand blackberry looks like twaandkiandg happeandiandg ppl haviandg probs w bgs aandd youids oh maandwas iroandiandg jeaandcjyoumbes fave wear meetiandg byoyourandt straandgely sad aboyout lilo aandd samro breakiandg youp tea oh I sorry andot thiandk aboyout retweetiandg broadbaandd plaand massive brokeand promise wwwdiigocomtayoutao waitiandg broadbaandd localtweeps wow toands replies yoyou youandfollow caand frieandds tweets yoyou scrolliandg feed lot oyoyour dyouck aandd chickeand takiandg wayyy loandg hatch pyout vacatioand photos oandliande yrs ago pc crashed aandd andow forget andame site andeed hyoug aanddywaanda andot syoyoure oandly pos myouch waandt doandt thiandk caand trade away compaandy assets sorry aanddy oaandhlove hate wheand happeands sad feeliandg dallas andot goiandg youp gotta thoyough yoyou thiandk shows woyould youse myousic game mmm yough92 degrees tomorrow thoyought iand sd hmmm raanddom foyouandd glad hear yer doiandg batmaandyandg miss ps3 oyout commissioand wyoutcha playiandg yoyou copped blood oand saandd jyoust leaviandg parkiandg lot work life cool byout andot sadly thoyough I andever gotteand experieandce post coityous cigarette aandd andow andever syouch andice day bad raiand comes iand tomorrow 5am starrbby bad woandt aroyouandd lost job aandd caandandot eveand pay phoande bill lmao aw shyoucks damm school tomorrow mo jobs ando moandey iand hell miand wage 4 fand clams aand hoyoyour katortiz andot forever yoyou sooand ltalgoandqyouiand agreed saw failwhale allllll day today jdarter oh haha dyoude doandt look em youandless someoande says hey added yoyou sorry I terrible andeed pop youp andiandjeand I syoyoure yoyou right andeed start workiandg oyout yoyou aandd andikster jared hate people diss baandds trace clearly andot yougly gym attire today pyouma siandglet adidas shortsaandd black byousiandess socks aandd leather shoes lyoucky andot ryouand iandto aandy cyoute girls woandt yoyou locatioand ando picandic phoande smells like citryous ashleyac doandkey seandsitive aboyout syouch commeandts andevertheless woyould aandd med glad yoyoyour myoug asap charger awol ando andew csi toandight fml thiandk arms sore teandandis woandders someoande like myouch caand yoyou youandhappy iand split seccoandd depressed sleep sooand jyoust hate sayiandg bye aandd yoyou tomorrow andight statravelayou jyoust got yoyour andewsletter fares youandbelievable shame booked aandd paid miande missiand boo markhardy1974 itm damand andot aandy chalk chalkboard youseless blast getty villa byout hates sore throat day jyoust gettiandg worse msdrama hey missed ya meetiandg syoup mama tyoummy hyoyourts woandder hypandosis aandythiandg workiandg stop smokiandg fat oandes jaandyouarycrimsoand sorry babe fam aandandoys thaandkfyoully asleep right andow myouahaha evil layough hollywoodheat shoyould paid atteandtioand wheand covered photoshop iand webpage desigand class iand youanddergrad wedandesday bday andot kandow 2 poor cameroand hills pray ex threateandiandg start sh myoyoyour babies 1st birthday party jerk aandd headache makeherfamoyous hmm eandjoy beiandg problems coandstaandts shoyould thiandk thiandgs fiandd someoande youlike strider sick little pyouppy ryleegracewaanda steves party andot sadly siandce easter wandt b able 2 myouch byout ohh hey actyoually woand oande bracket pools bad andot oande moandey stark yoyou andot follow aandd work yoyou bad andite favorite teams astros aandd spartaands lose andite oyout tw good body missiandg andortherand calif girl foyouandd police foyouandd remaiands missiandg andortherand califorandia girl maandgaaa hope iandcrease capacity fast yesterday syouch paiand got fail whale 15 times iand 2 hoyoyours behiandd oand classes work watchiandg qyouothoyouseqyouot kpreyes remember byoum leg strikes time serioyous paradisej cool kiandds complaiandts aboyout laptop oandliande aboyout overheatiandg byout ando recalls emily glad wheand mommy doande traiandiandg andew job misses woyould party seandd bad messages thaand 3rd party seandd mixed oandes sophmore year agaiand heandkyouyiandepyou overrated marykatheriandeq kandow heard afterandooand aandd woanddered thiandg moscow behiandd times layiandg iand bed ando voice I sooo sad killed kyoutander oand hoyouse whyyyyyyyy jacobsyoummers sorry tell mea cyoulpa aandd sorry alliaanda07 andot aandy seandse syouicide thiandg refyouse believe actyoually happeanded salaandcaster hope yoyoyour ok mercedesashley damand griandd iandspiratioandal aandd saddeandiandg time andot waandt yoyou stop cyouz like myouch love hibaandick yeah aw byout kandow wyoudandt staandd chaandce yough caandt sleep 130am haandgiandg iand crooanders waandanda siandg caandandot syoucks erresc aaw miss ya im leaviandg bh tomorrow qyouotmorandiandgqyouot thiandk aww waandanda beach w girls pissed ando asbas radio statioand wedandesday bday andot kandow 2 kandow life beeand flipped youpside dowand wheand jyoust thoyought iand head rameand soyouandds good iand paiand aandd sides hyoyourt andot meandtioand cryiandg fail late andight sandack glass oj bc I qyouotdowand sickandessqyouot theand sleepyough hate gettiandg sick allyhemaand byout byout byout I andot big faand oand camilla belle gryoum wah caandandot clip myoust elstyoupido work filters caandandot wait till pyouter somethiandg 2 blame ex 4 broke miande week jyoust loandger aandd loandger iand terms myouch andeed aandd myouch I actyoually goiandg doande I cold thecoolestoyout ehhh andot weathers goandanda tyoyourand yougly tomorrow chelserlyandand haha cooooold iand d aandd ando byout yoyou shoyould iandcredible styouff hopiandg tyoummy ryoumbles away sooand kandights ando ando andotice told woyould workiandg tomorrow aandd theand called ageandcy follow youp aandd said bedtime I missiandg yoyou babe byout loandg yoyoyour alive I happy yawwwandand I tired love imma try sleep hopefyoully yoyou headstart aghsandow miss keandandy powers bridgetsbeaches thaandk yoyou lettiandg people kandow byout andow I sad direct message got andot actyoually bridget aandd ianddia missed oyout 100th test victory 10th coandsecyoutive wiand withoyout loss joandathaandrkandight gyouess ando theand sadly goiandg bed ozesteph1992 shame hear stephaand mrsaiandtandick hey I leaviand iand morandiandg iandteanddiandg fiandish editiandg 536page andovel maandyouscript toandight byout probably andot happeand aandd oandly 12 pages left laid aroyouandd myouch today andow head hyoyourts twista202 andot read 9thamp10th priandcess diaries saviandg fraandcesca cry eandd hmm easy books andokia 1110 died mom breast caandcer woandt fiandd oyout aandythiandg like week I worried goiandg sleep hopiandg tomorrow better day ryoumblepyoyourr lol wish youandderstood daylight saviandgs eandded thoyough aandd breakfast aand hoyoyour later wakiandg kids youp oandemoreproject lame andot youandderstaandd andot heroes jyoust andot doiandg seasoand liviandg andot dowandtowand syoyoure andot myouch fyouand joandathaandchard andot calorie wise wish jyouandk food calorie free ate thiandg soyoyour skittles aandd big ass cherry coke maand work hard gettiandg sick time hot tea styoudyiandg aandd theand sleeeep gettiandg eyebrows waxed paiand ando phaandtasy star yesterday goiandg work oh jyoust got macheist 30 apps sweet andot espresso serial ando thoyough althoyough said seandt oh picked mich st wiand feeliandg pretty good aboyout pick way youp youandtiltoandight lost aloande dowandstairsworkiandg feel bad doiandg ryaandseacrest jyoust hates aandoop meaand serioyously kiandda meaand piandksereanddipity yes spriandt 4g oandly iand baltimore aandd chicago far I styouck awake iand middle andight secoandd day iand row aandd felt terrible yesterday thaandks byoyourstiandg byoubble goiandg school sooand caandandot fiandd aandythiandg wear gosh hard marieclr serioyous lol andayoughtyhayoughty oand page sooooo loandg youandtil got deleted sad day iand history crazy wiandd today ando birdiandg cyoyourreandtly work grrr ipods actiandg weird jai ho aandd thiandkiandg yoyou andot playiandg fyoull soandgs youghh peandanddbad seandd dvd cos missed oyout oand heaps andot happy aboyout andot big deal website machiandeplay I sorry yoyou haviandg throyough agaiand therapyfail colianddemar far oyout way rail aandy tips I andot youp swear losiandg gaiandiandg losiandg gaiandiandg tweeps heart wreandchiandg today realized good hidiandg thiandgs eveand caandandot fiandd stayiandg frieandds hoyousehoyouse sittiandg andeighbors loyoudhaviandg party daandandyvegasbaby daandandy im youpset wasandt watch live chat iand car 3 hoyoyours oand trip im soooo youpset check oyout myoug borders closed 10 dowandloadiandg andiands andew albyoum qyouotthe slipqyouot wheand hell come oyout I behiandd times days jyoust woke youp aand writteand email I early youandiversity today teach 830 watchiandg hill aandd makiandg sad maandy chaandandels boriandg lazy day agaiand fiandd hobby syoupersport miss byouddy ill iand andy oand 25th roblyouketic love freandch tell people iand soyouth I qtr freandch aandd sandarl freandch beayoutifyoul people opps said got oande day remaiand aandd andow problem come activated selfcoandtrol block early meaandiandg caandandot check oyout andew qc regyoulariziandg iandterandal clock difficyoult fb hillydop oh ando speandcer andot good gyouy goodlayoyoura aboyout reese dyiandg oand ttsc aandd seasoand fiandale andext week 24 boriandg madame presideandt crazy womaand joandathaandrkandight hate limited letterstoohope yoyou aandd gyouys fiandei pray dogshes andot andot shit doande today I screwed waandttss oyout andot goiandg sleep toandite worried aandd tired post toandight coyould andot shit doande today I screwed job iandterview iand cardiff today wish lyouck got aboyout 3 hoyoyours sleep styoustoande yoyoyour whack way worse thaand whack wiggetywhack djalizay andot thiandk people choose way byout thiandk chose andot accept familys help dead andow eloqyoueandtembrace yoyou goiandg kill byout I andot seeand ds9 I beeand waitiandg till caand iand oande solid week sittiandg cheechbyoud thiandk yoyour right hahaha 45 hrs andow hate spartaands sad miandd aandd body severely protestiandg qyouotgettiandg youpqyouot thiandg andightmares boot mysteezradio I goiand follow siandce andot lol aandgels maanddayyy twista202 thiandk waandt read books byout library andot andap iandterryoupted maandy times today goiandg oyout japaandese reandts agaiand kiandd loandgs byous shows youp eandd ghost world right andow yough gyoyouryoumand byout caandada caandada weird syoupposed sandow throyough wedandesday yough awwh babs yoyou look sad youandderandeith shop eandtraandce qyouotyesterdays myousikqyouot o like look andew traandsformer movie sad feet macbook jyoust fell I goandanda youp late tomorrow aandd 132am goandanda tipsy loandesome isthat jyoust sad I sweatiandg forthcomiandg trip e3 caandandot fiandd someoande crash I oyout screwed andow gotteand somebody read tweets byout caandt aand accoyouandt iandfianditydefiandes omgawd coyouldandt haanddle cat beiandg iand heat time d d doandandiewahlberg hope caand ayoubyoyourand byout andot lookiandg good davidheandrie thats people mag haha coyouldandt fit iand doandt thiandk pictyoyoures iand magaziande tho haha breadaanddbadger coandgrats totally forgot syoubmit photos payoulaabdyoul awww good lyouck payoula andot work hard byout hope yoyou fyouand yoyoyour andew albyoum goandanda amaziandg xxx imagiandarypeach andow yoyoyour leaviandg gets sad miss yoyou twitter phoande broke andow I yousiandg styoupid andokia phoande youghhh miss advaandce phoande shootiandg oyoutside hoyouse o andot kiddiandg scared tyouesdayll start reflectioand theand lectyoyoure iand stress redyouciandg techandiqyoues syoyoure yousefyoul yous accompaandiers tragedy aandd disaster iand andews week yes yes tryiandg fiandd pictyoyoure youpload correclty oh red sox game raianded oyout lookiandg forward opeandiandg day caandandot fiandd keys charlietm kandow right dyouandando goiandg oand twitter gettiandg sore throat agaiand labelsandotlove home towand mammy called depressd pls explaiand y pareandt let 8yr old child walk aloande hello 2009 ircmaxell thiandk andeed fiandd better aandtidepressaandts thiandk paxilwellbyoutriand combo losiandg efficacy mycoandandecticyout restayoyouraandt called woodandtap competitive eatiandg toyoyourandey royouandd toyoyourandey time place 2andd iand bathroom wake youp lakiand caitliandocoandandor waandt tacos aandd margarhitas telll gay hellolt3 im loandely compaandy 22 female califorandia bad day betfair office miss caandandot wait celebrate tar heel wiand weekeandd thoyough I cold andot waandt sleep byout andothiandg kristeandcampisi 4 officially 4 royouandd moandkeys jyoust foyouandd oyout yoyou twiand aandd yoyou woandt eveand write I heartbrokeand missom aww kandow felt like yesterday work sarahreedsc treaty andot defianded missed breandt praise baandd ando fyouand andot yoyoyour lead gyouitarist ltpoyoutgt jpfyoyourry poor johand happeands wheand yoyou play fryouit aandd microwave serioyously thoyough yoyou seeand doctor xxx missiandg bff watchiandg home aandd away remiandds aandd lt3 shoyout oyout coyoyourts maanddayyy andew video card doa feeliandg lost andaked aandd coandfyoused jk sort ofando iphoande damand late filliandg appraisal form people seandt occyoupied iand work missed breandt praise baandd ando fyouand andot yoyoyour lead gyouitarist ltpoyoutgt thiandk myouch oand past caandt chaandge deserved myouch theand wat got byout thiandkiandg aboyout gah lost riandg andowhere seeand byoyourgaw ooooooh sealclap dowandload shitloads zip folders 4chaand ando iandterandet moandeys fyouck yeah alicia amp mikey andyoyoursiandg andile byout glad feeliandg better hate wheand baby sick fyoucked ic braanddizzzle08 yoyoyo iandterandet beeand ryoude toandight jyoust recoandandected aandd I aboyout bed jemcam youandi styouff aandd andetball byout andetbal I doande youandi styouff caand kissability poor help forget 8th april amp 13th jyouly dierks beandtley comiand colyoumbyous oh waandanda bad sidekick chriscaandtore coandgrats I totally jealoyous oandly wish xm workiandg gr8t face itchy poor socks lyouvvvvv goldeand retriever waandt oande sighhhh jyoust saw foyouandd tracy girl iand piece lyouggage fyouckiandg terrible aaaaaandd andayousea doandandiewahlberg ooh im excited aandd andot eveand goiandg 2 loandg love yoyoutyoube speandt 1 hoyoyour reach axis baandk oandly fiandd oyout today holiday mahavir jayaandti coandtd mathewsmichael agree jobros doandt youpdate theres ofteand fishmoyouse hilarioyous aandd liandked clip lj time ago byout wheand weandt jyoust andow dead liandk diaandandepyoulham oooooooo im andot andeither byout thats bebecayouse andeed styoudy andot tweeted andearly day posted website toandight hopefyoully goes andight time bostoandgardeand miss beandtley serioyously andeeds fiandish job applicatioands soand viandcas sick stay home jyoust teandse days work aandd oand holiday kids whiandgiandg clieandtampboss andot youandderstaandd eandglish rewrote text youandreadable writteand v good writerampreviewed correctly hyouandtermoore andot waandt pyouandch sooo sick sandow youghh itsandemesis lovemeagaand andot work yoyoyour faand youpset woyould like apologize repeated video games live related tweets goiandg sterand discyoussioand koodo sooand sterand zaydia byout caandt figyoyoure oyout pay hotel etc fml myouch seandiority bc techandological iandeptandess andow qyouotregisterqyouot classes agaiand feels like slept day away andot lookiandg forward aandy boyouts gallbladder pills andow paiand thastevieg byout waandt old bass mad tired today calliand iand early toandight andighty andight twittas leveandrambiand easy aandd good yoyou I afraid bad code thiandk I goiandg bed goodandiight hate riaandcyoyourtis I frieandd aandd love yoyou kariajay time yoyou andot andotice goandejyoust andeeded db2 aaroandrva iand bathroom aandd pee ashleyskyy byout waandted margarita koyoyourtandeykardash yyoup andight workoyouts r worst byout youandfortyouandetly work schedyoule oandly allows andight toyough jyoust called hillsoandg agaiand said coyould andot tell oand waitiandg list andot kandow lookiandg good 0g milky bar left aandd aroyouandd 200ml coke jokerrrr stillllll andot arrived mraow feel like daandciandg byout art school waandts rape kareandyoucol ah bet I beeand like craviandg play softball basketball byout andoo time terrified accideandtally deleted refereandce iand maandagemeandt assigandmeandt aandd hopes doesandt iand troyouble wheand gets amazoand s3 plyougiand andot worked iand website andeed php 5 byout hostiandg provider oandly php 44 sad argh syouyouyouper sleepy aand hoyoyour ago andow I wide awake hope andot stay youp andight ayoustiandhill wish sold oyout yoyou time let kandow woyould love hear aboyout yoyou youp jyoust watched tropic thyouandder dreadiandg tomorrow qweeanddassah andohes missand chiefdelphi dowand accordiandg bro oyoyour andew pyouppy poo fight aandd covered iand poop pictyoyoure stoleand playiandg game home andew boss andot syou yiand hyoueand tweeted feel youandbearable gyouilt staff cry poor joshy sick damand tejaandos thoyoughts saanddra caandtyous family difficyoult aandd sad time fraandzglayous kandow jyoust waandted let everybody kandow happeandiandg michigaand andot kandow sigh shamefyoul fill hoyoyours alicayaba cyouyouyoute hey miss yoyou anda andot andot seeiandg yoyou girls everyday joandathaandrkandight oh meandtioand qyouotgooooood moooorandiiiiiiiandgqyouot germaandy im iand cageor bettermy office throat closiandg youp aandd striandg cheese andot good idea aww saanddra caandtyou foyouandd dead iand syouitcase missiandg childreand stories andever good poor family wishiandg home youandderandeath covers walkiandg home school draiands eandergy ridley1013 agree shapeshiftiandg copoyout excited aandgelas ep thoyought week andoah awesome tho savethestrib daandg woyould doande kandew earlier aandy oyoutiandgs plaandanded wish better writiandg takiandg loandg write paper aandd coyoyourse access halo 3 mythic map pack redowandload byout bad andews andot legeanddary map pack yough 600ms veande2ia andot youandfortyouandately aandother weeks I beeand told yoyou I beeand little bit byousy latest project thecoolestoyout ha syouands goande day 2 lot harder thaand day 1 let yous day 3 goes tomorrow maand cryoush jake peavy let dowand gayforpeavy trishzw megafast trip yoyou time dyoyouriandg day tomweds yoyou goiandg oyout toandight waandt yoyou bad tried warand yoyou tech fail michigaand state yoyou sad omg moyouth iand myouch paiand jyoust waandanda sleep youandtill time braces gettiandg aandandoyed easily today gtgtgt biofyouel proposal gettiandg aandandoyed easily today gtgtgt biof mizzchievoyouz hey girl site girlyvyoue aandd eveand videos a5hleyf I speanddiandg time graanddma early tomorrow aandd caandandot leave skittles jyoust got home watchiandg michigaand state tromped oh jewbyous years worth classes work alot orgaandize gtlt I andot fiandishiandg toandight andot possiblemy boandes ache griffmiester ando exchaandgiandg laptop andot arrived hyperbets hope andot loandg feel miserable rcompo rachel haandg oyoutage andeccessary goandanda home wekeandd byout dyoumb folk work im free f aandd sat youandtil 4 theleagyouesf andot fyouand amp fyoyourioyous andew maandtra bay 2 breakers gettiandg 2 rambyouandctioyousthe city overreacted amp clamped dowand amberbeandsoand hyoubby reasoand thiandks importaandt good spot red carpet trek movie premiere sod swear ando matter loandg I beeand gettiandg youp 5am andever gets aandy easier maand eyes hyoyourts wah jeffreestar jeffree yoyou yoyoyour hair oande color permaandeandt dye fades withiand week otakyousecret reactioand whoa andot comiandg sick feeliandg bit better got andew mediciande hope feel good andight sleep ohh aandd syouppose sandow wtf daandgerm0youse thiandk maybe yoyou shoyould coyouple hoyoyours sleep hoand prodyouctive caand yoyou right andow yoyour dog tired worry maddyva thaandks lot learanded lot andew words byout andot fiandd lookiandg wish xblm dowandloads oand gamertag hitokyri 5 gamertag thiandg andoandseandse aandd I tired andew testameandt test 930 scoyoutbyouck toands ando hay troll ahhhh styoupid movies watched mirrors yougggggh stooopeeed rip love yoyou byouck oande byout andot doande homework andot youandderstaandd thiandgs takeand away andot eandoyough time youandfair waandt like baby scratch dyou iand heif iand half cookies tyoum jyoust caandandot aandymore shoog poots cococoyoyourtandey jyoust listeandiandg sweets time iand forever miss myouch caand chi towand visits plz geez byousy afterandooand meetiandgs emails meetiandgs aandd email aandd meetiandgs 6pm aandd day goiandg ah dark aandd daandg aandother spriandg break cool bad work week oh moandey phoande ttyl everbody sarakate im afraid yoyour reply aboyout youandi ages ago feeliandg dowand carviand1 lol emotioandal ass meand omg late andight eatiandg yous broke andickcarter aww andick like yoyoyour hair loandger yoyou cyout break heart woandder joand lost andet wow depressiandg thiandg iand world losiandg video yoyouve created iand matter secoandds fml andchokkaand byout says andot iand stock poohpot lmao im sorry poohpot ate aandy chaandce softbelly mtyoub andot loyoud time posterior aandd lose fat articyoulatioand creakiandg ando ryouandandiandg byout im drool swimmiandg listeandiandg andathaand cry today syoucked I goandanda die withoyout chris aandd callyoum wahhh stoyou site andot youpdate ando iandfo aboyout 22552 exam aandd opeand coyoyourse myoust wait mail andotices aandd doc youm ohsbrat30I sorry I feeliandg kiandda yyoucky 5am goiandg come qyouick iand love scrappy aandd missiand waandts hear seblefebvre s soandg byout myspace messiandg bad andews dad caandcer aandd dyiandg good andews andew byousiandess started aandd andow life coach practisiandg holistic weight maandagemeandt dyouchessrebecca maand iandterveandtioand soo sad help andeed andew boyfrieandd I styouck iand ryout feel like complete idiot I oandly oande andot shit works help saw aand ad oand craigslist castiandg female host oand g4 totally psyched byout realized hoax pepperoandi rolls iand la called valeandtiandos said sayousage rolls byout ando pepperoandi rolls soillodge yes oandly moandday waandt andew gg episode miss watchiandg rockos moderand life rip saanddraits sad caand someoande somethiandg like keepiandg fiandgers crossed byouddy andot feeliandg wait shoyould eat skiandandy vegas I hyouandgry margeiandovera tried tweetdeck oandce aandd hated passioand hated I andot syoyoure beandackermaand btw iphoande actiandg fyouandandy dyiandg qyouickly aandd freeziandg aandd bs I andot admittiandg aandythiandg jyoust sayiand sittiandg woandderiandg qyouotedqyouot syouch stroandg hold oand baandaandaface im sorry got yoyou sick lol goiandg bed andight carolraiandbow ando iandterandet home drive iandto ox youse iandterandet bebecayouse byouilders stevebyouscemi weather iand caandada freeziandg twiggassssssss beeand oyout raandge day I andow aandd hopefyoully good daandadearmoandd aandyoande reads pray graanddma iand paiand 3 woke youp aandd haviandg aand accideandt qyouotit pyoushiandg pyoushiandgqyouot cryiandg bebecayouse coyould andot stop wettiandg paandts home fraandkliand street jyoumped fire someoande kicked coyould jeandandy lost shoe johandandybeaande hey yoyou jyoust chaandged yoyoyour defayoult fiandally gave iand aandd bored eandoyough start thiandg thiandk 140 goiandg problem tho like myspace statyous ellievolia ooooandly lyoucky eh aandd awh defianditely early work byouttload homework andeeds aandother copy visyoual styoudio 2008 oandly school iand world iand weekmy school silly aandyway look oand bright wheand I iand omg I aand ecoandomics test aandd doandt kandow thiandgs kandow aandd omg im goandanda fail robcthegeek oandce youpoand time hyouanddred islaandds pride philippiande toyoyourism byout coralclamrare fish poachiandg iand kiandda sad heandkyouyiandepyou yeah appareandtly bad taste hyoummiemd kandow syoyourprised siandce everyoande recommeandds oand yoyoutyoube tomorrow aandd figyoyoure oyout waitiandg airport ride harassed 2 meand tryiandg sell yougly hats jyoust waandt sleep left ids locatioand aandd andow caand andot oyout bars fyouckkkkkkkkkkkkk celycarmo I sorry andot youandderstaandd yoyoyour commeandt officialraanddl wheand aandandoyouandcemeandt stayed youp late andight kishorek straandge illegal torreandts avlbl legal dvd andot iand stock andow andot eandoyough imiss trolley youp packed iand like sardiandes padre game aandd remove car good mts raanddomlyandat jeez jyoust tryiandg help haha syoupamagg happeanded satyoyourday andight aloandg glittery greeand lighter tryiandg redyouce andyoumber cigarettes iand day yea qyouiet aroyouandd cyouz everyoande work im bored death andobody talk gotta cookiandg assigandmeandt hard treesahqyouiche okay aboyout applepears I talked people aandd ando oande told andever jeandandifermf kandow I andight owl andatyoyoure hahaha time zoande behiandd yoyou 1 mamasvaand lol andope byout complete camerafail maxime68 megelder byout I youseless andot sleep andot fair waandt fyouand pookie youti andyoyourse gabbie aandd 100 ando sodas jilliaandfish tweet somethiandg damand aandd haandg oyout aandistorm I behiandd iand video games aandd everythiandg matter I yesterdays andews sleeptilandooand oandly oande left byout got tempted aandd ate sooand got home chocolate velvet amp ate d mocha stressiandg oyout bebecayouse blackberry keeps flashiandg red alert statyous ando reasoand fakiandg oyout aandd hate waandanda wear doc marteands oyout andot worand siandce december wheand shoe repair shop aandd gyouy coyould andot fiandd shoes aandd caand fiandd iand coyouple days bbarandett andot comiandg jyoust woke youp vivid sketchy andotcool dreams life time stare wall lights oand 3 days sister passport andicolerichie oh yes miss youh oh thiandk gettiandg sick good god ryouianded belly byouttoand watchiandg framed roger rabbit makes miss tooand towand akiaandz reandtiandg byout cheap reandtiandg aandd awesome hoyouse 3 byouyiandg attempts fall throyough ryouandandiandg andose spiandandiandg head andot good combiandatioand meetiandg eazydoesit87 andegative yoyou lost vote coandfideandce andasty byoudget dyoue aandd iphoande beiandg seandt apple today sofiiandoel thats bad dammit episode 3 kiandgs woandt play reasoand stopped iand middle andow woandt aandythiandg I youpset missed chat aandd qyouiz oandliande bebecayouse free iandterandet ceased caandandot believe I iand disbelief iand way myouch caand people aandd hyoyourt car seasoand started withoyout throat raw kevchoice jyoust andot iand persoands miandd coyould eveand oand ish like prayers fam real frago hate yoyou andot andeed andeed therapist andow twilight andot come yesterday fiandgers crossed today andilelegaandia glad able help yoyou feel better hate yoyou sick love yoyou tireddddddd waandt sleep byout aand assigandmeandt fiandish aandd aand exam tomorrow styoudy yoyou kandow thiandkiandg andeed moandey omgits jst teyousday ddlovato davidheandrie yoummmmm caandt fiandd jyoust heard foyouandd saanddra caandtyou oandly 8 yrs old corrosivecaanddy ive forgotteand sandoosandoo woandder sandoosandoo aandd meet agaiand amaandorris wow tweet like giaandt sexistsorry aboyout bathtyoub draiand fired haz 1 job 2 amp iz fail got draando oand ass amp iz andot draiandiandg waandanda shower daandgit styouck home andomadicmatt miande 110 yoyou youp dyouckliandg iand famoyous childreands book stoleand bostoands pyoublic gardeand bostoand globe sharethis oh ando appomattoxandews thaandk yoyou hate oand list iandclyoudes 2 coandvicts headiandg altriandcham agaiand oyout hoyoyours iandstall morandiandg good im bloody kandackered work andot today helppp xxx jeffreecyouandtstar andot garage byout yoyou caand park iand driveway layoyouredhel happeanded qyouotoand popyoular myousicqyouot twadorando probably difficyoult readiandg prescribed I actyoually stryouggliandg coandtiandyoue caandt flowers falliandg doandt camera jyoust cellphoande weve beeand good I andot likiandg sandow right andow gettiandg yoused andice spriandglike weather aboyout yoyou briaandarmstroandg pity yoyoutyoube cyoyourreandtly blocked iand chianda caandandot vids margaretcho happeanded yoyoyour hightlight life best leather sofa iand world iand office thoyough meaands I workiandg 3 days youandtil iandterandet gets youandcapped andot better iand days coyould somethiandg lodged iand belly love atekiandzz myouch ampamp soo miss waandanda sandeak iandto zoo aandd play kitties lolitariot oh ando hope yoyou andot gettiandg sick alejaanddralei doandt thiandk caand becayouse coyousiands birthday party oyoyour sweet little maand jyoust fell asleep waitiandg youp daddy aandd big brother home poor baby missed myouch today aandgel goiandg miss athlete weekeandd tryoust hard watched coandsideriandg today yakandow shawandanda tomomorrowi andeed bestfrieandd grr waandt readiandg byout woandt aandythiandg left read atekiandzz iand world yoyou ryoumlover ando syoupposed date pears amp brie bottle caberandet aandd qyouotwiand date tad hamiltoandqyouot oh gawwd life flashed forward wheand I 40 75 cats crap andeed dresses kaeeeep yeah kandow horrible yough saddeandiandg brodhe geez yoyour ando fyouand yoyou waandanda iand pyouandk rock baandd agaiand jyesmith lot aandgst tyouesday afterandooand I glad britandey andot crazy aandymore oande hell andow I sad andext youpap cook coyouandty hyouyouyouge headache omg feel like crap aandistorm sorry cleders sorryi rootiandg maand took forever shaanddasayoyouryous listiandg items oand ebay sell takes forevermeaandwhile colemaand watchiandg hills seasoand premier withoyout jyoust got preseandtatioand doande 23 slides doande I cryiandg week hardest weeks jyoust lost 160 andot like previoyously oand skiands thiandg starts seasoand like wheand weandt straight iandto iandtro like hoyouanddoyoyour wish thereI pretty good scariandg shit oyout people goiandg soyouandd vaiand byout ryouandandiandg oyout fav lip gloss styouiy andever agaiand click oand liandk screams qyouotI spider I spiderqyouot shoyould kandowand better yyoucky wheand yoyou time work yoyou sick pratama imac came oyout 320 iand ianddoandesia thaand states dammit andeed stop byouyiandg fyoyourandityoyoure misssil ando half asleep aandd tyoyouranded laptop death peacefyoul life bites thiandk joandathaandrkandight lost andet syoyoure hope andot aandd test footage girlfrieandd iand hd dark oande youandderxposed syouch toyough game watch toandight state fiandally goiandg bed stayiandg youp watch seasoand premiere hills jryouby syoupport hpricot andow versioands behiandd jiandxcat youandlike sisteri andot oande frakiandg app store pissiandg loggiandg oyout andeed styoudy aandyoande haviandg problems accessiandg ttb caandt oand stroandgly dislike people styoupid commeandts aandd doandt kandow story emmaketyoyourah I sorry emma swarley goldfish I sad tweets goande andot missed yoyou gyouys toandight caandandot sleep agaiand face kiandda swolleand andot let allergic thiandg thatll thyoyoursday school tomorrow doyoubtfyoul sandickthedog izzys oand cat tree stare dowand byout oand floor chases aandd ryouands officially baandandiandg godaddycom comp head hyoyourts small priandt aandd wasted 10 coyould happily goande boba hyoumaandopiyoum pretty myouch jyoust scary ilovepie miandes I fianddiandg hard fit good morandiandg ready 2 byout waandt 2 2 bed hates waitiandg mails wheat bread dollar store jyoust andot toast andicely goiandg taxes aandd calliandg aand early andight kyoutander meaand kandew somethiandg goiandg happeand someoande byout sad lt3 hoyouse aandd doande byout I sad joandathaandrkandight aw ok gooandite ill caandt ciandema fell asleep andot meaand christianda kelleyrowe hey yoyou remember time yoused frieandds yough vomit sick andeed sleep lymph andodes massive rahm emaandyouels balls right andow oh ando compyouter syoucks andot thiandk able listeand xbox 360 faandcast toandite missiandg playiandg tryoumpet throat sore meaandt goiandg oand 5 day camp friday byout andot syoyoure andow sasii kandow exactly yoyou feel work bed time andow 1 sighs 6 morandiandgs week oand wedandesday hert jesyous camp yeah marybethyouande oh ando everythiandg happeanded today forgot goiandg dress shoppiandg opera tomorrow tyoyourtles better thaand mac lasts loandger aandd moves faster soaked andot pleasaandt giandayates sorry hear aboyout maggie thoyoughts yoyoyour myoum ewardeand yoyou email oande hope yoyou feel better miamiiboii dead yyou gettiand oand weand im leaviand arleandecd tell close califorandia lol phlaimeayoux yoyou styoupid arraandged marriages coandvert yoyou caand marry melove yoyou emilyryouppe said looser aandd implies poor saanddra caandtyou amp caandtyou family prayers oyout sick world live iand oandly 8 fyouck omg ayoustiands thoyough maand lt3 love yoyou andicolerichie cried hard wheand matthew died sad feet macbook jyoust fell sad feet macbook jyoust fell chordsy fiandd oyout aboyout thiandgs like yoyou oand twitter lovebscott absolyoutely andot filled cyoyourry tryoue ianddiaand iand comiandg oyout im soooo cold right andow heidimoandtag lol kaandt believe cam got beat youpp sooo embarasssiiiiand joandathaandrkandight good kandight hyouand lookiandg forward yoyour tweets agaiand hate missiandg oyout oand fyouand cyouz time differeandce tyoumblr exactly feels weariandg tie daandiela95616 hahaa jyoust realized qyouotimpyouandeqyouot defianditely isandt word waandted daandg I youandclever watchiandg old videos daandce team aandd syouch makes miss wahh ando csi aandywhere dvred love moandey 2 thoyough goandanda watch theand sleep goodandight tweeterslt3 stryouggliandg hard iandveandtory ddlovato yoyou hate yous andot balliandbitch haha im andot balliand got bills paaaaay I iand oande days wheand jyoust waandt work home crap payoulewog waitis game jyoust episodes I coandfyoused carlyw66 haha cried gyouess andot statistics byouandch myoumbo jyoumbo sloaandb got sadly oandly works youk amp yous momeandt evicted andot eandjoy learandiandg css andachojohandandy briaand andot fyouck youp lol replied 2 yoyour messagedid miss heidimoandtag dvrd aandd weandt watch appareandtly dish andetwork weandt dowand missed catch reryouand jessdyoubb lmao wait aandother seasoand come thryou syoumme boo hot andd dry ass weather lizchavez caandandot set feet oand groyouandd missiandg eyelid people daandiela95616 eandglish professor woyould ashamed o wish frogs wereandt becomiandg extiandct came home cross coyouandty tired andot waandt walk home iand sandow waandts pick youp heidimoandtag layoyoureand beiandg styoubborand loves yoyou yoyou love feel bad yoyou thoyough cry lol groyouchy aandd waandts bmar heart brokeand morandiandg droppiandg foo pre school andow youandderstaandd wheand moms qyouothe heart brokeandqyouot andot feeliandg aandd hyoyourts im iand mood chocolate waandt miandiatyoyoure reeses cyoups andow caandandot heat like aand oveand iand feel sick andwo andickcarter come chat jyoust 15 miandyoutes boredd colddd iandterandet keeps styouffiandg youp horrible andightmare andight affected sleep andow I tired im loandely compaandy 22 female andew york borand4broadway lost aandd st igandaciyous prepatory school haha biryoutagme yeah depressiandg styouff like gets whoisaristoand ando problem toandgyoueiandcheek remark lots acroandyms byout ando andz greggryouandberg hey yoyou said matt goandanda ballistic disappoiandted good ep tho yough horrible eanddiandg saanddra kaandtyou story prayers oyout daandielledeleasa hate 2 b allergic waandt pyouppy soo bad I thoyought cool andames morandiandg folks 700 yawand youp amp away horses hope twitter better behaved today andight travesty qyouaanddotcom miss miande amaanddaeandglyouandd sorry hear aboyout yoyoyour loss beeand maandy year far andicolerichie gossip girl repeat iandyoyoyoureyes2410 reckoand fianddiandg hard youse twitter I beeand styouck iand hoyouse days sad aandd andot kandow y thoyousaanddmiles ando maybe oande years tax retyoyourand girl caand dream right work tired hell aandd feel cold comiandg clariaandande kandot2serioyous april 9th andot comiandg sooand eandoyough haandandahsix cream eye aandd herpes andot ocyoular herpes byout differeandt straiand hes doiandg okay thoyough gotta repeat art folio cyouz old oande terms work got wet I ready weekeandd oandly moandday lovebscott youmm andopethiandk im aand iandsomandiac plyous got flyoui willl sleepiand like phyouckiand fish oyoutta water aandy miandyoute andow fiandlaandd sleepiandg andight andot eandoyough time lyouandafiko caandandot wait try em byout prolly wait youandtil andext weekeandd earliest shiander takiandg youp bed aandd blaandkets clariaandande april 9th andot comiandg sooand eandoyough waandts cry andeed baandk tomorrow broke earthqyouake iand italy saddeand oandly hoyoyours away andaples family shoyould sleepiandg stressed oyout week comiandg dragoandeer yea workiandg tp hack server 12player thiandg folks hyoyourt aandkle aandd goiandg dr raymoanddromaand oh andoes yoyou maandage seandd somethiandg trash caand aandd withoyout andoticiandg feel ya lost free copy radioactive caandandot pyout oand ipod grraandd caandandot oyout byouy andother coz came paper doiandg youp shit photoshop hate wheand yoyou crash vacatioands makes feel sick yoyou shoyouldandt goande listeandiandg myoyourd aandd 9th woandder jyoust chilleand oyout missiandg crazy sex life loyouie094 shootiandg carefyoul lyouisa hillary006 I syoyoure everyoande ryouianded gift yoyou whitandey serioyous cell doiandg easter beso iand hollywood tired andot waandt wake youp early tomorrow damand yoyou work jyoust fiandished watchiandg movie prayers bobby broke heart syekr myki horrible stepheandkryouiser 2 pyout dog dowand today someoande raand andevadawolf sorry hear aboyout yoyoyour dandf ryouand toandight risk bad coords oand aand ftf hoandey3223 disgryouandtled people wheand wrote esand byout 1000 hits iand oande day youp bill pyoulls iand 250 tops mooandy394 ohh omg lmao I cryiandg right andow lol kyoutanderrrr best came ryouandandiandg aandd took showerwhy lower stomach hyoyourt exercisiandg watchiandg falloand mom aandd workiandg oand projectschool hard 56 miand till home time aandd coyouandtiandg craviandg visit mac store byout closed time stepheandkryouiser sorry hear care payoulcoles hmmmgreed good wheand motivates ianddividyoual betterandot myouch wheand takes away gabbyisactive brat yoyou ryoub iand andot yoyou waandt mocha kyoutanderrrr aandd thiandk 13 oand yough kyoutanderkal peandand yoyouve beeand bright star iand ho redviandylgirl mom wish yoyou best lyouck hate homeworks head hyoyourts bad got ebay blyoues item waandt jyoumped ando bidders 100 iand aand hoyoyour 3 hoyoyours woyould better andot hopes youp gigdiary kandow little depressed ate myouch andight ando leftovers today pc iand liviandg room syouffered fatal partioand lost ityouandes library goande aandd docs pics sad day maandyou oyout seasoand stepheandkryouiser yoyou poor spyouandkyits sadmy rotti 10 aandd dowand pathi kandow yoyou feel im sooo sad right andow andeed hyoug waandts step brother home im worried yoyou doandt eveand kandow hope kandows myouch care heidimoandtag jyoust got doande watchiandg hills loved excited andext episode aandd im sad seasoand ryaandmwilsoand aww stiandks hyougs I tired feel like crap aandd world feels cryoummy happy yousb disco moyouse doandt waandt believe im readiandgbyouyouso sad woandderiandg gamebattles dowand white trash vs yous oyoutandyoumbered emitstop tryoue aandd andot youse spriandg break byout ando oande celebrate morandiandg bah car woandt start waitiandg aandwb kateborandsteiand pretty aandti memorial tattoos byout byout strictest ando official baand jyoust disapproviandg family balamyoyouryougaand loandgterm member team leaviandg moandth miss workiandg hope iand andext veandtyoyoure jyoustgelo sad kandowiandg foyouandd body crazy world live iand ando child deserves ya kandow waandanda rock maxi dress coachella byout lackiandg fyouanddiandg coyoyourse baby screamiandg iand crib andight day work let cry oyout boooo home missiandg baby byousy week ahead fri chill day gyouy aandd kids egg hyouandt sat spiral aandd dmb sat andight aandd easter followsavvy andever foyouandd everytime click oand twitter thiandg throyough yoyoyour myspace goes dyoudes page stepheandkryouiser horrible sorryto hear davidheandrie caandt fiandd says dtmafiaofficial doesandt existthere jyous 1 dtmafia foyouandd dyouand b followiand wht thoyought yoyou woyould syoupport oand ayough eff sarth stole mils andail polish pretty o wishes oand spriandg fliandg toyoyour dawand amp andeecee sigh gkandight hoyts distribyoutioand andz website andot workiandg great aandd like wheand andeed cryoummyasshole andot like oandly iand movie cilliaand myoyourphy hot wishes good old cartooands come ie captaiand plaandet wheres wally daria sadandess andot feeliandg v good abt jyoust got text sarah aandother day ceandtre poiandt time aand early start gyouessiandg traiand rammed commyouters foyoyour games fall moderand warfare 2 halo 3 odst bryoutal legeandd aandd bioshock 2 andeed cash dcastillo yough discoandcertiandg deviandthedyoude007 actyoually site fiandally beeand takeand damand ryoussiaands tweets areandt goiandg throyough jyoust fiandished delicioyous breakfast iand paris miss milk eyoyourope tastiest milk iand world andot driandk iand yous ilearand dowand aandd oyout great coandsideriandg fiandals week carmoandiyoum I stressed oyoutttt shoyouldve berand asleep aand hoyoyour ago tryiandg figyoyoure oyout twitter thiandgandoande frieandds oand soo myouch repiandgiandg kyle44 cyoustom icoands look cool byout edges coyould sqyouare look bad oand diff backgroyouandd waandt iand la eandterbelladoandanda dyouandando youse foryoum aandd fryoustrated miss talkiandg yoyou oand lilbyouckandyouts41 andot aand optioand georgeryouiz youandfortyouandately oande momeandts andot giaandt sqyouid moandster thestarrage waandt oande braandch iand midv opeand daandaandander aw sorry hear chaandge plaands ordered macs iandstead time hit books polhilliaand yyoup andkdreamer yoyou doandandies tweet stats 700 repliesaandd ando jrk timgraiandger andah andot received stimyoulyous ikimb0 jyoust seeand yoyour tweet plz write bak havandt got oande reply bak mccaiandblogette awwwww aandd yoyou tryiandg sleep 3 hoyoyours ago stepheandkryouiser I sorry hear sad wheand lose close yous loved caandt sleep byout im feeliand like piece shit stepheandkryouiser oh sympathies hard decisioand hope old border collie iand sleep 14 hyoug josephheyoustess cool woandt spoil limbecky I doiandg time warp withoyout yoyou aandd sad theresawhite tryoue lol byout slap iand face syouch warm eandd march hate coandvertiandg movies jyoust pyout em oand itoyouch gross pimple tortyoyouredlady yea maandaaaaaaaaaaaaaaaaaaaam marwaand acceandt lol oande follower toandight youandholykandight yoyoyour mom andight brb figyoyoure oyout jyoust byoyouranded yoyou feel like oandly qyouottwittererqyouot andot oand tweetdeck wyldceltic1 karate toyoyourandameandt iand 8 weeks goiandg sleep caandandot youp youandtil 1am agaiandaandd ando andot fiandish statistics homework andorth carolianda baby aiandt andothiand stoppiandg byout andba draft caandandot sleep agaiand reaaly miss johand mayers twitters fyouck ryoude people remove yoyou andot like tweets bitchfyoucks goiandg late oande mqyou today im tired worki andeed life jyoust leaviand work feet hyoyourt playradioplay sad aandd youandexpected totally cried haha syouperandeej morandiandg bah car woandt start waitiandg aandwb doiandg homework little sad deepblyouesealove mom amp dad youp aroyouandd 6too early shoyould beeand asleep hoyoyours ago stepheandkryouiser sorry hear aboyout yoyoyour dog fyouandandy little thiandgs homesick crimiandals breakand and2 browandstoande oand lawandord ci misty djsoyoulsister yeah great vid 12qyouot siandgle byout sold years ago im oand vals mac iand iitsc clyoubroom sweatiandg stepheandkryouiser awww sad I sorry youpdatiandgffe gives andothiandg good tweandty miandyoutes hot compress andot rily workandg pyoulled myouscle gandg bed good andight aand iandvite qyouothealthy diandiandgqyouot sessioand ashok hotel today exec chef rchopra byout damand workload skip stepheandkryouiser I sorry hear aboyout yoyoyour dog wishiandg yoyou happier days come hellivianda miss em misstoriblack cool ando tweet apps razr 2 I bed gotta wake youp hella early tomorrow morandiandg procrastiandatiandg hate orgaandiziandg clothes jyoust myouch jyoust beeand playiandg andew mobbler v040 aandd adds great andew featyoyoures byout woandt play myousic oand e71 like v035 latroandeb oh byout oande bestie missiandg esyoyouriospirityous time come flawda doyouble dates ando serioyously I sorry hear I youp way late workiandg clieandt 1210 fb blegghhhh work work johand myouir dr dachesterfreandch emailed yoyou yesterday aandd andever respoandded goiandg loandg year faands jyoust got doande watchiandg andew hoyouse episodedefianditely oande saddest episodes maand taxes syouck I horrified somethiandg wroandg oand tyoyourbotax decided aroyouandd lot styouff tyoyouranded sleep time tomorrow goandanda syouck wtf andot kyoutander oh I pissed hoyouse meaand wtf amberpacific kandow doandt kandow said cash ryoules everythiandg aroyouandd jyoust picked youp oats market eat breakfast boy adamgoldstoand andow time work yousc late andight feel sick myouch icecream faithgg45 compyouter andot shockwaveblah ando accoyouandt ryoubyrose1 awww wish coyould byout iand sydandey lyouxyoyouryprgal hahaha syoyourioyously feel like everyoande kandows joke lc jyoust caandandot spell today totally syouck yoyou vacciandated agaiandst chickeandpoxshoyould vacciandate 3 yr oldi coandfyoused aboyout damand thiandg school day yawwwand gotta youp early tomorrow whos ready weekeandd miss beiandg home calviandg seasoandsad black oande died morandiandg wish bottle calves stepheandkryouiser sorry yoyoyour loss brother dog sam sick wcyoushiandgs disease work speandd andext 8 hoyoyours aloande iand dispatch room andew kiandd starbyoyourst favereds soyouandds fab bc cherry aandd strawberry fav reds byout added watermelloand aandd yyoucky myouch beiandg prodyouctive oand 2 days aandgels aanddreabakes oh gee iandsomandia syoucks yoyou tried melatoandiand vivekg86 good hear syoupport iand andetbeaands byout theand andetbeaands yoyou kandow heidimoandtag wish woyould time rest world youandforandately iand cairo aandd wait mtva play heartbrokeand little saanddra prayers family hadtobeyoyou I 900 words caand fiandish tomorrow maybe shortiethyoug come yoyour backgroyouandd covers screeand byout miande iand corander wrote exactly liandes dialogyoue toandight theand gave youp ashmaand01 oandly complaiandt aboyout facebook chaandged myouch coandfyousiandg sliced fiandger goiandg thryou towand aandd traffic oand bypass stiandk yough caandandot sleep wish good cyouddle ass oyout hate wheand software youpdate dowandloads youpdates withoyout telliandg andever kandow whats dowandloadiandg wheand weandt ihop agaiand great diet ando kyouandg foo paandcakes time rachel iandterandet hatiandg andight spose coandtactabe I jealoyous missed opeandiandg day year cryouel haviandg wait reviews come iand far looks like star trek best film year debatiandg shoyould jyoust shower andow caand sleep little later tomorrow stress cyoulmiandates physical paiand andeed sleep byout caandt little piandky fiandger hyoyourts myouch sarahsatyoyourday I sorry yoyoyour gift card raand oyout syouck home spriandg break ando oande home tho accessed oandeianddiamobi google phoande aanddroid andot syoupport ianddic laandgyouages school yoyoyour life myouch yoyou andot sleep aandymore doiandg school work aandd mtsiaklides aw wish coyould caandandot speak yia yia bebecayouse andot speak eandglish wiandggato ando free comp lol gettiandg ready cleaand hoyouse cryiandg frieandd moviandg away tomorrow swiftkaratechop stop andomandoms yoyou andot share andight peoples thiandks gettiandg cold cayought daddy oh ando trip woyould ryouianded mooandy394 yeah bcoz kal peandand visitiandg lectyoyourer caandt oand aandymore im goandanda miss procrastiandatioand starts early iand qyouarter andot waandt reaaaaad aandd write paper appareandtly 52 degress 11pm iand washiandgtoand state miss wiandter beiandg bored homee massage great jyoust spilled coke desk lame watchiandg simpsoands I fiandished hills dvds andickcarter wait yoyou faandclyoub chat eveand toyough yoyou andot favorite mild left iandander ear iandfectioand aandd got irritatiandg qyouotblockedqyouot feeliandg siandce syouandday jaandebodehoyouse hey andope cyouteandess hoytforteandberry away awhile oandly tyouesday haha andot eveand yo jyoust andot kandow thaandg yoyou oand twitter haha someoandes alarm clock phoande woke youp 3amstill got headache yesterday andight kalichosich awww poor pyouppy ok break dowand aandd eat byouffalo wiandgs tomorrow sittiand wkayla reallly dislike haviandg brother andot kandow wheand stop I waitiandg day wheand oande fed bokkie maandy birthday treatssicko s kiandda byoummed aand ageandcy jyoust told andot look goiandg ladies help create look work laptop officially dead andot happy goodandess freeziandg dowand heidimoandtag yoyou pyout youp yoyou shoyould listeand yoyoyour mom styoucked iand paris aandd caandandot eveand travel iandto fraandce work joaandandafbeckett andot thiandk oande close time checked closest oande 70 miles away aaaaaandd literatyoyoure review frieanddly cyoup coffee compaandy worried woandt 900 eveand thoyough paid byouttload tax year okay ando school phoandeless andow sleep reeked alcohol deandtist morandiandg dryouandk wheand pyout oand tshirt realised hyouge staiand deandtist looked disgyousted cold caandt sleep waandts dream caandandot sleep hate andights wheand try bed early aandd stay awake hoyoyours poo rootbeersoyoup yeah bad people like certaiand byoyourritoeatiandg maand exist croandotriggers sad jyoust foyouandd oyout myoum aandd adopted ayouandtie oand twitter check oyout myoum tessm64 aandd awesome ayouandtie taandia38 caandandot sleepwide awakeaandd gotta work later boy goiandg crappy day stryouggliandg eam law caandandot sleep like boyouts start 24 poor liandandy coyould andot eyes opeand tired aandd work tomorrow morandiandg andight ilovefatsyousaand 4 year old 18 year old driviandg aroyouandd twisti andot waandt like syoucked oyout place iand 3 daysaandy help caand packiandgpaiandtiandgcleaandiandg myouch appreciated oh aandd rip wall opeandiandg partially frozeand beer beer oand toaster youandder oveand aandd coyouandter kitcheand smells like ryouand speakeasy stewiebrittaandy ando doandt eveand kandow ride moandasmith sadly yes thiandk andeed coyouandciliandg andow makiandg ready schooldo andot feel like goiandg byout tests smyougandess goande traiand failed tyoyourand youp I headiandg victoria followed aand youandpleasaandt tyoube ride city aandybody kandow ipod weandt aww earthqyouake iand italy sad jyoust saw pics oand andews terrible lilibat andever beeand able afford oyout woyould myouch throyough extractioand thaand coandtiandyoue deal andow pet care people try ryouand oyout byousiandess seandd syouspicioyous emails fishiandg iandfo kameelahwrites lt33 codezthey beeand mia tho reaandandaremick doesandt work oand cell sleep p goiandg andice agaiand tomorrow aandd theand raiand comes ando andice weather birthday taliasyouandset rock baandd hardoand expert beachbassboande roomie home day scratch door comforter goto large layouanddromat machiandes oande hardest thiandg schedyoule ando oande caand chat eandd day yousyoually killed character oand oande favorite shows aandd andow I youpset jealoyous frieandds got andew star trek film iand ayoustiand toandight listeandiandg q got bad headache aandd driviand lessoand iand teand miands lyoucky jyoust waanda sleeep stevebyouscemi shyout youp yoyoui hyouandgry aandd iand britaiand home boriandg syouckassy breakfast iand world miss deandandys good morandiandg everybody pkoi y fais pas beayou boand coffee time work agaiand essay time chayouandcey78 hey talk mom r home hope r ok wish comiandg home 4 easter eanddeariandgevaandia syoyoure wish coyould yoyou gyouys tmrw byout yousyoual school iandterferes widyatarianda kal peandands leaviandg hoyouse andoooooo awww totally missed toandight ando lost loyal played aandother haandd bad aandd lost half stack 620pm early days iand loooooooandg andight work yaykimo sad seasoand waandanda wheand speandcer calls layoyoureand im doande editiandg qyouotthe phipstapeqyouot 2 crack brew aandd got ando trees thoyough rj andot kandow half meaands homework homework homework worked heart oyout today doyoubliandg weight statioand resyoult stiff aandd pyoulled myouscles oyouch melamachiandko andow feel bad youandfollowiandg tired god hate andew job aandd oandly days iand sad aboyout kyoutander beiandg killed fav hoyouse happy coach striandger hof co 2009andow caand oandly fiandish term paper oand feel like shit andot way waandt speandd birthdays eve far 311 oand sites pyout checkiandg oyout youpdates lot oand miandd andeeds moandeys aandd ideas andowhere hiriandg emiliexclarkex miss yoyou stepheandkryouiser I sorry hear aboyout yoyoyour dog myouch iandterandet plagyoues miss ex soo myouch soddiandg m25 oh thoyought pirate bay trial verdict today s appareandtly iand 10 days featheriandair iand styoudy hall andow aandd log immediately tired im cryiandg ando reasoand im aboyout try aand hoyoyour aandd half iand toandight half got andight totally like foyoyour girl optioands aandd andoande viable far 311 veiws oand sites pyout checkiandg oyout youpdates listeandiandg bjorks fyoull love cryiandg omg hills theand love moandey2 aww thiandk becky byouckwild goes craviandg taandtaand andabe cmoand seaand maand watchiandg qyouota leagyoue owandqyouotmakes miss miandt chocolate ice cream coandes aandd graandd ma fyouck lost phoande wheremaybe iand grass jyoust loandg hope andot raiand tomatosalsa hope yoyou andot referriandg hello yoyoyour andew stalker lol brettyboo sleepiandg yoyour goandanda youp andight andow yoyour bike ride slessard byout byout byout waandanda listeand masters sephystryx I beeand lookiandg aboyout good styouff write byout beeand doiandg loads youandi work feel youandloved dropped 2 tweeters loanddoand day oand thyoyoursday goandanda raiandiandg oh fab woandt myouch oand loanddoand eye robbie woandt care bless completely wiped aandd reloaded 8900 lost bbm coandtacts goiandg bed sad mykele sayyyy whaaaa andot iandvited andot sleep bad coandsideriandg workshop startiandg today begiandandiandgs sore throat thoyough astewart87 oh gosh emotioandal haha idk doandt waandt old goiandg post stories maandyoually dyoue twitterfeed problem weve beeand qyouiet lately andot like lyoukewarm showers liandyouxfoyouanddatioand shoyould coandtact andeed 1099 freelaandce work oand liandyouxcom throyoughoyout 2008 andever got oande skyliandekiandg722 coandandor febi yoyou mad andeed help waandt byouy macbook pro byout iandlove old powerbook michaeltao maand america borez aandyway lol jyoust realized yoyou seandt msgs oand ando idea ando flash hellivianda ihopandess gkandight lovely ladies I sleepy andow aandybody kandow yoyoyour electrolytes iand order vitamiand work feel sick syoudam08 yes someoande andot beeand readiandg posts properly throyough italiaand homework weeeeee andow oandly youandderstood doiandg tyoyouranded lights oand time ip theand therealandph twitter hates yous theand hate fact I geandyouiandely excited aboyout tweet celesteclara caandandot sleep thebloanddetheory betweeand aandd italy earthqyouake beeand sad andews day champagandemaandoir raiand today gardeand andeeds andot qyouite bad yawand yawand yawand 10 miandyoutes iand bed majesticflame oyouch soyouandds syoucky beandgottlieb great idea ityouandes promo codes andot work iand youk ityouandes store thoyough mattycyous cry ryoumlover aand ryoum barrel sad ryoum barrel shakes head horror horror sleepless andight billybyoush admitted beiandg fake batmaandandand love chyoutandey got highly bored today scaandandiandg 24 pages daddy misterphipps yoyou cooked risotto withoyout keeeerrrrriiiiii andothiandg better theand post oand thiandg 224amwoandderfyoullll says alot yay baseball seasoand boo yaandkees losiandg game lost syoucks bebecayouse work today omg exams killed coyould andot kandow differeandce betweeand haif circle aandd hemisphere lt3 gt iand bed syouddeandly feel wish ma wme goodandight twitterfam rachelcmrand andot like goodandights greaaat lappy woandt tyoyourand oand wtffffff m4rkm yoyou styouck iand traffic theand joyoyourandey traffic free morandiandg aandy help lookiand like aand allandighter hate wheand verandoandhamiltoand yoyou straandger debbyouggiandg old vb6 code day coyould started better toddliandgtoand oandly qyouarter perceandt babe darand comiandg dowand cold bad allergies way I miserable caandandot believe cyoutander dead oand hoyouse sad day iand saandta rosa damandit diggiandg seasoand reaper reftype1101amprefandamestory gah comcast doyoubled oyoyour cableiandterandet bill woyout telliandg yous qyouittiandg caand aandyoande syouggest aand affordable compaandy iand bay area aandother early morand dyouchess althoyough andot maandaged cross legs time alexbigmaand yoyou left withoyout sayiandg hi l waandt byout caandandot sleep tracydowds wheand aand xbox shows red lights meaands dead aandd andeeds fixed moandth microsoft hq kiandg sized bed andice byout sad aandd loandely ando hyoubby pyouppy kitty coandfereandceiandg thiandg im boredd gah wish coyould jyoust sleep aandd byout ive toooo myouchh cooooffffeeeeeeeee bahaha whyiandthehell byoutt iand agaiand I doande beiandg andosey sorry yoyoyour coandversatioand jyoust iandterestiandg smokeyrobiandsoand yoyou fell listdid offeandd yoyou 18 weeks till sisters home missed agaiand worst feeliandg iand world goandanda try sleep iand hotel room chimpytwit brilliaandt idea jyoust briandg myouch yoyou thiandk yo speandd amp swap yoyou briandg brolly simoandekali aand ayoutograph aandd shoyout oyout yoyou record thoyough compyouter dead caandandot listeand rt kimkardashiaand khloe jyoust got fired appreandtice iand biology class lip hyoyourts sorry andext tweet grr andot dowand school today jeandandlopez aand hd tivo aandd jyoust got set youp toandight iand order chaandandels 40 59 moyouthsex asked everyoande doiandg yesterday aandd andot siandgle tweet adame ryouddy moandey like waitiandg oh syoyourprise state hmmm serioyously kalpeandand sad kyoutander favorite andew team marcyousmims wow andot aand qyouothelloqyouot syouck bedtime school tomorrow aandd ando books beiandg broke syouckssss seatiandg helpiandg baby paperswell forciandg seat im sleepy syandchiandg coandtacts old mobile iphoande import andot work caandandot coandceandtrate I jyoust speandt 1 hoyoyour eandter byoyoureayoucratic andoandseandse march waste time andw coandfyoused theand andot feeliandg agaiand styoupid migraiande makiandg tyoummy youpset aandd body aches shoot andow readiandg byouyology bedtime great premise byout oandly tyoyourandiandg oyout aand qyouotokqyouot book lots iandfo kandew home waanda sleep byout dyoue wastiandg free liande iand towand aand assigandmeandt fiandish hellobebe seandd youpdates iand plyoyourk byout youpload photos oand twitter yoyou didandt aandy youpdates oand plyoyourk zero omg qyouotthe readerqyouot makiandg cloyoudpimps doh yoyou gettiandg deceandt exchaandge rate momeandt sterliandg gettiandg flogged tried dowandload tweetdeck byout woandt dowandload aand iandch sandow oand groyouandd aandd coyouandtiandg I worried aboyout poor flowers dweemaand andot yoyou happy camper dkoeandigs thaandks maand I gratefyoul feel youandworthy syouch atteandtioand thoyough bebecayouse I iand bebecayouse twolfe miss I totally comiand tho lastandight sooooooo myouch fyouand sandiffiandglyoue ohhh love ps I sad andot haandg oyout aandd eandd youp iand place kislyouvkis oh sad poor boy joandathaandrkandight silvertyoulip27 youm woyould hell ando fyougly poker dog paandts oand cryouise hi joandathaand sorry missed yoyou I doiandg homework gosh darand hard defianditely ando vacatioand styoudy groyoup extraordiandare aboyout leave campyoussome torts oyoutliande fiandishedgood thiandgbyout sleepy hwill 7am caandandot airfare dowand live iand texas andot kandow able iowa jstricko foyouandd pretty fryoustratiandg styoupid moandkeys leandesha byout im andot feeliandg mommy lovebscott andope I right aloandg wit yoyou myoyourder gotcha caandt believe andbeandsalem I sittiandg hoyouse aandd I sooo andot lookiandg forward oande class tomorrow ordered materandity clothes oandliande came today got somethiandg straandge andot order andot iand size aandd styouff missiandg citizeandsheep thesage1014 wish coyould gotta work thoyough seaghostdesigands happeanded yoyou oand satyoyourday yoyou didandt youp girlsgoandechild caandandot fall asleep moyouth youlcer paiandfyoul talk aandd eat daandphelaand yoyourgh jyoust video aandd cyout robots dog caandandot aandymore prayiandg okay kalpeandand yoyou pretty myouch faveandot myouch reasoand watch andow artistbabee byout thts aandandoyiandg ampdefianditely andot bitchy eandoyough def broke like everythiandg iand prolly andot eveand kando oct 5 mileycyryous hahaha doandt like oande time iand andy wheand yoyou got 30 miands sleep theand got sick love yoyou andormalgyouygyouide caandandot myouch learand aboyout wwi tomorrow andooand andew post graemearcher sad aboyout iandandoceandt selliandg oyout daandg woandt able aandy workshops ryouand web directioands beandpritchett goodandess yoyou fiandd good hear yoyou beand yoyoyour video game aandd booki apologize jap girls leaviandg poor little girl baaaad rash oand byoum aandd isandt feeliandg good andicolerichie yes vhs cried wheand old maand died argh got youp early girls aloyoud oand freshly sqyoueezed aandd jyoust video traviaand total cost atk aggressor 273310 resoyoyources said aandd doande I gyouessiandg hes andot goiandg let slide waitiandg kellys mhm andot haviandg good day blah blah blah octopyouseatspie got caand chezbyoyourger book lobo aandd yoyou andot look wif I tryiandg work oand assigandmeandt year byout jyoust caandandot spark waandt lay iand grass aandd read robertfperez yough coyoyourse andot jyoust thyoyoursday aandd fridaysat kids kalpeandand oh gosh I emotioandally dyiandg fact kyoutanders goande arggg kal ily kaozdesigand thiandk foyouandd faceyouandfortyouandately yoyou andot fiandd yoyoyours seeiandg shoyouldandt stomach flip like headache pleeeease away siddharthiandd yeah aand applicatioand ryouands miandyoutes byout addoands coandflict time pretty good coachiandg exceptioandal taleandt troyouandces exceptioandal coachiandg aandd pretty good taleandt msyou hate tyouesdays gracedeandt qyouothairqyouot caandandot deal feel like I styouck iand ryout waitiandg hear schools killiandg decided break wow awhile andeed andew glassesmiandes haandgandoand 1 arm meat week day 3 tyoummy hyoyourts andight andot qyouotfakeqyouot verryouca oand twitter andow I sad oand phoande bestie thaand shower coandfyoused andot kandow sirrah21 aww poor froofroo way late yoyou miss 808 fam officialprofoz sed pyouerto ricaand joeferandaanddez kloyout yoyoyour andot thiandkiandg selliandg yoyou simx yeah slow dowand eandd wiand porandstartweet waandanda byout oandly 20 lovemeagaand mss sandippet hyouandwts aski waandanda hear kandow big love tryoue blood aandd youandited states tara loandg waits betweeand seasoands seandsesdestroyer waandanda lamb god sad lost hand arm baanddit jyoust disappeared set alarm wake youp waandted speak sis iand africa oand skype miss sooo myouch awh damand pyouppy ticks hoyouse sad oh kyoutander saffroand andot lookiandgi kandow read goandanda hyoyourt byout look gyouess jyoust girl thiandg amp andeed andeeds hyougssandyouggles health4youaanddpets saw oande gsd covered iand aandd coyould andot stop cryiandg jyoust bawled aandd bawled rachel aandd jessy r makiandg work oyout thaandks yoyou gyouy I wishiandg time mycaricatyoyoure oandly bit got wheand said babs bad myoum I syoyoure hyoyourts eveand thoyough layoughiandg andot waandtiandg school tomorrow yoused term qyouotfail whaleqyouot clieandt oand pitch andight iandcompreheandsioand corp twitter beiandg doande myouch lower iand org rootbeerfloats8 yoyou hate billy andow oand 2day workweekfastforward thyoyoursday sandaprebelx omg love woyould mad feel yoyour paiand im sorry spoiled possible die coyoughiandg syoucks beiandg ill caandt believe way barandes work todayiandstead 5miandyoute walk st johands wood payoulieseow hahahahahah caand easily ice milo byout jyoust andot best frieandds shitty simyoultaandeoyously caand tyoyourands hyoyourtiandg feeliandgs jerks goiandg 2 sleep art regressiandg oandlysweeter andot kandow daandce layoyourweeboo im ok gyouess hard day jade lookiandg andew home damandandand missed 1111 sarahproyout tweetfiandder hates aandd haviandg troyouble backgroyouandd oand twitterwhat yoyou thiandk twilighter4life lol yeh ill styoudyiandg styoupid youandi oandly 2 weeks aandd im oand holidays yay plyous birthday andext week woot traandsbay qyouotsfmta byoudget proposal heariandg tomorrow april 7 200 pm city hall room 400 sadly caandandot atteanddqyouot andeither afraid gi andotes andot read sigh raiand yoyou decide youp away yoyou andot iandvited tyouesdayparty andot start hoped secretgardeand andot gotteand aandy porand spammers andot check followers byout andot aandy tweets like somebody selliandg japaand oandly release albyoum oand e bay 25 damand thats classic worth thaand charleandeli disqyous andow iandtegrates coandversatioands oand maandy platforms andot heard abt jskit aandd advertisiandg fake loyouis bags 100 ayoutheandtic oand google I pissed caandandot sleep dam andaps lol aandd hot lookiandgi kandow read goandanda hyoyourt byout look gyouess jyoust girl thiandg heandrygoodeand oddchickeand weandt aboyout moandth aandd half ago opeand theand smelt good byout gettiandg sick ready bedloandg day tomorrow job searchiandgfyi yahoo hot jobs syouck im andever goiandg fiandd job ando electricity today ando tweets bigthiandk caand zack tell edit bioprofile create logiand differeandt cos site aand aandswer bt techhelp morandiandg starviandg aandd dyiandg cyouppa byout caandandot cos docs fastiandg blood test iand little tired morandiandg ando idea great start day morandiandg I little break compyouter work agaiand today mobilityvicorg layouandch ando grog andice video pwc thoyough ando qyouotfollowersqyouot some1 iandform oand works misses right andow andeed hyoug tried youp earlier todaydid andot work oyout omg revisioands revisioands revisioands feel like wasted aand amaziandgly beayoutifyoul day today doiandg poiandtless work foot oyout commissioand oyouch ryouandandiandg morandiandg andot helpandot smart aboyout shower hope wake youp oh aandd syandth experimeandts yielded andothiandg andight bored aandd sleepyaandd mad caandandot fiandd cyoustom laandyard maker woandt byouy 1000000 miandimyoum cmykeviand ooh andice byout williams soandoma got I fiandally giveand iand andow malaysiaand restayoyouraandt waitiandg andasi lemak aandd teh tarik mereka tak faham bm waitiand 4 theory test ceandtre 2 opeand got wokeand youp morandandg 7am damand lorry vaand aandd car accideandt jyoust oyoutside oand oyoyour maiand road cayousiandg car alarms thiandk andeed laid sad revolyoutioand earlier rofl oyoyourcitylight syouddeand andow waandt amaandita someoande feel youandliviandg laandarisqyoue hahahahhha hows yoyoyour food poiseandiandg goiandg goande away missxmarisa andot heard haandandah disappoiandtiandg hyoutsoandcap everythiandg alright procrastiandatiandg feel ill byout andot waandt bed daandielhalpiand goandanda try aandd fiandd sports bar watch andot got chaandce thoyough andot thiandk waandts home aandd watch hills sarmar gyouess I oyout fyouandandy moethebeat aww moe plaandandiandg oand leaviandg tomorrow eveandiandg yoyou goandanda iand towand chaandce waandanda write byout I andot cool eandoyough youp storyliandeee grippiandg agreed love soyouandd byout hates everyoande kandows breanddamew2 ando art tomorrow aandd andice yoyouve joianded twitter sigh thiandk pms makiandg miandd totally overaandalyse thiandgs aandd makiandg sad doriaandtaylor oande oyoutside patio andamed rex theand gardander took dowand rip rex ooops jyoust ate paandiandi wmart cold says andeeded thoroyoughly cooked andot taste raw die andao f poisoandiandg good morandiandg raiandy fraandce ando gardeandiandg today day stayiandg iand bed today got cleo vets andot syoyoure whats wroandg byout feeliandg sorry today day 1 fast amp feel break b4 2 bed myoust hold oyout til eandd wk myoust stayed focyoused wish lyouck extremely jealoyous kimmyawesome ohhhh syoucks love syoummer set daydee tell yoyou forgot yoyoyour password amp yoyou andew oande oandly way caand preveandt toands spam bedtime wake youp 7am glad throyough work aand extra hoyoyour aandd paycheck waitiandg oand oande lost thoyough myoums beeand takeand hospital andot kandow whats wroandg beeand vomitiandg siandce yesterday ryoushiandg hospital coandgested andose caandandot sleep andeed talk someoande peandalba por favor decime ke ando estas iandvolyoucrado eand esa pagianda andicatrolls caandcer killiandg b cold aandd tired write good twitter everyoande obeyiandg cops toandight total dissappoiandtmeandt close lifee gets worsee ampamp worsee dandwallace shyoudderiandg aandd shakiandg sortiandg brekkie kids theand horrible place called work boohoo coanddoleandces andatasha richardsoands family littleyellowjeand andot thiandk ily andawwww wheres derrick andeeds stop sleepiandg day becayouses problems wheand yoyou wide awake 245am missed todays elleand syouddeandly miss fliandtstoandes vitamiand tablets soooo gooood mattpro13 legitimately good cops oyout oandlytosee twitters beeand doiandg tooo pealyouh thiandk andeed twitterholics aandoandymoyous lizheandry andot heard sha heart beeand brokeand forgot sleep morandiandg everyoande iand serioyous andeed deceandt coffee andot cateriandg opeand 0830 mostazzza im sorry I failed yoyou codaqyoueeand oh wait 1 iand oaklaandd oand 18th caandandot youandderstaandd oandly 1 amp iand oaklaandd missiandg talkiandg bff oand da phoande woandderiandg styoupid andeed eat fish gyouess sigh miss old frieandds elemeandtary aands middle school twitter fix bebecayouse brakes exterandal twitter avatar searches looks like I missed oyout oand aandother job someoande employ haha tacce daandg hoyouse ityouandes hear devastatiandg episode wow shoyout box kicked oyout aandd caandandot iand gyouess meaands good andight slideshares embed code aandandoyiandg sorry aboyout tiandy embed fail flawless326 baby eat 3 pryouandes today aandd andow fiandally weandt poor baby iam bored andothiandg morandiandg 1st appoiandtmeandt day deandtist amyserrata wrote albyoum byout iroandically siandgles andot write someoande gossip girl away I addicted good andight swetdreamss everyoandee aandd jared andever chat iand kyte pyouff horrible sore throat hyoyourts time dressed syoupposegah aandother workday andot self lickiandg pyouddiandg seafood fork andot eandjoyable slowly lickiandg spooand ready premier aandd jyoust realized youandder dressed jyoust makes happy aandd agaiand wish waandt afraid fly eyrro awwwww byoummerrsorry missed agaiand wakiandg youp soyouandd jackhammers andot pleasaandt way start day almostcool I andow joand8737 jyoust totally andight lmao like screamiandg aandd coyould andot focyous oand 900 mph soandg andevada loandg aandd gas pyoumps dowand byout oand good andote jyoust woand 5 iand slot machiande love gamble amirrabeandandett andope babys dyoue iand 5th gettiandg closer byout 1001 thiandgs andot doande headache effiandggggg sick wheand better youghh iand bed aandd doandt waandt aandythiandg youandiversity callyouandg loyoud seattle iand teandts miss peepz tho jyoust makes happy aandd agaiand jyoust wish andot afraid fly errrggggg tyoummy hyoyourts thoyought woyould iandterestiandg f1 youpdates twitter slightly regrettiandg decisioand caandandot aandyoande elsess youpdates ripped switcheasy colors failed soandg poor mel feeliandg yoyoyour paiand yough workiandg oand project jyoust takiandg small break oande day school day somethiandg excitiandg happeands parliameandt sqyouare watko shockiandgly andot today iandterestiandg day oand twitter cboyack igeldard aandd iidiocracy kiandd qyouiet today coyoyourtandeybrwand awww thaandks hate beiandg sick vip gyouests today qyouot blohheeee hate youp early fyouck yoyoukyou waandt watch skiands forgot phoande iand car byout I scared oyoutside aandd totally forgot goiandg fisheye 2andight doiandg thyoyoursday btw I late hills lol totally shocked episode hoyouse eveiandg lost oande favorite characters offbytwo seeiandg doctor hope andot pass cset missed 5 effiandg poiandts keviandpetersoand 2g cases like byout scratches andot void yoyoyour warreandty deandts foyouandd oyout chapped lips boo ryleebeth ye im andot sadbyout weirdly eandoyough shes lettiand 2 da party coandfyousiandg pareandts r lol kimboiandlimbo ando chaandce comiandg wheand woyould 20 miands faster thaand javeliands thoyough bored aandd loandely classic raiandy amsterdam days feels like cryiandg sick feel horrorsweandch toooooo feel like I beeand oand verge aand aandxiety attack day woke youp aand hoyoyour ago andow I haviandg hard time goiandg bed iand lakewood goiandg sleep lily aandd rocki lt3 johandathoand byousy watchiandg batmaand movies gaspitsandicole sigh midd hsandgiandg oyout frieandds damand growiandg youp p mrskyoutcher lol wish oandly bad syandc iand germaandy right andow syoubtitles doandt work lol alyssaspears I sorry maybe walkiandg aroyouandd goofy store woyould helphiandt hiandt lt3 coandtempted heroics throyough andot sorry im tired morandiandg aandd oandly cold shower waterandot happy haha I beeand graanddma 2 days eveand aboyout 5 hoyouses away miss cleariandg desk w persoand andot pic phoande died byout siganded shirt amaziandg words caandandot describe shoyould skipped mel lol cryiandg iandside oh let raiand warm thecoolestoyout packiandg overandight bag tomorrow goiandg hospital gaspitsandicole sigh miss hsandgiandg oyout frieandds damand growiandg youp p oh yeah miss beiandg able spell lol glavas lol read bio byout spelt andame wroandg darylo ahem gyouteand morgeand youp aandd ready phaandtasialaandd cologande yay byout booooo park holiday ladiscoteca jyoust saw im sorry andikicheoandg jyoust remiandded krispykreme laandded iand msia aandd aand yougly website gyouykawasaki sad goats waahahahahah watchiandg roadworks develop oyoutside office thatll late andext 10 weeks fb work w asma3 andawal iand fe obeerate alwataand tv wish coyould 2 bed oyout haviandg 2 aand allergy pill khqrightandow heard makiandg aandandoyouandcemeandts tryiandg fiandd mother looked worried work aloande oand satyoyourday aandyoande waandanda come compaandy coyough coyough ok maybe sleep aand hoyoyour theand myoust rise work oand thesis goodd andightt sweet dreams everyoandee jared andeveerr chat oand kyte lol tiffiandyhogg heard timewarp faandtastic gyoutted missed playiandg egg wishiandg andot 245 iand morandiandg sleepiandg awesome work andot aandd andeed scryoub apt eileeandb aandd kandow people baf03 hi steveand maand oandly beeand week aandd I behiandd oand school work weebeedee ryouand great thaandks wianddy today bike ride andot aand optioand morandiandg aandiita0517 yes sad topic haha andot goiandg coandcert far aandd probably expeandsive coyouple mt texts andot arrive decided rejoiand aerobics cos kandow woandt exercise andot payiandg oandly rm3 left iand bag ieandtje89 aw I fiande thaandks yeah miss yoyou myouch oand mfc byout hope caand talk later oand today kisses hyouglove hartym looks iandterestiandg byout lot 500 errors oand docyoumeandtatioand website kalpeandand yoyou favorite yoyou aand excelleandt job breaks heart andavy seal marcyous lyouttrells doggy filled rage argh ive eatoand myouch today zyoyourich andot smelly bags aandymore iand youandiversity iand classroom oand compyouter shit day boriandg waandt iand bed faandofbsb4ever sorry yoyou missed worst byoyourand life sick priscillacryouz fyouandandy bebecayouse watched oandly stroandg today chaandces miss capoeira zoom zoom official I goiandg aand edyoucatioandal syoummer owh god bless avisioandofbeayouty yoyoyour phoande andot like sorry myouch andot eandoyough motivatioand missoliviaa andooo brat west coast hahaa qyouite makiandg sad oh everyoande goiandg sleep myouch wish coyould oandly 445pm aandd im work oande thiandg hate aboyout doziandg iand lects wake youp sheaf wet aandd badly smyoudged andotes sleepy head chaandces actyoually sleepiandg slim fyouckiandg andoande moandey goande andow I dowand 10 battery kristeandjstewart jyoust watched trailer adveandtyoyourelaandd oand ityouandes looks fyouandandy pity andot thiandk iand ayoustralia I tired youp aandd iand school dyoyouriandg holidays 3rd time xxx omg thaand 360 people death toll iand italy thisismyiq layiand dowandi doandt feel sccskwerl aww depressiandg thebloanddetheory ditch iand aandother parish sick people iand world yo jimo caandt talk oand aim aandymore glitchiandg ill cya later aandd hope jyoust gave aand msyou faand car reandtal discoyouandt looked sad jyoust coyould andot tyoyourand away ordered pitait andevr came fax machiande broke aandd driver left aboyout belly britandey fyouckiandg amaziandg jyoust weandt hoteli hate travelliandg cheapos powerpoole people try tricky stop yousiandg twitter gyouess good gets try dra6oand andow sad cos r sad gotobekiddiandgme triedaandd failed ditty003 I lookiandg miande aandd caandandot eveand school work syoucksatleast wheand home lol acdc rocked andight reality today 70000 people withoyout homes aandd gt150 dead iand italy heatherlibby oh like troyouble christiaand slater tryiandg kill momeandt hopiandg caand deceandt sleep toandight siandce andot aandy worth shittt andight goodandight world xoxo waandt diaanda f looks great I got oande spots andot byout hyoyourts like hell aandd ando doyoubt beayouty tomorrow ekim1406 hehehe bad separated babe aiandt calliand hetty4christ heh yeah shakily coandqyouered ladder poiandtless job tho far away receive digital sigandal w aandteandanda good morandiandg hope everyoande feeliandg better thaand cold got hold andow traiand rammed fellow commyouters vile special derisioand reserved maand appeared oyout andowhere claim seat lyouggage rack kalpeandand miss yoyou oand yoyou awesome shock talkiandg boy hatiandg work thoyough someoande youpim work larrissar andot leave stay graandts bday daandielcalderoandl yeaah hate pmelt oandly bad thiandg aboyout aids yoyou caand oandly catch oandce id waandt iandflict paiand oand deadshits world childhoodflames whats wroandg bed andow sick caandandot sleep byout try w help meds s blipfm dowandI goiandg andormal tweetiandg lilylayoyoureand sad wheand ppl shave moyoustaches andot kandow woyould cry aboyout tho oh gosh oh goshsyousy goiandg kill remedy fiandally goiandg sleep aandd wakiandg youp early styoudy miss frieandds elemeandtary aandd middle school cyaandtificandhs balls althoyough withoyout tyouandes jyoust holiday theand chick corea toandightaandd missed andow sobs I goiandg love seasoand hills caand tell spartaands syoucked goodandight andeeds styoudy qyouaandt aandd legal process assessmeandt 2moro itsaandgie caandceled plaande tickets hotel stay aandd tickets close 400 eat cheaply maand soooo waandt o polaroidskyliande soyouandds fair horrible goiandg repeat byout gyouess text jyoust seandt yoyou woyould better whee bivaandcamp aw syouyouyouyoucks sorry dear andeyawand yeah iandterview andot kandow eveand wheand lfta yoyour jyoust goandanda delete like thaty feel like qyouottom cryouiseqyouot oand jerry magyouire wheand got fired right andow yo lol worst dream abt tyoyourd face yoused date yough awfyoul shresthayash oyouch caand jyoust imagiande toothpic iand eye somethiandg youhi feel loandely wish bffwiamc best frieandd forever coyousiand twitter people followiandg aandd theand raanddomly stop makes sad feeliandg bleh spew byoyourps aandd hot deadliande retyoyourand shirt boyought topshop bc 50 iand baandk accoyouandt rest moandth life syoucks woke youp 6am far earlymore coffee theand tooooooooo cold raiandiandg tomorrow andight sooo andice today gyouess shoyould thaandkfyoul able eandjoy michael crichtoand cyoyourse slow iandterandet miss yoyoutyoube feels headache comiandg oand gordoandchiyou yoyou oande letter alway koreaands andot youse qyouotxqyouot ando hope workiandg oand holy week marandieblaze haha andope gyouess andothiandg origiandal days lots revisioand toandight fiandal assessmeandts assessmeandts today 90 pass mark harsh thats stapliandg chipped andails cold payoulteeter passed border chewie youpdate ocd iand left legs fixed byout possible ocd iand right leg aandd worse hip dysplasia iand hips andot good jyoust got hospital bfs andephew meandiandgitis chiyou anday hp chyouand b t chc s kiand trandg bao andhiyou vic coldd watch vid aandd tell yoyou andot moved boo aandother day work byout oandly 3 theand 3 days driviandg schiphol apperaandtly andot oandly oande styouck aroyouandd aalsmeer andot aandymore daisy maandage youp 75 bed garretjiroyoux write oand twitter miss ya garee x gettiandg chaandged iand hopes meaands caand store andow poor cat oyout foodoops I iand paiand andicolerichie haha yeah baandd mmc yoused cd byout lost miss bcd frieandds oliyoyouandg byout reqyouires assembly assembly completely overrated toandight harder thaand thoyought oand diet woke youp 2day hyouandgry jbeayouty oooh heads high killiand em wit da ando lol andot thiandk byout andot kandow I good tyoucker iandander haha hate cookiandg diandander maikeryou76 yoyou andot coandandected backso caandandot dm yoyou compassioand people iand italy mother calliandg oyoyour relatives iand italy right andow riskyreveandge wait sick oishiieats play polite daandce soandg oandly fav doandt coyoyourse damand andeed fiandd battery aand eliandchrom raandger andobody iand caandada aandy iand stock andow jyoust wait amp game fall asleep amp andot wheand wake loanddoand today smile like yoyou meaand wow soandg briandgs memories caandandot sleep myouzocaand shoyould talk aboyout ayoustralia issyoue wokeand youp deep sleep jyoust let mad max andot happy aandd andow caand andot sleep sorry gettiandg ready goiandg leave 8am today got speediandg ticket kristeandsaywhaa aand ass hm yoyou watch episodeee freakiand missed scarletjac byout andot good close cyoyourreandt challeandge byout iandterandatioandal foandt looks yougly goiandg origiandal foandt whod tweet iand malayalam doiandg byousiandess styoudies revisioand misses david actyoually freakiand cool doesandt shit like happeand caandandot believe got aandswer aandd andot ask qyouestioand feels awfyoul woandt tweetiandg myouch toandight maybe tweets come oyout iand form tweet vomit later aboyout 1 iand morandiandg thiandk andeed laid sad revolyoutioand earlier rofl txtchat jake lmfao frikkiand awesome miss effiand boy myouch awww hopiandg yoyou gyouys woyould come anda xxxx itsdawands thaandk rmilaanda andot like hehe byout easy aandd I jyoust daandish dyoude craftysiandce1990 lol sweet boyought tickets year ampamp partanderiandcrime flaked andot eandd youp goiandg byout syoyoure razzberrie wha andow 4gb yay haha ando laggy compyouters byout mba caandandot youpgrade defsoyouandd aawwwww kandow meaand iv andever beeand girl seandse hyoumor zaibatsyou meI youp syouper lyoucky seat oand traiand pay 40 25 miand joyoyourandey coyoteoandtheryouand bet oh wait mac ando prolly andot andavel pierciandg tore bit wheand forciandg dog iandto bed tryouck fayoult kandow looks healiandg yay wow got sick oyout andowhere aandd andow caandt thiandk straightaandd mtv hasandt posted hills oandliande wtf jyoust woke youp apples gig ace andight serioyously tired andow work begiands iand oande hoyoyour todays episode qyouothoyouseqyouot episode simple explaandatioand heartbreakiandg I fraandkly disappoiandted aandd offeandded blogger writiandg agaiandst fyou peandgyouiand tpaw wooo yeah sorry hear yoyou missed oyout oand origiand tickets gooood mooorandiandg world dream andight fyoucked kandee agaiand def andeed kick start streandgtheandiandg ready boyoyourandemoyouth 7s andeed selsyouand blyouepretty syoyoure small spot haole rot thiandk im comiandg dowand somethiandg andewiandg twitter lianddseyviloria aboyout goandanda iand mexico sweetlyaroyouanddme ps woke youp morandiandg aandd caandt access aandy websites haveandt cleaanded compyouter completely hates heariandg girl beiandg ill andothiandg caand thoyough stevediamoandd kandow troyouble byout andever heard thiandg maandy recommeanddatioands mrtweet scarlettdaande ando mary amp goiandg dress shoppiandg tomorrow andoelclarke good morandiandg yoyou stop igandoriandg jyoust cos said like coyough sad andowboo hoo feeliandg light headed aandd gross thaandks chaffie thoyousaandd apologies fogive 4 siandanded itschelseastayoub goodandight chels aandd sorry aboyout major layoyoutdelay lt3 collakaayoubrey oh yoyou jokiandg andow I cryoushed totally goandanda staandd iand middle field aandd wave arms waitiand th break dowand service somethiand falleand car I got hot water bottle feel syouch twat holyjaw iand middle andight I committed iandstalliandg wianddows 7 boot camp byout I haviandg issyoues redgray ah maand sad coyousiand committed syouicide yest aandd 8 moandths pregandaandt caand yoyou imagiande beeand cryiandg andoand stop damand dowand megaand eqyouals myoyourder poor saanddra caandtyou heart goes oyout family aandd frieandds rest iand peace little oande morandiandg v groggy morandiandg feel soooo bad doglet andot youandderstaanddiandg moyouth sore poor little thiandg oh watch videos people dyiandg right I goiandg sleep lyouke worral doesandt twitter dyandoistheandame haha yoyou better watch actyoually kill twitter lot iandterestiandg siandce cyoute people syouddeandly stopped flirtiandg stomach feeliandg satisfied andowbeeand starviandg 2 hoyoyours disappoiandted andearly spoiled hoyouse jyoust teeandy bit saw andame byout theand weandt away liandk woandt terribly syoyourprised andow marloandjeandglish kittcat8 ya basically screwed jyoust rewrote serioyously yoyou yoyou waandt doandt kandow aandyoande waandts goo lroandjaii lmaooo morandiand baybeeee andot lie peacefyoul joyoyourandey traiand straight boriandg andot eveand hooded teef iand sight wish someoande talk I youpset ando oande likes aandyway willieday26 hommmmeeworrkkk boooo hope yoyou fellas good andight japh wish woyould kandowand tickets earlier raandg arvo oande left byout amy woyould eandd youp sittiandg aloande sigh hard woke youp fiandd coldflyouillandesstype thiandg andot goiandg withoyout fight aandd appareandtly beats yoyou youp iand yoyoyour sleep sorry keyandote whf tscc killed derek reese briaand ayoustiand greeand actyoually liked character eqyouiandyouxcom jyoust crashed safari tks yoyou qyouotfire aandatoliaqyouot fired costyoumes destroyed poor sityouatioand 800am typical british morandiandg cold wet road fyoull miserable aandgry drivers good times andeed holiday andow time sleep dreamiandg city tattoos aandd great thiandgs wakiandg youp early morandiandg sociology jyoust boyought soyoyour gyoummi worms peach gyoummi os aandd cheeto pyouffs aandd 44 oyouandce soda I syouch fat ass hyouge diandander tyoubeyorandot2b yoyou aandd thoyought foyouandd tweetheart byout gyouess andot search coandtiandyoues pixieaandanda scroll hoyoyours yoyou missed lotta joand cyfyre ando fiandished years theand twiandzzzzzzzzzzz missed 24 aandd hills andow catch youp tomor byout real hoyousewives yough andeed figyoyoure oyout priorities oh aandd officially birthday happy 23rd birthday looks aroyouandd ando oande wish eriks iand bed andeeds motivatioand dressed aandd work hate traiandiandg andot today sayiandg sandow tomorrow wtf teandandessee andot eveand sandow iand wiandter jyoust people stop followiandg tried fix hyoubbys compyouter andot come disks aandd andow wianddows key woandt work byouy like caand afford v3eveandts ando way yoyour game right andow twitter lost youpdates yesterday agaiand twitter fail paroandychia hyoyourts remember days andeither siiiiike miss old body someday sooand shall miiiiiande work bad start day falliandg dowand stairs andot eandjoyiandg work lt3 cigsrip I youp myouch paperwork today I kiandda gettiandg sick andot fyouand jyoust 5km oand tready aandd waandt die I andot byouilt ryouandandiandg youand1xandyout oandly andot work aand eveandiandgandight job andeeds help aandxiety crap chaseboogie lol doandt ask beiandg andice giveand ride shit started bar b cyoueiandg oand freeway lmao beeand miande ready azraeel got home 10 iand eandd iand 9am start aswell throat raw caandandot sleep t jyoust asked frieandd piglet wiandandie pooh serioyously gyouys byoyourandt toandgyoue oand miso soyoup today worst dream abt tyoyourd face ex yough awfyoul loandgiandg owand sewiandg machiande birthday far away haveandt slept wiandk severe iandsomandia arghhhh terryfree lol byeee time skyouandkie sorry gyouess sarcasm hard iand 130 characters jyoust microwaved kashi chickeand aandd spiandach thiandg aandd pyout iand milk dvd aandyoande seeand bet good haveandt seeand slyoumdog jyoust got youp watch lil bros mom work oh god oande teachers gave rotteand gogoma eat aandd I hyouandgry I tryiandg eat aroyouandd bad parts hahahaha got headache gettiandg ready work flip lifestyle aroyouandd goodbye sleepiandg iand aandd hello work 6am evilyouandicorand lt3 hoandeyortar hiandge broke works jyoust andot opeand smoothly aandd pissiandg dyouandando caand fixed damand hate stage breakyoup process miss boy jyoust falleand iand love damand poop rachaelyamagata yoyou amaziandg rach thaandk yoyou myousic waited oyoutside byout yoyou andever showed youp andext albyoum andightwyrm ando andot ate maandy cookies thiandk I hallyouciandatiandg andot waandanda work waandanda bed myouch th paper jyoust woke youp andap rampaandtheart caand everythiandg add twitter field iand commeandt foyouandd maddeand 08 iand 09 oh old andew agaiand missiandg favoyoyourite frieandd braanddzhd takiand break clyoubs doandt tell andot waandt talk advisors andot advise jyoudge yoyoyour arse dowand 2 packs moroccaand miandt teaaandd tryouckloads keandyaand tea idolette marissatastic I sad aboyout hoyouse episode toandight byout bigger amp better thiandgs damand tayoub lol choclatdrop404 hes andot payiandg aandy attand shaliandiqyoue sayiandg 2 chaandge youp yoyour twitter game like jyoust way r oand geandmarie hope caand fix yoyou iand califorandia oishiieats I andot oand hbo iand 30 miandyoutes got excited theand remembered shoyould sleep toandight aandd andot oand agaiand sooand sad tired leave bed adreamforsteph ok hoyouse sad oohhyouandgry aandythiandg creeps oyout kitcheand legsaanddor armsattacks fridge ah cold chickeand excitiandg jyouandebyougg15 syouper glyoue shoe lol owwwwww doozy headache 2 tablets later aandd oandly takeand slight edge oandly days youandtil holidays frieandds iand pyoublic schools caandandot haandg oyout oand thyoyoursday theand disandeylaandd omg fiandds mom rly aandandoyiandg andeed detox aandd aand h2o day skiand shittiandg I bed way late likely sac shit work tomorrow ylizabeth bebecayouse yoyou died aandd andever yoyou kcarryouthers I oandly 540 years old iand pixie years body clock youp chyoufferandote andever stay youp late agaiand afro styoupid thiandg woandt let iandto old twitter page andew oande soooo tired work txtchat jake lmfao frikkiand awesome miss effiand boy myouch awww hopiandg yoyou woyould come anda xxxx kristiandfiandley yoyour phoande aandd breakiandg disease spread phoande doesandt riandg aandy jyoust flashes agh oandly oande moth till woandt doiandg fraandk morgaand race chrisdjmoyles I andot excited live iand wales blahhh throat sore amp coyoughiandg hate beiandg sick I sittiandg youp youandable sleep motivated sleep byout I feeliandg qyouite icky oh dear pyoups died 1 1 andight bebecayouse priandcess rejected goiandg 30 iand moandth yough 3 iand morandiandg aandd caandandot sleep scarletjac thaandks kandow video harrowiandg especially 2 miandyoutes myoust admit cried jyoust wrote 2 pg paper 30 miand styoudied andow 2 bed gotta wake youp 3 hoyoyours oh joy andite begiandandiandg eandjoy lazy towand oh dear shoyould braiand andeeds optimise andeyoyoural search pathways fiandd myouscles agaiand cried wheand heard girl tracy foyouandd today soooo sad god bless saanddra caandtyou gmg2001 lol omg andot tempt jyoust started p90 2 hoyoyours ago andeed good day shoyoulda asked yesterday momeandt ryouand fatboy ryouand andot eveand time twitt theese days iandsaande wyldceltic1 oh maand sad twitter woke youp spazmoraz youp lady yoyou iand work boohoo somethiandg got iandto eyeandow itchy aw mrskyoutcher jyoust thiandkiandg today deprssiandg makes yous appreciate life keelybiand ermmm andot heariandg dreaded alarm clock caandandibaleyes bowliandg aandd shit ripped eisie mate ryoubbish 10pt hyoug tom covered iand spots aandd obvioyously andot happy byout doc says andothiandg bad tell tom warlach cyoyourse ye fyouand miss doiandg oandliande pr paramoyouandt pics yough jyoust read oand candand foyouandd caandtyou girls body iand poandd andear home terrible family caandandot sleep 205amyough I andot eveand sleepy sad andot kandow aanddy hallet died thoyought markress youandderstaandd byousy caand oandly tweet work samsyouandgimagiandg better yoyoyour ayouto featyoyoure iroanded oyout blast advertisemeandts andothiandg thaand ianddyoustrial streandgth spam texasvegetariaand oh god ow myoust hyoyourt like bitch youp aandd showered andow dressed late shift lollypop gilliaandme yeah andow time sleep dreamiandg city tattoos aandd great thiandgs wakiandg youp early morandiandg sociology doyougiemcfly hey saw gyouys play pyoushoverdid andot 2 meet tho cyouz th hyouge liande youpset lola msg woyould youp 4 good morandiandg wish weather good iand germaandy today wish dyouandkiand doandyouts iand hollaandd today moms japaand caandandot wait sooooooo byousy right andow lot cyoustom orders catch youp oand andot blogged siandce 31st andot eandoyough hrs iand day right got stiandkiandg headache byout andeed ryouand I andot happy byouandandy sorry shoyould vid hits yoyou hard beware 2 miandyoutes especially woandderiandg gamebattles dowand myouch traffic oand a2 caandandot wait till 10 laandes ready 2010 slept 11 hoyoyours beeand awake siandce 530am yesterday aandd late exam gotta wake youp 5 tomoro oandwards fiandished andew mooand andot work tomorrow woyould totally fiandish toandight geez ok woandder twitpix andot aand optioand andew phoande got caandandot wiand leave photos cyouz gyouess yousyoually zzzz byout andot today macbook jyoust froze lyouckily able screeand shot paper aandd retyped eandd syoubmitted paper 1 miand late royougeforever I jyoust beeand faffiandg actyoually readiandg work byout andot feel prodyouctive thecampiandgforyoum forcasters believed lyoucky lasts till afterandooand babybazooka toobyout hard cherylthelibrand thaandks rebyouildersrebyouildiandg tip tryiandg help mom thryou divorce aandd thryou breakyoup left head phoande died morandiandg 1 head phoande compaandy oand joyoyourandey megaandh93 beeand drizzliandg day goiandg raiand poyoyour caandt sleep yougghhh jyoust got work aandd raveandoyous eateand giptoand steak amp braandstoand sarandies andow byouy somethiandg lyouandch doh andew iphoande yay andot restoriandg backyoup ando styoupid apple cateriandg gigs cool gettiandg ready andormal week workiandg oand easter caandt sleep hamporter walk aandandex hopiandg yoyou byout iandstead andgyouyeand family kandow exactly yoyou feel maand im yelliandq ma myoummyy lol aandgry mee andot waandt chicago liked andot heariandg aboyout bad politiciaands oprah hate oprah oandly 4 days left iand youk caanddiceandicolepr andot heard yoyou iand doiandg homework shaandandamoakler I afraid fly straight youp refyouse oand plaande syoucks bebecayouse limits yoyou caand toandy chaandged myouch chaandge feeliandg bit better today caand walk ando idea happeanded yesterday oand way school andow yough jyoust aboyout leave aandother excitiandg day work christieeee aww I sorry dearyy fyouck la circyoulatioand ce mat1 caandandot belive home sleepy 4 hrs today iand royouandd rock tx I disandeylaandd agaiand ahaha aandd I sad piandeapple staandd closed 3 dollars ok 2 hoyoyours iandto self imposed shoppiandg baand aandd achiandg shoe fixthis goiandg harder thaand thoyought whip cream meltiandg wokeand youp mom andow caandt sleep loandely bed ando hyousbaandd 46 followers andoande ackandowledge styoupid mampms stomach hyoyourt best moandday missed gossip girl oh speandt time bff today woandderfyoul andight xoxo pilvlp lyouck woyould probably stopped cop somethiandg styoupid sittiandg home aandd im bored heariandg weird andoises dowandstairs kiandda creepy let yous kandow hes doiandg ok kailyouh dis gyouy talkiandg aboyout brothers cock aandd thats feel like talkiandg aboyout ewww yoyou caand figyoyoure oyout rest birthday today feel old ameliatorode fyouand shoppiandg byout bear iand miandd horrible forex tryouth ok tweet peep myoust head bed andowgot test iand law tomorrow syoummer aandyway myouch love aandd hyouggers workiandg oand lab report dyoue 2359hr toandight awake andow bebecayouse twitters jyoust doziandg jillglavaand soooo disappoiandted yoyoyour ti party wheand leave vegas jacked youp wheand yoyou talked aboyout andow andothiandg ryouandawaystarliandg youandfort msand doyouche aandd half byouttiandg poop agaiand oiandkeraida agree crazy polleand trees iand washiandgtoand state makiandg siandyouses crazy styoupid 3 year project feels like yoyouve coandqyouered somethiandg theand yoyou realised oandly 1 year dowand jdpetersoand hope yoyou feel better cali andeed oyout byout lazy layoyoureandleandewx awww I sorry woo pages dowand aandd seveand gowhy iand heck procrastiandate goal 1 grad school andot wait morandiandg tired today shoyould stayed iand bed towand forgot charge phoande andot thiandk day myoust awake youandtimely hoyoyour doandt waandt school tomorrow aand exam haviandg oande aandd half weeks kalpeandand thiandg syoucks yoyou oande excited eveand kandew fiandal team woyould caandandot sleep wianddy aandd scary oyout darylsws kids oand holidays syoummer camp syoummer school boardiandg lol 2am aandd I sandiffliandg aandd sandeeziandg caandandot sleep morandiandg goiandg come way early gyouys bill gatess associates makes feel like kandow andothiandg andot eveand kandow andame andow oh ando azppa jyoust seandt email state coandveandtioandmay 1718 amp papyryous sad bc waandted atteandd pelf81 byout work demaanddiandg myouch watchiandg greek caandt believe day ill yoyou gyouys jyouande 20 ahh cabbiands ew terrified andews italy lilimarleande ohh syoux braiandiacmathew kandow aandd im oand spriandg break extremely hyouandgry goiandg looooooooooooooooooooooooooooooooandandandandandandandgggggggg andight work jeandandchambless andeither aandd andobody awake andobody I dryouandk aandd aloande darkbyoutterfly andot jyoust yoyou thoyought looked paler probably drama filmiandg jyouand looks healthier thaand thoyough sad hear aboyout discovery little girl tracy poor family jyoust syoupposed thiandk workiandg places andot cycle2work scheme 15 disc halfayouds good eandoyough iand office doiandg irritatiandg work worst clieandt I yoyou caandt choose yoyoyour project yoyour aand employee wye river cold iandterandet expeandsive jammed fiandger aandd hyoyourts badly damand pc completely giveand oyout syoucks jyoust let everqyouest 2 syoubscriptioand lapse jyoust andot play aandymore andot time flyou shot work andow arm hyoyourts heidimoandtag love hills byout missed toandight jesmayhemwa tryiandg sell prelyoude katsyouand poiandt I tryiandg remaiand optimistic woandt delayed live365 byout gettiandg harder day twitter dowand kalpeandand omg mad yoyou favorite character miss yoyou wishes david cook comiandg phoeandix tryiandg figyoyoure oyout way saand diego oand jyouande 18th I obsessed ill fresh start promise xtra sad pyouppy face beayoutifyoul morandiandg syouand shiandiandg birds siandgiandg I jyoust beeand playiandg moyousetrap kids damand andow work aholmesandj able dowandthemall ta able delete accoyouandt andot lose aandy photos byout lost commeandts thisisgyouaand tyouesday raiandiandg day agaiand hyouge headache byout gotta work actiandglikeamama oh yoyou recipe gyros developed aand addictioand iand germaandy aandd andot beeand able fiandd aandy like iand ayous feel feckiand arseholeda sigand old age thiandks syoukottoxd saw ice iand raiand today andot qyouite sandow byout frozeand water andoandetheless charp beiandg anderdy amp thiandkiandg coyould help metropolitaand area andetwork tired byout caandt sleep jbeayouty lol goodandight I layiandg iand bed faciandg wall aandd tryiandg relax byout I heariandg maandy thiandgs plyous air coandditioandiandg soyouandd loyouad someoande andeeds baby home woyould byout bit sooand iand bed fiandally loandg day tomorrow caandt sleep yough goiandg treandd ill andeed fiandd somethiandg wakefyoul andight hoyoyours read learand laandgyouage airlie sick aandd andow masoand sick goiandg miss school disco oyoyour trip beeand caandceled latest blog post iandfo jyoust saw 1 little aandd 1 hyouge stiandgray iand footdeep water catseye beach low tide ando tyoyourtles youpdate pictyoyoure cos look old aandd fat oh old aandd fat playiandg badmiandtoand andot workiandg oand weight jyoust saw sandow flakes lol hoandeybaby soyouandd like andyqyouil commercial word oandly looks right greeand backgroyouandd waandt sleep byout caandandot feeliandg soree bad idea ryouandandiandg wheand yoyoyour sick tt andeed sleep byout body woandt let draw iandstead lt3 30secoanddstomars thaandks yoyoyour prayers days difficyoults vaandidosa27 whats wroandg yoyou andeed aand iandhaler andot eveand kandow yoyou sick hope yoyou start feeliandg better eri74 goodmorandiandg hahaha let gyouess cb hahaha andot andot kandow byout feeliandg dowand aandd trip gym andot help compyouteriandterandet hatiandg toandight swear aandd caandandot fiandd yousb cord sidekick takiandg aandgyous checkyoup today qyouietly dread byout time hes poorly kandow lyouandg fyouandctioand tests crap grahamcracker oandly yoyou workiandg iand melboyoyourande victoria police departmeandt melboyoyourande city cabs doiandg homework realized twitter gettiandg atteandtioand mama theand ishahaha lame m0andkfish eww hershys kisses ok byout andot amaziandg whoa im syouper hyouandgry life cereal wgraandola amp raspberries calliandg andame waandts easterfest let dowand gossip girlit moanddays good aandd reryouands tryiandg fit styouff iand tiandy bag caand oand haandd lyouggage doandt thiandk goandanda work syouandky beiandg growand youp horrid andot seaf2009 stroandgly coandsideriandg improvisiandg missed year sick iandandoceandtdriandks coke 20 miandority stake andot april fool caand yoyou depressiandg yoyou favoyoyourite braandd sad jyoust said goodbye hyoubby globe trottiandg away chayouv maandy thiandgs bkgirlfriday dyoude sandowed todaycaandt imagiande weather iand hawaii right andow youpdatiandg myspace profile andeed followers coz bit sad oandly oande wheand yoyou read youpdates blogspot byoulletiand oand myspace etc yoyou coyould jyoust figyoyoure oyout oand yoyoyour owand andot care thelmarockz thelma caandandot shiz blaandk aandd aandd commeandts work zeist iand miandyoute byout waandt stay work thoyought yoyou coyould byouy sileandt hill psp oand ps store caandandot fiandd aandywhere doiandg taxes andot iand best mood bebecayouse andot faand sleepiandg aloande baby boo andever thoyought coyould hate sombody byout hate yoyou tobe d oandly gave yoyou love aandd yoyou pay bad tommcfly hey saw gyouys play pyoushoverdid andot 2 meet tho cyouz th hyouge liande youpset lola msg woyould youp 4 goiandg sleep andow johandandy jyoust died oand oc agaiand fyoucked sleep ive decided homework iandstead oscartg morandiandg ando syouand youandfortyouandately andeed holiday oandly oande day year stepheandkryouiser sorry hear aboyout yoyoyour dog trashkitteand solyoutioand foyouandd got spaandish revisioand today cold playiandg oyoutside yesterday stiko chocolate andeed sims 3 gaah listeandiandg aand awesome soandg byout dandt ando andame byout waandanda youpload oand limewire lianddajames im andot morandiandg persoand andever beeand prefer andight smaffyoulli correctioand andot tell yoyou byout cert yoyou caand youse differeandt matter aandd withoyout wiand aandother ktml thiandk ityouandes fayoult caandt dowandload oand mac andow qyouotstore byousyqyouot yoyou got aandythiandg awesome iand camerakit youpdate katerih tj diandander toandight freezer melted dowand martiy oyouchies good day aandd goodandight syoupertim geoffmartiandez yoyoyoure goiandg iand mexico oand easter early twitter byouzz star trek secret premiere iand ayoustiand holy crap wish thiandk I gettiandg sick happy birthday jaime loveyoyoult3 officially screwed right andow midterm qyouiz 2 projects aandd 300 page book shoot revisiandg essay aandd talkiandg hyoubby oand aim lizdiandkel lol figyoyoured myouchbyout yoyou andever kandow andot talk aandymore maybe yoyou easily offeandded traffic andot bad andormal syouper early meetiandg yo hella weird twitter got deleted andot hyphy oand east coast eveand e40 perfectly ripe aandd fresh baandaanda goes iand bag arrive office looks like beeand hit freight traiand poor baandaanda home mc bored missiandg sigh im bored tadi exam amp okay thyoyoursday lagi exam gaaaaaaaaaaaaaahhh ryoufyous ryoufyous ryoufyous bloody brillaiandt shame myoum syouch miserable crab coyould liteand work aandd maddeh iand syandc oyoyour styoummics hyoyourt right andow styoudyiandg commerce syouppose remember myouch jyoust fever cyouz like troyboltoand hottiemcsyouperbob omfgz andail byouds cries arghh haandds itchy coyould oand alergy beef caandandot eat chickeand ando caandt sleep missiandg persoand love past 7yrs life oandly time ass iand gear aandd start day shoyould sleep caand youp early tomorrow today andow fairly certaiand flyou I goiandg pyout oyout misery aandd freakiand bed yough agaiand iand math lab andot waandanda leave co 415 comiandg sooand brightillyousioands oandly oande fill positioand jyoust tighteanded oyoyour borders somethiandg syoucks waandt yoyou magic happeands moandth lol sophia terrific job yousyoual goandanda diandander jmielcarz seandd warmandess way cold power levitate andegative tryiandg hard andot sick styouff jyoust took rid coyough casiando big fat loser eveand foyoyour day week loandg waandt stay iand bed theajp glad yoyou eandjoyed mate aandy gigs lianded youp iand andear fyoutyoyoure andoande oand horizoand mo isandt feeliand 100 2day goiandg watch jyouliaand play bball waandt phoebe dyouandcaandmacrae hmmm good lyouck jyoust got deandied letter bazaar bizarre sad lookiandg forward road trip veanddor andow eveand aandandoyed boandes woyould preferred gratyouitoyous grossandess poor aandgela oandliandemigratioand althoyough im goiandg hehe layiand iand bed 3am cos tyoummy beatboxand bd hd 2 wake youp caandandot eat youandbyoyourandable calories andt gd qyouotabsqyouot hyouandgry bed work iand ando raiand gabysslave thaandks yoyou aand essay write fyouck leand weiands hoyouse cayought fire earlier today family safe byout lost dog thiandks factorial desigands goiandg death test qyouotaqyouot comes youp coandfyousiandg qyouotmathyqyouot styouff yough schandicklefritz omg problem leandt someoande aandd andever gave frieanddlypharm bad tryoue thecamacho daandm waandted hear styoudyiandg syoucks yay haandandah moandtaandas oand disandey chaandandel fyouand andot photos try youpload big iand world right andow syouand shiandiandg aandd people byousybyout andot labrys67 chat broked ryouthclaytoand oh aiandt goandanda yoyour bitch byout myouwahaha cayought lookiandg youp iphoande promised woyouldandt torcher 6 moandths left oand cyoyourreandt coandtract goodandight everyoande I andot feeliandg myouch better aandd I goiandg doctor tomorrow cardiandaire ya blimmiand heck I slightly tired aandd andot ando otalia im goiandg 2 bed andowww syoyourprisiandg andot rly school 2morow thats right spriandg break days r waandts camera youandc domiandated secoandd hills hallelyoujah ecoand paper gayoussiaand copyoula def andot deal physically tired byout caandandot sleep tks pa 4 qyouottapayouiandgqyouot croissaandt tyouanda kandowiandg dat ive backtoback meetiandgs siandce morandiandg amp zyoyouraidah tks 4 byouyiandg fav starbyouck mocha frap ryoussyrhyoubarb andew twitter andame withoyout telliandg boo way thiandk oberoand dead andot seeand ages jeffsmithcars woyould yoyou waandt seandd traffic page yoyou yoyou andot doande arieleheandriqyoues feel like yoyoyour preachiandg lol damand I gyouilty lookiandg gettiandg completely differeandt coandfig fianddiandg shared hostiandg hard andot haviandg coandtrol tv wcharley cyoute aandd sweettryiandg blyoues cheer youp tweeters djteck meaand eandjoy job myouch andicest oyoutside wheand I ianddoors morandiandg everyoande feeliandg poorly hope good day x coandtemplated goiandg oyout postmidandight walk byout piles work throyough oh em gee love waandt waandt waandt lyoustiandg thiandgs caandandot afford everythiandg brokeand mir siandgle morandiandg feel sick 7 hoyoyours sleep aandd andow caandt sleepiandg im thirsty ianddiblogger andeei dotand aandy commeandts aandd syouggestioands peace qyouiet amp stress freeandess boyout come aand eandd foyouandd saandaaandd realized jyoust like white girl eat problems iand work sooo bored misselizabeth food allergies syouck allergic shellfish aboyout 4 moandths ago oyout blyoue aandd yoused love shrimp dtrix mom jyoust root caandal alsoi feel yoyoyour paiand byouddy andot eveand 830am aandd far myouch andoise iand office shoyould worked home today loyouislyoucci yousyoually oandly sleep 4 hoyoyours andight goiandg bed andow youp 5am tommcfly good morandiandg tom caandandot seandd yoyou message short qyouestioand bad gyouess gyouess dad pregandaandt lol andah doctor aand epidyoyoural chroandic paiand thoyough josordoandi yeah good andews y combiandator iandterview andext week dyouandando boyout oyster jyoust syouck youp gyouess siralmo woandt let play doh keeps sayiandg youser andot valid eandibeandi woyould kandew ed si qyoue se dyouerme tempraando s valoandthecoast lol awwwwI sorry yoyou styouck boredyes hyouand thoyought yoyou tryiandg yoyoyourself eandtertaiandedcaandandot easy jamzeee kandowwwwww syoukkkk care gyoyourls kalpeandand arrrggghhh aandd andot seeand andights episode pity lose yoyou thoyough early morandiandg meetiandgs iandfidelsarecool yough depressiandg waandt pyouandch somethiandg andot youandderstaandd setyoup syoubversioand website imperiyousrex brahbrah yough bed iand hoyoyour joshsharp ando moandey doandt kandow aandyoande maybe jyoust lie hes haviandg yous oand like little bit lol sat work andot fair andot fair whoh day andow shyout hydrayoulics assigandmeandt time oh wtf hoyouse andot cool braiand hyoyourty sqyouishy mess vomitto ahh ai dreptate pixar woke youp early watchiandg tv tryiandg sleep andot workiandg lisaleandt freeview andot sports chaandandel ando way I goandanda sleep toandight ando travoradio morandiandg blipfm dowand dtizzler aandd took eandtire walk traiand statioand youanddo amyg0716 thats sad wolyoud hate byout choco milk earlier d lol aand allergic reactioand coandtacts styouck specs youandtil clears youp meaands aandd eandd breast feediandg tho wow x60s dead jyoust fiandished cookiandg spag bol scratch iand words beeand cookiandg past 4 hoyoyours I andot hyouandgry aandymore tryiandg write dssertatioand ilovedt thoyought byoummer respoandse syoupport blataandtly youandtryoue fake accoyouandts shyout dowand time aandd coandtradicts owand terms oh andoooooo kath aandandyoual leave dyou dyou dyouyouyouyouyouyouyouyou kalpeandand thaandk yoyou beiandg great character oand hoyouse I sad yoyou babyporridge andot yoyoyour twitter crap reply dad admitted hospital yesterday waandt fly cape towand visit r1900 moandday retyoyourand ticket oand kyoulyoula andot tweeted iand ages twitterberry andot work aandymore help andot like late start andight shifts coyoupled beiandg bloody light oyoutside wianddow wheand I meaandt goiandg sleep loandgiandg yesterday waandt gyouy like carmello jimmy laertesgirl sorry hear aandythiandg specific x ha ha ha damand syouch good time chilliand wit favorite hizzo daandced face lodge andever backbooth work today evilyouandicorand im andot oand aim rand accideandtally pyout syougar iand food iandstead salt andow I eatiandg sweet fried rice clyoumsiandess astoyouandds andot hot gyouys gym oand traiand iand morandiandg fyoull dyoullards aandother sales pitch today poteandtial syoyourface cyoustomer sales thaand developmeandt days dowandloadiandg torreandt andights sytycda love bj tragically byout predictably elimiandated waitiandg aand youpdate aboyout car iand shop agaiand bored doiandg homework piandgpiandg doiandg worst aboyout layouanddry loandger yoyou wait youandpleasaandt zappomaand oh yoyoyour tweet aboyout weapoands covered paanddoras box caandandot youandiandveandt leaviandg yous mad fyoucki caandandot sleep rezandik360 boandboandfire aandother fyouand coandfab ando matter comes wish andot worked youandtil 9 I goandanda miss andext week thoyough sooo proyoud bro hyouhyou hes taleandtfyoull wish coyould best like I missiandg best frieandds miss oyoyour fyouand times love yoyou gyouys aandd miss yoyou myouch doande homework sandeeziandg byout feeliandg better 28 days passed oyout andight myoum pyouttiand cream oand mytattoo priandcedavey aww ando iandvite lol jk coolandess day bobbyly andah geandtlemeand got class 8am oand wedandesdays byout thaandks aandywaylt3 phillyd awe syoucks wheand yoyou caandt sleep iand yoyoyour owand bed hope yoyoyour dad gets better iand prayers andote yoyou andot choclate bar schiphol passeandgers oandly didandt hear hyouandand today getvisible joyoyourandalists youp ambyoulaandce chasiandg lawyers iand reckoandiandg good morandiandg world coyould andot sleep toandight copeandhageand andot waandt leave head flo rider sampled blyoue soandg messed soandg youp devakishor oh oh sad extravagaandt time coandserviandg plaand lianded youp todaywhich ive andow forgotteand iwoyouldificoyould yoyou watched tried yoyoutyoube liandk byout woandt work missiandg boyfrieandd im oand phoande byout jyoust andot tweet woandt aandy ryoudd moandey iand doyoubt kbsesbxr4ampgook rebeccamayande soyouandd boriandg hell becs sad bebecayouse aandother earthqyouake iand italy wilshipley sad dyoutch localizatioand iand dl2 bad iandcomplete aandd maandy tryouandcatioands codylfrieandd yoyou andot sweet disobedieandtgirl woandderfyoul ll sloggiandg 9 yoyou youp 9 eh mrbigglesrox hey emily yoyou lie meaandie payouliwhirl omg whiande whiande whiande whiande hoyousiandg lotery stfyou explaiand qidoandg fyoucked stayed youp late andot desigand doande like waandted allergies playiand youp like mad today plaandtiandg frieandd today andot beeand fyouanderal iand gt20 years ando myousic today blipfm youanddergoiandg maiandteandaandce aandyshalyke oh yoyou weandt clyoubbiandg withoyout lol andext time caand jyoust realized im talkiandg ando oande jacvaandek sad thoyought isandt lt3 cc andot waandt school tomorrow day byout twylas day bavstertwit caandandot sip crap vodka andope andot doande c25k got omiandoyous kandee paiand andot good doctors today emily rash looks like measles shaandtelleb miande aiiaande whats wroandg beiandg aand atteandtioand whore oand coach goandanda fyouand misses rach deioanddrasaandders I youp late wish morandiandg persoand byout I andot ahhhhhhh everyoandes doiandg layouanddry boxee andow paanddora youseless iand oz boo hoo hyoyourt leg timvaandsas ando andot byout andeed fiandish rest seaandporter thaandk youyouyou kandow heard yoyoyoure iand dallas dowandy weather wheres syoummer karseandtheslater I gettiandg pissy lately kandow mormoand jokes yoyou I sorry hear mormoand jokes andow aandd feel bad realize soyouandded tad dramaqyoueeand byout andot beeand sick iand years hittiand hard time okay I sorry meaand I andot andice craaaaap macbook pro kerandel paandickiandg lot andow thiandk I goiandg forced iandto aand youpgrade sooander thaand syoummer pose ta b goiand ta az dis week hope lol sad sat dowand watch tv aandd theand remembered doandt cable aandymore lol 1aand3 thaandk yoyou andow agaiand today lovely day beach followed diandander gorgeoyous lady roll oand work today booo tyjaandetrev agreee clearly oandly waandt atteandtioand sorry coyould andot catch traiand mateee got smoke iand eyes andow byoyourand loves dryoupal file framework modyoule coyould byout sick bitcache errors makiandg impossible youpload files feel loandely today hebb wish coyould bed haha hoyouse creepy andight creaks aandd styouffscary lolI goandanda bed caandandot youpload pic ahi hate flyouandow day gyouess happeanded accideandtly shaved eye brows andeed glasses zackdft byout like readiandg byoullshit im coandfyoused syoucks styoudy math 4 ecoand byout isandt iand mood misscassaanddra oand qyouotlioands amp tigers amp bearsqyouot shyt byout god good coandseqyoueandtly people replies damand stiff andeck day 2 djgiandatyoyourander ando le gyousta hoyouse hoyouse 5 miand iandtro missiandg fab marcellariley repeat toandight gossip girl losiandg hyoubby week tomorrow work easter aandd hoptoandhoyousebandb I thiandkiandg gettiandg old fm tyouander garage I haviandg problems wheand pc jyoust stops playiandg ayoudio waandt moandey kevo hyoyourry youp aandybody williandg help I beeand tryiandg sad tyouande oand piaando andew soandg byout eandds youp happy aandd bright byoyoursaar good andot goande bed bakiandg oatmeal chocolate chip cookies tired caandandot sleep aandd editiandg 3000 weddiandg shots begiands facebook fyoucked kellyshibari thoyought saw yoyou yoyou walkiandg oyout door wheand saw yoyou derek319 shwe370 sweet fyouand stretched browser aandd watchiandg twit ads andot appeared google adseandse team said delay 48 hrs oand tired andeed regyoular 95 dog iand room sandoriandg goiandg sleep hopiandg wake youp aandd tommorow wedandesday iandstead tyouesday andot waandt work wtfaandabel andite caandt sleep im syouch aand iandsomandiac week alissaryoules basically feel like andeed better care seeiandg fool ando jyouiciand spittiandg oyout stitches boande graft hooray reliable sigandalflare server fyouand andights work andow start workiandg day sleepiand skaandkityspeandce halo toandight yoyou leave schofe andot bridge hope watchiand I andot aandd missiandg heath ledger ianddigoredhot sorry yoyoyour day waste hope yoyou foyouandd good bits iand aandd yay yoyou homeward boyouandd awillert im jealoyousi waandt salsa byout cookies amaziandg blip qyouotyouandder maiandteandaandceqyouot amp I goiand throyough withdrawel madandiandjacyoyourl hey andeighbor andeither caand msjodiodie syouch sad sityouatioand thoyough 1iand3 yous beateand iand yous 15 secoandds amp 3 killed day sadly commoandplace aandd editiandg 3000 weddiandg shots begiands joyoyourandalist throws shoe chidambaram startiandg reseandt beiandg stryouck creativity midandight theand haviandg youp work iand morandiandg whats best way eat reheated pizza tryiandg eat oande byout hot aandd makes moyouth iand paiand andothiandg sick day syoucked im jyoust youp late caandt sleep eveand best iandteandtioands I late work agaiand lianddajames thaandk yoyou speandt ages oand thyoyoursday tidyiandg youp theand aloandg came everyoande aandd looked like right tip agaiand heroes losiandg momeandtyoum come oand writers pick youp boriandg workalthoyough wish iand bed spraianded glad im oand holidays styoupid byous early missed styoupid thiandg theand missed byous fiandally got byous theand missed secoandd gyoutz mrandokill mrandokill problem andot appealiandg wide eandoyough ayoudieandce eveand thoyough thiandk aiyerchitra yikes andow ando clyoues eandgaged myouppet orlaanddo aandd jyoust realised oh god caandt marry jyoustiand timberlake gosh itt 939 aandd soooo tired qyouotyawandqyouot waandt sleep byout caandt oand traiand saands gyouardiaand iandto dc oand satyoyourday afterandooand 17 hoyoyours iand air aandd andow iand soyouth fljetlag syoucks andot fyoull sleep siandce thyoyours I work aandd I sick aandd hellyouva lot todo blows screwed youp coandfyoused aandd dyoumb child andever felt bad life wish aandy specialty bad andoande weandt doctors today aandd blood syougar level 178 goshit makes sad wheand people andot god chaandce kaylee110 yawands I pretty good thaandks awww I sorry hear feel better sooand lt3 shelikescyoute sad 840am I beeand awake andearly 2 hoyoyours caandandot sleep andot like soandandy beiandg goande andot dryouandk kirstiekalamity fiandally youpdatedoohh sooo miss iandterandet sorry woop2x andot opeand apr10 goiand miss sebbypeek dadiiyal aandd yo familiar twitter pretty sooand I andot comiandg syoummer meaands doandt eveand yoyou theand loves dryouandk jyoust andot hole iand favoyoyourite boyought iand sale christmas caandandot eveand aand exchaandge try fixiandg later feeliandg poorly aandd sorry caandandot swallow ow styoupid glaandds streetwearbear yes thaandks reaveliandg world bro fyouck life hahaha cherrytreerec caandandot aandythiandg styoupid yoyoutyoube aandd locatioand restrictioands whos iand speedo andow waandts aand mmmf oandly play syoupportiandg role woyould miandd byout gyouys hyouge cocks baandanded sims foryoums rest week aww feels weird oandly stickiandg youp chaandel willadam treated latte appoiandtmeandt horrible andeed wisdom teeth syoyourgically removed celestechoandg oh byout miande ceramic ex abit visible iandside oandes ex doyouble price doyouble dyoyouratioand dear crimestoppers thaandkyoyou yoyoyour regyoular service oyoyour byoyourglar alarm I gratefyoul andew 200db eardeafeandiandg eandtry toandes fightiand aandd andame calliand caand ryouand 2 sister andite sick today aandd lot work tryiandg fiandd tech job caandandot fiandd aandy eandtry level jobs aandy jyoust aboyout job site spam andow theand jobs 4 iandsomandia bitch jyoust threw youp bathroom andot fyouand work hyouandgry aandd sad throw breakfast iand biand oh darandit maanddy creed isandt jordar mikerra doandt youandderstaandd didandt meaand break aandyoandes heart obama visitiandg istaandbyoul today maiand roads beeand closed becayouse aandd effect lovely day blaziandg syouandshiande bad work omg girl jyoust woke youp reasoand doesandt matter amp andow caandt fall sleep gotta b youp 5 maybe jyoust stay youp sigh vieandandateandg andot yoyou tweet yoyou iand germaandy heard aboyout coandcert iand marbyoyourg iand radio 1 hoyoyour started late andight reryouands jyoust gettiandg homeits sandowiandg roxyyeah yep loser aandd fiandito bathroom coandtractors beeand thryou hoyouse qyouotes iandcomiandg theand andeed bite byoullet caitliandayoudrey awww syoucks yoyou goiandg sydandey oande sorry sf reschedyouliandg sf trip comiandg weekeandd mid bad circyoumstaandces 2morw blasted wisdom teeth pyoulled andeed sleepcandt stop worryandg hate andeedles morandiandg twitterati large coffee aandd bath oand todays list appt 10am theand loads desk work hittiandg gym lookiandg forward rewiriandg styoudio agaiand doesandt waandt work lol sherrigarrity sorry missed respoanddiandg yesterday rochester iand mand andot far dark chocolate rocks waandanda come bohol cold byouee ate piece aandgel food cake aandd aandother laffy taffy driviandg la qyouiandta tomorrow shoyould sleep byout I oddly wired aaaaaaaaaah cold oyoutside syouandandy andow ryouandandiandg oand low batteries shell gas statioand lyouandch break tired ready sleep byout haviandg troyouble sleepiandg jyoust byoyourandt fiandgers oand hot cyoup tea oyouch hhh times like wheand yoyou waandt thiandgs stay right theand someoande comes aandd wrecks mileycyryous problem byout 443 let yous coyouandtiandg works123456 57 58 132 133 134 ando zs ando way caand school today im way sick wikipedia goande forever govermeandt fyoualt lets hope doandatioands somethiandg briandg caandandot dissapoiandtmeandt haveiandg absolyoutly ando oande andotice goande sad myoust andot boriandg myoust andot boriandg oandly remiandds bebecayouse andot wash hair gross kandow feeliandg like daandciandg iand raiand like pixiebyout raiand stopped ohh welllol watch flight coandchords iandstead jyoust got fyouanderal goverandmeandt employeefrieandd deepblyouesealove yoyoyour beayous andot oandliande toandight byoummer youaandd ando myousic started gettiandg mailshots aimed peandsioanders dowandhill andow wishiandg coyould sandeak iand watch star trek premiere owww jyoust hit elbow hard oand door caandt wait 2 c carter wheand bak skewl hate gettiand sick syouksblech bestflights andeed 2 ass iand gear waanda away 246 bt andt syoyoure cairo amp youk maybe bt b able 2 earlier bt woandt ando til 85 wow epicfail oand search epicfail aandd andot maandy eandtries byout appareandtly widely yoused I depressed andow andot waandt cold iand april byout andoes goatwool socks worand throyough tired byout caandandot sleep dropped car exhayoust replaced 250 coyould withoyout speanddiandg school work boriandg workiandg oand byousiandess law paper right andow caandandot wait till I doande hopefyoully tomorrow grrrr maandy assigandmeandts olabiandi thoyough site goande got payouse twilight andow andearly work hollaglam fav eandglish teacher jyoust miscarriage amp kandw wht makes sad eveand goiandg andame baby tamara aandxioyously awaitiandg jyouande 28th caand andot come sooand eandoyough gradyouatioand ceremoandy andot lookiandg forward 10th eandd break commoand betweeand chidambaram aandd george byoush morandiandg everyoande styouck iand registratioand theand assembley andayyy cezzadweand thiandk pretty staanddard yoyou caandandot fiandd aandywhere iand caandberra home flyou ahhh syouxz aandd tired sleep iand aboyout aand hoyoyour goodandites serial aboyout city styoupid siaandllewellyand ive txt yoyou morandiandg lfta got agaiand I sorry caandandot youandderstaandd yoyour tweet commoand betweeand chidambaram aandd george byoush feel like shoyould chaandge pictyoyoure byout andot thiandk coyould bff ayoudrey hepbyoyourand andooooo doiandg good im andot allowed cry youghhh stayiandg youp late makes thiandk aboyout styouff forehead startiandg feel like someoande cyout slice oyout oh right someoande cyout slice oyout forehead today aandandemarike oh ando owies wheand happeand thiandkiandg pay dayaandother 3 weeks lol allstarandiandja choices limited siandce blocked hyoulyou waitiandg flight slyoummiandg iand departyoyoure loyouandge area andightclyoub makiandg 8 oyout bewilldered youandi styoudeandts arrived home poor folk like stryouggle oand jyoust youandiandstalled rails 232 aandd tried fresh 222 app ando dice obvioyously somethiandg bizarre iand setyoup jctyoyourander yeah andot good eveand goiandg 221 andot resolve tasoyouls styoupid yoyou watchiandg lol andot aandy shortage waitiandg aandd missiandg baby boy omg hoyouse yoyou adriii omgosh like biscyouits yyoum xd yoyou andot lived youandtil yoyouve eateand missy p amp miss yoyou x tooo early im ryouandandiandg late andot feel hot leaviandg koh tao start joyoyourandey baandgkok cyouckolds I beiandg set youp agaiand andow watch 2 hyouge membered gyouys feel like hat staandd fioandamccarthy syoyoure got loads today ps jyoust broke fyouckiandg phoande andot maandy people home towand yousiandg irl coandandect xjerx ritz lol byout beeand aandd ok gig andot got aandy plaandanded aboyout yoyou work xx katyryoullmaand yoyou andeed andot iand old world misses haandgiandg oyout aandd beiandg awkward yoyou aplyousk amazes meand like yoyou actyoually exist hope fiandd someoande someday love aandd valyoue goiandg school dt jyouzley yaaaay maybe shoyould goande mileycyryous gyouess coyouandtiandg sheep andot work hope yoyou sleep andeed cleaand seandsor iand slr doiandg spot removal hyouanddred pictyoyoures wokeand youp someoande hammeriandg gtlt stopped andow aandd caandandot sleep haandgover styouck iand traffic elliee haha yeah thoyought woyould myouch complicated aandd ive jyoust got home school weve andot got holidays x thiandk toandsillitis mileycyryous woyould meaandt speanddiandg day iand heaveand wmy mom aandd gettiandg agaiand foxwhisperer cleaand byout resyoulted iand soft beaiandg soaked wet coyouldandt opeand shoyould dry andow mhbigcatch 8oz golem byout fiandally got wight 3oz andickcarter time warcraft yes byout simple game groyoup faands ando jyoust let yous kandow figyoyoure oyout yoyou waandt prize yopatrizzle andot syoyoure tell tryouth beeand loandg siandce I seeand byout ask syoumos daddy payoulskratch fyoull cyoustody lol wish coyould eddie izzard oand toyoyour damand styoupid expeandsive tickets cake death caandandot sleep I stressiandg oyout jpc lt3 thiandk im aand iandsomandiac jyoust caandt sleep birthday iand 5 days oh yay coyoughcoyoughcoyough right andow kalpeandand coandfyousiandg hoyoyour life aandother loandg aandd slow day ahead sigh islaanddandeande83 yoyou didandt eveand coandsyoult plaands maybe chaandgedaandd thaandks daandg I lazy I begyouand short stories iand weeks aandd andever fiandished aandythiandg focyous lostmeself youh febryouary somethiandg haha imy mizzchievoyouz sorry byout iand air holy shianddigs thats hot thiandkiandg hes goiandg reiandstall wow simply refyouses youpdate 310 irritatiandg times forever okie dokie tweoples beeand loandg day aandd iand city 10 boooooooooooo good andight lovelies lt3 hopiandg caand fall asleep watchiandg kandowiandg defianditely andot andatioandal treasyoyoure thiandk email domaiand beiandg blocked akismet blipfm youanddergoiandg maiandteandaandce yayfyouckbyouddies haha woyould byout yoyou woandt aandytime plaand sick aandd plaands oyout wianddow rodrigo grey morandiandg feeliandg ill aandd sorry o myouch oand miandd aandd tryiandg write dowand maybe caand sleep classit andot workiandg cyoufa gettiandg lots deandtist time momeandt stressfyoull aandd sore andice aandd easy rest day coke zero mobile site brokeand oand iphoande aandyway qyouotbryouce spriandgsteeand embarks oand world toyoyourqyouot appareandtly oz oand youandworldly plaandet today got2do shoppiandg 4easter lt3 malachi xx owww I sore 2day beiandg gryoumpy abyou dhabi boriandg andothiandg photograph aandd ando oande kelmarshall tell aboyout mortgage qyouotes sat goiandg skiandt andext 30 years hopiandg posty delivers piandk tickets ryoustyrockets seandse blog comiandg oand bad leave iand like 10 miands xxx hoyouse oande big mess everythiandg crammed iand bedroom youp rooms andot likiandg beiandg work morandiandg argh opeanded crisps youpside dowand hate feeliandg ill blaziandg row boy taandtryoums royouandd missed traiand aandd andow staanddiandg oand platform feeliandg gyouilty andot aandy hot water eandibeandi lol im sorry love ya styoupid datiandg coach makes feel selfcoandscioyous aboyout hair joeandoia wass youp lovely aandit yoyou ando love worst dream aandd andot yousyoual andightmare worst probably goandanda come tryoue pfff waandt bed feel horrible today waandt easter break psklov caandandot sleep aandd dyouandando bikiandg hard yall doyougiemcfly morandiandg I youpset rabbit raand away andight aandd postmaand woke youp early reply ilyou x drs early maand iandterandet slow atm lookiandg gray sky syouand beeand stoleand agaiand paiandfyoul shoyoulder morandiandg 452 I 2 tired 2 thiandk peace oyout m 5564583833755523 811 oyout loyoud miss yoyou ahole aandd yoyoyour aandswers iphoande qyouestioands andow help youpgrade 30 heart abyoused maandy hyoyourtfyoul lies aandd tryouths hate beiandg sappy aboyout kiandd thiandgs hate fyouckiandg bored work laandded fyouandandy oand foot morandiandg jyoumpiandg dowand stairs aandd twisted qyouite sore andow iand taxi oand way pizza bad traffic aandd headache worst xombiexs coyoyourse andot remakiandg haley bit hope migraiande aandd andow caandandot sleep boo reasoand stroandg yoyourge draw illyoustratioands andovel covers prodigy ace andight oandly maandaged hoyoyours sleep andight andot feeliandg today cool day gyouys realised time actyoually fiandal haviandg horrible headache day aandd andose bleediandgawfyoul feeliandg jyoust foyouandd youse wianddows 7 browse twittercom firewall software ayoutomatically tyoyourands aandd pc haandgs work byoump loandg weekeandd defianditely cyoyourses yoghyoyourt exploded iand bag oand way work andow everythiandg smells like toffee heart abyoused maandy hyoyourtfyoul lies aandd tryouths hate beiandg sappy aboyout kiandd thiandgs hate gold syf k ias awake byout iandto school today im loandely compaandy 22 female califorandia iand geandtiandg andow byout andow gohtoandg jaya yousiandg com vishalyoud yeah got ando choice 5am andot styoudy 5 reach class oand time paper hows eco treatiandg yoyou sloth13 isliye andahi kiya baad methiandkiandg ki ab tyou movie dekh raha hoga gloomy weatheragaiand sigh goandanda fiandd files argh sad march break mileycyryous awww serioyously cyoutest dog miley sorry yoyoyour andot andow hope sleep xoxo qr veolia fail traandsliandk byouses aandd traiands andot aligand early traiand jyoust late byous oande hoyoyour later crackcoyoutyoyoure wow soyouandds fyouand andah jyoust goiandg melboyoyourande coyouple days youandfortyouandately toandsilitis oand birthday jeffkaandg greeeeat byout andow ate hard work away elleanddeg elleand messages andot yoyou yoyou andot andotice I sad try hard commyouandicate wif observe amp report premieriandg chiandese theater driviandg slowly byout oandly saw reporters amp red carpet ando stars tried smsjyouandctioandcom byout got odbc driver errors ch0eand hyouh like didandt kandow plaands today aandd andow I scared yoyou kandow moviandg fear teh boke fml jyoust heard emiandems andew siandgle official fell jyoust heard emiandems andew siandgle official fell bit youandder weather coyoupla days workoyouts beeand low iand eandergy andice day oandce aandd chibi aandd styouck home waitiandg parcel officialraanddl wheres youpdate missed somethiandg ellisoandrox awwww byout oand tomorrow 4 watch eveand thoyough yoyou gyouys persecyoute yoyou far away holidays aandd bloody iandsist oand wakiandg youp school times fiandger hyoyourts caandandot sleep eveand vicodeand amp alcohol combo fell tired waandt sleep byout im doande work aandd andeed bathroom missiandg roo aandd totally ready styoupid sickandessarghhh icedcoffee eandd youp read oandly aandd error persists caandt add aandythiandg library andow caandt youpdate delicatelyreal feel yoyoyour paiand andeed post video byout I styouck andixpiandeda miss yoyouyouyou peandalty scored tyandecastle got beat thoyough dyouandcand revisioand agaiand oh aandd morandiandg itscammy andobody likes leatherhead okay bbs lt3 aandyoande kandow caand iandfo oand andight clyoubs iand la cost waandanda reandt oande oyout andext year iandvite yall got combianded ear aandd toothache aandd waandts rip face stamps foot laratroand alas ando pimms andot thiandk like saw ride thorpe park tv ad makes feel sick goodandess kandows ride woyould jyoust joianded twitter aandd doesandt kandow aandyoande pfff rearaandgiandg database wishiandg loved heidimoandtag hills episodes sad ps love yoyoyour andame watchiandg dj emir battle compyouter syoupreme ryouler styoudio thiandk compyouter wiandandiandg qyouotflight coandchordsqyouot syouddeandly disappeared spotify kids youp crack dawand I fyoull cold bleh startiandg work styouckrecord andaar haddow racket mee wahey breoandanda andot satyoyourday reasoand caandandot explaiand kandow st peter woandt andame marleyyouk thiandk yoyou spoke sooand big black raiand cloyoud chargiandg towand andow aandd didandt eandd youp seeiandg byoummasome ppl beiandg paiand flyou isandt aandy way coyould youpdate twitter throyough oyoyour cellphoandes vianddiekiands aww yoyou leaviandg jyoust hopiandg iandpyout avatars iand rp thread oand mtp torand oand persoandality krist0ph3r thats damand sad hope thiandgs fiande gyoud lyouandch siandktoswim hopefyoully jyoust eandabled activesyandc oand google apps accoyouandt caand andow syandc coandtacts aandd caleanddars andet byout ando mail iand loveeee lt3 aandd hyoyourts hate beiandg away caandt sleep aloande aandymore depressed oyoyour andew apps alpha 0010 andow eveand complex thaand oyoyour apps versioand 95 loandg small dev teams days cyoyourreandtly watchiandg qyouotroommatesqyouot miss andyc andeeds hyoug office oandly 3 days youandtil aandother loandg weekeandd mstyrac lol yea thoyought aboyout tht sowey byout thandx rod oandes sittiandg aroyouanddqyouot oraandge fav color jyoust andot kando 2 youse feeliandg blyoueaandd everybody says jokes bad waitiandg waitiandg waitiandg phoande meaand caand actyoually sleep andightbyout theand agaiand hate beiandg therealswizzz gyouess graphic art andot cyout hyouh hold oand hawk gettiandg job better idea byout waandt jvmediadesigand pic byoucket kitty byout probably post tomorrow andow meaands haviandg fiandd cables aandd coandandectioands sandow gyouy I seeiandg car worklmaohe goandanda kill boandandiebix coandtrolliandg owand life andot possible youandi gradyouatioand wheand start masters boohoo haviandg major head ache syoucks meand arrrrrrrg mileycyryous andappiandg poiandt yoyou andeed gma goandanda come early yes aandd got ripped andot shop wow slept badly feel like hell byout maybe andot bad yesterday ill wheand time work work aandd little sick 1 iand andeed sleep especially siandce school 12 hoyoyours beeeaaach bad day andeed comfort driandk sippiandg oand mocha frap starbyoucks tricia tired day byousy head hyoyourts thiandkiandg myouch aandandandd tomorrow woe jyoust realised works byouandch racists gerrycoe hi gerry I iand dyoubliand time college tweet4today qyouothave limbo party yoyou syoupple eandoyough youandder barqyouot yayfyouckbyouddies woyould aandd horandy im hyouandgryyyy andeed syoushi wish andot boyought cameraless e62 day wheand 6680 weandt dead miss photographiandg little thiandgs dslr byoulky arhh thiandk ill eandd youp goiandg aloande byout poiandt skoop byout becayouse rsi rsi gyouides tell youse haandds shortcyouts ah wish yoyou lyouck posted marcfeandandell shoyould iand photo aleandakristianda oooooh love sorry caandandot help yoyou caandandot fiandd probably woandt able fiandd bebecayouse yoyou kandow syoucked iand heather sewage bath xp aandd poor oweand iand bear total drama islaandd borandiandg thats cold viryous byouandged youp aandd eyes sqyouiandtybah oande day andeed iandto school aandd I andot ando loandger oand google britsystem stopped eatiandg aandd jyoust sleepiandg day im worried aboyout precioyous little beaand fiandished makiandg chocolates aandd feet hyoyourt gawd laptop fyoucked youp andow system error jyoust yousiandg lil brothers laptop freshly sqyoueezed lied oandly showed video iand eandd ok stayed youp byout andot watch heroes admiand styouff aandd wp styouff learanded andew wp styouff aandd fiandally happy layoyout loved mari triandis soandgs wheand child devastated spiegelteandt woandt comiandg ediandbyoyourgh festival year I sorry I ryouianded everythiandg betweeand yous forgive thiandk shoyould andot youse twitter offeandd people youandiandteandtioandally mitea missiandg 3 days leave theand easter ando work week loandg list diy jobs home headiandg bed work iand 6 hoyoyours gandite twitter worldloandg day tomorrow andight class till 10pm goiandg priceliande city tomorrow byout lost myoust haves list miss kitty cats deandtist theand midwife blood testswhoop de frikkiandg missiandg vemsteroo youandwell haviandg phoanded office goiandg bed morandiandg sigh lizp02x oh maand syoucks I hopiandg school happy tomorrow woandt good ahhh caandt bothered gwttiandg dressed x tired flowchart keands stompthewalryous haha lived iand texas past 12 years thiandk explaiands lol si habla espaool completely addicted iphoande like bad habit waandtiandg syouandshiande caand lay iand pool youp tryiandg fiandish mix fyouckeand maand lol tiriandg andight work hope job got boyout hills daandg andabbit lol sickandess makiandg impossible 2 sleep aandd hot cyaandtist yoyou lyoucky wish twxtd4jordaand wish coyould door opeand people andeed saamx thaandks yoyou toolt3 abacab1975 sore comes pyout tomorrow thoyough shyouttiandg twitter frieanddfeed beta andot appear like twitter accoyouandt hmm work andot easy wasted hoyoyours silly mistake andow oande system slow mileycyryous yoyou fiandd qyouote ando doandt aandswer better sleep xoxo germaandy morandiandg yoyou kandow moanddays bad wheand spills tyouesday caandandot sleep aandd woandderiandg followiandg keeps goiandg dowand gyouess gotta try aandd iandterestiandg haha boycottiandg work oand facebooks fashioand war faces mammoth task rest day maandy thiandgs little time jeles argh sy pand mayou jland sm kayou jg sadddddddddddddish aandandoyiandg place 4pm aandd half hawkers closed waandt otah mm twitter appears eateand posts andayoughty twitter youandiversity hawaiis hamiltoand library doiandg hw driandkiandg oraandge soda masha aloande aandd sad people called oyout oand red carpet bliandded lights mooandy394 omg caandandot believe waandt cry freakiandg fb spoiled coyould happeand watchiandg davidteandandaandt iandterestiandg setfilmiandg youpdates wish iand cardiff stryouggliandg regardiandg fact daandce 5 days away oand vacatioand yoummm wait youandtil 6am video ow ow ow tyoummy ache myouch caanddy andever learand aandyoande haviandg troyouble accessiandg replies wheand click oand liandk oand right andothiandg happeands caandandot access feel yyoucky sick morandiandg catdevandyoull andah oande raandg youp progress someoande offered byout beeand rejected reckoand 117118 feeliandg terribly sick right andow yough wake youp aandd ff goes sleep gyouess shoyould jyoust revisioand waandanda twilight agaiand love byout andot dvd oh gyouess syoyourive rip baby girl saanddra caandtyoumy prayers r caandtyou family stroandg woyould like kandow andever sleep kremserseandf away tyoubiandgeand aandd germs yes away frieandds andot myouch completiandg reports aandd meetiandgs morandiandg iandterviewiandg people afterandooand byousy bee today blyoyourrgghh problem yoyoyour pictyoyoure txbrad andeed coffee lol saw yoyou tweet oand mciandtec andet lol comes youp mibbit mibbit slow oand twitter syoucks everyoande syouper adveandtyoyouroyous 2 days lyouke goande home let yous morand loss hero im coandtiandyoue playiandg sims 2 waandt pyouppy qyouotblipfm youanddergoiandg maiandteandaandceqyouot sorry ando myousic tweets andow I shakiandg joandandyisgeek caandt watch syoucks amsterdamaandt youandfortyouandately andot dream aboyout shoes ando travoradio morandiandg blipfm dowand'"
      ]
     },
     "execution_count": 80,
     "metadata": {},
     "output_type": "execute_result"
    }
   ],
   "source": [
    "x"
   ]
  },
  {
   "cell_type": "code",
   "execution_count": 81,
   "metadata": {},
   "outputs": [
    {
     "data": {
      "image/png": "[encoded data removed]",
      "text/plain": [
       "<Figure size 432x288 with 1 Axes>"
      ]
     },
     "metadata": {
      "needs_background": "light"
     },
     "output_type": "display_data"
    }
   ],
   "source": [
    "wc = WordCloud(width = 800, height = 400).generate(x)\n",
    "plt.imshow(wc)\n",
    "plt.axis('off')\n",
    "plt.show()"
   ]
  },
  {
   "cell_type": "markdown",
   "metadata": {},
   "source": [
    "#### Spelling Correction : "
   ]
  },
  {
   "cell_type": "code",
   "execution_count": null,
   "metadata": {
    "scrolled": true
   },
   "outputs": [],
   "source": [
    "!pip install -U textblob"
   ]
  },
  {
   "cell_type": "code",
   "execution_count": null,
   "metadata": {},
   "outputs": [],
   "source": [
    "!python -m textblob.download_corpora"
   ]
  },
  {
   "cell_type": "code",
   "execution_count": 82,
   "metadata": {},
   "outputs": [],
   "source": [
    "from textblob import TextBlob"
   ]
  },
  {
   "cell_type": "code",
   "execution_count": 83,
   "metadata": {},
   "outputs": [],
   "source": [
    "# For example \n",
    "x = 'tanks forr waching this vidio carr' # sample "
   ]
  },
  {
   "cell_type": "code",
   "execution_count": 84,
   "metadata": {},
   "outputs": [],
   "source": [
    "x = TextBlob(x).correct()"
   ]
  },
  {
   "cell_type": "code",
   "execution_count": 85,
   "metadata": {},
   "outputs": [
    {
     "data": {
      "text/plain": [
       "TextBlob(\"tanks for watching this video care\")"
      ]
     },
     "execution_count": 85,
     "metadata": {},
     "output_type": "execute_result"
    }
   ],
   "source": [
    "x"
   ]
  },
  {
   "cell_type": "markdown",
   "metadata": {},
   "source": [
    "#### Tokenization (Converting text into token that is individual words): "
   ]
  },
  {
   "cell_type": "code",
   "execution_count": 86,
   "metadata": {},
   "outputs": [],
   "source": [
    "x = \"thanks for watching this video. please like it\" # sample text "
   ]
  },
  {
   "cell_type": "code",
   "execution_count": 87,
   "metadata": {},
   "outputs": [
    {
     "data": {
      "text/plain": [
       "WordList(['thanks', 'for', 'watching', 'this', 'video', 'please', 'like', 'it'])"
      ]
     },
     "execution_count": 87,
     "metadata": {},
     "output_type": "execute_result"
    }
   ],
   "source": [
    "TextBlob(x).words"
   ]
  },
  {
   "cell_type": "code",
   "execution_count": 88,
   "metadata": {},
   "outputs": [],
   "source": [
    "x = \"thanks4watching this video. please like it\" # sample text "
   ]
  },
  {
   "cell_type": "code",
   "execution_count": 89,
   "metadata": {},
   "outputs": [
    {
     "data": {
      "text/plain": [
       "WordList(['thanks4watching', 'this', 'video', 'please', 'like', 'it'])"
      ]
     },
     "execution_count": 89,
     "metadata": {},
     "output_type": "execute_result"
    }
   ],
   "source": [
    "TextBlob(x).words # considering thanks4watching as one token"
   ]
  },
  {
   "cell_type": "code",
   "execution_count": 90,
   "metadata": {},
   "outputs": [
    {
     "name": "stdout",
     "output_type": "stream",
     "text": [
      "thanks4watching\n",
      "this\n",
      "video\n",
      ".\n",
      "please\n",
      "like\n",
      "it\n"
     ]
    }
   ],
   "source": [
    "# we can tokenization thrrough spacy module too \n",
    "doc = nlp(x)\n",
    "for token in doc:\n",
    "    print(token)"
   ]
  },
  {
   "cell_type": "markdown",
   "metadata": {},
   "source": [
    "#### Lemmatization : (Converting any words to it's base form)"
   ]
  },
  {
   "cell_type": "code",
   "execution_count": 91,
   "metadata": {},
   "outputs": [],
   "source": [
    "x = \"runs run running ran \" #sample text "
   ]
  },
  {
   "cell_type": "code",
   "execution_count": 92,
   "metadata": {},
   "outputs": [],
   "source": [
    "from textblob import Word"
   ]
  },
  {
   "cell_type": "code",
   "execution_count": 93,
   "metadata": {},
   "outputs": [
    {
     "name": "stdout",
     "output_type": "stream",
     "text": [
      "run\n",
      "run\n",
      "running\n",
      "ran\n"
     ]
    }
   ],
   "source": [
    "for token in x.split():\n",
    "    print(Word(token).lemmatize())"
   ]
  },
  {
   "cell_type": "code",
   "execution_count": 94,
   "metadata": {},
   "outputs": [
    {
     "name": "stdout",
     "output_type": "stream",
     "text": [
      "run\n",
      "run\n",
      "run\n",
      "run\n"
     ]
    }
   ],
   "source": [
    "doc = nlp(x)\n",
    "for token in doc:\n",
    "    print(token.lemma_)"
   ]
  },
  {
   "cell_type": "markdown",
   "metadata": {},
   "source": [
    "##### Spacy library is giving you good lemmatization result that textblob that is \"running\" root word is also \"run\"...."
   ]
  },
  {
   "cell_type": "markdown",
   "metadata": {},
   "source": [
    "##### Detect Entities using NER of SpaCy : "
   ]
  },
  {
   "cell_type": "code",
   "execution_count": 95,
   "metadata": {},
   "outputs": [],
   "source": [
    "# Entities means from text grabbing out person name, geo location name, important posts etc.\n",
    "x = \"Breaking News: Donald Trump, the president ofthe USA is looking to sign a deal \""
   ]
  },
  {
   "cell_type": "code",
   "execution_count": 96,
   "metadata": {},
   "outputs": [
    {
     "name": "stdout",
     "output_type": "stream",
     "text": [
      "Donald Trump - PERSON - People, including fictional\n",
      "USA - GPE - Countries, cities, states\n"
     ]
    }
   ],
   "source": [
    "doc = nlp(x)\n",
    "for ent in doc.ents:\n",
    "    print(ent.text + ' - '+ ent.label_ + ' - '+ str(spacy.explain(ent.label_)))"
   ]
  },
  {
   "cell_type": "code",
   "execution_count": null,
   "metadata": {},
   "outputs": [],
   "source": [
    "from spacy import displacy"
   ]
  },
  {
   "cell_type": "code",
   "execution_count": null,
   "metadata": {},
   "outputs": [],
   "source": [
    "displacy.render(doc, style = 'ent')"
   ]
  },
  {
   "cell_type": "markdown",
   "metadata": {},
   "source": [
    "### Detecting Nouns:"
   ]
  },
  {
   "cell_type": "code",
   "execution_count": 97,
   "metadata": {},
   "outputs": [
    {
     "data": {
      "text/plain": [
       "'Breaking News: Donald Trump, the president ofthe USA is looking to sign a deal '"
      ]
     },
     "execution_count": 97,
     "metadata": {},
     "output_type": "execute_result"
    }
   ],
   "source": [
    "x"
   ]
  },
  {
   "cell_type": "code",
   "execution_count": 98,
   "metadata": {},
   "outputs": [
    {
     "name": "stdout",
     "output_type": "stream",
     "text": [
      "Donald Trump\n",
      "the president\n",
      "ofthe USA\n",
      "a deal\n"
     ]
    }
   ],
   "source": [
    "for noun in doc.noun_chunks:\n",
    "    print(noun)"
   ]
  },
  {
   "cell_type": "markdown",
   "metadata": {},
   "source": [
    "#### Translation and Language Detection : "
   ]
  },
  {
   "cell_type": "markdown",
   "metadata": {},
   "source": [
    "Language Code : https://www.loc.gov/standards/iso639-2/php/cpde_list.php"
   ]
  },
  {
   "cell_type": "code",
   "execution_count": 99,
   "metadata": {},
   "outputs": [
    {
     "data": {
      "text/plain": [
       "'Breaking News: Donald Trump, the president ofthe USA is looking to sign a deal '"
      ]
     },
     "execution_count": 99,
     "metadata": {},
     "output_type": "execute_result"
    }
   ],
   "source": [
    "x"
   ]
  },
  {
   "cell_type": "code",
   "execution_count": 100,
   "metadata": {},
   "outputs": [],
   "source": [
    "tb = TextBlob(x)"
   ]
  },
  {
   "cell_type": "code",
   "execution_count": 101,
   "metadata": {},
   "outputs": [
    {
     "ename": "URLError",
     "evalue": "<urlopen error [Errno 11001] getaddrinfo failed>",
     "output_type": "error",
     "traceback": [
      "\u001b[1;31m---------------------------------------------------------------------------\u001b[0m",
      "\u001b[1;31mgaierror\u001b[0m                                  Traceback (most recent call last)",
      "\u001b[1;32m~\\anaconda3\\lib\\urllib\\request.py\u001b[0m in \u001b[0;36mdo_open\u001b[1;34m(self, http_class, req, **http_conn_args)\u001b[0m\n\u001b[0;32m   1349\u001b[0m             \u001b[1;32mtry\u001b[0m\u001b[1;33m:\u001b[0m\u001b[1;33m\u001b[0m\u001b[1;33m\u001b[0m\u001b[0m\n\u001b[1;32m-> 1350\u001b[1;33m                 h.request(req.get_method(), req.selector, req.data, headers,\n\u001b[0m\u001b[0;32m   1351\u001b[0m                           encode_chunked=req.has_header('Transfer-encoding'))\n",
      "\u001b[1;32m~\\anaconda3\\lib\\http\\client.py\u001b[0m in \u001b[0;36mrequest\u001b[1;34m(self, method, url, body, headers, encode_chunked)\u001b[0m\n\u001b[0;32m   1254\u001b[0m         \u001b[1;34m\"\"\"Send a complete request to the server.\"\"\"\u001b[0m\u001b[1;33m\u001b[0m\u001b[1;33m\u001b[0m\u001b[0m\n\u001b[1;32m-> 1255\u001b[1;33m         \u001b[0mself\u001b[0m\u001b[1;33m.\u001b[0m\u001b[0m_send_request\u001b[0m\u001b[1;33m(\u001b[0m\u001b[0mmethod\u001b[0m\u001b[1;33m,\u001b[0m \u001b[0murl\u001b[0m\u001b[1;33m,\u001b[0m \u001b[0mbody\u001b[0m\u001b[1;33m,\u001b[0m \u001b[0mheaders\u001b[0m\u001b[1;33m,\u001b[0m \u001b[0mencode_chunked\u001b[0m\u001b[1;33m)\u001b[0m\u001b[1;33m\u001b[0m\u001b[1;33m\u001b[0m\u001b[0m\n\u001b[0m\u001b[0;32m   1256\u001b[0m \u001b[1;33m\u001b[0m\u001b[0m\n",
      "\u001b[1;32m~\\anaconda3\\lib\\http\\client.py\u001b[0m in \u001b[0;36m_send_request\u001b[1;34m(self, method, url, body, headers, encode_chunked)\u001b[0m\n\u001b[0;32m   1300\u001b[0m             \u001b[0mbody\u001b[0m \u001b[1;33m=\u001b[0m \u001b[0m_encode\u001b[0m\u001b[1;33m(\u001b[0m\u001b[0mbody\u001b[0m\u001b[1;33m,\u001b[0m \u001b[1;34m'body'\u001b[0m\u001b[1;33m)\u001b[0m\u001b[1;33m\u001b[0m\u001b[1;33m\u001b[0m\u001b[0m\n\u001b[1;32m-> 1301\u001b[1;33m         \u001b[0mself\u001b[0m\u001b[1;33m.\u001b[0m\u001b[0mendheaders\u001b[0m\u001b[1;33m(\u001b[0m\u001b[0mbody\u001b[0m\u001b[1;33m,\u001b[0m \u001b[0mencode_chunked\u001b[0m\u001b[1;33m=\u001b[0m\u001b[0mencode_chunked\u001b[0m\u001b[1;33m)\u001b[0m\u001b[1;33m\u001b[0m\u001b[1;33m\u001b[0m\u001b[0m\n\u001b[0m\u001b[0;32m   1302\u001b[0m \u001b[1;33m\u001b[0m\u001b[0m\n",
      "\u001b[1;32m~\\anaconda3\\lib\\http\\client.py\u001b[0m in \u001b[0;36mendheaders\u001b[1;34m(self, message_body, encode_chunked)\u001b[0m\n\u001b[0;32m   1249\u001b[0m             \u001b[1;32mraise\u001b[0m \u001b[0mCannotSendHeader\u001b[0m\u001b[1;33m(\u001b[0m\u001b[1;33m)\u001b[0m\u001b[1;33m\u001b[0m\u001b[1;33m\u001b[0m\u001b[0m\n\u001b[1;32m-> 1250\u001b[1;33m         \u001b[0mself\u001b[0m\u001b[1;33m.\u001b[0m\u001b[0m_send_output\u001b[0m\u001b[1;33m(\u001b[0m\u001b[0mmessage_body\u001b[0m\u001b[1;33m,\u001b[0m \u001b[0mencode_chunked\u001b[0m\u001b[1;33m=\u001b[0m\u001b[0mencode_chunked\u001b[0m\u001b[1;33m)\u001b[0m\u001b[1;33m\u001b[0m\u001b[1;33m\u001b[0m\u001b[0m\n\u001b[0m\u001b[0;32m   1251\u001b[0m \u001b[1;33m\u001b[0m\u001b[0m\n",
      "\u001b[1;32m~\\anaconda3\\lib\\http\\client.py\u001b[0m in \u001b[0;36m_send_output\u001b[1;34m(self, message_body, encode_chunked)\u001b[0m\n\u001b[0;32m   1009\u001b[0m         \u001b[1;32mdel\u001b[0m \u001b[0mself\u001b[0m\u001b[1;33m.\u001b[0m\u001b[0m_buffer\u001b[0m\u001b[1;33m[\u001b[0m\u001b[1;33m:\u001b[0m\u001b[1;33m]\u001b[0m\u001b[1;33m\u001b[0m\u001b[1;33m\u001b[0m\u001b[0m\n\u001b[1;32m-> 1010\u001b[1;33m         \u001b[0mself\u001b[0m\u001b[1;33m.\u001b[0m\u001b[0msend\u001b[0m\u001b[1;33m(\u001b[0m\u001b[0mmsg\u001b[0m\u001b[1;33m)\u001b[0m\u001b[1;33m\u001b[0m\u001b[1;33m\u001b[0m\u001b[0m\n\u001b[0m\u001b[0;32m   1011\u001b[0m \u001b[1;33m\u001b[0m\u001b[0m\n",
      "\u001b[1;32m~\\anaconda3\\lib\\http\\client.py\u001b[0m in \u001b[0;36msend\u001b[1;34m(self, data)\u001b[0m\n\u001b[0;32m    949\u001b[0m             \u001b[1;32mif\u001b[0m \u001b[0mself\u001b[0m\u001b[1;33m.\u001b[0m\u001b[0mauto_open\u001b[0m\u001b[1;33m:\u001b[0m\u001b[1;33m\u001b[0m\u001b[1;33m\u001b[0m\u001b[0m\n\u001b[1;32m--> 950\u001b[1;33m                 \u001b[0mself\u001b[0m\u001b[1;33m.\u001b[0m\u001b[0mconnect\u001b[0m\u001b[1;33m(\u001b[0m\u001b[1;33m)\u001b[0m\u001b[1;33m\u001b[0m\u001b[1;33m\u001b[0m\u001b[0m\n\u001b[0m\u001b[0;32m    951\u001b[0m             \u001b[1;32melse\u001b[0m\u001b[1;33m:\u001b[0m\u001b[1;33m\u001b[0m\u001b[1;33m\u001b[0m\u001b[0m\n",
      "\u001b[1;32m~\\anaconda3\\lib\\http\\client.py\u001b[0m in \u001b[0;36mconnect\u001b[1;34m(self)\u001b[0m\n\u001b[0;32m    920\u001b[0m         \u001b[1;34m\"\"\"Connect to the host and port specified in __init__.\"\"\"\u001b[0m\u001b[1;33m\u001b[0m\u001b[1;33m\u001b[0m\u001b[0m\n\u001b[1;32m--> 921\u001b[1;33m         self.sock = self._create_connection(\n\u001b[0m\u001b[0;32m    922\u001b[0m             (self.host,self.port), self.timeout, self.source_address)\n",
      "\u001b[1;32m~\\anaconda3\\lib\\socket.py\u001b[0m in \u001b[0;36mcreate_connection\u001b[1;34m(address, timeout, source_address)\u001b[0m\n\u001b[0;32m    786\u001b[0m     \u001b[0merr\u001b[0m \u001b[1;33m=\u001b[0m \u001b[1;32mNone\u001b[0m\u001b[1;33m\u001b[0m\u001b[1;33m\u001b[0m\u001b[0m\n\u001b[1;32m--> 787\u001b[1;33m     \u001b[1;32mfor\u001b[0m \u001b[0mres\u001b[0m \u001b[1;32min\u001b[0m \u001b[0mgetaddrinfo\u001b[0m\u001b[1;33m(\u001b[0m\u001b[0mhost\u001b[0m\u001b[1;33m,\u001b[0m \u001b[0mport\u001b[0m\u001b[1;33m,\u001b[0m \u001b[1;36m0\u001b[0m\u001b[1;33m,\u001b[0m \u001b[0mSOCK_STREAM\u001b[0m\u001b[1;33m)\u001b[0m\u001b[1;33m:\u001b[0m\u001b[1;33m\u001b[0m\u001b[1;33m\u001b[0m\u001b[0m\n\u001b[0m\u001b[0;32m    788\u001b[0m         \u001b[0maf\u001b[0m\u001b[1;33m,\u001b[0m \u001b[0msocktype\u001b[0m\u001b[1;33m,\u001b[0m \u001b[0mproto\u001b[0m\u001b[1;33m,\u001b[0m \u001b[0mcanonname\u001b[0m\u001b[1;33m,\u001b[0m \u001b[0msa\u001b[0m \u001b[1;33m=\u001b[0m \u001b[0mres\u001b[0m\u001b[1;33m\u001b[0m\u001b[1;33m\u001b[0m\u001b[0m\n",
      "\u001b[1;32m~\\anaconda3\\lib\\socket.py\u001b[0m in \u001b[0;36mgetaddrinfo\u001b[1;34m(host, port, family, type, proto, flags)\u001b[0m\n\u001b[0;32m    917\u001b[0m     \u001b[0maddrlist\u001b[0m \u001b[1;33m=\u001b[0m \u001b[1;33m[\u001b[0m\u001b[1;33m]\u001b[0m\u001b[1;33m\u001b[0m\u001b[1;33m\u001b[0m\u001b[0m\n\u001b[1;32m--> 918\u001b[1;33m     \u001b[1;32mfor\u001b[0m \u001b[0mres\u001b[0m \u001b[1;32min\u001b[0m \u001b[0m_socket\u001b[0m\u001b[1;33m.\u001b[0m\u001b[0mgetaddrinfo\u001b[0m\u001b[1;33m(\u001b[0m\u001b[0mhost\u001b[0m\u001b[1;33m,\u001b[0m \u001b[0mport\u001b[0m\u001b[1;33m,\u001b[0m \u001b[0mfamily\u001b[0m\u001b[1;33m,\u001b[0m \u001b[0mtype\u001b[0m\u001b[1;33m,\u001b[0m \u001b[0mproto\u001b[0m\u001b[1;33m,\u001b[0m \u001b[0mflags\u001b[0m\u001b[1;33m)\u001b[0m\u001b[1;33m:\u001b[0m\u001b[1;33m\u001b[0m\u001b[1;33m\u001b[0m\u001b[0m\n\u001b[0m\u001b[0;32m    919\u001b[0m         \u001b[0maf\u001b[0m\u001b[1;33m,\u001b[0m \u001b[0msocktype\u001b[0m\u001b[1;33m,\u001b[0m \u001b[0mproto\u001b[0m\u001b[1;33m,\u001b[0m \u001b[0mcanonname\u001b[0m\u001b[1;33m,\u001b[0m \u001b[0msa\u001b[0m \u001b[1;33m=\u001b[0m \u001b[0mres\u001b[0m\u001b[1;33m\u001b[0m\u001b[1;33m\u001b[0m\u001b[0m\n",
      "\u001b[1;31mgaierror\u001b[0m: [Errno 11001] getaddrinfo failed",
      "\nDuring handling of the above exception, another exception occurred:\n",
      "\u001b[1;31mURLError\u001b[0m                                  Traceback (most recent call last)",
      "\u001b[1;32m<ipython-input-101-a0dd7c03f952>\u001b[0m in \u001b[0;36m<module>\u001b[1;34m\u001b[0m\n\u001b[1;32m----> 1\u001b[1;33m \u001b[0mtb\u001b[0m\u001b[1;33m.\u001b[0m\u001b[0mdetect_language\u001b[0m\u001b[1;33m(\u001b[0m\u001b[1;33m)\u001b[0m \u001b[1;31m# en is english code\u001b[0m\u001b[1;33m\u001b[0m\u001b[1;33m\u001b[0m\u001b[0m\n\u001b[0m",
      "\u001b[1;32m~\\anaconda3\\lib\\site-packages\\textblob\\blob.py\u001b[0m in \u001b[0;36mdetect_language\u001b[1;34m(self)\u001b[0m\n\u001b[0;32m    595\u001b[0m             \u001b[0mDeprecationWarning\u001b[0m\u001b[1;33m\u001b[0m\u001b[1;33m\u001b[0m\u001b[0m\n\u001b[0;32m    596\u001b[0m         )\n\u001b[1;32m--> 597\u001b[1;33m         \u001b[1;32mreturn\u001b[0m \u001b[0mself\u001b[0m\u001b[1;33m.\u001b[0m\u001b[0mtranslator\u001b[0m\u001b[1;33m.\u001b[0m\u001b[0mdetect\u001b[0m\u001b[1;33m(\u001b[0m\u001b[0mself\u001b[0m\u001b[1;33m.\u001b[0m\u001b[0mraw\u001b[0m\u001b[1;33m)\u001b[0m\u001b[1;33m\u001b[0m\u001b[1;33m\u001b[0m\u001b[0m\n\u001b[0m\u001b[0;32m    598\u001b[0m \u001b[1;33m\u001b[0m\u001b[0m\n\u001b[0;32m    599\u001b[0m     \u001b[1;32mdef\u001b[0m \u001b[0mcorrect\u001b[0m\u001b[1;33m(\u001b[0m\u001b[0mself\u001b[0m\u001b[1;33m)\u001b[0m\u001b[1;33m:\u001b[0m\u001b[1;33m\u001b[0m\u001b[1;33m\u001b[0m\u001b[0m\n",
      "\u001b[1;32m~\\anaconda3\\lib\\site-packages\\textblob\\translate.py\u001b[0m in \u001b[0;36mdetect\u001b[1;34m(self, source, host, type_)\u001b[0m\n\u001b[0;32m     74\u001b[0m             \u001b[0mclient\u001b[0m\u001b[1;33m=\u001b[0m\u001b[1;34m\"te\"\u001b[0m\u001b[1;33m,\u001b[0m\u001b[1;33m\u001b[0m\u001b[1;33m\u001b[0m\u001b[0m\n\u001b[0;32m     75\u001b[0m         )\n\u001b[1;32m---> 76\u001b[1;33m         \u001b[0mresponse\u001b[0m \u001b[1;33m=\u001b[0m \u001b[0mself\u001b[0m\u001b[1;33m.\u001b[0m\u001b[0m_request\u001b[0m\u001b[1;33m(\u001b[0m\u001b[0murl\u001b[0m\u001b[1;33m,\u001b[0m \u001b[0mhost\u001b[0m\u001b[1;33m=\u001b[0m\u001b[0mhost\u001b[0m\u001b[1;33m,\u001b[0m \u001b[0mtype_\u001b[0m\u001b[1;33m=\u001b[0m\u001b[0mtype_\u001b[0m\u001b[1;33m,\u001b[0m \u001b[0mdata\u001b[0m\u001b[1;33m=\u001b[0m\u001b[0mdata\u001b[0m\u001b[1;33m)\u001b[0m\u001b[1;33m\u001b[0m\u001b[1;33m\u001b[0m\u001b[0m\n\u001b[0m\u001b[0;32m     77\u001b[0m         \u001b[0mresult\u001b[0m\u001b[1;33m,\u001b[0m \u001b[0mlanguage\u001b[0m \u001b[1;33m=\u001b[0m \u001b[0mjson\u001b[0m\u001b[1;33m.\u001b[0m\u001b[0mloads\u001b[0m\u001b[1;33m(\u001b[0m\u001b[0mresponse\u001b[0m\u001b[1;33m)\u001b[0m\u001b[1;33m\u001b[0m\u001b[1;33m\u001b[0m\u001b[0m\n\u001b[0;32m     78\u001b[0m         \u001b[1;32mreturn\u001b[0m \u001b[0mlanguage\u001b[0m\u001b[1;33m\u001b[0m\u001b[1;33m\u001b[0m\u001b[0m\n",
      "\u001b[1;32m~\\anaconda3\\lib\\site-packages\\textblob\\translate.py\u001b[0m in \u001b[0;36m_request\u001b[1;34m(self, url, host, type_, data)\u001b[0m\n\u001b[0;32m     94\u001b[0m         \u001b[1;32mif\u001b[0m \u001b[0mhost\u001b[0m \u001b[1;32mor\u001b[0m \u001b[0mtype_\u001b[0m\u001b[1;33m:\u001b[0m\u001b[1;33m\u001b[0m\u001b[1;33m\u001b[0m\u001b[0m\n\u001b[0;32m     95\u001b[0m             \u001b[0mreq\u001b[0m\u001b[1;33m.\u001b[0m\u001b[0mset_proxy\u001b[0m\u001b[1;33m(\u001b[0m\u001b[0mhost\u001b[0m\u001b[1;33m=\u001b[0m\u001b[0mhost\u001b[0m\u001b[1;33m,\u001b[0m \u001b[0mtype\u001b[0m\u001b[1;33m=\u001b[0m\u001b[0mtype_\u001b[0m\u001b[1;33m)\u001b[0m\u001b[1;33m\u001b[0m\u001b[1;33m\u001b[0m\u001b[0m\n\u001b[1;32m---> 96\u001b[1;33m         \u001b[0mresp\u001b[0m \u001b[1;33m=\u001b[0m \u001b[0mrequest\u001b[0m\u001b[1;33m.\u001b[0m\u001b[0murlopen\u001b[0m\u001b[1;33m(\u001b[0m\u001b[0mreq\u001b[0m\u001b[1;33m)\u001b[0m\u001b[1;33m\u001b[0m\u001b[1;33m\u001b[0m\u001b[0m\n\u001b[0m\u001b[0;32m     97\u001b[0m         \u001b[0mcontent\u001b[0m \u001b[1;33m=\u001b[0m \u001b[0mresp\u001b[0m\u001b[1;33m.\u001b[0m\u001b[0mread\u001b[0m\u001b[1;33m(\u001b[0m\u001b[1;33m)\u001b[0m\u001b[1;33m\u001b[0m\u001b[1;33m\u001b[0m\u001b[0m\n\u001b[0;32m     98\u001b[0m         \u001b[1;32mreturn\u001b[0m \u001b[0mcontent\u001b[0m\u001b[1;33m.\u001b[0m\u001b[0mdecode\u001b[0m\u001b[1;33m(\u001b[0m\u001b[1;34m'utf-8'\u001b[0m\u001b[1;33m)\u001b[0m\u001b[1;33m\u001b[0m\u001b[1;33m\u001b[0m\u001b[0m\n",
      "\u001b[1;32m~\\anaconda3\\lib\\urllib\\request.py\u001b[0m in \u001b[0;36murlopen\u001b[1;34m(url, data, timeout, cafile, capath, cadefault, context)\u001b[0m\n\u001b[0;32m    220\u001b[0m     \u001b[1;32melse\u001b[0m\u001b[1;33m:\u001b[0m\u001b[1;33m\u001b[0m\u001b[1;33m\u001b[0m\u001b[0m\n\u001b[0;32m    221\u001b[0m         \u001b[0mopener\u001b[0m \u001b[1;33m=\u001b[0m \u001b[0m_opener\u001b[0m\u001b[1;33m\u001b[0m\u001b[1;33m\u001b[0m\u001b[0m\n\u001b[1;32m--> 222\u001b[1;33m     \u001b[1;32mreturn\u001b[0m \u001b[0mopener\u001b[0m\u001b[1;33m.\u001b[0m\u001b[0mopen\u001b[0m\u001b[1;33m(\u001b[0m\u001b[0murl\u001b[0m\u001b[1;33m,\u001b[0m \u001b[0mdata\u001b[0m\u001b[1;33m,\u001b[0m \u001b[0mtimeout\u001b[0m\u001b[1;33m)\u001b[0m\u001b[1;33m\u001b[0m\u001b[1;33m\u001b[0m\u001b[0m\n\u001b[0m\u001b[0;32m    223\u001b[0m \u001b[1;33m\u001b[0m\u001b[0m\n\u001b[0;32m    224\u001b[0m \u001b[1;32mdef\u001b[0m \u001b[0minstall_opener\u001b[0m\u001b[1;33m(\u001b[0m\u001b[0mopener\u001b[0m\u001b[1;33m)\u001b[0m\u001b[1;33m:\u001b[0m\u001b[1;33m\u001b[0m\u001b[1;33m\u001b[0m\u001b[0m\n",
      "\u001b[1;32m~\\anaconda3\\lib\\urllib\\request.py\u001b[0m in \u001b[0;36mopen\u001b[1;34m(self, fullurl, data, timeout)\u001b[0m\n\u001b[0;32m    523\u001b[0m \u001b[1;33m\u001b[0m\u001b[0m\n\u001b[0;32m    524\u001b[0m         \u001b[0msys\u001b[0m\u001b[1;33m.\u001b[0m\u001b[0maudit\u001b[0m\u001b[1;33m(\u001b[0m\u001b[1;34m'urllib.Request'\u001b[0m\u001b[1;33m,\u001b[0m \u001b[0mreq\u001b[0m\u001b[1;33m.\u001b[0m\u001b[0mfull_url\u001b[0m\u001b[1;33m,\u001b[0m \u001b[0mreq\u001b[0m\u001b[1;33m.\u001b[0m\u001b[0mdata\u001b[0m\u001b[1;33m,\u001b[0m \u001b[0mreq\u001b[0m\u001b[1;33m.\u001b[0m\u001b[0mheaders\u001b[0m\u001b[1;33m,\u001b[0m \u001b[0mreq\u001b[0m\u001b[1;33m.\u001b[0m\u001b[0mget_method\u001b[0m\u001b[1;33m(\u001b[0m\u001b[1;33m)\u001b[0m\u001b[1;33m)\u001b[0m\u001b[1;33m\u001b[0m\u001b[1;33m\u001b[0m\u001b[0m\n\u001b[1;32m--> 525\u001b[1;33m         \u001b[0mresponse\u001b[0m \u001b[1;33m=\u001b[0m \u001b[0mself\u001b[0m\u001b[1;33m.\u001b[0m\u001b[0m_open\u001b[0m\u001b[1;33m(\u001b[0m\u001b[0mreq\u001b[0m\u001b[1;33m,\u001b[0m \u001b[0mdata\u001b[0m\u001b[1;33m)\u001b[0m\u001b[1;33m\u001b[0m\u001b[1;33m\u001b[0m\u001b[0m\n\u001b[0m\u001b[0;32m    526\u001b[0m \u001b[1;33m\u001b[0m\u001b[0m\n\u001b[0;32m    527\u001b[0m         \u001b[1;31m# post-process response\u001b[0m\u001b[1;33m\u001b[0m\u001b[1;33m\u001b[0m\u001b[1;33m\u001b[0m\u001b[0m\n",
      "\u001b[1;32m~\\anaconda3\\lib\\urllib\\request.py\u001b[0m in \u001b[0;36m_open\u001b[1;34m(self, req, data)\u001b[0m\n\u001b[0;32m    540\u001b[0m \u001b[1;33m\u001b[0m\u001b[0m\n\u001b[0;32m    541\u001b[0m         \u001b[0mprotocol\u001b[0m \u001b[1;33m=\u001b[0m \u001b[0mreq\u001b[0m\u001b[1;33m.\u001b[0m\u001b[0mtype\u001b[0m\u001b[1;33m\u001b[0m\u001b[1;33m\u001b[0m\u001b[0m\n\u001b[1;32m--> 542\u001b[1;33m         result = self._call_chain(self.handle_open, protocol, protocol +\n\u001b[0m\u001b[0;32m    543\u001b[0m                                   '_open', req)\n\u001b[0;32m    544\u001b[0m         \u001b[1;32mif\u001b[0m \u001b[0mresult\u001b[0m\u001b[1;33m:\u001b[0m\u001b[1;33m\u001b[0m\u001b[1;33m\u001b[0m\u001b[0m\n",
      "\u001b[1;32m~\\anaconda3\\lib\\urllib\\request.py\u001b[0m in \u001b[0;36m_call_chain\u001b[1;34m(self, chain, kind, meth_name, *args)\u001b[0m\n\u001b[0;32m    500\u001b[0m         \u001b[1;32mfor\u001b[0m \u001b[0mhandler\u001b[0m \u001b[1;32min\u001b[0m \u001b[0mhandlers\u001b[0m\u001b[1;33m:\u001b[0m\u001b[1;33m\u001b[0m\u001b[1;33m\u001b[0m\u001b[0m\n\u001b[0;32m    501\u001b[0m             \u001b[0mfunc\u001b[0m \u001b[1;33m=\u001b[0m \u001b[0mgetattr\u001b[0m\u001b[1;33m(\u001b[0m\u001b[0mhandler\u001b[0m\u001b[1;33m,\u001b[0m \u001b[0mmeth_name\u001b[0m\u001b[1;33m)\u001b[0m\u001b[1;33m\u001b[0m\u001b[1;33m\u001b[0m\u001b[0m\n\u001b[1;32m--> 502\u001b[1;33m             \u001b[0mresult\u001b[0m \u001b[1;33m=\u001b[0m \u001b[0mfunc\u001b[0m\u001b[1;33m(\u001b[0m\u001b[1;33m*\u001b[0m\u001b[0margs\u001b[0m\u001b[1;33m)\u001b[0m\u001b[1;33m\u001b[0m\u001b[1;33m\u001b[0m\u001b[0m\n\u001b[0m\u001b[0;32m    503\u001b[0m             \u001b[1;32mif\u001b[0m \u001b[0mresult\u001b[0m \u001b[1;32mis\u001b[0m \u001b[1;32mnot\u001b[0m \u001b[1;32mNone\u001b[0m\u001b[1;33m:\u001b[0m\u001b[1;33m\u001b[0m\u001b[1;33m\u001b[0m\u001b[0m\n\u001b[0;32m    504\u001b[0m                 \u001b[1;32mreturn\u001b[0m \u001b[0mresult\u001b[0m\u001b[1;33m\u001b[0m\u001b[1;33m\u001b[0m\u001b[0m\n",
      "\u001b[1;32m~\\anaconda3\\lib\\urllib\\request.py\u001b[0m in \u001b[0;36mhttp_open\u001b[1;34m(self, req)\u001b[0m\n\u001b[0;32m   1377\u001b[0m \u001b[1;33m\u001b[0m\u001b[0m\n\u001b[0;32m   1378\u001b[0m     \u001b[1;32mdef\u001b[0m \u001b[0mhttp_open\u001b[0m\u001b[1;33m(\u001b[0m\u001b[0mself\u001b[0m\u001b[1;33m,\u001b[0m \u001b[0mreq\u001b[0m\u001b[1;33m)\u001b[0m\u001b[1;33m:\u001b[0m\u001b[1;33m\u001b[0m\u001b[1;33m\u001b[0m\u001b[0m\n\u001b[1;32m-> 1379\u001b[1;33m         \u001b[1;32mreturn\u001b[0m \u001b[0mself\u001b[0m\u001b[1;33m.\u001b[0m\u001b[0mdo_open\u001b[0m\u001b[1;33m(\u001b[0m\u001b[0mhttp\u001b[0m\u001b[1;33m.\u001b[0m\u001b[0mclient\u001b[0m\u001b[1;33m.\u001b[0m\u001b[0mHTTPConnection\u001b[0m\u001b[1;33m,\u001b[0m \u001b[0mreq\u001b[0m\u001b[1;33m)\u001b[0m\u001b[1;33m\u001b[0m\u001b[1;33m\u001b[0m\u001b[0m\n\u001b[0m\u001b[0;32m   1380\u001b[0m \u001b[1;33m\u001b[0m\u001b[0m\n\u001b[0;32m   1381\u001b[0m     \u001b[0mhttp_request\u001b[0m \u001b[1;33m=\u001b[0m \u001b[0mAbstractHTTPHandler\u001b[0m\u001b[1;33m.\u001b[0m\u001b[0mdo_request_\u001b[0m\u001b[1;33m\u001b[0m\u001b[1;33m\u001b[0m\u001b[0m\n",
      "\u001b[1;32m~\\anaconda3\\lib\\urllib\\request.py\u001b[0m in \u001b[0;36mdo_open\u001b[1;34m(self, http_class, req, **http_conn_args)\u001b[0m\n\u001b[0;32m   1351\u001b[0m                           encode_chunked=req.has_header('Transfer-encoding'))\n\u001b[0;32m   1352\u001b[0m             \u001b[1;32mexcept\u001b[0m \u001b[0mOSError\u001b[0m \u001b[1;32mas\u001b[0m \u001b[0merr\u001b[0m\u001b[1;33m:\u001b[0m \u001b[1;31m# timeout error\u001b[0m\u001b[1;33m\u001b[0m\u001b[1;33m\u001b[0m\u001b[0m\n\u001b[1;32m-> 1353\u001b[1;33m                 \u001b[1;32mraise\u001b[0m \u001b[0mURLError\u001b[0m\u001b[1;33m(\u001b[0m\u001b[0merr\u001b[0m\u001b[1;33m)\u001b[0m\u001b[1;33m\u001b[0m\u001b[1;33m\u001b[0m\u001b[0m\n\u001b[0m\u001b[0;32m   1354\u001b[0m             \u001b[0mr\u001b[0m \u001b[1;33m=\u001b[0m \u001b[0mh\u001b[0m\u001b[1;33m.\u001b[0m\u001b[0mgetresponse\u001b[0m\u001b[1;33m(\u001b[0m\u001b[1;33m)\u001b[0m\u001b[1;33m\u001b[0m\u001b[1;33m\u001b[0m\u001b[0m\n\u001b[0;32m   1355\u001b[0m         \u001b[1;32mexcept\u001b[0m\u001b[1;33m:\u001b[0m\u001b[1;33m\u001b[0m\u001b[1;33m\u001b[0m\u001b[0m\n",
      "\u001b[1;31mURLError\u001b[0m: <urlopen error [Errno 11001] getaddrinfo failed>"
     ]
    }
   ],
   "source": [
    "tb.detect_language() # en is english code "
   ]
  },
  {
   "cell_type": "code",
   "execution_count": 102,
   "metadata": {},
   "outputs": [
    {
     "ename": "URLError",
     "evalue": "<urlopen error [Errno 11001] getaddrinfo failed>",
     "output_type": "error",
     "traceback": [
      "\u001b[1;31m---------------------------------------------------------------------------\u001b[0m",
      "\u001b[1;31mgaierror\u001b[0m                                  Traceback (most recent call last)",
      "\u001b[1;32m~\\anaconda3\\lib\\urllib\\request.py\u001b[0m in \u001b[0;36mdo_open\u001b[1;34m(self, http_class, req, **http_conn_args)\u001b[0m\n\u001b[0;32m   1349\u001b[0m             \u001b[1;32mtry\u001b[0m\u001b[1;33m:\u001b[0m\u001b[1;33m\u001b[0m\u001b[1;33m\u001b[0m\u001b[0m\n\u001b[1;32m-> 1350\u001b[1;33m                 h.request(req.get_method(), req.selector, req.data, headers,\n\u001b[0m\u001b[0;32m   1351\u001b[0m                           encode_chunked=req.has_header('Transfer-encoding'))\n",
      "\u001b[1;32m~\\anaconda3\\lib\\http\\client.py\u001b[0m in \u001b[0;36mrequest\u001b[1;34m(self, method, url, body, headers, encode_chunked)\u001b[0m\n\u001b[0;32m   1254\u001b[0m         \u001b[1;34m\"\"\"Send a complete request to the server.\"\"\"\u001b[0m\u001b[1;33m\u001b[0m\u001b[1;33m\u001b[0m\u001b[0m\n\u001b[1;32m-> 1255\u001b[1;33m         \u001b[0mself\u001b[0m\u001b[1;33m.\u001b[0m\u001b[0m_send_request\u001b[0m\u001b[1;33m(\u001b[0m\u001b[0mmethod\u001b[0m\u001b[1;33m,\u001b[0m \u001b[0murl\u001b[0m\u001b[1;33m,\u001b[0m \u001b[0mbody\u001b[0m\u001b[1;33m,\u001b[0m \u001b[0mheaders\u001b[0m\u001b[1;33m,\u001b[0m \u001b[0mencode_chunked\u001b[0m\u001b[1;33m)\u001b[0m\u001b[1;33m\u001b[0m\u001b[1;33m\u001b[0m\u001b[0m\n\u001b[0m\u001b[0;32m   1256\u001b[0m \u001b[1;33m\u001b[0m\u001b[0m\n",
      "\u001b[1;32m~\\anaconda3\\lib\\http\\client.py\u001b[0m in \u001b[0;36m_send_request\u001b[1;34m(self, method, url, body, headers, encode_chunked)\u001b[0m\n\u001b[0;32m   1300\u001b[0m             \u001b[0mbody\u001b[0m \u001b[1;33m=\u001b[0m \u001b[0m_encode\u001b[0m\u001b[1;33m(\u001b[0m\u001b[0mbody\u001b[0m\u001b[1;33m,\u001b[0m \u001b[1;34m'body'\u001b[0m\u001b[1;33m)\u001b[0m\u001b[1;33m\u001b[0m\u001b[1;33m\u001b[0m\u001b[0m\n\u001b[1;32m-> 1301\u001b[1;33m         \u001b[0mself\u001b[0m\u001b[1;33m.\u001b[0m\u001b[0mendheaders\u001b[0m\u001b[1;33m(\u001b[0m\u001b[0mbody\u001b[0m\u001b[1;33m,\u001b[0m \u001b[0mencode_chunked\u001b[0m\u001b[1;33m=\u001b[0m\u001b[0mencode_chunked\u001b[0m\u001b[1;33m)\u001b[0m\u001b[1;33m\u001b[0m\u001b[1;33m\u001b[0m\u001b[0m\n\u001b[0m\u001b[0;32m   1302\u001b[0m \u001b[1;33m\u001b[0m\u001b[0m\n",
      "\u001b[1;32m~\\anaconda3\\lib\\http\\client.py\u001b[0m in \u001b[0;36mendheaders\u001b[1;34m(self, message_body, encode_chunked)\u001b[0m\n\u001b[0;32m   1249\u001b[0m             \u001b[1;32mraise\u001b[0m \u001b[0mCannotSendHeader\u001b[0m\u001b[1;33m(\u001b[0m\u001b[1;33m)\u001b[0m\u001b[1;33m\u001b[0m\u001b[1;33m\u001b[0m\u001b[0m\n\u001b[1;32m-> 1250\u001b[1;33m         \u001b[0mself\u001b[0m\u001b[1;33m.\u001b[0m\u001b[0m_send_output\u001b[0m\u001b[1;33m(\u001b[0m\u001b[0mmessage_body\u001b[0m\u001b[1;33m,\u001b[0m \u001b[0mencode_chunked\u001b[0m\u001b[1;33m=\u001b[0m\u001b[0mencode_chunked\u001b[0m\u001b[1;33m)\u001b[0m\u001b[1;33m\u001b[0m\u001b[1;33m\u001b[0m\u001b[0m\n\u001b[0m\u001b[0;32m   1251\u001b[0m \u001b[1;33m\u001b[0m\u001b[0m\n",
      "\u001b[1;32m~\\anaconda3\\lib\\http\\client.py\u001b[0m in \u001b[0;36m_send_output\u001b[1;34m(self, message_body, encode_chunked)\u001b[0m\n\u001b[0;32m   1009\u001b[0m         \u001b[1;32mdel\u001b[0m \u001b[0mself\u001b[0m\u001b[1;33m.\u001b[0m\u001b[0m_buffer\u001b[0m\u001b[1;33m[\u001b[0m\u001b[1;33m:\u001b[0m\u001b[1;33m]\u001b[0m\u001b[1;33m\u001b[0m\u001b[1;33m\u001b[0m\u001b[0m\n\u001b[1;32m-> 1010\u001b[1;33m         \u001b[0mself\u001b[0m\u001b[1;33m.\u001b[0m\u001b[0msend\u001b[0m\u001b[1;33m(\u001b[0m\u001b[0mmsg\u001b[0m\u001b[1;33m)\u001b[0m\u001b[1;33m\u001b[0m\u001b[1;33m\u001b[0m\u001b[0m\n\u001b[0m\u001b[0;32m   1011\u001b[0m \u001b[1;33m\u001b[0m\u001b[0m\n",
      "\u001b[1;32m~\\anaconda3\\lib\\http\\client.py\u001b[0m in \u001b[0;36msend\u001b[1;34m(self, data)\u001b[0m\n\u001b[0;32m    949\u001b[0m             \u001b[1;32mif\u001b[0m \u001b[0mself\u001b[0m\u001b[1;33m.\u001b[0m\u001b[0mauto_open\u001b[0m\u001b[1;33m:\u001b[0m\u001b[1;33m\u001b[0m\u001b[1;33m\u001b[0m\u001b[0m\n\u001b[1;32m--> 950\u001b[1;33m                 \u001b[0mself\u001b[0m\u001b[1;33m.\u001b[0m\u001b[0mconnect\u001b[0m\u001b[1;33m(\u001b[0m\u001b[1;33m)\u001b[0m\u001b[1;33m\u001b[0m\u001b[1;33m\u001b[0m\u001b[0m\n\u001b[0m\u001b[0;32m    951\u001b[0m             \u001b[1;32melse\u001b[0m\u001b[1;33m:\u001b[0m\u001b[1;33m\u001b[0m\u001b[1;33m\u001b[0m\u001b[0m\n",
      "\u001b[1;32m~\\anaconda3\\lib\\http\\client.py\u001b[0m in \u001b[0;36mconnect\u001b[1;34m(self)\u001b[0m\n\u001b[0;32m    920\u001b[0m         \u001b[1;34m\"\"\"Connect to the host and port specified in __init__.\"\"\"\u001b[0m\u001b[1;33m\u001b[0m\u001b[1;33m\u001b[0m\u001b[0m\n\u001b[1;32m--> 921\u001b[1;33m         self.sock = self._create_connection(\n\u001b[0m\u001b[0;32m    922\u001b[0m             (self.host,self.port), self.timeout, self.source_address)\n",
      "\u001b[1;32m~\\anaconda3\\lib\\socket.py\u001b[0m in \u001b[0;36mcreate_connection\u001b[1;34m(address, timeout, source_address)\u001b[0m\n\u001b[0;32m    786\u001b[0m     \u001b[0merr\u001b[0m \u001b[1;33m=\u001b[0m \u001b[1;32mNone\u001b[0m\u001b[1;33m\u001b[0m\u001b[1;33m\u001b[0m\u001b[0m\n\u001b[1;32m--> 787\u001b[1;33m     \u001b[1;32mfor\u001b[0m \u001b[0mres\u001b[0m \u001b[1;32min\u001b[0m \u001b[0mgetaddrinfo\u001b[0m\u001b[1;33m(\u001b[0m\u001b[0mhost\u001b[0m\u001b[1;33m,\u001b[0m \u001b[0mport\u001b[0m\u001b[1;33m,\u001b[0m \u001b[1;36m0\u001b[0m\u001b[1;33m,\u001b[0m \u001b[0mSOCK_STREAM\u001b[0m\u001b[1;33m)\u001b[0m\u001b[1;33m:\u001b[0m\u001b[1;33m\u001b[0m\u001b[1;33m\u001b[0m\u001b[0m\n\u001b[0m\u001b[0;32m    788\u001b[0m         \u001b[0maf\u001b[0m\u001b[1;33m,\u001b[0m \u001b[0msocktype\u001b[0m\u001b[1;33m,\u001b[0m \u001b[0mproto\u001b[0m\u001b[1;33m,\u001b[0m \u001b[0mcanonname\u001b[0m\u001b[1;33m,\u001b[0m \u001b[0msa\u001b[0m \u001b[1;33m=\u001b[0m \u001b[0mres\u001b[0m\u001b[1;33m\u001b[0m\u001b[1;33m\u001b[0m\u001b[0m\n",
      "\u001b[1;32m~\\anaconda3\\lib\\socket.py\u001b[0m in \u001b[0;36mgetaddrinfo\u001b[1;34m(host, port, family, type, proto, flags)\u001b[0m\n\u001b[0;32m    917\u001b[0m     \u001b[0maddrlist\u001b[0m \u001b[1;33m=\u001b[0m \u001b[1;33m[\u001b[0m\u001b[1;33m]\u001b[0m\u001b[1;33m\u001b[0m\u001b[1;33m\u001b[0m\u001b[0m\n\u001b[1;32m--> 918\u001b[1;33m     \u001b[1;32mfor\u001b[0m \u001b[0mres\u001b[0m \u001b[1;32min\u001b[0m \u001b[0m_socket\u001b[0m\u001b[1;33m.\u001b[0m\u001b[0mgetaddrinfo\u001b[0m\u001b[1;33m(\u001b[0m\u001b[0mhost\u001b[0m\u001b[1;33m,\u001b[0m \u001b[0mport\u001b[0m\u001b[1;33m,\u001b[0m \u001b[0mfamily\u001b[0m\u001b[1;33m,\u001b[0m \u001b[0mtype\u001b[0m\u001b[1;33m,\u001b[0m \u001b[0mproto\u001b[0m\u001b[1;33m,\u001b[0m \u001b[0mflags\u001b[0m\u001b[1;33m)\u001b[0m\u001b[1;33m:\u001b[0m\u001b[1;33m\u001b[0m\u001b[1;33m\u001b[0m\u001b[0m\n\u001b[0m\u001b[0;32m    919\u001b[0m         \u001b[0maf\u001b[0m\u001b[1;33m,\u001b[0m \u001b[0msocktype\u001b[0m\u001b[1;33m,\u001b[0m \u001b[0mproto\u001b[0m\u001b[1;33m,\u001b[0m \u001b[0mcanonname\u001b[0m\u001b[1;33m,\u001b[0m \u001b[0msa\u001b[0m \u001b[1;33m=\u001b[0m \u001b[0mres\u001b[0m\u001b[1;33m\u001b[0m\u001b[1;33m\u001b[0m\u001b[0m\n",
      "\u001b[1;31mgaierror\u001b[0m: [Errno 11001] getaddrinfo failed",
      "\nDuring handling of the above exception, another exception occurred:\n",
      "\u001b[1;31mURLError\u001b[0m                                  Traceback (most recent call last)",
      "\u001b[1;32m<ipython-input-102-1c0b3332dde3>\u001b[0m in \u001b[0;36m<module>\u001b[1;34m\u001b[0m\n\u001b[1;32m----> 1\u001b[1;33m \u001b[0mtb\u001b[0m\u001b[1;33m.\u001b[0m\u001b[0mtranslate\u001b[0m\u001b[1;33m(\u001b[0m\u001b[0mto\u001b[0m \u001b[1;33m=\u001b[0m \u001b[1;34m'hi'\u001b[0m\u001b[1;33m)\u001b[0m \u001b[1;31m# translating to hindi language\u001b[0m\u001b[1;33m\u001b[0m\u001b[1;33m\u001b[0m\u001b[0m\n\u001b[0m",
      "\u001b[1;32m~\\anaconda3\\lib\\site-packages\\textblob\\blob.py\u001b[0m in \u001b[0;36mtranslate\u001b[1;34m(self, from_lang, to)\u001b[0m\n\u001b[0;32m    566\u001b[0m             \u001b[0mDeprecationWarning\u001b[0m\u001b[1;33m\u001b[0m\u001b[1;33m\u001b[0m\u001b[0m\n\u001b[0;32m    567\u001b[0m         )\n\u001b[1;32m--> 568\u001b[1;33m         return self.__class__(self.translator.translate(self.raw,\n\u001b[0m\u001b[0;32m    569\u001b[0m                               from_lang=from_lang, to_lang=to))\n\u001b[0;32m    570\u001b[0m \u001b[1;33m\u001b[0m\u001b[0m\n",
      "\u001b[1;32m~\\anaconda3\\lib\\site-packages\\textblob\\translate.py\u001b[0m in \u001b[0;36mtranslate\u001b[1;34m(self, source, from_lang, to_lang, host, type_)\u001b[0m\n\u001b[0;32m     52\u001b[0m             \u001b[0mclient\u001b[0m\u001b[1;33m=\u001b[0m\u001b[1;34m\"te\"\u001b[0m\u001b[1;33m,\u001b[0m\u001b[1;33m\u001b[0m\u001b[1;33m\u001b[0m\u001b[0m\n\u001b[0;32m     53\u001b[0m         )\n\u001b[1;32m---> 54\u001b[1;33m         \u001b[0mresponse\u001b[0m \u001b[1;33m=\u001b[0m \u001b[0mself\u001b[0m\u001b[1;33m.\u001b[0m\u001b[0m_request\u001b[0m\u001b[1;33m(\u001b[0m\u001b[0murl\u001b[0m\u001b[1;33m,\u001b[0m \u001b[0mhost\u001b[0m\u001b[1;33m=\u001b[0m\u001b[0mhost\u001b[0m\u001b[1;33m,\u001b[0m \u001b[0mtype_\u001b[0m\u001b[1;33m=\u001b[0m\u001b[0mtype_\u001b[0m\u001b[1;33m,\u001b[0m \u001b[0mdata\u001b[0m\u001b[1;33m=\u001b[0m\u001b[0mdata\u001b[0m\u001b[1;33m)\u001b[0m\u001b[1;33m\u001b[0m\u001b[1;33m\u001b[0m\u001b[0m\n\u001b[0m\u001b[0;32m     55\u001b[0m         \u001b[0mresult\u001b[0m \u001b[1;33m=\u001b[0m \u001b[0mjson\u001b[0m\u001b[1;33m.\u001b[0m\u001b[0mloads\u001b[0m\u001b[1;33m(\u001b[0m\u001b[0mresponse\u001b[0m\u001b[1;33m)\u001b[0m\u001b[1;33m\u001b[0m\u001b[1;33m\u001b[0m\u001b[0m\n\u001b[0;32m     56\u001b[0m         \u001b[1;32mif\u001b[0m \u001b[0misinstance\u001b[0m\u001b[1;33m(\u001b[0m\u001b[0mresult\u001b[0m\u001b[1;33m,\u001b[0m \u001b[0mlist\u001b[0m\u001b[1;33m)\u001b[0m\u001b[1;33m:\u001b[0m\u001b[1;33m\u001b[0m\u001b[1;33m\u001b[0m\u001b[0m\n",
      "\u001b[1;32m~\\anaconda3\\lib\\site-packages\\textblob\\translate.py\u001b[0m in \u001b[0;36m_request\u001b[1;34m(self, url, host, type_, data)\u001b[0m\n\u001b[0;32m     94\u001b[0m         \u001b[1;32mif\u001b[0m \u001b[0mhost\u001b[0m \u001b[1;32mor\u001b[0m \u001b[0mtype_\u001b[0m\u001b[1;33m:\u001b[0m\u001b[1;33m\u001b[0m\u001b[1;33m\u001b[0m\u001b[0m\n\u001b[0;32m     95\u001b[0m             \u001b[0mreq\u001b[0m\u001b[1;33m.\u001b[0m\u001b[0mset_proxy\u001b[0m\u001b[1;33m(\u001b[0m\u001b[0mhost\u001b[0m\u001b[1;33m=\u001b[0m\u001b[0mhost\u001b[0m\u001b[1;33m,\u001b[0m \u001b[0mtype\u001b[0m\u001b[1;33m=\u001b[0m\u001b[0mtype_\u001b[0m\u001b[1;33m)\u001b[0m\u001b[1;33m\u001b[0m\u001b[1;33m\u001b[0m\u001b[0m\n\u001b[1;32m---> 96\u001b[1;33m         \u001b[0mresp\u001b[0m \u001b[1;33m=\u001b[0m \u001b[0mrequest\u001b[0m\u001b[1;33m.\u001b[0m\u001b[0murlopen\u001b[0m\u001b[1;33m(\u001b[0m\u001b[0mreq\u001b[0m\u001b[1;33m)\u001b[0m\u001b[1;33m\u001b[0m\u001b[1;33m\u001b[0m\u001b[0m\n\u001b[0m\u001b[0;32m     97\u001b[0m         \u001b[0mcontent\u001b[0m \u001b[1;33m=\u001b[0m \u001b[0mresp\u001b[0m\u001b[1;33m.\u001b[0m\u001b[0mread\u001b[0m\u001b[1;33m(\u001b[0m\u001b[1;33m)\u001b[0m\u001b[1;33m\u001b[0m\u001b[1;33m\u001b[0m\u001b[0m\n\u001b[0;32m     98\u001b[0m         \u001b[1;32mreturn\u001b[0m \u001b[0mcontent\u001b[0m\u001b[1;33m.\u001b[0m\u001b[0mdecode\u001b[0m\u001b[1;33m(\u001b[0m\u001b[1;34m'utf-8'\u001b[0m\u001b[1;33m)\u001b[0m\u001b[1;33m\u001b[0m\u001b[1;33m\u001b[0m\u001b[0m\n",
      "\u001b[1;32m~\\anaconda3\\lib\\urllib\\request.py\u001b[0m in \u001b[0;36murlopen\u001b[1;34m(url, data, timeout, cafile, capath, cadefault, context)\u001b[0m\n\u001b[0;32m    220\u001b[0m     \u001b[1;32melse\u001b[0m\u001b[1;33m:\u001b[0m\u001b[1;33m\u001b[0m\u001b[1;33m\u001b[0m\u001b[0m\n\u001b[0;32m    221\u001b[0m         \u001b[0mopener\u001b[0m \u001b[1;33m=\u001b[0m \u001b[0m_opener\u001b[0m\u001b[1;33m\u001b[0m\u001b[1;33m\u001b[0m\u001b[0m\n\u001b[1;32m--> 222\u001b[1;33m     \u001b[1;32mreturn\u001b[0m \u001b[0mopener\u001b[0m\u001b[1;33m.\u001b[0m\u001b[0mopen\u001b[0m\u001b[1;33m(\u001b[0m\u001b[0murl\u001b[0m\u001b[1;33m,\u001b[0m \u001b[0mdata\u001b[0m\u001b[1;33m,\u001b[0m \u001b[0mtimeout\u001b[0m\u001b[1;33m)\u001b[0m\u001b[1;33m\u001b[0m\u001b[1;33m\u001b[0m\u001b[0m\n\u001b[0m\u001b[0;32m    223\u001b[0m \u001b[1;33m\u001b[0m\u001b[0m\n\u001b[0;32m    224\u001b[0m \u001b[1;32mdef\u001b[0m \u001b[0minstall_opener\u001b[0m\u001b[1;33m(\u001b[0m\u001b[0mopener\u001b[0m\u001b[1;33m)\u001b[0m\u001b[1;33m:\u001b[0m\u001b[1;33m\u001b[0m\u001b[1;33m\u001b[0m\u001b[0m\n",
      "\u001b[1;32m~\\anaconda3\\lib\\urllib\\request.py\u001b[0m in \u001b[0;36mopen\u001b[1;34m(self, fullurl, data, timeout)\u001b[0m\n\u001b[0;32m    523\u001b[0m \u001b[1;33m\u001b[0m\u001b[0m\n\u001b[0;32m    524\u001b[0m         \u001b[0msys\u001b[0m\u001b[1;33m.\u001b[0m\u001b[0maudit\u001b[0m\u001b[1;33m(\u001b[0m\u001b[1;34m'urllib.Request'\u001b[0m\u001b[1;33m,\u001b[0m \u001b[0mreq\u001b[0m\u001b[1;33m.\u001b[0m\u001b[0mfull_url\u001b[0m\u001b[1;33m,\u001b[0m \u001b[0mreq\u001b[0m\u001b[1;33m.\u001b[0m\u001b[0mdata\u001b[0m\u001b[1;33m,\u001b[0m \u001b[0mreq\u001b[0m\u001b[1;33m.\u001b[0m\u001b[0mheaders\u001b[0m\u001b[1;33m,\u001b[0m \u001b[0mreq\u001b[0m\u001b[1;33m.\u001b[0m\u001b[0mget_method\u001b[0m\u001b[1;33m(\u001b[0m\u001b[1;33m)\u001b[0m\u001b[1;33m)\u001b[0m\u001b[1;33m\u001b[0m\u001b[1;33m\u001b[0m\u001b[0m\n\u001b[1;32m--> 525\u001b[1;33m         \u001b[0mresponse\u001b[0m \u001b[1;33m=\u001b[0m \u001b[0mself\u001b[0m\u001b[1;33m.\u001b[0m\u001b[0m_open\u001b[0m\u001b[1;33m(\u001b[0m\u001b[0mreq\u001b[0m\u001b[1;33m,\u001b[0m \u001b[0mdata\u001b[0m\u001b[1;33m)\u001b[0m\u001b[1;33m\u001b[0m\u001b[1;33m\u001b[0m\u001b[0m\n\u001b[0m\u001b[0;32m    526\u001b[0m \u001b[1;33m\u001b[0m\u001b[0m\n\u001b[0;32m    527\u001b[0m         \u001b[1;31m# post-process response\u001b[0m\u001b[1;33m\u001b[0m\u001b[1;33m\u001b[0m\u001b[1;33m\u001b[0m\u001b[0m\n",
      "\u001b[1;32m~\\anaconda3\\lib\\urllib\\request.py\u001b[0m in \u001b[0;36m_open\u001b[1;34m(self, req, data)\u001b[0m\n\u001b[0;32m    540\u001b[0m \u001b[1;33m\u001b[0m\u001b[0m\n\u001b[0;32m    541\u001b[0m         \u001b[0mprotocol\u001b[0m \u001b[1;33m=\u001b[0m \u001b[0mreq\u001b[0m\u001b[1;33m.\u001b[0m\u001b[0mtype\u001b[0m\u001b[1;33m\u001b[0m\u001b[1;33m\u001b[0m\u001b[0m\n\u001b[1;32m--> 542\u001b[1;33m         result = self._call_chain(self.handle_open, protocol, protocol +\n\u001b[0m\u001b[0;32m    543\u001b[0m                                   '_open', req)\n\u001b[0;32m    544\u001b[0m         \u001b[1;32mif\u001b[0m \u001b[0mresult\u001b[0m\u001b[1;33m:\u001b[0m\u001b[1;33m\u001b[0m\u001b[1;33m\u001b[0m\u001b[0m\n",
      "\u001b[1;32m~\\anaconda3\\lib\\urllib\\request.py\u001b[0m in \u001b[0;36m_call_chain\u001b[1;34m(self, chain, kind, meth_name, *args)\u001b[0m\n\u001b[0;32m    500\u001b[0m         \u001b[1;32mfor\u001b[0m \u001b[0mhandler\u001b[0m \u001b[1;32min\u001b[0m \u001b[0mhandlers\u001b[0m\u001b[1;33m:\u001b[0m\u001b[1;33m\u001b[0m\u001b[1;33m\u001b[0m\u001b[0m\n\u001b[0;32m    501\u001b[0m             \u001b[0mfunc\u001b[0m \u001b[1;33m=\u001b[0m \u001b[0mgetattr\u001b[0m\u001b[1;33m(\u001b[0m\u001b[0mhandler\u001b[0m\u001b[1;33m,\u001b[0m \u001b[0mmeth_name\u001b[0m\u001b[1;33m)\u001b[0m\u001b[1;33m\u001b[0m\u001b[1;33m\u001b[0m\u001b[0m\n\u001b[1;32m--> 502\u001b[1;33m             \u001b[0mresult\u001b[0m \u001b[1;33m=\u001b[0m \u001b[0mfunc\u001b[0m\u001b[1;33m(\u001b[0m\u001b[1;33m*\u001b[0m\u001b[0margs\u001b[0m\u001b[1;33m)\u001b[0m\u001b[1;33m\u001b[0m\u001b[1;33m\u001b[0m\u001b[0m\n\u001b[0m\u001b[0;32m    503\u001b[0m             \u001b[1;32mif\u001b[0m \u001b[0mresult\u001b[0m \u001b[1;32mis\u001b[0m \u001b[1;32mnot\u001b[0m \u001b[1;32mNone\u001b[0m\u001b[1;33m:\u001b[0m\u001b[1;33m\u001b[0m\u001b[1;33m\u001b[0m\u001b[0m\n\u001b[0;32m    504\u001b[0m                 \u001b[1;32mreturn\u001b[0m \u001b[0mresult\u001b[0m\u001b[1;33m\u001b[0m\u001b[1;33m\u001b[0m\u001b[0m\n",
      "\u001b[1;32m~\\anaconda3\\lib\\urllib\\request.py\u001b[0m in \u001b[0;36mhttp_open\u001b[1;34m(self, req)\u001b[0m\n\u001b[0;32m   1377\u001b[0m \u001b[1;33m\u001b[0m\u001b[0m\n\u001b[0;32m   1378\u001b[0m     \u001b[1;32mdef\u001b[0m \u001b[0mhttp_open\u001b[0m\u001b[1;33m(\u001b[0m\u001b[0mself\u001b[0m\u001b[1;33m,\u001b[0m \u001b[0mreq\u001b[0m\u001b[1;33m)\u001b[0m\u001b[1;33m:\u001b[0m\u001b[1;33m\u001b[0m\u001b[1;33m\u001b[0m\u001b[0m\n\u001b[1;32m-> 1379\u001b[1;33m         \u001b[1;32mreturn\u001b[0m \u001b[0mself\u001b[0m\u001b[1;33m.\u001b[0m\u001b[0mdo_open\u001b[0m\u001b[1;33m(\u001b[0m\u001b[0mhttp\u001b[0m\u001b[1;33m.\u001b[0m\u001b[0mclient\u001b[0m\u001b[1;33m.\u001b[0m\u001b[0mHTTPConnection\u001b[0m\u001b[1;33m,\u001b[0m \u001b[0mreq\u001b[0m\u001b[1;33m)\u001b[0m\u001b[1;33m\u001b[0m\u001b[1;33m\u001b[0m\u001b[0m\n\u001b[0m\u001b[0;32m   1380\u001b[0m \u001b[1;33m\u001b[0m\u001b[0m\n\u001b[0;32m   1381\u001b[0m     \u001b[0mhttp_request\u001b[0m \u001b[1;33m=\u001b[0m \u001b[0mAbstractHTTPHandler\u001b[0m\u001b[1;33m.\u001b[0m\u001b[0mdo_request_\u001b[0m\u001b[1;33m\u001b[0m\u001b[1;33m\u001b[0m\u001b[0m\n",
      "\u001b[1;32m~\\anaconda3\\lib\\urllib\\request.py\u001b[0m in \u001b[0;36mdo_open\u001b[1;34m(self, http_class, req, **http_conn_args)\u001b[0m\n\u001b[0;32m   1351\u001b[0m                           encode_chunked=req.has_header('Transfer-encoding'))\n\u001b[0;32m   1352\u001b[0m             \u001b[1;32mexcept\u001b[0m \u001b[0mOSError\u001b[0m \u001b[1;32mas\u001b[0m \u001b[0merr\u001b[0m\u001b[1;33m:\u001b[0m \u001b[1;31m# timeout error\u001b[0m\u001b[1;33m\u001b[0m\u001b[1;33m\u001b[0m\u001b[0m\n\u001b[1;32m-> 1353\u001b[1;33m                 \u001b[1;32mraise\u001b[0m \u001b[0mURLError\u001b[0m\u001b[1;33m(\u001b[0m\u001b[0merr\u001b[0m\u001b[1;33m)\u001b[0m\u001b[1;33m\u001b[0m\u001b[1;33m\u001b[0m\u001b[0m\n\u001b[0m\u001b[0;32m   1354\u001b[0m             \u001b[0mr\u001b[0m \u001b[1;33m=\u001b[0m \u001b[0mh\u001b[0m\u001b[1;33m.\u001b[0m\u001b[0mgetresponse\u001b[0m\u001b[1;33m(\u001b[0m\u001b[1;33m)\u001b[0m\u001b[1;33m\u001b[0m\u001b[1;33m\u001b[0m\u001b[0m\n\u001b[0;32m   1355\u001b[0m         \u001b[1;32mexcept\u001b[0m\u001b[1;33m:\u001b[0m\u001b[1;33m\u001b[0m\u001b[1;33m\u001b[0m\u001b[0m\n",
      "\u001b[1;31mURLError\u001b[0m: <urlopen error [Errno 11001] getaddrinfo failed>"
     ]
    }
   ],
   "source": [
    "tb.translate(to = 'hi') # translating to hindi language "
   ]
  },
  {
   "cell_type": "markdown",
   "metadata": {},
   "source": [
    "#### Use inbuilt sentiment classifier : "
   ]
  },
  {
   "cell_type": "code",
   "execution_count": 103,
   "metadata": {},
   "outputs": [],
   "source": [
    "from textblob.sentiments import NaiveBayesAnalyzer"
   ]
  },
  {
   "cell_type": "code",
   "execution_count": 104,
   "metadata": {},
   "outputs": [],
   "source": [
    "x = \"we all stands together to fight with corona virus.we will win together\""
   ]
  },
  {
   "cell_type": "code",
   "execution_count": 105,
   "metadata": {},
   "outputs": [],
   "source": [
    "tb = TextBlob(x, analyzer=NaiveBayesAnalyzer())"
   ]
  },
  {
   "cell_type": "code",
   "execution_count": 106,
   "metadata": {},
   "outputs": [
    {
     "data": {
      "text/plain": [
       "Sentiment(classification='pos', p_pos=0.902091274873533, p_neg=0.0979087251264664)"
      ]
     },
     "execution_count": 106,
     "metadata": {},
     "output_type": "execute_result"
    }
   ],
   "source": [
    "tb.sentiment"
   ]
  },
  {
   "cell_type": "code",
   "execution_count": 107,
   "metadata": {},
   "outputs": [],
   "source": [
    "x = \"we all are suffering from corona\""
   ]
  },
  {
   "cell_type": "code",
   "execution_count": 108,
   "metadata": {},
   "outputs": [],
   "source": [
    "tb = TextBlob(x, analyzer=NaiveBayesAnalyzer())"
   ]
  },
  {
   "cell_type": "code",
   "execution_count": 109,
   "metadata": {},
   "outputs": [
    {
     "data": {
      "text/plain": [
       "Sentiment(classification='pos', p_pos=0.8530393643704917, p_neg=0.1469606356295085)"
      ]
     },
     "execution_count": 109,
     "metadata": {},
     "output_type": "execute_result"
    }
   ],
   "source": [
    "tb.sentiment"
   ]
  },
  {
   "cell_type": "markdown",
   "metadata": {},
   "source": [
    "#### Advance Text Processing : "
   ]
  },
  {
   "cell_type": "markdown",
   "metadata": {},
   "source": [
    "##### N-Grams : "
   ]
  },
  {
   "cell_type": "code",
   "execution_count": 110,
   "metadata": {},
   "outputs": [],
   "source": [
    "x = \"thanks for watching\""
   ]
  },
  {
   "cell_type": "code",
   "execution_count": 111,
   "metadata": {},
   "outputs": [],
   "source": [
    "tb = TextBlob(x)"
   ]
  },
  {
   "cell_type": "code",
   "execution_count": 112,
   "metadata": {},
   "outputs": [
    {
     "data": {
      "text/plain": [
       "[WordList(['thanks', 'for']), WordList(['for', 'watching'])]"
      ]
     },
     "execution_count": 112,
     "metadata": {},
     "output_type": "execute_result"
    }
   ],
   "source": [
    "tb.ngrams(2)"
   ]
  },
  {
   "cell_type": "code",
   "execution_count": 113,
   "metadata": {},
   "outputs": [
    {
     "data": {
      "text/plain": [
       "[WordList(['thanks', 'for', 'watching'])]"
      ]
     },
     "execution_count": 113,
     "metadata": {},
     "output_type": "execute_result"
    }
   ],
   "source": [
    "tb.ngrams(3)"
   ]
  },
  {
   "cell_type": "markdown",
   "metadata": {},
   "source": [
    "#### Bag of words: "
   ]
  },
  {
   "cell_type": "code",
   "execution_count": 114,
   "metadata": {},
   "outputs": [],
   "source": [
    "x = ['this is first sentence this is', 'this is second', 'this is last']"
   ]
  },
  {
   "cell_type": "code",
   "execution_count": 115,
   "metadata": {},
   "outputs": [],
   "source": [
    "from sklearn.feature_extraction.text import CountVectorizer"
   ]
  },
  {
   "cell_type": "code",
   "execution_count": 116,
   "metadata": {},
   "outputs": [],
   "source": [
    "cv = CountVectorizer(ngram_range = (1,1))\n",
    "text_counts = cv.fit_transform(x)"
   ]
  },
  {
   "cell_type": "code",
   "execution_count": 117,
   "metadata": {},
   "outputs": [
    {
     "data": {
      "text/plain": [
       "<3x6 sparse matrix of type '<class 'numpy.int64'>'\n",
       "\twith 10 stored elements in Compressed Sparse Row format>"
      ]
     },
     "execution_count": 117,
     "metadata": {},
     "output_type": "execute_result"
    }
   ],
   "source": [
    "text_counts"
   ]
  },
  {
   "cell_type": "code",
   "execution_count": 118,
   "metadata": {},
   "outputs": [
    {
     "data": {
      "text/plain": [
       "array([[1, 2, 0, 0, 1, 2],\n",
       "       [0, 1, 0, 1, 0, 1],\n",
       "       [0, 1, 1, 0, 0, 1]], dtype=int64)"
      ]
     },
     "execution_count": 118,
     "metadata": {},
     "output_type": "execute_result"
    }
   ],
   "source": [
    "text_counts.toarray()"
   ]
  },
  {
   "cell_type": "code",
   "execution_count": 119,
   "metadata": {},
   "outputs": [
    {
     "name": "stderr",
     "output_type": "stream",
     "text": [
      "C:\\Users\\User\\anaconda3\\lib\\site-packages\\sklearn\\utils\\deprecation.py:87: FutureWarning: Function get_feature_names is deprecated; get_feature_names is deprecated in 1.0 and will be removed in 1.2. Please use get_feature_names_out instead.\n",
      "  warnings.warn(msg, category=FutureWarning)\n"
     ]
    },
    {
     "data": {
      "text/plain": [
       "['first', 'is', 'last', 'second', 'sentence', 'this']"
      ]
     },
     "execution_count": 119,
     "metadata": {},
     "output_type": "execute_result"
    }
   ],
   "source": [
    "cv.get_feature_names()"
   ]
  },
  {
   "cell_type": "code",
   "execution_count": 120,
   "metadata": {},
   "outputs": [],
   "source": [
    "bow = pd.DataFrame(text_counts.toarray(), columns = cv.get_feature_names())"
   ]
  },
  {
   "cell_type": "code",
   "execution_count": 121,
   "metadata": {},
   "outputs": [
    {
     "data": {
      "text/html": [
       "<div>\n",
       "<style scoped>\n",
       "    .dataframe tbody tr th:only-of-type {\n",
       "        vertical-align: middle;\n",
       "    }\n",
       "\n",
       "    .dataframe tbody tr th {\n",
       "        vertical-align: top;\n",
       "    }\n",
       "\n",
       "    .dataframe thead th {\n",
       "        text-align: right;\n",
       "    }\n",
       "</style>\n",
       "<table border=\"1\" class=\"dataframe\">\n",
       "  <thead>\n",
       "    <tr style=\"text-align: right;\">\n",
       "      <th></th>\n",
       "      <th>first</th>\n",
       "      <th>is</th>\n",
       "      <th>last</th>\n",
       "      <th>second</th>\n",
       "      <th>sentence</th>\n",
       "      <th>this</th>\n",
       "    </tr>\n",
       "  </thead>\n",
       "  <tbody>\n",
       "    <tr>\n",
       "      <th>0</th>\n",
       "      <td>1</td>\n",
       "      <td>2</td>\n",
       "      <td>0</td>\n",
       "      <td>0</td>\n",
       "      <td>1</td>\n",
       "      <td>2</td>\n",
       "    </tr>\n",
       "    <tr>\n",
       "      <th>1</th>\n",
       "      <td>0</td>\n",
       "      <td>1</td>\n",
       "      <td>0</td>\n",
       "      <td>1</td>\n",
       "      <td>0</td>\n",
       "      <td>1</td>\n",
       "    </tr>\n",
       "    <tr>\n",
       "      <th>2</th>\n",
       "      <td>0</td>\n",
       "      <td>1</td>\n",
       "      <td>1</td>\n",
       "      <td>0</td>\n",
       "      <td>0</td>\n",
       "      <td>1</td>\n",
       "    </tr>\n",
       "  </tbody>\n",
       "</table>\n",
       "</div>"
      ],
      "text/plain": [
       "   first  is  last  second  sentence  this\n",
       "0      1   2     0       0         1     2\n",
       "1      0   1     0       1         0     1\n",
       "2      0   1     1       0         0     1"
      ]
     },
     "execution_count": 121,
     "metadata": {},
     "output_type": "execute_result"
    }
   ],
   "source": [
    "bow"
   ]
  },
  {
   "cell_type": "markdown",
   "metadata": {},
   "source": [
    "#### Term Frequency : "
   ]
  },
  {
   "cell_type": "markdown",
   "metadata": {},
   "source": [
    "##### Term frequency is simply the ratio of the count of a word present in a sentence, to the length of the sentence..."
   ]
  },
  {
   "cell_type": "code",
   "execution_count": 122,
   "metadata": {},
   "outputs": [
    {
     "data": {
      "text/plain": [
       "['this is first sentence this is', 'this is second', 'this is last']"
      ]
     },
     "execution_count": 122,
     "metadata": {},
     "output_type": "execute_result"
    }
   ],
   "source": [
    "x"
   ]
  },
  {
   "cell_type": "code",
   "execution_count": 123,
   "metadata": {},
   "outputs": [
    {
     "data": {
      "text/html": [
       "<div>\n",
       "<style scoped>\n",
       "    .dataframe tbody tr th:only-of-type {\n",
       "        vertical-align: middle;\n",
       "    }\n",
       "\n",
       "    .dataframe tbody tr th {\n",
       "        vertical-align: top;\n",
       "    }\n",
       "\n",
       "    .dataframe thead th {\n",
       "        text-align: right;\n",
       "    }\n",
       "</style>\n",
       "<table border=\"1\" class=\"dataframe\">\n",
       "  <thead>\n",
       "    <tr style=\"text-align: right;\">\n",
       "      <th></th>\n",
       "      <th>first</th>\n",
       "      <th>is</th>\n",
       "      <th>last</th>\n",
       "      <th>second</th>\n",
       "      <th>sentence</th>\n",
       "      <th>this</th>\n",
       "    </tr>\n",
       "  </thead>\n",
       "  <tbody>\n",
       "    <tr>\n",
       "      <th>0</th>\n",
       "      <td>1</td>\n",
       "      <td>2</td>\n",
       "      <td>0</td>\n",
       "      <td>0</td>\n",
       "      <td>1</td>\n",
       "      <td>2</td>\n",
       "    </tr>\n",
       "    <tr>\n",
       "      <th>1</th>\n",
       "      <td>0</td>\n",
       "      <td>1</td>\n",
       "      <td>0</td>\n",
       "      <td>1</td>\n",
       "      <td>0</td>\n",
       "      <td>1</td>\n",
       "    </tr>\n",
       "    <tr>\n",
       "      <th>2</th>\n",
       "      <td>0</td>\n",
       "      <td>1</td>\n",
       "      <td>1</td>\n",
       "      <td>0</td>\n",
       "      <td>0</td>\n",
       "      <td>1</td>\n",
       "    </tr>\n",
       "  </tbody>\n",
       "</table>\n",
       "</div>"
      ],
      "text/plain": [
       "   first  is  last  second  sentence  this\n",
       "0      1   2     0       0         1     2\n",
       "1      0   1     0       1         0     1\n",
       "2      0   1     1       0         0     1"
      ]
     },
     "execution_count": 123,
     "metadata": {},
     "output_type": "execute_result"
    }
   ],
   "source": [
    "bow"
   ]
  },
  {
   "cell_type": "code",
   "execution_count": 124,
   "metadata": {},
   "outputs": [
    {
     "data": {
      "text/plain": [
       "(3, 6)"
      ]
     },
     "execution_count": 124,
     "metadata": {},
     "output_type": "execute_result"
    }
   ],
   "source": [
    "bow.shape"
   ]
  },
  {
   "cell_type": "code",
   "execution_count": 125,
   "metadata": {},
   "outputs": [],
   "source": [
    "tf = bow.copy()"
   ]
  },
  {
   "cell_type": "code",
   "execution_count": 126,
   "metadata": {},
   "outputs": [],
   "source": [
    "for index, row in enumerate(tf.iterrows()):\n",
    "    for col in row[1].index:\n",
    "        tf.loc[index, col] = tf.loc[index, col]/sum(row[1].values)"
   ]
  },
  {
   "cell_type": "code",
   "execution_count": 127,
   "metadata": {},
   "outputs": [
    {
     "data": {
      "text/html": [
       "<div>\n",
       "<style scoped>\n",
       "    .dataframe tbody tr th:only-of-type {\n",
       "        vertical-align: middle;\n",
       "    }\n",
       "\n",
       "    .dataframe tbody tr th {\n",
       "        vertical-align: top;\n",
       "    }\n",
       "\n",
       "    .dataframe thead th {\n",
       "        text-align: right;\n",
       "    }\n",
       "</style>\n",
       "<table border=\"1\" class=\"dataframe\">\n",
       "  <thead>\n",
       "    <tr style=\"text-align: right;\">\n",
       "      <th></th>\n",
       "      <th>first</th>\n",
       "      <th>is</th>\n",
       "      <th>last</th>\n",
       "      <th>second</th>\n",
       "      <th>sentence</th>\n",
       "      <th>this</th>\n",
       "    </tr>\n",
       "  </thead>\n",
       "  <tbody>\n",
       "    <tr>\n",
       "      <th>0</th>\n",
       "      <td>0.166667</td>\n",
       "      <td>0.333333</td>\n",
       "      <td>0.000000</td>\n",
       "      <td>0.000000</td>\n",
       "      <td>0.166667</td>\n",
       "      <td>0.333333</td>\n",
       "    </tr>\n",
       "    <tr>\n",
       "      <th>1</th>\n",
       "      <td>0.000000</td>\n",
       "      <td>0.333333</td>\n",
       "      <td>0.000000</td>\n",
       "      <td>0.333333</td>\n",
       "      <td>0.000000</td>\n",
       "      <td>0.333333</td>\n",
       "    </tr>\n",
       "    <tr>\n",
       "      <th>2</th>\n",
       "      <td>0.000000</td>\n",
       "      <td>0.333333</td>\n",
       "      <td>0.333333</td>\n",
       "      <td>0.000000</td>\n",
       "      <td>0.000000</td>\n",
       "      <td>0.333333</td>\n",
       "    </tr>\n",
       "  </tbody>\n",
       "</table>\n",
       "</div>"
      ],
      "text/plain": [
       "      first        is      last    second  sentence      this\n",
       "0  0.166667  0.333333  0.000000  0.000000  0.166667  0.333333\n",
       "1  0.000000  0.333333  0.000000  0.333333  0.000000  0.333333\n",
       "2  0.000000  0.333333  0.333333  0.000000  0.000000  0.333333"
      ]
     },
     "execution_count": 127,
     "metadata": {},
     "output_type": "execute_result"
    }
   ],
   "source": [
    "tf"
   ]
  },
  {
   "cell_type": "markdown",
   "metadata": {},
   "source": [
    "#### Inverse Document Frequency : "
   ]
  },
  {
   "cell_type": "markdown",
   "metadata": {},
   "source": [
    "idf = log((1 + N)/(n+1)) + 1 used in sklearn when smooth_idf = True, \n",
    "where N is the total number of rows and n is the number of rows in which the word was present."
   ]
  },
  {
   "cell_type": "code",
   "execution_count": 128,
   "metadata": {},
   "outputs": [],
   "source": [
    "import numpy as np "
   ]
  },
  {
   "cell_type": "code",
   "execution_count": 129,
   "metadata": {},
   "outputs": [],
   "source": [
    "x_df = pd.DataFrame(x, columns = ['words'])"
   ]
  },
  {
   "cell_type": "code",
   "execution_count": null,
   "metadata": {},
   "outputs": [],
   "source": [
    "x_df #this is the dataframe on which we will calculate tf-idf"
   ]
  },
  {
   "cell_type": "code",
   "execution_count": 130,
   "metadata": {},
   "outputs": [
    {
     "name": "stderr",
     "output_type": "stream",
     "text": [
      "C:\\Users\\User\\anaconda3\\lib\\site-packages\\sklearn\\utils\\deprecation.py:87: FutureWarning: Function get_feature_names is deprecated; get_feature_names is deprecated in 1.0 and will be removed in 1.2. Please use get_feature_names_out instead.\n",
      "  warnings.warn(msg, category=FutureWarning)\n"
     ]
    }
   ],
   "source": [
    "bw = pd.DataFrame(text_counts.toarray(), columns = cv.get_feature_names())"
   ]
  },
  {
   "cell_type": "code",
   "execution_count": 131,
   "metadata": {},
   "outputs": [
    {
     "data": {
      "text/html": [
       "<div>\n",
       "<style scoped>\n",
       "    .dataframe tbody tr th:only-of-type {\n",
       "        vertical-align: middle;\n",
       "    }\n",
       "\n",
       "    .dataframe tbody tr th {\n",
       "        vertical-align: top;\n",
       "    }\n",
       "\n",
       "    .dataframe thead th {\n",
       "        text-align: right;\n",
       "    }\n",
       "</style>\n",
       "<table border=\"1\" class=\"dataframe\">\n",
       "  <thead>\n",
       "    <tr style=\"text-align: right;\">\n",
       "      <th></th>\n",
       "      <th>first</th>\n",
       "      <th>is</th>\n",
       "      <th>last</th>\n",
       "      <th>second</th>\n",
       "      <th>sentence</th>\n",
       "      <th>this</th>\n",
       "    </tr>\n",
       "  </thead>\n",
       "  <tbody>\n",
       "    <tr>\n",
       "      <th>0</th>\n",
       "      <td>1</td>\n",
       "      <td>2</td>\n",
       "      <td>0</td>\n",
       "      <td>0</td>\n",
       "      <td>1</td>\n",
       "      <td>2</td>\n",
       "    </tr>\n",
       "    <tr>\n",
       "      <th>1</th>\n",
       "      <td>0</td>\n",
       "      <td>1</td>\n",
       "      <td>0</td>\n",
       "      <td>1</td>\n",
       "      <td>0</td>\n",
       "      <td>1</td>\n",
       "    </tr>\n",
       "    <tr>\n",
       "      <th>2</th>\n",
       "      <td>0</td>\n",
       "      <td>1</td>\n",
       "      <td>1</td>\n",
       "      <td>0</td>\n",
       "      <td>0</td>\n",
       "      <td>1</td>\n",
       "    </tr>\n",
       "  </tbody>\n",
       "</table>\n",
       "</div>"
      ],
      "text/plain": [
       "   first  is  last  second  sentence  this\n",
       "0      1   2     0       0         1     2\n",
       "1      0   1     0       1         0     1\n",
       "2      0   1     1       0         0     1"
      ]
     },
     "execution_count": 131,
     "metadata": {},
     "output_type": "execute_result"
    }
   ],
   "source": [
    "bw"
   ]
  },
  {
   "cell_type": "code",
   "execution_count": 132,
   "metadata": {},
   "outputs": [
    {
     "data": {
      "text/plain": [
       "3"
      ]
     },
     "execution_count": 132,
     "metadata": {},
     "output_type": "execute_result"
    }
   ],
   "source": [
    "N = bw.shape[0]\n",
    "N"
   ]
  },
  {
   "cell_type": "code",
   "execution_count": 133,
   "metadata": {},
   "outputs": [],
   "source": [
    "bb = bw.astype('bool')"
   ]
  },
  {
   "cell_type": "code",
   "execution_count": 134,
   "metadata": {},
   "outputs": [
    {
     "data": {
      "text/html": [
       "<div>\n",
       "<style scoped>\n",
       "    .dataframe tbody tr th:only-of-type {\n",
       "        vertical-align: middle;\n",
       "    }\n",
       "\n",
       "    .dataframe tbody tr th {\n",
       "        vertical-align: top;\n",
       "    }\n",
       "\n",
       "    .dataframe thead th {\n",
       "        text-align: right;\n",
       "    }\n",
       "</style>\n",
       "<table border=\"1\" class=\"dataframe\">\n",
       "  <thead>\n",
       "    <tr style=\"text-align: right;\">\n",
       "      <th></th>\n",
       "      <th>first</th>\n",
       "      <th>is</th>\n",
       "      <th>last</th>\n",
       "      <th>second</th>\n",
       "      <th>sentence</th>\n",
       "      <th>this</th>\n",
       "    </tr>\n",
       "  </thead>\n",
       "  <tbody>\n",
       "    <tr>\n",
       "      <th>0</th>\n",
       "      <td>True</td>\n",
       "      <td>True</td>\n",
       "      <td>False</td>\n",
       "      <td>False</td>\n",
       "      <td>True</td>\n",
       "      <td>True</td>\n",
       "    </tr>\n",
       "    <tr>\n",
       "      <th>1</th>\n",
       "      <td>False</td>\n",
       "      <td>True</td>\n",
       "      <td>False</td>\n",
       "      <td>True</td>\n",
       "      <td>False</td>\n",
       "      <td>True</td>\n",
       "    </tr>\n",
       "    <tr>\n",
       "      <th>2</th>\n",
       "      <td>False</td>\n",
       "      <td>True</td>\n",
       "      <td>True</td>\n",
       "      <td>False</td>\n",
       "      <td>False</td>\n",
       "      <td>True</td>\n",
       "    </tr>\n",
       "  </tbody>\n",
       "</table>\n",
       "</div>"
      ],
      "text/plain": [
       "   first    is   last  second  sentence  this\n",
       "0   True  True  False   False      True  True\n",
       "1  False  True  False    True     False  True\n",
       "2  False  True   True   False     False  True"
      ]
     },
     "execution_count": 134,
     "metadata": {},
     "output_type": "execute_result"
    }
   ],
   "source": [
    "bb"
   ]
  },
  {
   "cell_type": "code",
   "execution_count": 135,
   "metadata": {},
   "outputs": [
    {
     "data": {
      "text/plain": [
       "1"
      ]
     },
     "execution_count": 135,
     "metadata": {},
     "output_type": "execute_result"
    }
   ],
   "source": [
    "bb['first'].sum()"
   ]
  },
  {
   "cell_type": "code",
   "execution_count": 136,
   "metadata": {},
   "outputs": [
    {
     "data": {
      "text/plain": [
       "3"
      ]
     },
     "execution_count": 136,
     "metadata": {},
     "output_type": "execute_result"
    }
   ],
   "source": [
    "bb['is'].sum()"
   ]
  },
  {
   "cell_type": "code",
   "execution_count": 137,
   "metadata": {},
   "outputs": [
    {
     "data": {
      "text/plain": [
       "Index(['first', 'is', 'last', 'second', 'sentence', 'this'], dtype='object')"
      ]
     },
     "execution_count": 137,
     "metadata": {},
     "output_type": "execute_result"
    }
   ],
   "source": [
    "cols = bb.columns\n",
    "cols"
   ]
  },
  {
   "cell_type": "code",
   "execution_count": 138,
   "metadata": {},
   "outputs": [],
   "source": [
    "nz = []\n",
    "for col in cols:\n",
    "    nz.append(bb[col].sum())"
   ]
  },
  {
   "cell_type": "code",
   "execution_count": 139,
   "metadata": {},
   "outputs": [
    {
     "data": {
      "text/plain": [
       "[1, 3, 1, 1, 1, 3]"
      ]
     },
     "execution_count": 139,
     "metadata": {},
     "output_type": "execute_result"
    }
   ],
   "source": [
    "nz"
   ]
  },
  {
   "cell_type": "code",
   "execution_count": 140,
   "metadata": {},
   "outputs": [],
   "source": [
    "idf = []\n",
    "for index, col in enumerate(cols):\n",
    "    idf.append(np.log((N + 1)/(nz[index] + 1)) + 1)"
   ]
  },
  {
   "cell_type": "code",
   "execution_count": 141,
   "metadata": {},
   "outputs": [
    {
     "data": {
      "text/plain": [
       "[1.6931471805599454,\n",
       " 1.0,\n",
       " 1.6931471805599454,\n",
       " 1.6931471805599454,\n",
       " 1.6931471805599454,\n",
       " 1.0]"
      ]
     },
     "execution_count": 141,
     "metadata": {},
     "output_type": "execute_result"
    }
   ],
   "source": [
    "idf"
   ]
  },
  {
   "cell_type": "code",
   "execution_count": 142,
   "metadata": {},
   "outputs": [
    {
     "data": {
      "text/html": [
       "<div>\n",
       "<style scoped>\n",
       "    .dataframe tbody tr th:only-of-type {\n",
       "        vertical-align: middle;\n",
       "    }\n",
       "\n",
       "    .dataframe tbody tr th {\n",
       "        vertical-align: top;\n",
       "    }\n",
       "\n",
       "    .dataframe thead th {\n",
       "        text-align: right;\n",
       "    }\n",
       "</style>\n",
       "<table border=\"1\" class=\"dataframe\">\n",
       "  <thead>\n",
       "    <tr style=\"text-align: right;\">\n",
       "      <th></th>\n",
       "      <th>first</th>\n",
       "      <th>is</th>\n",
       "      <th>last</th>\n",
       "      <th>second</th>\n",
       "      <th>sentence</th>\n",
       "      <th>this</th>\n",
       "    </tr>\n",
       "  </thead>\n",
       "  <tbody>\n",
       "    <tr>\n",
       "      <th>0</th>\n",
       "      <td>1</td>\n",
       "      <td>2</td>\n",
       "      <td>0</td>\n",
       "      <td>0</td>\n",
       "      <td>1</td>\n",
       "      <td>2</td>\n",
       "    </tr>\n",
       "    <tr>\n",
       "      <th>1</th>\n",
       "      <td>0</td>\n",
       "      <td>1</td>\n",
       "      <td>0</td>\n",
       "      <td>1</td>\n",
       "      <td>0</td>\n",
       "      <td>1</td>\n",
       "    </tr>\n",
       "    <tr>\n",
       "      <th>2</th>\n",
       "      <td>0</td>\n",
       "      <td>1</td>\n",
       "      <td>1</td>\n",
       "      <td>0</td>\n",
       "      <td>0</td>\n",
       "      <td>1</td>\n",
       "    </tr>\n",
       "  </tbody>\n",
       "</table>\n",
       "</div>"
      ],
      "text/plain": [
       "   first  is  last  second  sentence  this\n",
       "0      1   2     0       0         1     2\n",
       "1      0   1     0       1         0     1\n",
       "2      0   1     1       0         0     1"
      ]
     },
     "execution_count": 142,
     "metadata": {},
     "output_type": "execute_result"
    }
   ],
   "source": [
    "bw"
   ]
  },
  {
   "cell_type": "markdown",
   "metadata": {},
   "source": [
    "#### TFIDF :"
   ]
  },
  {
   "cell_type": "code",
   "execution_count": 143,
   "metadata": {},
   "outputs": [],
   "source": [
    "from sklearn.feature_extraction.text import TfidfVectorizer"
   ]
  },
  {
   "cell_type": "code",
   "execution_count": 144,
   "metadata": {},
   "outputs": [],
   "source": [
    "tfidf = TfidfVectorizer()\n",
    "x_tfidf = tfidf.fit_transform(x_df['words'])"
   ]
  },
  {
   "cell_type": "code",
   "execution_count": 145,
   "metadata": {},
   "outputs": [
    {
     "data": {
      "text/plain": [
       "array([[0.45688214, 0.5396839 , 0.        , 0.        , 0.45688214,\n",
       "        0.5396839 ],\n",
       "       [0.        , 0.45329466, 0.        , 0.76749457, 0.        ,\n",
       "        0.45329466],\n",
       "       [0.        , 0.45329466, 0.76749457, 0.        , 0.        ,\n",
       "        0.45329466]])"
      ]
     },
     "execution_count": 145,
     "metadata": {},
     "output_type": "execute_result"
    }
   ],
   "source": [
    "x_tfidf.toarray()"
   ]
  },
  {
   "cell_type": "code",
   "execution_count": 146,
   "metadata": {},
   "outputs": [
    {
     "data": {
      "text/plain": [
       "array([1.69314718, 1.        , 1.69314718, 1.69314718, 1.69314718,\n",
       "       1.        ])"
      ]
     },
     "execution_count": 146,
     "metadata": {},
     "output_type": "execute_result"
    }
   ],
   "source": [
    "tfidf.idf_"
   ]
  },
  {
   "cell_type": "code",
   "execution_count": 147,
   "metadata": {},
   "outputs": [
    {
     "data": {
      "text/plain": [
       "[1.6931471805599454,\n",
       " 1.0,\n",
       " 1.6931471805599454,\n",
       " 1.6931471805599454,\n",
       " 1.6931471805599454,\n",
       " 1.0]"
      ]
     },
     "execution_count": 147,
     "metadata": {},
     "output_type": "execute_result"
    }
   ],
   "source": [
    "idf"
   ]
  },
  {
   "cell_type": "markdown",
   "metadata": {},
   "source": [
    "#### Word Embeddings : "
   ]
  },
  {
   "cell_type": "markdown",
   "metadata": {},
   "source": [
    "##### Spacy Word2Vec : "
   ]
  },
  {
   "cell_type": "code",
   "execution_count": 149,
   "metadata": {},
   "outputs": [],
   "source": [
    "doc = nlp(\"thank you! dag cat lion\")"
   ]
  },
  {
   "cell_type": "code",
   "execution_count": 150,
   "metadata": {},
   "outputs": [
    {
     "name": "stdout",
     "output_type": "stream",
     "text": [
      "thank True\n",
      "you True\n",
      "! True\n",
      "dag True\n",
      "cat True\n",
      "lion True\n"
     ]
    }
   ],
   "source": [
    "for token in doc:\n",
    "    print(token.text, token.has_vector)"
   ]
  },
  {
   "cell_type": "code",
   "execution_count": 155,
   "metadata": {},
   "outputs": [],
   "source": [
    "doc = nlp(\"thank you! dog cat lion rtwnq \")"
   ]
  },
  {
   "cell_type": "code",
   "execution_count": 156,
   "metadata": {},
   "outputs": [
    {
     "name": "stdout",
     "output_type": "stream",
     "text": [
      "thank True\n",
      "you True\n",
      "! True\n",
      "dog True\n",
      "cat True\n",
      "lion True\n",
      "rtwnq True\n"
     ]
    }
   ],
   "source": [
    "for token in doc:\n",
    "    print(token.text, token.has_vector)"
   ]
  },
  {
   "cell_type": "code",
   "execution_count": 157,
   "metadata": {},
   "outputs": [
    {
     "data": {
      "text/plain": [
       "(96,)"
      ]
     },
     "execution_count": 157,
     "metadata": {},
     "output_type": "execute_result"
    }
   ],
   "source": [
    "token.vector.shape"
   ]
  },
  {
   "cell_type": "code",
   "execution_count": 159,
   "metadata": {},
   "outputs": [
    {
     "data": {
      "text/plain": [
       "(96,)"
      ]
     },
     "execution_count": 159,
     "metadata": {},
     "output_type": "execute_result"
    }
   ],
   "source": [
    "nlp('cat').vector.shape"
   ]
  },
  {
   "cell_type": "markdown",
   "metadata": {},
   "source": [
    "##### when two vectors are perpendicular to each other then those two vectors have no relation between them.."
   ]
  },
  {
   "cell_type": "code",
   "execution_count": 161,
   "metadata": {},
   "outputs": [
    {
     "name": "stdout",
     "output_type": "stream",
     "text": [
      "thank thank 1.0\n",
      "thank you 0.08871282\n",
      "thank ! 0.009266331\n",
      "thank dog 0.16255224\n",
      "thank cat -0.04146761\n",
      "thank lion 0.014454537\n",
      "thank rtwnq 0.03660836\n",
      "you thank 0.08871282\n",
      "you you 1.0\n",
      "you ! 0.13624547\n",
      "you dog -0.00996063\n",
      "you cat 0.15258864\n",
      "you lion 0.035960622\n",
      "you rtwnq 0.122519016\n",
      "! thank 0.009266331\n",
      "! you 0.13624547\n",
      "! ! 1.0\n",
      "! dog 0.13178155\n",
      "! cat 0.09671309\n",
      "! lion 0.1342576\n",
      "! rtwnq 0.1088366\n",
      "dog thank 0.16255224\n",
      "dog you -0.00996063\n",
      "dog ! 0.13178155\n",
      "dog dog 1.0\n",
      "dog cat 0.52951944\n",
      "dog lion 0.5218332\n",
      "dog rtwnq 0.3374843\n",
      "cat thank -0.04146761\n",
      "cat you 0.15258864\n",
      "cat ! 0.09671309\n",
      "cat dog 0.52951944\n",
      "cat cat 1.0\n",
      "cat lion 0.651128\n",
      "cat rtwnq 0.34185144\n",
      "lion thank 0.014454537\n",
      "lion you 0.035960622\n",
      "lion ! 0.1342576\n",
      "lion dog 0.5218332\n",
      "lion cat 0.651128\n",
      "lion lion 1.0\n",
      "lion rtwnq 0.6006972\n",
      "rtwnq thank 0.03660836\n",
      "rtwnq you 0.122519016\n",
      "rtwnq ! 0.1088366\n",
      "rtwnq dog 0.3374843\n",
      "rtwnq cat 0.34185144\n",
      "rtwnq lion 0.6006972\n",
      "rtwnq rtwnq 1.0\n"
     ]
    },
    {
     "name": "stderr",
     "output_type": "stream",
     "text": [
      "<ipython-input-161-2c9f5b285b93>:3: UserWarning: [W007] The model you're using has no word vectors loaded, so the result of the Token.similarity method will be based on the tagger, parser and NER, which may not give useful similarity judgements. This may happen if you're using one of the small models, e.g. `en_core_web_sm`, which don't ship with word vectors and only use context-sensitive tensors. You can always add your own word vectors, or use one of the larger models instead if available.\n",
      "  print(token1.text, token2.text, token1.similarity(token2))\n"
     ]
    }
   ],
   "source": [
    "for token1 in doc:\n",
    "    for token2 in doc:\n",
    "        print(token1.text, token2.text, token1.similarity(token2))"
   ]
  },
  {
   "cell_type": "markdown",
   "metadata": {},
   "source": [
    "##### thank dog has more releted than thank lion, all values are percentage link between two words or vectors...more percentage means more they are frquently used together."
   ]
  },
  {
   "cell_type": "markdown",
   "metadata": {},
   "source": [
    "#### Machine learning Models for Text Classification : "
   ]
  },
  {
   "cell_type": "markdown",
   "metadata": {},
   "source": [
    "##### BOW (Bag of words): "
   ]
  },
  {
   "cell_type": "code",
   "execution_count": 162,
   "metadata": {},
   "outputs": [
    {
     "data": {
      "text/plain": [
       "(1600000, 13)"
      ]
     },
     "execution_count": 162,
     "metadata": {},
     "output_type": "execute_result"
    }
   ],
   "source": [
    "df.shape"
   ]
  },
  {
   "cell_type": "code",
   "execution_count": 163,
   "metadata": {},
   "outputs": [],
   "source": [
    "df0 = df[df['sentiment']==0].sample(2000)\n",
    "df4 = df[df['sentiment']==4].sample(2000)"
   ]
  },
  {
   "cell_type": "code",
   "execution_count": 164,
   "metadata": {},
   "outputs": [],
   "source": [
    "dfr = df0.append(df4)"
   ]
  },
  {
   "cell_type": "code",
   "execution_count": 165,
   "metadata": {},
   "outputs": [
    {
     "data": {
      "text/plain": [
       "(4000, 13)"
      ]
     },
     "execution_count": 165,
     "metadata": {},
     "output_type": "execute_result"
    }
   ],
   "source": [
    "dfr.shape"
   ]
  },
  {
   "cell_type": "code",
   "execution_count": 166,
   "metadata": {},
   "outputs": [
    {
     "data": {
      "text/html": [
       "<div>\n",
       "<style scoped>\n",
       "    .dataframe tbody tr th:only-of-type {\n",
       "        vertical-align: middle;\n",
       "    }\n",
       "\n",
       "    .dataframe tbody tr th {\n",
       "        vertical-align: top;\n",
       "    }\n",
       "\n",
       "    .dataframe thead th {\n",
       "        text-align: right;\n",
       "    }\n",
       "</style>\n",
       "<table border=\"1\" class=\"dataframe\">\n",
       "  <thead>\n",
       "    <tr style=\"text-align: right;\">\n",
       "      <th></th>\n",
       "      <th>tweets</th>\n",
       "      <th>sentiment</th>\n",
       "      <th>word_counts</th>\n",
       "      <th>Char_count</th>\n",
       "      <th>avg_word_len</th>\n",
       "      <th>stop_words_len</th>\n",
       "      <th>Hastags_count</th>\n",
       "      <th>@Mentions_count</th>\n",
       "      <th>numeric_count</th>\n",
       "      <th>upper_count</th>\n",
       "      <th>emails</th>\n",
       "      <th>emails_count</th>\n",
       "      <th>urls_flag</th>\n",
       "    </tr>\n",
       "  </thead>\n",
       "  <tbody>\n",
       "    <tr>\n",
       "      <th>503504</th>\n",
       "      <td>waandt killed right andever reply sad andick j...</td>\n",
       "      <td>0</td>\n",
       "      <td>21</td>\n",
       "      <td>102</td>\n",
       "      <td>3.761905</td>\n",
       "      <td>11</td>\n",
       "      <td>0</td>\n",
       "      <td>0</td>\n",
       "      <td>0</td>\n",
       "      <td>0</td>\n",
       "      <td>[]</td>\n",
       "      <td>0</td>\n",
       "      <td>0</td>\n",
       "    </tr>\n",
       "    <tr>\n",
       "      <th>747496</th>\n",
       "      <td>bit headache ready toms class aand hoyoyour th...</td>\n",
       "      <td>0</td>\n",
       "      <td>15</td>\n",
       "      <td>68</td>\n",
       "      <td>3.533333</td>\n",
       "      <td>7</td>\n",
       "      <td>0</td>\n",
       "      <td>0</td>\n",
       "      <td>0</td>\n",
       "      <td>1</td>\n",
       "      <td>[]</td>\n",
       "      <td>0</td>\n",
       "      <td>0</td>\n",
       "    </tr>\n",
       "    <tr>\n",
       "      <th>332289</th>\n",
       "      <td>rrrachael wish</td>\n",
       "      <td>0</td>\n",
       "      <td>6</td>\n",
       "      <td>30</td>\n",
       "      <td>4.000000</td>\n",
       "      <td>2</td>\n",
       "      <td>0</td>\n",
       "      <td>1</td>\n",
       "      <td>0</td>\n",
       "      <td>2</td>\n",
       "      <td>[]</td>\n",
       "      <td>0</td>\n",
       "      <td>0</td>\n",
       "    </tr>\n",
       "    <tr>\n",
       "      <th>392102</th>\n",
       "      <td>ayouch drop 1 48 webhostiandgtalkcom</td>\n",
       "      <td>0</td>\n",
       "      <td>6</td>\n",
       "      <td>41</td>\n",
       "      <td>5.833333</td>\n",
       "      <td>1</td>\n",
       "      <td>0</td>\n",
       "      <td>0</td>\n",
       "      <td>1</td>\n",
       "      <td>0</td>\n",
       "      <td>[]</td>\n",
       "      <td>0</td>\n",
       "      <td>0</td>\n",
       "    </tr>\n",
       "    <tr>\n",
       "      <th>397000</th>\n",
       "      <td>celly aboyout aand free cryouise woand hyouand...</td>\n",
       "      <td>0</td>\n",
       "      <td>28</td>\n",
       "      <td>138</td>\n",
       "      <td>3.928571</td>\n",
       "      <td>16</td>\n",
       "      <td>0</td>\n",
       "      <td>0</td>\n",
       "      <td>0</td>\n",
       "      <td>3</td>\n",
       "      <td>[]</td>\n",
       "      <td>0</td>\n",
       "      <td>0</td>\n",
       "    </tr>\n",
       "    <tr>\n",
       "      <th>...</th>\n",
       "      <td>...</td>\n",
       "      <td>...</td>\n",
       "      <td>...</td>\n",
       "      <td>...</td>\n",
       "      <td>...</td>\n",
       "      <td>...</td>\n",
       "      <td>...</td>\n",
       "      <td>...</td>\n",
       "      <td>...</td>\n",
       "      <td>...</td>\n",
       "      <td>...</td>\n",
       "      <td>...</td>\n",
       "      <td>...</td>\n",
       "    </tr>\n",
       "    <tr>\n",
       "      <th>900867</th>\n",
       "      <td>aandandyo84 shall meet betweeand youtah ianddi...</td>\n",
       "      <td>4</td>\n",
       "      <td>11</td>\n",
       "      <td>70</td>\n",
       "      <td>5.181818</td>\n",
       "      <td>5</td>\n",
       "      <td>0</td>\n",
       "      <td>1</td>\n",
       "      <td>0</td>\n",
       "      <td>0</td>\n",
       "      <td>[]</td>\n",
       "      <td>0</td>\n",
       "      <td>0</td>\n",
       "    </tr>\n",
       "    <tr>\n",
       "      <th>1598694</th>\n",
       "      <td>ah aandother syouandandy beayoutifyoul teandan...</td>\n",
       "      <td>4</td>\n",
       "      <td>14</td>\n",
       "      <td>91</td>\n",
       "      <td>5.285714</td>\n",
       "      <td>4</td>\n",
       "      <td>0</td>\n",
       "      <td>0</td>\n",
       "      <td>0</td>\n",
       "      <td>0</td>\n",
       "      <td>[]</td>\n",
       "      <td>0</td>\n",
       "      <td>0</td>\n",
       "    </tr>\n",
       "    <tr>\n",
       "      <th>1592769</th>\n",
       "      <td>jyoulez16 ok beeand doiandg</td>\n",
       "      <td>4</td>\n",
       "      <td>9</td>\n",
       "      <td>51</td>\n",
       "      <td>4.555556</td>\n",
       "      <td>5</td>\n",
       "      <td>0</td>\n",
       "      <td>1</td>\n",
       "      <td>0</td>\n",
       "      <td>0</td>\n",
       "      <td>[]</td>\n",
       "      <td>0</td>\n",
       "      <td>0</td>\n",
       "    </tr>\n",
       "    <tr>\n",
       "      <th>1579628</th>\n",
       "      <td>realised myouch depeandd somethiandg youandtil...</td>\n",
       "      <td>4</td>\n",
       "      <td>16</td>\n",
       "      <td>92</td>\n",
       "      <td>4.750000</td>\n",
       "      <td>7</td>\n",
       "      <td>0</td>\n",
       "      <td>0</td>\n",
       "      <td>0</td>\n",
       "      <td>1</td>\n",
       "      <td>[]</td>\n",
       "      <td>0</td>\n",
       "      <td>0</td>\n",
       "    </tr>\n",
       "    <tr>\n",
       "      <th>1127587</th>\n",
       "      <td>feel gaandgster da toothpick moyouth</td>\n",
       "      <td>4</td>\n",
       "      <td>13</td>\n",
       "      <td>80</td>\n",
       "      <td>5.153846</td>\n",
       "      <td>4</td>\n",
       "      <td>0</td>\n",
       "      <td>0</td>\n",
       "      <td>0</td>\n",
       "      <td>1</td>\n",
       "      <td>[]</td>\n",
       "      <td>0</td>\n",
       "      <td>1</td>\n",
       "    </tr>\n",
       "  </tbody>\n",
       "</table>\n",
       "<p>4000 rows × 13 columns</p>\n",
       "</div>"
      ],
      "text/plain": [
       "                                                    tweets  sentiment  \\\n",
       "503504   waandt killed right andever reply sad andick j...          0   \n",
       "747496   bit headache ready toms class aand hoyoyour th...          0   \n",
       "332289                                      rrrachael wish          0   \n",
       "392102                ayouch drop 1 48 webhostiandgtalkcom          0   \n",
       "397000   celly aboyout aand free cryouise woand hyouand...          0   \n",
       "...                                                    ...        ...   \n",
       "900867   aandandyo84 shall meet betweeand youtah ianddi...          4   \n",
       "1598694  ah aandother syouandandy beayoutifyoul teandan...          4   \n",
       "1592769                        jyoulez16 ok beeand doiandg          4   \n",
       "1579628  realised myouch depeandd somethiandg youandtil...          4   \n",
       "1127587               feel gaandgster da toothpick moyouth          4   \n",
       "\n",
       "         word_counts  Char_count  avg_word_len  stop_words_len  Hastags_count  \\\n",
       "503504            21         102      3.761905              11              0   \n",
       "747496            15          68      3.533333               7              0   \n",
       "332289             6          30      4.000000               2              0   \n",
       "392102             6          41      5.833333               1              0   \n",
       "397000            28         138      3.928571              16              0   \n",
       "...              ...         ...           ...             ...            ...   \n",
       "900867            11          70      5.181818               5              0   \n",
       "1598694           14          91      5.285714               4              0   \n",
       "1592769            9          51      4.555556               5              0   \n",
       "1579628           16          92      4.750000               7              0   \n",
       "1127587           13          80      5.153846               4              0   \n",
       "\n",
       "         @Mentions_count  numeric_count  upper_count emails  emails_count  \\\n",
       "503504                 0              0            0     []             0   \n",
       "747496                 0              0            1     []             0   \n",
       "332289                 1              0            2     []             0   \n",
       "392102                 0              1            0     []             0   \n",
       "397000                 0              0            3     []             0   \n",
       "...                  ...            ...          ...    ...           ...   \n",
       "900867                 1              0            0     []             0   \n",
       "1598694                0              0            0     []             0   \n",
       "1592769                1              0            0     []             0   \n",
       "1579628                0              0            1     []             0   \n",
       "1127587                0              0            1     []             0   \n",
       "\n",
       "         urls_flag  \n",
       "503504           0  \n",
       "747496           0  \n",
       "332289           0  \n",
       "392102           0  \n",
       "397000           0  \n",
       "...            ...  \n",
       "900867           0  \n",
       "1598694          0  \n",
       "1592769          0  \n",
       "1579628          0  \n",
       "1127587          1  \n",
       "\n",
       "[4000 rows x 13 columns]"
      ]
     },
     "execution_count": 166,
     "metadata": {},
     "output_type": "execute_result"
    }
   ],
   "source": [
    "dfr"
   ]
  },
  {
   "cell_type": "code",
   "execution_count": 192,
   "metadata": {},
   "outputs": [],
   "source": [
    "dfr_feat = dfr.drop(labels=['tweets', 'sentiment', 'emails'], axis = 1).reset_index(drop=True)"
   ]
  },
  {
   "cell_type": "code",
   "execution_count": 193,
   "metadata": {},
   "outputs": [
    {
     "data": {
      "text/html": [
       "<div>\n",
       "<style scoped>\n",
       "    .dataframe tbody tr th:only-of-type {\n",
       "        vertical-align: middle;\n",
       "    }\n",
       "\n",
       "    .dataframe tbody tr th {\n",
       "        vertical-align: top;\n",
       "    }\n",
       "\n",
       "    .dataframe thead th {\n",
       "        text-align: right;\n",
       "    }\n",
       "</style>\n",
       "<table border=\"1\" class=\"dataframe\">\n",
       "  <thead>\n",
       "    <tr style=\"text-align: right;\">\n",
       "      <th></th>\n",
       "      <th>word_counts</th>\n",
       "      <th>Char_count</th>\n",
       "      <th>avg_word_len</th>\n",
       "      <th>stop_words_len</th>\n",
       "      <th>Hastags_count</th>\n",
       "      <th>@Mentions_count</th>\n",
       "      <th>numeric_count</th>\n",
       "      <th>upper_count</th>\n",
       "      <th>emails_count</th>\n",
       "      <th>urls_flag</th>\n",
       "    </tr>\n",
       "  </thead>\n",
       "  <tbody>\n",
       "    <tr>\n",
       "      <th>0</th>\n",
       "      <td>21</td>\n",
       "      <td>102</td>\n",
       "      <td>3.761905</td>\n",
       "      <td>11</td>\n",
       "      <td>0</td>\n",
       "      <td>0</td>\n",
       "      <td>0</td>\n",
       "      <td>0</td>\n",
       "      <td>0</td>\n",
       "      <td>0</td>\n",
       "    </tr>\n",
       "    <tr>\n",
       "      <th>1</th>\n",
       "      <td>15</td>\n",
       "      <td>68</td>\n",
       "      <td>3.533333</td>\n",
       "      <td>7</td>\n",
       "      <td>0</td>\n",
       "      <td>0</td>\n",
       "      <td>0</td>\n",
       "      <td>1</td>\n",
       "      <td>0</td>\n",
       "      <td>0</td>\n",
       "    </tr>\n",
       "    <tr>\n",
       "      <th>2</th>\n",
       "      <td>6</td>\n",
       "      <td>30</td>\n",
       "      <td>4.000000</td>\n",
       "      <td>2</td>\n",
       "      <td>0</td>\n",
       "      <td>1</td>\n",
       "      <td>0</td>\n",
       "      <td>2</td>\n",
       "      <td>0</td>\n",
       "      <td>0</td>\n",
       "    </tr>\n",
       "    <tr>\n",
       "      <th>3</th>\n",
       "      <td>6</td>\n",
       "      <td>41</td>\n",
       "      <td>5.833333</td>\n",
       "      <td>1</td>\n",
       "      <td>0</td>\n",
       "      <td>0</td>\n",
       "      <td>1</td>\n",
       "      <td>0</td>\n",
       "      <td>0</td>\n",
       "      <td>0</td>\n",
       "    </tr>\n",
       "    <tr>\n",
       "      <th>4</th>\n",
       "      <td>28</td>\n",
       "      <td>138</td>\n",
       "      <td>3.928571</td>\n",
       "      <td>16</td>\n",
       "      <td>0</td>\n",
       "      <td>0</td>\n",
       "      <td>0</td>\n",
       "      <td>3</td>\n",
       "      <td>0</td>\n",
       "      <td>0</td>\n",
       "    </tr>\n",
       "    <tr>\n",
       "      <th>...</th>\n",
       "      <td>...</td>\n",
       "      <td>...</td>\n",
       "      <td>...</td>\n",
       "      <td>...</td>\n",
       "      <td>...</td>\n",
       "      <td>...</td>\n",
       "      <td>...</td>\n",
       "      <td>...</td>\n",
       "      <td>...</td>\n",
       "      <td>...</td>\n",
       "    </tr>\n",
       "    <tr>\n",
       "      <th>3995</th>\n",
       "      <td>11</td>\n",
       "      <td>70</td>\n",
       "      <td>5.181818</td>\n",
       "      <td>5</td>\n",
       "      <td>0</td>\n",
       "      <td>1</td>\n",
       "      <td>0</td>\n",
       "      <td>0</td>\n",
       "      <td>0</td>\n",
       "      <td>0</td>\n",
       "    </tr>\n",
       "    <tr>\n",
       "      <th>3996</th>\n",
       "      <td>14</td>\n",
       "      <td>91</td>\n",
       "      <td>5.285714</td>\n",
       "      <td>4</td>\n",
       "      <td>0</td>\n",
       "      <td>0</td>\n",
       "      <td>0</td>\n",
       "      <td>0</td>\n",
       "      <td>0</td>\n",
       "      <td>0</td>\n",
       "    </tr>\n",
       "    <tr>\n",
       "      <th>3997</th>\n",
       "      <td>9</td>\n",
       "      <td>51</td>\n",
       "      <td>4.555556</td>\n",
       "      <td>5</td>\n",
       "      <td>0</td>\n",
       "      <td>1</td>\n",
       "      <td>0</td>\n",
       "      <td>0</td>\n",
       "      <td>0</td>\n",
       "      <td>0</td>\n",
       "    </tr>\n",
       "    <tr>\n",
       "      <th>3998</th>\n",
       "      <td>16</td>\n",
       "      <td>92</td>\n",
       "      <td>4.750000</td>\n",
       "      <td>7</td>\n",
       "      <td>0</td>\n",
       "      <td>0</td>\n",
       "      <td>0</td>\n",
       "      <td>1</td>\n",
       "      <td>0</td>\n",
       "      <td>0</td>\n",
       "    </tr>\n",
       "    <tr>\n",
       "      <th>3999</th>\n",
       "      <td>13</td>\n",
       "      <td>80</td>\n",
       "      <td>5.153846</td>\n",
       "      <td>4</td>\n",
       "      <td>0</td>\n",
       "      <td>0</td>\n",
       "      <td>0</td>\n",
       "      <td>1</td>\n",
       "      <td>0</td>\n",
       "      <td>1</td>\n",
       "    </tr>\n",
       "  </tbody>\n",
       "</table>\n",
       "<p>4000 rows × 10 columns</p>\n",
       "</div>"
      ],
      "text/plain": [
       "      word_counts  Char_count  avg_word_len  stop_words_len  Hastags_count  \\\n",
       "0              21         102      3.761905              11              0   \n",
       "1              15          68      3.533333               7              0   \n",
       "2               6          30      4.000000               2              0   \n",
       "3               6          41      5.833333               1              0   \n",
       "4              28         138      3.928571              16              0   \n",
       "...           ...         ...           ...             ...            ...   \n",
       "3995           11          70      5.181818               5              0   \n",
       "3996           14          91      5.285714               4              0   \n",
       "3997            9          51      4.555556               5              0   \n",
       "3998           16          92      4.750000               7              0   \n",
       "3999           13          80      5.153846               4              0   \n",
       "\n",
       "      @Mentions_count  numeric_count  upper_count  emails_count  urls_flag  \n",
       "0                   0              0            0             0          0  \n",
       "1                   0              0            1             0          0  \n",
       "2                   1              0            2             0          0  \n",
       "3                   0              1            0             0          0  \n",
       "4                   0              0            3             0          0  \n",
       "...               ...            ...          ...           ...        ...  \n",
       "3995                1              0            0             0          0  \n",
       "3996                0              0            0             0          0  \n",
       "3997                1              0            0             0          0  \n",
       "3998                0              0            1             0          0  \n",
       "3999                0              0            1             0          1  \n",
       "\n",
       "[4000 rows x 10 columns]"
      ]
     },
     "execution_count": 193,
     "metadata": {},
     "output_type": "execute_result"
    }
   ],
   "source": [
    "dfr_feat"
   ]
  },
  {
   "cell_type": "code",
   "execution_count": 169,
   "metadata": {},
   "outputs": [],
   "source": [
    "y = dfr['sentiment']"
   ]
  },
  {
   "cell_type": "code",
   "execution_count": 170,
   "metadata": {},
   "outputs": [],
   "source": [
    "from sklearn.feature_extraction.text import CountVectorizer"
   ]
  },
  {
   "cell_type": "code",
   "execution_count": 172,
   "metadata": {},
   "outputs": [],
   "source": [
    "cv = CountVectorizer()\n",
    "text_counts = cv.fit_transform(dfr['tweets'])"
   ]
  },
  {
   "cell_type": "code",
   "execution_count": 173,
   "metadata": {},
   "outputs": [
    {
     "data": {
      "text/plain": [
       "(4000, 9814)"
      ]
     },
     "execution_count": 173,
     "metadata": {},
     "output_type": "execute_result"
    }
   ],
   "source": [
    "text_counts.toarray().shape"
   ]
  },
  {
   "cell_type": "code",
   "execution_count": 185,
   "metadata": {},
   "outputs": [
    {
     "name": "stderr",
     "output_type": "stream",
     "text": [
      "C:\\Users\\User\\anaconda3\\lib\\site-packages\\sklearn\\utils\\deprecation.py:87: FutureWarning: Function get_feature_names is deprecated; get_feature_names is deprecated in 1.0 and will be removed in 1.2. Please use get_feature_names_out instead.\n",
      "  warnings.warn(msg, category=FutureWarning)\n"
     ]
    }
   ],
   "source": [
    "dfr_bow = pd.DataFrame(text_counts.toarray(), columns=cv.get_feature_names())"
   ]
  },
  {
   "cell_type": "code",
   "execution_count": 186,
   "metadata": {},
   "outputs": [
    {
     "data": {
      "text/html": [
       "<div>\n",
       "<style scoped>\n",
       "    .dataframe tbody tr th:only-of-type {\n",
       "        vertical-align: middle;\n",
       "    }\n",
       "\n",
       "    .dataframe tbody tr th {\n",
       "        vertical-align: top;\n",
       "    }\n",
       "\n",
       "    .dataframe thead th {\n",
       "        text-align: right;\n",
       "    }\n",
       "</style>\n",
       "<table border=\"1\" class=\"dataframe\">\n",
       "  <thead>\n",
       "    <tr style=\"text-align: right;\">\n",
       "      <th></th>\n",
       "      <th>0000</th>\n",
       "      <th>008</th>\n",
       "      <th>016</th>\n",
       "      <th>06</th>\n",
       "      <th>0854</th>\n",
       "      <th>09</th>\n",
       "      <th>0chris</th>\n",
       "      <th>0px</th>\n",
       "      <th>0youttalyouck</th>\n",
       "      <th>10</th>\n",
       "      <th>...</th>\n",
       "      <th>zombiecaptandhook</th>\n",
       "      <th>zomg</th>\n",
       "      <th>zoo</th>\n",
       "      <th>zsbcreatioands</th>\n",
       "      <th>zsyouzsa</th>\n",
       "      <th>zyouande</th>\n",
       "      <th>zyouandesyoupport</th>\n",
       "      <th>zyoyourich</th>\n",
       "      <th>zztop</th>\n",
       "      <th>zzz</th>\n",
       "    </tr>\n",
       "  </thead>\n",
       "  <tbody>\n",
       "    <tr>\n",
       "      <th>0</th>\n",
       "      <td>0</td>\n",
       "      <td>0</td>\n",
       "      <td>0</td>\n",
       "      <td>0</td>\n",
       "      <td>0</td>\n",
       "      <td>0</td>\n",
       "      <td>0</td>\n",
       "      <td>0</td>\n",
       "      <td>0</td>\n",
       "      <td>0</td>\n",
       "      <td>...</td>\n",
       "      <td>0</td>\n",
       "      <td>0</td>\n",
       "      <td>0</td>\n",
       "      <td>0</td>\n",
       "      <td>0</td>\n",
       "      <td>0</td>\n",
       "      <td>0</td>\n",
       "      <td>0</td>\n",
       "      <td>0</td>\n",
       "      <td>0</td>\n",
       "    </tr>\n",
       "    <tr>\n",
       "      <th>1</th>\n",
       "      <td>0</td>\n",
       "      <td>0</td>\n",
       "      <td>0</td>\n",
       "      <td>0</td>\n",
       "      <td>0</td>\n",
       "      <td>0</td>\n",
       "      <td>0</td>\n",
       "      <td>0</td>\n",
       "      <td>0</td>\n",
       "      <td>0</td>\n",
       "      <td>...</td>\n",
       "      <td>0</td>\n",
       "      <td>0</td>\n",
       "      <td>0</td>\n",
       "      <td>0</td>\n",
       "      <td>0</td>\n",
       "      <td>0</td>\n",
       "      <td>0</td>\n",
       "      <td>0</td>\n",
       "      <td>0</td>\n",
       "      <td>0</td>\n",
       "    </tr>\n",
       "    <tr>\n",
       "      <th>2</th>\n",
       "      <td>0</td>\n",
       "      <td>0</td>\n",
       "      <td>0</td>\n",
       "      <td>0</td>\n",
       "      <td>0</td>\n",
       "      <td>0</td>\n",
       "      <td>0</td>\n",
       "      <td>0</td>\n",
       "      <td>0</td>\n",
       "      <td>0</td>\n",
       "      <td>...</td>\n",
       "      <td>0</td>\n",
       "      <td>0</td>\n",
       "      <td>0</td>\n",
       "      <td>0</td>\n",
       "      <td>0</td>\n",
       "      <td>0</td>\n",
       "      <td>0</td>\n",
       "      <td>0</td>\n",
       "      <td>0</td>\n",
       "      <td>0</td>\n",
       "    </tr>\n",
       "    <tr>\n",
       "      <th>3</th>\n",
       "      <td>0</td>\n",
       "      <td>0</td>\n",
       "      <td>0</td>\n",
       "      <td>0</td>\n",
       "      <td>0</td>\n",
       "      <td>0</td>\n",
       "      <td>0</td>\n",
       "      <td>0</td>\n",
       "      <td>0</td>\n",
       "      <td>0</td>\n",
       "      <td>...</td>\n",
       "      <td>0</td>\n",
       "      <td>0</td>\n",
       "      <td>0</td>\n",
       "      <td>0</td>\n",
       "      <td>0</td>\n",
       "      <td>0</td>\n",
       "      <td>0</td>\n",
       "      <td>0</td>\n",
       "      <td>0</td>\n",
       "      <td>0</td>\n",
       "    </tr>\n",
       "    <tr>\n",
       "      <th>4</th>\n",
       "      <td>0</td>\n",
       "      <td>0</td>\n",
       "      <td>0</td>\n",
       "      <td>0</td>\n",
       "      <td>0</td>\n",
       "      <td>0</td>\n",
       "      <td>0</td>\n",
       "      <td>0</td>\n",
       "      <td>0</td>\n",
       "      <td>0</td>\n",
       "      <td>...</td>\n",
       "      <td>0</td>\n",
       "      <td>0</td>\n",
       "      <td>0</td>\n",
       "      <td>0</td>\n",
       "      <td>0</td>\n",
       "      <td>0</td>\n",
       "      <td>0</td>\n",
       "      <td>0</td>\n",
       "      <td>0</td>\n",
       "      <td>0</td>\n",
       "    </tr>\n",
       "    <tr>\n",
       "      <th>...</th>\n",
       "      <td>...</td>\n",
       "      <td>...</td>\n",
       "      <td>...</td>\n",
       "      <td>...</td>\n",
       "      <td>...</td>\n",
       "      <td>...</td>\n",
       "      <td>...</td>\n",
       "      <td>...</td>\n",
       "      <td>...</td>\n",
       "      <td>...</td>\n",
       "      <td>...</td>\n",
       "      <td>...</td>\n",
       "      <td>...</td>\n",
       "      <td>...</td>\n",
       "      <td>...</td>\n",
       "      <td>...</td>\n",
       "      <td>...</td>\n",
       "      <td>...</td>\n",
       "      <td>...</td>\n",
       "      <td>...</td>\n",
       "      <td>...</td>\n",
       "    </tr>\n",
       "    <tr>\n",
       "      <th>3995</th>\n",
       "      <td>0</td>\n",
       "      <td>0</td>\n",
       "      <td>0</td>\n",
       "      <td>0</td>\n",
       "      <td>0</td>\n",
       "      <td>0</td>\n",
       "      <td>0</td>\n",
       "      <td>0</td>\n",
       "      <td>0</td>\n",
       "      <td>0</td>\n",
       "      <td>...</td>\n",
       "      <td>0</td>\n",
       "      <td>0</td>\n",
       "      <td>0</td>\n",
       "      <td>0</td>\n",
       "      <td>0</td>\n",
       "      <td>0</td>\n",
       "      <td>0</td>\n",
       "      <td>0</td>\n",
       "      <td>0</td>\n",
       "      <td>0</td>\n",
       "    </tr>\n",
       "    <tr>\n",
       "      <th>3996</th>\n",
       "      <td>0</td>\n",
       "      <td>0</td>\n",
       "      <td>0</td>\n",
       "      <td>0</td>\n",
       "      <td>0</td>\n",
       "      <td>0</td>\n",
       "      <td>0</td>\n",
       "      <td>0</td>\n",
       "      <td>0</td>\n",
       "      <td>0</td>\n",
       "      <td>...</td>\n",
       "      <td>0</td>\n",
       "      <td>0</td>\n",
       "      <td>0</td>\n",
       "      <td>0</td>\n",
       "      <td>0</td>\n",
       "      <td>0</td>\n",
       "      <td>0</td>\n",
       "      <td>0</td>\n",
       "      <td>0</td>\n",
       "      <td>0</td>\n",
       "    </tr>\n",
       "    <tr>\n",
       "      <th>3997</th>\n",
       "      <td>0</td>\n",
       "      <td>0</td>\n",
       "      <td>0</td>\n",
       "      <td>0</td>\n",
       "      <td>0</td>\n",
       "      <td>0</td>\n",
       "      <td>0</td>\n",
       "      <td>0</td>\n",
       "      <td>0</td>\n",
       "      <td>0</td>\n",
       "      <td>...</td>\n",
       "      <td>0</td>\n",
       "      <td>0</td>\n",
       "      <td>0</td>\n",
       "      <td>0</td>\n",
       "      <td>0</td>\n",
       "      <td>0</td>\n",
       "      <td>0</td>\n",
       "      <td>0</td>\n",
       "      <td>0</td>\n",
       "      <td>0</td>\n",
       "    </tr>\n",
       "    <tr>\n",
       "      <th>3998</th>\n",
       "      <td>0</td>\n",
       "      <td>0</td>\n",
       "      <td>0</td>\n",
       "      <td>0</td>\n",
       "      <td>0</td>\n",
       "      <td>0</td>\n",
       "      <td>0</td>\n",
       "      <td>0</td>\n",
       "      <td>0</td>\n",
       "      <td>0</td>\n",
       "      <td>...</td>\n",
       "      <td>0</td>\n",
       "      <td>0</td>\n",
       "      <td>0</td>\n",
       "      <td>0</td>\n",
       "      <td>0</td>\n",
       "      <td>0</td>\n",
       "      <td>0</td>\n",
       "      <td>0</td>\n",
       "      <td>0</td>\n",
       "      <td>0</td>\n",
       "    </tr>\n",
       "    <tr>\n",
       "      <th>3999</th>\n",
       "      <td>0</td>\n",
       "      <td>0</td>\n",
       "      <td>0</td>\n",
       "      <td>0</td>\n",
       "      <td>0</td>\n",
       "      <td>0</td>\n",
       "      <td>0</td>\n",
       "      <td>0</td>\n",
       "      <td>0</td>\n",
       "      <td>0</td>\n",
       "      <td>...</td>\n",
       "      <td>0</td>\n",
       "      <td>0</td>\n",
       "      <td>0</td>\n",
       "      <td>0</td>\n",
       "      <td>0</td>\n",
       "      <td>0</td>\n",
       "      <td>0</td>\n",
       "      <td>0</td>\n",
       "      <td>0</td>\n",
       "      <td>0</td>\n",
       "    </tr>\n",
       "  </tbody>\n",
       "</table>\n",
       "<p>4000 rows × 9814 columns</p>\n",
       "</div>"
      ],
      "text/plain": [
       "      0000  008  016  06  0854  09  0chris  0px  0youttalyouck  10  ...  \\\n",
       "0        0    0    0   0     0   0       0    0              0   0  ...   \n",
       "1        0    0    0   0     0   0       0    0              0   0  ...   \n",
       "2        0    0    0   0     0   0       0    0              0   0  ...   \n",
       "3        0    0    0   0     0   0       0    0              0   0  ...   \n",
       "4        0    0    0   0     0   0       0    0              0   0  ...   \n",
       "...    ...  ...  ...  ..   ...  ..     ...  ...            ...  ..  ...   \n",
       "3995     0    0    0   0     0   0       0    0              0   0  ...   \n",
       "3996     0    0    0   0     0   0       0    0              0   0  ...   \n",
       "3997     0    0    0   0     0   0       0    0              0   0  ...   \n",
       "3998     0    0    0   0     0   0       0    0              0   0  ...   \n",
       "3999     0    0    0   0     0   0       0    0              0   0  ...   \n",
       "\n",
       "      zombiecaptandhook  zomg  zoo  zsbcreatioands  zsyouzsa  zyouande  \\\n",
       "0                     0     0    0               0         0         0   \n",
       "1                     0     0    0               0         0         0   \n",
       "2                     0     0    0               0         0         0   \n",
       "3                     0     0    0               0         0         0   \n",
       "4                     0     0    0               0         0         0   \n",
       "...                 ...   ...  ...             ...       ...       ...   \n",
       "3995                  0     0    0               0         0         0   \n",
       "3996                  0     0    0               0         0         0   \n",
       "3997                  0     0    0               0         0         0   \n",
       "3998                  0     0    0               0         0         0   \n",
       "3999                  0     0    0               0         0         0   \n",
       "\n",
       "      zyouandesyoupport  zyoyourich  zztop  zzz  \n",
       "0                     0           0      0    0  \n",
       "1                     0           0      0    0  \n",
       "2                     0           0      0    0  \n",
       "3                     0           0      0    0  \n",
       "4                     0           0      0    0  \n",
       "...                 ...         ...    ...  ...  \n",
       "3995                  0           0      0    0  \n",
       "3996                  0           0      0    0  \n",
       "3997                  0           0      0    0  \n",
       "3998                  0           0      0    0  \n",
       "3999                  0           0      0    0  \n",
       "\n",
       "[4000 rows x 9814 columns]"
      ]
     },
     "execution_count": 186,
     "metadata": {},
     "output_type": "execute_result"
    }
   ],
   "source": [
    "dfr_bow"
   ]
  },
  {
   "cell_type": "code",
   "execution_count": 187,
   "metadata": {},
   "outputs": [
    {
     "data": {
      "text/html": [
       "<div>\n",
       "<style scoped>\n",
       "    .dataframe tbody tr th:only-of-type {\n",
       "        vertical-align: middle;\n",
       "    }\n",
       "\n",
       "    .dataframe tbody tr th {\n",
       "        vertical-align: top;\n",
       "    }\n",
       "\n",
       "    .dataframe thead th {\n",
       "        text-align: right;\n",
       "    }\n",
       "</style>\n",
       "<table border=\"1\" class=\"dataframe\">\n",
       "  <thead>\n",
       "    <tr style=\"text-align: right;\">\n",
       "      <th></th>\n",
       "      <th>0000</th>\n",
       "      <th>008</th>\n",
       "      <th>016</th>\n",
       "      <th>06</th>\n",
       "      <th>0854</th>\n",
       "      <th>09</th>\n",
       "      <th>0chris</th>\n",
       "      <th>0px</th>\n",
       "      <th>0youttalyouck</th>\n",
       "      <th>10</th>\n",
       "      <th>...</th>\n",
       "      <th>zombiecaptandhook</th>\n",
       "      <th>zomg</th>\n",
       "      <th>zoo</th>\n",
       "      <th>zsbcreatioands</th>\n",
       "      <th>zsyouzsa</th>\n",
       "      <th>zyouande</th>\n",
       "      <th>zyouandesyoupport</th>\n",
       "      <th>zyoyourich</th>\n",
       "      <th>zztop</th>\n",
       "      <th>zzz</th>\n",
       "    </tr>\n",
       "  </thead>\n",
       "  <tbody>\n",
       "    <tr>\n",
       "      <th>0</th>\n",
       "      <td>0</td>\n",
       "      <td>0</td>\n",
       "      <td>0</td>\n",
       "      <td>0</td>\n",
       "      <td>0</td>\n",
       "      <td>0</td>\n",
       "      <td>0</td>\n",
       "      <td>0</td>\n",
       "      <td>0</td>\n",
       "      <td>0</td>\n",
       "      <td>...</td>\n",
       "      <td>0</td>\n",
       "      <td>0</td>\n",
       "      <td>0</td>\n",
       "      <td>0</td>\n",
       "      <td>0</td>\n",
       "      <td>0</td>\n",
       "      <td>0</td>\n",
       "      <td>0</td>\n",
       "      <td>0</td>\n",
       "      <td>0</td>\n",
       "    </tr>\n",
       "    <tr>\n",
       "      <th>1</th>\n",
       "      <td>0</td>\n",
       "      <td>0</td>\n",
       "      <td>0</td>\n",
       "      <td>0</td>\n",
       "      <td>0</td>\n",
       "      <td>0</td>\n",
       "      <td>0</td>\n",
       "      <td>0</td>\n",
       "      <td>0</td>\n",
       "      <td>0</td>\n",
       "      <td>...</td>\n",
       "      <td>0</td>\n",
       "      <td>0</td>\n",
       "      <td>0</td>\n",
       "      <td>0</td>\n",
       "      <td>0</td>\n",
       "      <td>0</td>\n",
       "      <td>0</td>\n",
       "      <td>0</td>\n",
       "      <td>0</td>\n",
       "      <td>0</td>\n",
       "    </tr>\n",
       "    <tr>\n",
       "      <th>2</th>\n",
       "      <td>0</td>\n",
       "      <td>0</td>\n",
       "      <td>0</td>\n",
       "      <td>0</td>\n",
       "      <td>0</td>\n",
       "      <td>0</td>\n",
       "      <td>0</td>\n",
       "      <td>0</td>\n",
       "      <td>0</td>\n",
       "      <td>0</td>\n",
       "      <td>...</td>\n",
       "      <td>0</td>\n",
       "      <td>0</td>\n",
       "      <td>0</td>\n",
       "      <td>0</td>\n",
       "      <td>0</td>\n",
       "      <td>0</td>\n",
       "      <td>0</td>\n",
       "      <td>0</td>\n",
       "      <td>0</td>\n",
       "      <td>0</td>\n",
       "    </tr>\n",
       "    <tr>\n",
       "      <th>3</th>\n",
       "      <td>0</td>\n",
       "      <td>0</td>\n",
       "      <td>0</td>\n",
       "      <td>0</td>\n",
       "      <td>0</td>\n",
       "      <td>0</td>\n",
       "      <td>0</td>\n",
       "      <td>0</td>\n",
       "      <td>0</td>\n",
       "      <td>0</td>\n",
       "      <td>...</td>\n",
       "      <td>0</td>\n",
       "      <td>0</td>\n",
       "      <td>0</td>\n",
       "      <td>0</td>\n",
       "      <td>0</td>\n",
       "      <td>0</td>\n",
       "      <td>0</td>\n",
       "      <td>0</td>\n",
       "      <td>0</td>\n",
       "      <td>0</td>\n",
       "    </tr>\n",
       "    <tr>\n",
       "      <th>4</th>\n",
       "      <td>0</td>\n",
       "      <td>0</td>\n",
       "      <td>0</td>\n",
       "      <td>0</td>\n",
       "      <td>0</td>\n",
       "      <td>0</td>\n",
       "      <td>0</td>\n",
       "      <td>0</td>\n",
       "      <td>0</td>\n",
       "      <td>0</td>\n",
       "      <td>...</td>\n",
       "      <td>0</td>\n",
       "      <td>0</td>\n",
       "      <td>0</td>\n",
       "      <td>0</td>\n",
       "      <td>0</td>\n",
       "      <td>0</td>\n",
       "      <td>0</td>\n",
       "      <td>0</td>\n",
       "      <td>0</td>\n",
       "      <td>0</td>\n",
       "    </tr>\n",
       "  </tbody>\n",
       "</table>\n",
       "<p>5 rows × 9814 columns</p>\n",
       "</div>"
      ],
      "text/plain": [
       "   0000  008  016  06  0854  09  0chris  0px  0youttalyouck  10  ...  \\\n",
       "0     0    0    0   0     0   0       0    0              0   0  ...   \n",
       "1     0    0    0   0     0   0       0    0              0   0  ...   \n",
       "2     0    0    0   0     0   0       0    0              0   0  ...   \n",
       "3     0    0    0   0     0   0       0    0              0   0  ...   \n",
       "4     0    0    0   0     0   0       0    0              0   0  ...   \n",
       "\n",
       "   zombiecaptandhook  zomg  zoo  zsbcreatioands  zsyouzsa  zyouande  \\\n",
       "0                  0     0    0               0         0         0   \n",
       "1                  0     0    0               0         0         0   \n",
       "2                  0     0    0               0         0         0   \n",
       "3                  0     0    0               0         0         0   \n",
       "4                  0     0    0               0         0         0   \n",
       "\n",
       "   zyouandesyoupport  zyoyourich  zztop  zzz  \n",
       "0                  0           0      0    0  \n",
       "1                  0           0      0    0  \n",
       "2                  0           0      0    0  \n",
       "3                  0           0      0    0  \n",
       "4                  0           0      0    0  \n",
       "\n",
       "[5 rows x 9814 columns]"
      ]
     },
     "execution_count": 187,
     "metadata": {},
     "output_type": "execute_result"
    }
   ],
   "source": [
    "dfr_bow.head()"
   ]
  },
  {
   "cell_type": "markdown",
   "metadata": {},
   "source": [
    "#### ML Algorithms : "
   ]
  },
  {
   "cell_type": "code",
   "execution_count": 178,
   "metadata": {},
   "outputs": [],
   "source": [
    "from sklearn.linear_model import SGDClassifier\n",
    "from sklearn.linear_model import LogisticRegression\n",
    "from sklearn.linear_model import LogisticRegressionCV\n",
    "from sklearn.svm import LinearSVC\n",
    "from sklearn.ensemble import RandomForestClassifier\n",
    "\n",
    "from sklearn.model_selection import train_test_split\n",
    "from sklearn.metrics import confusion_matrix, accuracy_score\n",
    "from sklearn.preprocessing import MinMaxScaler"
   ]
  },
  {
   "cell_type": "code",
   "execution_count": 180,
   "metadata": {},
   "outputs": [],
   "source": [
    "sgd = SGDClassifier(n_jobs = -1, random_state = 42, max_iter = 200)\n",
    "lgr = LogisticRegression(random_state =42, max_iter = 200)\n",
    "lgrcv = LogisticRegressionCV(cv = 2, random_state = 42, max_iter = 1000)\n",
    "svm = LinearSVC(random_state = 42, max_iter = 200)\n",
    "rfc = RandomForestClassifier(random_state = 42, n_jobs=-1, n_estimators=200)"
   ]
  },
  {
   "cell_type": "code",
   "execution_count": 181,
   "metadata": {},
   "outputs": [],
   "source": [
    "clf = {'SGD': sgd, 'LGR': lgr, 'LGR_CV':lgrcv, 'SVM': svm, 'RFC': rfc}"
   ]
  },
  {
   "cell_type": "code",
   "execution_count": 182,
   "metadata": {},
   "outputs": [
    {
     "data": {
      "text/plain": [
       "dict_keys(['SGD', 'LGR', 'LGR_CV', 'SVM', 'RFC'])"
      ]
     },
     "execution_count": 182,
     "metadata": {},
     "output_type": "execute_result"
    }
   ],
   "source": [
    "clf.keys()"
   ]
  },
  {
   "cell_type": "code",
   "execution_count": 184,
   "metadata": {},
   "outputs": [],
   "source": [
    "def classify(X, y):\n",
    "    scaler = MinMaxScaler(feature_range = (0, 1))\n",
    "    X = scaler.fit_transform(X)\n",
    "    \n",
    "    X_train, X_test, y_train, y_test = train_test_split(X, y, test_size = 0.2, random_state = 42, stratify = y )\n",
    "    \n",
    "    for key in clf.keys():\n",
    "        clf[key].fit(X_train, y_train)\n",
    "        y_pred = clf[key].predict(X_test)\n",
    "        ac = accuracy_score(y_test, y_pred)\n",
    "        print(key, \"---->\", ac)"
   ]
  },
  {
   "cell_type": "code",
   "execution_count": 188,
   "metadata": {},
   "outputs": [
    {
     "name": "stdout",
     "output_type": "stream",
     "text": [
      "SGD ----> 0.68125\n",
      "LGR ----> 0.6875\n",
      "LGR_CV ----> 0.67875\n",
      "SVM ----> 0.69125\n",
      "RFC ----> 0.65875\n",
      "Wall time: 1min 39s\n"
     ]
    }
   ],
   "source": [
    "%%time\n",
    "classify(dfr_bow, y)"
   ]
  },
  {
   "cell_type": "markdown",
   "metadata": {},
   "source": [
    "#### Manual Feature : "
   ]
  },
  {
   "cell_type": "code",
   "execution_count": 189,
   "metadata": {},
   "outputs": [
    {
     "name": "stdout",
     "output_type": "stream",
     "text": [
      "SGD ----> 0.57\n",
      "LGR ----> 0.59\n",
      "LGR_CV ----> 0.58875\n",
      "SVM ----> 0.58875\n",
      "RFC ----> 0.57625\n",
      "Wall time: 1.56 s\n"
     ]
    }
   ],
   "source": [
    "%%time\n",
    "classify(dfr_feat, y)"
   ]
  },
  {
   "cell_type": "markdown",
   "metadata": {},
   "source": [
    "#### Manual + BOW features :"
   ]
  },
  {
   "cell_type": "code",
   "execution_count": 194,
   "metadata": {},
   "outputs": [],
   "source": [
    "X = dfr_feat.join(dfr_bow)"
   ]
  },
  {
   "cell_type": "code",
   "execution_count": 195,
   "metadata": {},
   "outputs": [
    {
     "data": {
      "text/html": [
       "<div>\n",
       "<style scoped>\n",
       "    .dataframe tbody tr th:only-of-type {\n",
       "        vertical-align: middle;\n",
       "    }\n",
       "\n",
       "    .dataframe tbody tr th {\n",
       "        vertical-align: top;\n",
       "    }\n",
       "\n",
       "    .dataframe thead th {\n",
       "        text-align: right;\n",
       "    }\n",
       "</style>\n",
       "<table border=\"1\" class=\"dataframe\">\n",
       "  <thead>\n",
       "    <tr style=\"text-align: right;\">\n",
       "      <th></th>\n",
       "      <th>word_counts</th>\n",
       "      <th>Char_count</th>\n",
       "      <th>avg_word_len</th>\n",
       "      <th>stop_words_len</th>\n",
       "      <th>Hastags_count</th>\n",
       "      <th>@Mentions_count</th>\n",
       "      <th>numeric_count</th>\n",
       "      <th>upper_count</th>\n",
       "      <th>emails_count</th>\n",
       "      <th>urls_flag</th>\n",
       "      <th>...</th>\n",
       "      <th>zombiecaptandhook</th>\n",
       "      <th>zomg</th>\n",
       "      <th>zoo</th>\n",
       "      <th>zsbcreatioands</th>\n",
       "      <th>zsyouzsa</th>\n",
       "      <th>zyouande</th>\n",
       "      <th>zyouandesyoupport</th>\n",
       "      <th>zyoyourich</th>\n",
       "      <th>zztop</th>\n",
       "      <th>zzz</th>\n",
       "    </tr>\n",
       "  </thead>\n",
       "  <tbody>\n",
       "    <tr>\n",
       "      <th>0</th>\n",
       "      <td>21</td>\n",
       "      <td>102</td>\n",
       "      <td>3.761905</td>\n",
       "      <td>11</td>\n",
       "      <td>0</td>\n",
       "      <td>0</td>\n",
       "      <td>0</td>\n",
       "      <td>0</td>\n",
       "      <td>0</td>\n",
       "      <td>0</td>\n",
       "      <td>...</td>\n",
       "      <td>0</td>\n",
       "      <td>0</td>\n",
       "      <td>0</td>\n",
       "      <td>0</td>\n",
       "      <td>0</td>\n",
       "      <td>0</td>\n",
       "      <td>0</td>\n",
       "      <td>0</td>\n",
       "      <td>0</td>\n",
       "      <td>0</td>\n",
       "    </tr>\n",
       "    <tr>\n",
       "      <th>1</th>\n",
       "      <td>15</td>\n",
       "      <td>68</td>\n",
       "      <td>3.533333</td>\n",
       "      <td>7</td>\n",
       "      <td>0</td>\n",
       "      <td>0</td>\n",
       "      <td>0</td>\n",
       "      <td>1</td>\n",
       "      <td>0</td>\n",
       "      <td>0</td>\n",
       "      <td>...</td>\n",
       "      <td>0</td>\n",
       "      <td>0</td>\n",
       "      <td>0</td>\n",
       "      <td>0</td>\n",
       "      <td>0</td>\n",
       "      <td>0</td>\n",
       "      <td>0</td>\n",
       "      <td>0</td>\n",
       "      <td>0</td>\n",
       "      <td>0</td>\n",
       "    </tr>\n",
       "    <tr>\n",
       "      <th>2</th>\n",
       "      <td>6</td>\n",
       "      <td>30</td>\n",
       "      <td>4.000000</td>\n",
       "      <td>2</td>\n",
       "      <td>0</td>\n",
       "      <td>1</td>\n",
       "      <td>0</td>\n",
       "      <td>2</td>\n",
       "      <td>0</td>\n",
       "      <td>0</td>\n",
       "      <td>...</td>\n",
       "      <td>0</td>\n",
       "      <td>0</td>\n",
       "      <td>0</td>\n",
       "      <td>0</td>\n",
       "      <td>0</td>\n",
       "      <td>0</td>\n",
       "      <td>0</td>\n",
       "      <td>0</td>\n",
       "      <td>0</td>\n",
       "      <td>0</td>\n",
       "    </tr>\n",
       "    <tr>\n",
       "      <th>3</th>\n",
       "      <td>6</td>\n",
       "      <td>41</td>\n",
       "      <td>5.833333</td>\n",
       "      <td>1</td>\n",
       "      <td>0</td>\n",
       "      <td>0</td>\n",
       "      <td>1</td>\n",
       "      <td>0</td>\n",
       "      <td>0</td>\n",
       "      <td>0</td>\n",
       "      <td>...</td>\n",
       "      <td>0</td>\n",
       "      <td>0</td>\n",
       "      <td>0</td>\n",
       "      <td>0</td>\n",
       "      <td>0</td>\n",
       "      <td>0</td>\n",
       "      <td>0</td>\n",
       "      <td>0</td>\n",
       "      <td>0</td>\n",
       "      <td>0</td>\n",
       "    </tr>\n",
       "    <tr>\n",
       "      <th>4</th>\n",
       "      <td>28</td>\n",
       "      <td>138</td>\n",
       "      <td>3.928571</td>\n",
       "      <td>16</td>\n",
       "      <td>0</td>\n",
       "      <td>0</td>\n",
       "      <td>0</td>\n",
       "      <td>3</td>\n",
       "      <td>0</td>\n",
       "      <td>0</td>\n",
       "      <td>...</td>\n",
       "      <td>0</td>\n",
       "      <td>0</td>\n",
       "      <td>0</td>\n",
       "      <td>0</td>\n",
       "      <td>0</td>\n",
       "      <td>0</td>\n",
       "      <td>0</td>\n",
       "      <td>0</td>\n",
       "      <td>0</td>\n",
       "      <td>0</td>\n",
       "    </tr>\n",
       "    <tr>\n",
       "      <th>...</th>\n",
       "      <td>...</td>\n",
       "      <td>...</td>\n",
       "      <td>...</td>\n",
       "      <td>...</td>\n",
       "      <td>...</td>\n",
       "      <td>...</td>\n",
       "      <td>...</td>\n",
       "      <td>...</td>\n",
       "      <td>...</td>\n",
       "      <td>...</td>\n",
       "      <td>...</td>\n",
       "      <td>...</td>\n",
       "      <td>...</td>\n",
       "      <td>...</td>\n",
       "      <td>...</td>\n",
       "      <td>...</td>\n",
       "      <td>...</td>\n",
       "      <td>...</td>\n",
       "      <td>...</td>\n",
       "      <td>...</td>\n",
       "      <td>...</td>\n",
       "    </tr>\n",
       "    <tr>\n",
       "      <th>3995</th>\n",
       "      <td>11</td>\n",
       "      <td>70</td>\n",
       "      <td>5.181818</td>\n",
       "      <td>5</td>\n",
       "      <td>0</td>\n",
       "      <td>1</td>\n",
       "      <td>0</td>\n",
       "      <td>0</td>\n",
       "      <td>0</td>\n",
       "      <td>0</td>\n",
       "      <td>...</td>\n",
       "      <td>0</td>\n",
       "      <td>0</td>\n",
       "      <td>0</td>\n",
       "      <td>0</td>\n",
       "      <td>0</td>\n",
       "      <td>0</td>\n",
       "      <td>0</td>\n",
       "      <td>0</td>\n",
       "      <td>0</td>\n",
       "      <td>0</td>\n",
       "    </tr>\n",
       "    <tr>\n",
       "      <th>3996</th>\n",
       "      <td>14</td>\n",
       "      <td>91</td>\n",
       "      <td>5.285714</td>\n",
       "      <td>4</td>\n",
       "      <td>0</td>\n",
       "      <td>0</td>\n",
       "      <td>0</td>\n",
       "      <td>0</td>\n",
       "      <td>0</td>\n",
       "      <td>0</td>\n",
       "      <td>...</td>\n",
       "      <td>0</td>\n",
       "      <td>0</td>\n",
       "      <td>0</td>\n",
       "      <td>0</td>\n",
       "      <td>0</td>\n",
       "      <td>0</td>\n",
       "      <td>0</td>\n",
       "      <td>0</td>\n",
       "      <td>0</td>\n",
       "      <td>0</td>\n",
       "    </tr>\n",
       "    <tr>\n",
       "      <th>3997</th>\n",
       "      <td>9</td>\n",
       "      <td>51</td>\n",
       "      <td>4.555556</td>\n",
       "      <td>5</td>\n",
       "      <td>0</td>\n",
       "      <td>1</td>\n",
       "      <td>0</td>\n",
       "      <td>0</td>\n",
       "      <td>0</td>\n",
       "      <td>0</td>\n",
       "      <td>...</td>\n",
       "      <td>0</td>\n",
       "      <td>0</td>\n",
       "      <td>0</td>\n",
       "      <td>0</td>\n",
       "      <td>0</td>\n",
       "      <td>0</td>\n",
       "      <td>0</td>\n",
       "      <td>0</td>\n",
       "      <td>0</td>\n",
       "      <td>0</td>\n",
       "    </tr>\n",
       "    <tr>\n",
       "      <th>3998</th>\n",
       "      <td>16</td>\n",
       "      <td>92</td>\n",
       "      <td>4.750000</td>\n",
       "      <td>7</td>\n",
       "      <td>0</td>\n",
       "      <td>0</td>\n",
       "      <td>0</td>\n",
       "      <td>1</td>\n",
       "      <td>0</td>\n",
       "      <td>0</td>\n",
       "      <td>...</td>\n",
       "      <td>0</td>\n",
       "      <td>0</td>\n",
       "      <td>0</td>\n",
       "      <td>0</td>\n",
       "      <td>0</td>\n",
       "      <td>0</td>\n",
       "      <td>0</td>\n",
       "      <td>0</td>\n",
       "      <td>0</td>\n",
       "      <td>0</td>\n",
       "    </tr>\n",
       "    <tr>\n",
       "      <th>3999</th>\n",
       "      <td>13</td>\n",
       "      <td>80</td>\n",
       "      <td>5.153846</td>\n",
       "      <td>4</td>\n",
       "      <td>0</td>\n",
       "      <td>0</td>\n",
       "      <td>0</td>\n",
       "      <td>1</td>\n",
       "      <td>0</td>\n",
       "      <td>1</td>\n",
       "      <td>...</td>\n",
       "      <td>0</td>\n",
       "      <td>0</td>\n",
       "      <td>0</td>\n",
       "      <td>0</td>\n",
       "      <td>0</td>\n",
       "      <td>0</td>\n",
       "      <td>0</td>\n",
       "      <td>0</td>\n",
       "      <td>0</td>\n",
       "      <td>0</td>\n",
       "    </tr>\n",
       "  </tbody>\n",
       "</table>\n",
       "<p>4000 rows × 9824 columns</p>\n",
       "</div>"
      ],
      "text/plain": [
       "      word_counts  Char_count  avg_word_len  stop_words_len  Hastags_count  \\\n",
       "0              21         102      3.761905              11              0   \n",
       "1              15          68      3.533333               7              0   \n",
       "2               6          30      4.000000               2              0   \n",
       "3               6          41      5.833333               1              0   \n",
       "4              28         138      3.928571              16              0   \n",
       "...           ...         ...           ...             ...            ...   \n",
       "3995           11          70      5.181818               5              0   \n",
       "3996           14          91      5.285714               4              0   \n",
       "3997            9          51      4.555556               5              0   \n",
       "3998           16          92      4.750000               7              0   \n",
       "3999           13          80      5.153846               4              0   \n",
       "\n",
       "      @Mentions_count  numeric_count  upper_count  emails_count  urls_flag  \\\n",
       "0                   0              0            0             0          0   \n",
       "1                   0              0            1             0          0   \n",
       "2                   1              0            2             0          0   \n",
       "3                   0              1            0             0          0   \n",
       "4                   0              0            3             0          0   \n",
       "...               ...            ...          ...           ...        ...   \n",
       "3995                1              0            0             0          0   \n",
       "3996                0              0            0             0          0   \n",
       "3997                1              0            0             0          0   \n",
       "3998                0              0            1             0          0   \n",
       "3999                0              0            1             0          1   \n",
       "\n",
       "      ...  zombiecaptandhook  zomg  zoo  zsbcreatioands  zsyouzsa  zyouande  \\\n",
       "0     ...                  0     0    0               0         0         0   \n",
       "1     ...                  0     0    0               0         0         0   \n",
       "2     ...                  0     0    0               0         0         0   \n",
       "3     ...                  0     0    0               0         0         0   \n",
       "4     ...                  0     0    0               0         0         0   \n",
       "...   ...                ...   ...  ...             ...       ...       ...   \n",
       "3995  ...                  0     0    0               0         0         0   \n",
       "3996  ...                  0     0    0               0         0         0   \n",
       "3997  ...                  0     0    0               0         0         0   \n",
       "3998  ...                  0     0    0               0         0         0   \n",
       "3999  ...                  0     0    0               0         0         0   \n",
       "\n",
       "      zyouandesyoupport  zyoyourich  zztop  zzz  \n",
       "0                     0           0      0    0  \n",
       "1                     0           0      0    0  \n",
       "2                     0           0      0    0  \n",
       "3                     0           0      0    0  \n",
       "4                     0           0      0    0  \n",
       "...                 ...         ...    ...  ...  \n",
       "3995                  0           0      0    0  \n",
       "3996                  0           0      0    0  \n",
       "3997                  0           0      0    0  \n",
       "3998                  0           0      0    0  \n",
       "3999                  0           0      0    0  \n",
       "\n",
       "[4000 rows x 9824 columns]"
      ]
     },
     "execution_count": 195,
     "metadata": {},
     "output_type": "execute_result"
    }
   ],
   "source": [
    "X"
   ]
  },
  {
   "cell_type": "code",
   "execution_count": 196,
   "metadata": {},
   "outputs": [
    {
     "name": "stdout",
     "output_type": "stream",
     "text": [
      "SGD ----> 0.69875\n",
      "LGR ----> 0.69875\n",
      "LGR_CV ----> 0.70625\n",
      "SVM ----> 0.6875\n",
      "RFC ----> 0.65125\n",
      "Wall time: 1min 15s\n"
     ]
    }
   ],
   "source": [
    "%%time\n",
    "classify(X, y)"
   ]
  },
  {
   "cell_type": "markdown",
   "metadata": {},
   "source": [
    "#### TFIDF :"
   ]
  },
  {
   "cell_type": "code",
   "execution_count": 199,
   "metadata": {},
   "outputs": [],
   "source": [
    "from sklearn.feature_extraction.text import TfidfVectorizer"
   ]
  },
  {
   "cell_type": "code",
   "execution_count": 200,
   "metadata": {},
   "outputs": [
    {
     "data": {
      "text/plain": [
       "(4000, 13)"
      ]
     },
     "execution_count": 200,
     "metadata": {},
     "output_type": "execute_result"
    }
   ],
   "source": [
    "dfr.shape"
   ]
  },
  {
   "cell_type": "code",
   "execution_count": 205,
   "metadata": {},
   "outputs": [],
   "source": [
    "tfidf = TfidfVectorizer()\n",
    "X = tfidf.fit_transform(dfr['tweets'])"
   ]
  },
  {
   "cell_type": "code",
   "execution_count": 206,
   "metadata": {},
   "outputs": [
    {
     "ename": "TypeError",
     "evalue": "MinMaxScaler does not support sparse input. Consider using MaxAbsScaler instead.",
     "output_type": "error",
     "traceback": [
      "\u001b[1;31m---------------------------------------------------------------------------\u001b[0m",
      "\u001b[1;31mTypeError\u001b[0m                                 Traceback (most recent call last)",
      "\u001b[1;32m<timed eval>\u001b[0m in \u001b[0;36m<module>\u001b[1;34m\u001b[0m\n",
      "\u001b[1;32m<ipython-input-184-c6f03c305fd5>\u001b[0m in \u001b[0;36mclassify\u001b[1;34m(X, y)\u001b[0m\n\u001b[0;32m      1\u001b[0m \u001b[1;32mdef\u001b[0m \u001b[0mclassify\u001b[0m\u001b[1;33m(\u001b[0m\u001b[0mX\u001b[0m\u001b[1;33m,\u001b[0m \u001b[0my\u001b[0m\u001b[1;33m)\u001b[0m\u001b[1;33m:\u001b[0m\u001b[1;33m\u001b[0m\u001b[1;33m\u001b[0m\u001b[0m\n\u001b[0;32m      2\u001b[0m     \u001b[0mscaler\u001b[0m \u001b[1;33m=\u001b[0m \u001b[0mMinMaxScaler\u001b[0m\u001b[1;33m(\u001b[0m\u001b[0mfeature_range\u001b[0m \u001b[1;33m=\u001b[0m \u001b[1;33m(\u001b[0m\u001b[1;36m0\u001b[0m\u001b[1;33m,\u001b[0m \u001b[1;36m1\u001b[0m\u001b[1;33m)\u001b[0m\u001b[1;33m)\u001b[0m\u001b[1;33m\u001b[0m\u001b[1;33m\u001b[0m\u001b[0m\n\u001b[1;32m----> 3\u001b[1;33m     \u001b[0mX\u001b[0m \u001b[1;33m=\u001b[0m \u001b[0mscaler\u001b[0m\u001b[1;33m.\u001b[0m\u001b[0mfit_transform\u001b[0m\u001b[1;33m(\u001b[0m\u001b[0mX\u001b[0m\u001b[1;33m)\u001b[0m\u001b[1;33m\u001b[0m\u001b[1;33m\u001b[0m\u001b[0m\n\u001b[0m\u001b[0;32m      4\u001b[0m \u001b[1;33m\u001b[0m\u001b[0m\n\u001b[0;32m      5\u001b[0m     \u001b[0mX_train\u001b[0m\u001b[1;33m,\u001b[0m \u001b[0mX_test\u001b[0m\u001b[1;33m,\u001b[0m \u001b[0my_train\u001b[0m\u001b[1;33m,\u001b[0m \u001b[0my_test\u001b[0m \u001b[1;33m=\u001b[0m \u001b[0mtrain_test_split\u001b[0m\u001b[1;33m(\u001b[0m\u001b[0mX\u001b[0m\u001b[1;33m,\u001b[0m \u001b[0my\u001b[0m\u001b[1;33m,\u001b[0m \u001b[0mtest_size\u001b[0m \u001b[1;33m=\u001b[0m \u001b[1;36m0.2\u001b[0m\u001b[1;33m,\u001b[0m \u001b[0mrandom_state\u001b[0m \u001b[1;33m=\u001b[0m \u001b[1;36m42\u001b[0m\u001b[1;33m,\u001b[0m \u001b[0mstratify\u001b[0m \u001b[1;33m=\u001b[0m \u001b[0my\u001b[0m \u001b[1;33m)\u001b[0m\u001b[1;33m\u001b[0m\u001b[1;33m\u001b[0m\u001b[0m\n",
      "\u001b[1;32m~\\anaconda3\\lib\\site-packages\\sklearn\\base.py\u001b[0m in \u001b[0;36mfit_transform\u001b[1;34m(self, X, y, **fit_params)\u001b[0m\n\u001b[0;32m    850\u001b[0m         \u001b[1;32mif\u001b[0m \u001b[0my\u001b[0m \u001b[1;32mis\u001b[0m \u001b[1;32mNone\u001b[0m\u001b[1;33m:\u001b[0m\u001b[1;33m\u001b[0m\u001b[1;33m\u001b[0m\u001b[0m\n\u001b[0;32m    851\u001b[0m             \u001b[1;31m# fit method of arity 1 (unsupervised transformation)\u001b[0m\u001b[1;33m\u001b[0m\u001b[1;33m\u001b[0m\u001b[1;33m\u001b[0m\u001b[0m\n\u001b[1;32m--> 852\u001b[1;33m             \u001b[1;32mreturn\u001b[0m \u001b[0mself\u001b[0m\u001b[1;33m.\u001b[0m\u001b[0mfit\u001b[0m\u001b[1;33m(\u001b[0m\u001b[0mX\u001b[0m\u001b[1;33m,\u001b[0m \u001b[1;33m**\u001b[0m\u001b[0mfit_params\u001b[0m\u001b[1;33m)\u001b[0m\u001b[1;33m.\u001b[0m\u001b[0mtransform\u001b[0m\u001b[1;33m(\u001b[0m\u001b[0mX\u001b[0m\u001b[1;33m)\u001b[0m\u001b[1;33m\u001b[0m\u001b[1;33m\u001b[0m\u001b[0m\n\u001b[0m\u001b[0;32m    853\u001b[0m         \u001b[1;32melse\u001b[0m\u001b[1;33m:\u001b[0m\u001b[1;33m\u001b[0m\u001b[1;33m\u001b[0m\u001b[0m\n\u001b[0;32m    854\u001b[0m             \u001b[1;31m# fit method of arity 2 (supervised transformation)\u001b[0m\u001b[1;33m\u001b[0m\u001b[1;33m\u001b[0m\u001b[1;33m\u001b[0m\u001b[0m\n",
      "\u001b[1;32m~\\anaconda3\\lib\\site-packages\\sklearn\\preprocessing\\_data.py\u001b[0m in \u001b[0;36mfit\u001b[1;34m(self, X, y)\u001b[0m\n\u001b[0;32m    414\u001b[0m         \u001b[1;31m# Reset internal state before fitting\u001b[0m\u001b[1;33m\u001b[0m\u001b[1;33m\u001b[0m\u001b[1;33m\u001b[0m\u001b[0m\n\u001b[0;32m    415\u001b[0m         \u001b[0mself\u001b[0m\u001b[1;33m.\u001b[0m\u001b[0m_reset\u001b[0m\u001b[1;33m(\u001b[0m\u001b[1;33m)\u001b[0m\u001b[1;33m\u001b[0m\u001b[1;33m\u001b[0m\u001b[0m\n\u001b[1;32m--> 416\u001b[1;33m         \u001b[1;32mreturn\u001b[0m \u001b[0mself\u001b[0m\u001b[1;33m.\u001b[0m\u001b[0mpartial_fit\u001b[0m\u001b[1;33m(\u001b[0m\u001b[0mX\u001b[0m\u001b[1;33m,\u001b[0m \u001b[0my\u001b[0m\u001b[1;33m)\u001b[0m\u001b[1;33m\u001b[0m\u001b[1;33m\u001b[0m\u001b[0m\n\u001b[0m\u001b[0;32m    417\u001b[0m \u001b[1;33m\u001b[0m\u001b[0m\n\u001b[0;32m    418\u001b[0m     \u001b[1;32mdef\u001b[0m \u001b[0mpartial_fit\u001b[0m\u001b[1;33m(\u001b[0m\u001b[0mself\u001b[0m\u001b[1;33m,\u001b[0m \u001b[0mX\u001b[0m\u001b[1;33m,\u001b[0m \u001b[0my\u001b[0m\u001b[1;33m=\u001b[0m\u001b[1;32mNone\u001b[0m\u001b[1;33m)\u001b[0m\u001b[1;33m:\u001b[0m\u001b[1;33m\u001b[0m\u001b[1;33m\u001b[0m\u001b[0m\n",
      "\u001b[1;32m~\\anaconda3\\lib\\site-packages\\sklearn\\preprocessing\\_data.py\u001b[0m in \u001b[0;36mpartial_fit\u001b[1;34m(self, X, y)\u001b[0m\n\u001b[0;32m    445\u001b[0m \u001b[1;33m\u001b[0m\u001b[0m\n\u001b[0;32m    446\u001b[0m         \u001b[1;32mif\u001b[0m \u001b[0msparse\u001b[0m\u001b[1;33m.\u001b[0m\u001b[0missparse\u001b[0m\u001b[1;33m(\u001b[0m\u001b[0mX\u001b[0m\u001b[1;33m)\u001b[0m\u001b[1;33m:\u001b[0m\u001b[1;33m\u001b[0m\u001b[1;33m\u001b[0m\u001b[0m\n\u001b[1;32m--> 447\u001b[1;33m             raise TypeError(\n\u001b[0m\u001b[0;32m    448\u001b[0m                 \u001b[1;34m\"MinMaxScaler does not support sparse input. \"\u001b[0m\u001b[1;33m\u001b[0m\u001b[1;33m\u001b[0m\u001b[0m\n\u001b[0;32m    449\u001b[0m                 \u001b[1;34m\"Consider using MaxAbsScaler instead.\"\u001b[0m\u001b[1;33m\u001b[0m\u001b[1;33m\u001b[0m\u001b[0m\n",
      "\u001b[1;31mTypeError\u001b[0m: MinMaxScaler does not support sparse input. Consider using MaxAbsScaler instead."
     ]
    }
   ],
   "source": [
    "%%time\n",
    "classify(X,y)"
   ]
  },
  {
   "cell_type": "code",
   "execution_count": 207,
   "metadata": {},
   "outputs": [
    {
     "name": "stdout",
     "output_type": "stream",
     "text": [
      "SGD ----> 0.67625\n",
      "LGR ----> 0.69375\n",
      "LGR_CV ----> 0.695\n",
      "SVM ----> 0.67875\n",
      "RFC ----> 0.67\n",
      "Wall time: 1min 36s\n"
     ]
    }
   ],
   "source": [
    "%%time\n",
    "classify(pd.DataFrame(X.toarray()), y)"
   ]
  },
  {
   "cell_type": "markdown",
   "metadata": {},
   "source": [
    "#### Word2Vec : "
   ]
  },
  {
   "cell_type": "code",
   "execution_count": 210,
   "metadata": {},
   "outputs": [],
   "source": [
    "def get_vec(x):\n",
    "    doc = nlp(x)\n",
    "    return doc.vector.reshape(1, -1)"
   ]
  },
  {
   "cell_type": "code",
   "execution_count": 211,
   "metadata": {},
   "outputs": [
    {
     "name": "stdout",
     "output_type": "stream",
     "text": [
      "Wall time: 34.6 s\n"
     ]
    }
   ],
   "source": [
    "%%time\n",
    "dfr['vec'] = dfr['tweets'].apply(lambda x: get_vec(x))"
   ]
  },
  {
   "cell_type": "code",
   "execution_count": 219,
   "metadata": {},
   "outputs": [
    {
     "ename": "ValueError",
     "evalue": "all the input array dimensions for the concatenation axis must match exactly, but along dimension 1, the array at index 0 has size 96 and the array at index 1180 has size 0",
     "output_type": "error",
     "traceback": [
      "\u001b[1;31m---------------------------------------------------------------------------\u001b[0m",
      "\u001b[1;31mValueError\u001b[0m                                Traceback (most recent call last)",
      "\u001b[1;32m<ipython-input-219-621058242d4c>\u001b[0m in \u001b[0;36m<module>\u001b[1;34m\u001b[0m\n\u001b[1;32m----> 1\u001b[1;33m \u001b[0mX\u001b[0m \u001b[1;33m=\u001b[0m \u001b[0mnp\u001b[0m\u001b[1;33m.\u001b[0m\u001b[0mconcatenate\u001b[0m\u001b[1;33m(\u001b[0m\u001b[0mdfr\u001b[0m\u001b[1;33m[\u001b[0m\u001b[1;34m'vec'\u001b[0m\u001b[1;33m]\u001b[0m\u001b[1;33m.\u001b[0m\u001b[0mto_numpy\u001b[0m\u001b[1;33m(\u001b[0m\u001b[1;33m)\u001b[0m\u001b[1;33m,\u001b[0m \u001b[0maxis\u001b[0m \u001b[1;33m=\u001b[0m \u001b[1;36m0\u001b[0m\u001b[1;33m)\u001b[0m\u001b[1;33m\u001b[0m\u001b[1;33m\u001b[0m\u001b[0m\n\u001b[0m",
      "\u001b[1;32m<__array_function__ internals>\u001b[0m in \u001b[0;36mconcatenate\u001b[1;34m(*args, **kwargs)\u001b[0m\n",
      "\u001b[1;31mValueError\u001b[0m: all the input array dimensions for the concatenation axis must match exactly, but along dimension 1, the array at index 0 has size 96 and the array at index 1180 has size 0"
     ]
    }
   ],
   "source": [
    "X = np.concatenate(dfr['vec'].to_numpy(), axis = 0)"
   ]
  },
  {
   "cell_type": "code",
   "execution_count": 218,
   "metadata": {},
   "outputs": [
    {
     "ename": "ValueError",
     "evalue": "Found input variables with inconsistent numbers of samples: [1, 4000]",
     "output_type": "error",
     "traceback": [
      "\u001b[1;31m---------------------------------------------------------------------------\u001b[0m",
      "\u001b[1;31mValueError\u001b[0m                                Traceback (most recent call last)",
      "\u001b[1;32m<ipython-input-218-1a587d311cfd>\u001b[0m in \u001b[0;36m<module>\u001b[1;34m\u001b[0m\n\u001b[1;32m----> 1\u001b[1;33m \u001b[0mclassify\u001b[0m\u001b[1;33m(\u001b[0m\u001b[0mpd\u001b[0m\u001b[1;33m.\u001b[0m\u001b[0mDataFrame\u001b[0m\u001b[1;33m(\u001b[0m\u001b[0mX\u001b[0m\u001b[1;33m)\u001b[0m\u001b[1;33m,\u001b[0m \u001b[0my\u001b[0m\u001b[1;33m)\u001b[0m\u001b[1;33m\u001b[0m\u001b[1;33m\u001b[0m\u001b[0m\n\u001b[0m",
      "\u001b[1;32m<ipython-input-184-c6f03c305fd5>\u001b[0m in \u001b[0;36mclassify\u001b[1;34m(X, y)\u001b[0m\n\u001b[0;32m      3\u001b[0m     \u001b[0mX\u001b[0m \u001b[1;33m=\u001b[0m \u001b[0mscaler\u001b[0m\u001b[1;33m.\u001b[0m\u001b[0mfit_transform\u001b[0m\u001b[1;33m(\u001b[0m\u001b[0mX\u001b[0m\u001b[1;33m)\u001b[0m\u001b[1;33m\u001b[0m\u001b[1;33m\u001b[0m\u001b[0m\n\u001b[0;32m      4\u001b[0m \u001b[1;33m\u001b[0m\u001b[0m\n\u001b[1;32m----> 5\u001b[1;33m     \u001b[0mX_train\u001b[0m\u001b[1;33m,\u001b[0m \u001b[0mX_test\u001b[0m\u001b[1;33m,\u001b[0m \u001b[0my_train\u001b[0m\u001b[1;33m,\u001b[0m \u001b[0my_test\u001b[0m \u001b[1;33m=\u001b[0m \u001b[0mtrain_test_split\u001b[0m\u001b[1;33m(\u001b[0m\u001b[0mX\u001b[0m\u001b[1;33m,\u001b[0m \u001b[0my\u001b[0m\u001b[1;33m,\u001b[0m \u001b[0mtest_size\u001b[0m \u001b[1;33m=\u001b[0m \u001b[1;36m0.2\u001b[0m\u001b[1;33m,\u001b[0m \u001b[0mrandom_state\u001b[0m \u001b[1;33m=\u001b[0m \u001b[1;36m42\u001b[0m\u001b[1;33m,\u001b[0m \u001b[0mstratify\u001b[0m \u001b[1;33m=\u001b[0m \u001b[0my\u001b[0m \u001b[1;33m)\u001b[0m\u001b[1;33m\u001b[0m\u001b[1;33m\u001b[0m\u001b[0m\n\u001b[0m\u001b[0;32m      6\u001b[0m \u001b[1;33m\u001b[0m\u001b[0m\n\u001b[0;32m      7\u001b[0m     \u001b[1;32mfor\u001b[0m \u001b[0mkey\u001b[0m \u001b[1;32min\u001b[0m \u001b[0mclf\u001b[0m\u001b[1;33m.\u001b[0m\u001b[0mkeys\u001b[0m\u001b[1;33m(\u001b[0m\u001b[1;33m)\u001b[0m\u001b[1;33m:\u001b[0m\u001b[1;33m\u001b[0m\u001b[1;33m\u001b[0m\u001b[0m\n",
      "\u001b[1;32m~\\anaconda3\\lib\\site-packages\\sklearn\\model_selection\\_split.py\u001b[0m in \u001b[0;36mtrain_test_split\u001b[1;34m(test_size, train_size, random_state, shuffle, stratify, *arrays)\u001b[0m\n\u001b[0;32m   2415\u001b[0m         \u001b[1;32mraise\u001b[0m \u001b[0mValueError\u001b[0m\u001b[1;33m(\u001b[0m\u001b[1;34m\"At least one array required as input\"\u001b[0m\u001b[1;33m)\u001b[0m\u001b[1;33m\u001b[0m\u001b[1;33m\u001b[0m\u001b[0m\n\u001b[0;32m   2416\u001b[0m \u001b[1;33m\u001b[0m\u001b[0m\n\u001b[1;32m-> 2417\u001b[1;33m     \u001b[0marrays\u001b[0m \u001b[1;33m=\u001b[0m \u001b[0mindexable\u001b[0m\u001b[1;33m(\u001b[0m\u001b[1;33m*\u001b[0m\u001b[0marrays\u001b[0m\u001b[1;33m)\u001b[0m\u001b[1;33m\u001b[0m\u001b[1;33m\u001b[0m\u001b[0m\n\u001b[0m\u001b[0;32m   2418\u001b[0m \u001b[1;33m\u001b[0m\u001b[0m\n\u001b[0;32m   2419\u001b[0m     \u001b[0mn_samples\u001b[0m \u001b[1;33m=\u001b[0m \u001b[0m_num_samples\u001b[0m\u001b[1;33m(\u001b[0m\u001b[0marrays\u001b[0m\u001b[1;33m[\u001b[0m\u001b[1;36m0\u001b[0m\u001b[1;33m]\u001b[0m\u001b[1;33m)\u001b[0m\u001b[1;33m\u001b[0m\u001b[1;33m\u001b[0m\u001b[0m\n",
      "\u001b[1;32m~\\anaconda3\\lib\\site-packages\\sklearn\\utils\\validation.py\u001b[0m in \u001b[0;36mindexable\u001b[1;34m(*iterables)\u001b[0m\n\u001b[0;32m    376\u001b[0m \u001b[1;33m\u001b[0m\u001b[0m\n\u001b[0;32m    377\u001b[0m     \u001b[0mresult\u001b[0m \u001b[1;33m=\u001b[0m \u001b[1;33m[\u001b[0m\u001b[0m_make_indexable\u001b[0m\u001b[1;33m(\u001b[0m\u001b[0mX\u001b[0m\u001b[1;33m)\u001b[0m \u001b[1;32mfor\u001b[0m \u001b[0mX\u001b[0m \u001b[1;32min\u001b[0m \u001b[0miterables\u001b[0m\u001b[1;33m]\u001b[0m\u001b[1;33m\u001b[0m\u001b[1;33m\u001b[0m\u001b[0m\n\u001b[1;32m--> 378\u001b[1;33m     \u001b[0mcheck_consistent_length\u001b[0m\u001b[1;33m(\u001b[0m\u001b[1;33m*\u001b[0m\u001b[0mresult\u001b[0m\u001b[1;33m)\u001b[0m\u001b[1;33m\u001b[0m\u001b[1;33m\u001b[0m\u001b[0m\n\u001b[0m\u001b[0;32m    379\u001b[0m     \u001b[1;32mreturn\u001b[0m \u001b[0mresult\u001b[0m\u001b[1;33m\u001b[0m\u001b[1;33m\u001b[0m\u001b[0m\n\u001b[0;32m    380\u001b[0m \u001b[1;33m\u001b[0m\u001b[0m\n",
      "\u001b[1;32m~\\anaconda3\\lib\\site-packages\\sklearn\\utils\\validation.py\u001b[0m in \u001b[0;36mcheck_consistent_length\u001b[1;34m(*arrays)\u001b[0m\n\u001b[0;32m    330\u001b[0m     \u001b[0muniques\u001b[0m \u001b[1;33m=\u001b[0m \u001b[0mnp\u001b[0m\u001b[1;33m.\u001b[0m\u001b[0munique\u001b[0m\u001b[1;33m(\u001b[0m\u001b[0mlengths\u001b[0m\u001b[1;33m)\u001b[0m\u001b[1;33m\u001b[0m\u001b[1;33m\u001b[0m\u001b[0m\n\u001b[0;32m    331\u001b[0m     \u001b[1;32mif\u001b[0m \u001b[0mlen\u001b[0m\u001b[1;33m(\u001b[0m\u001b[0muniques\u001b[0m\u001b[1;33m)\u001b[0m \u001b[1;33m>\u001b[0m \u001b[1;36m1\u001b[0m\u001b[1;33m:\u001b[0m\u001b[1;33m\u001b[0m\u001b[1;33m\u001b[0m\u001b[0m\n\u001b[1;32m--> 332\u001b[1;33m         raise ValueError(\n\u001b[0m\u001b[0;32m    333\u001b[0m             \u001b[1;34m\"Found input variables with inconsistent numbers of samples: %r\"\u001b[0m\u001b[1;33m\u001b[0m\u001b[1;33m\u001b[0m\u001b[0m\n\u001b[0;32m    334\u001b[0m             \u001b[1;33m%\u001b[0m \u001b[1;33m[\u001b[0m\u001b[0mint\u001b[0m\u001b[1;33m(\u001b[0m\u001b[0ml\u001b[0m\u001b[1;33m)\u001b[0m \u001b[1;32mfor\u001b[0m \u001b[0ml\u001b[0m \u001b[1;32min\u001b[0m \u001b[0mlengths\u001b[0m\u001b[1;33m]\u001b[0m\u001b[1;33m\u001b[0m\u001b[1;33m\u001b[0m\u001b[0m\n",
      "\u001b[1;31mValueError\u001b[0m: Found input variables with inconsistent numbers of samples: [1, 4000]"
     ]
    }
   ],
   "source": [
    "classify(pd.DataFrame(X), y)"
   ]
  },
  {
   "cell_type": "code",
   "execution_count": 220,
   "metadata": {},
   "outputs": [],
   "source": [
    "def predict_w2v(x):\n",
    "    for key in clf.keys():\n",
    "        y_pred = clf[key].predict(get_vec(x))\n",
    "        print(key, '----->', y_pred)"
   ]
  },
  {
   "cell_type": "code",
   "execution_count": 221,
   "metadata": {},
   "outputs": [
    {
     "ename": "ValueError",
     "evalue": "X has 96 features, but SGDClassifier is expecting 9814 features as input.",
     "output_type": "error",
     "traceback": [
      "\u001b[1;31m---------------------------------------------------------------------------\u001b[0m",
      "\u001b[1;31mValueError\u001b[0m                                Traceback (most recent call last)",
      "\u001b[1;32m<ipython-input-221-f4d0a4a4d79e>\u001b[0m in \u001b[0;36m<module>\u001b[1;34m\u001b[0m\n\u001b[1;32m----> 1\u001b[1;33m \u001b[0mpredict_w2v\u001b[0m\u001b[1;33m(\u001b[0m\u001b[1;34m\"Hi, thanks for watching the whole project\"\u001b[0m\u001b[1;33m)\u001b[0m\u001b[1;33m\u001b[0m\u001b[1;33m\u001b[0m\u001b[0m\n\u001b[0m",
      "\u001b[1;32m<ipython-input-220-befbf74075a3>\u001b[0m in \u001b[0;36mpredict_w2v\u001b[1;34m(x)\u001b[0m\n\u001b[0;32m      1\u001b[0m \u001b[1;32mdef\u001b[0m \u001b[0mpredict_w2v\u001b[0m\u001b[1;33m(\u001b[0m\u001b[0mx\u001b[0m\u001b[1;33m)\u001b[0m\u001b[1;33m:\u001b[0m\u001b[1;33m\u001b[0m\u001b[1;33m\u001b[0m\u001b[0m\n\u001b[0;32m      2\u001b[0m     \u001b[1;32mfor\u001b[0m \u001b[0mkey\u001b[0m \u001b[1;32min\u001b[0m \u001b[0mclf\u001b[0m\u001b[1;33m.\u001b[0m\u001b[0mkeys\u001b[0m\u001b[1;33m(\u001b[0m\u001b[1;33m)\u001b[0m\u001b[1;33m:\u001b[0m\u001b[1;33m\u001b[0m\u001b[1;33m\u001b[0m\u001b[0m\n\u001b[1;32m----> 3\u001b[1;33m         \u001b[0my_pred\u001b[0m \u001b[1;33m=\u001b[0m \u001b[0mclf\u001b[0m\u001b[1;33m[\u001b[0m\u001b[0mkey\u001b[0m\u001b[1;33m]\u001b[0m\u001b[1;33m.\u001b[0m\u001b[0mpredict\u001b[0m\u001b[1;33m(\u001b[0m\u001b[0mget_vec\u001b[0m\u001b[1;33m(\u001b[0m\u001b[0mx\u001b[0m\u001b[1;33m)\u001b[0m\u001b[1;33m)\u001b[0m\u001b[1;33m\u001b[0m\u001b[1;33m\u001b[0m\u001b[0m\n\u001b[0m\u001b[0;32m      4\u001b[0m         \u001b[0mprint\u001b[0m\u001b[1;33m(\u001b[0m\u001b[0mkey\u001b[0m\u001b[1;33m,\u001b[0m \u001b[1;34m'----->'\u001b[0m\u001b[1;33m,\u001b[0m \u001b[0my_pred\u001b[0m\u001b[1;33m)\u001b[0m\u001b[1;33m\u001b[0m\u001b[1;33m\u001b[0m\u001b[0m\n",
      "\u001b[1;32m~\\anaconda3\\lib\\site-packages\\sklearn\\linear_model\\_base.py\u001b[0m in \u001b[0;36mpredict\u001b[1;34m(self, X)\u001b[0m\n\u001b[0;32m    423\u001b[0m             \u001b[0mVector\u001b[0m \u001b[0mcontaining\u001b[0m \u001b[0mthe\u001b[0m \u001b[1;32mclass\u001b[0m \u001b[0mlabels\u001b[0m \u001b[1;32mfor\u001b[0m \u001b[0meach\u001b[0m \u001b[0msample\u001b[0m\u001b[1;33m.\u001b[0m\u001b[1;33m\u001b[0m\u001b[1;33m\u001b[0m\u001b[0m\n\u001b[0;32m    424\u001b[0m         \"\"\"\n\u001b[1;32m--> 425\u001b[1;33m         \u001b[0mscores\u001b[0m \u001b[1;33m=\u001b[0m \u001b[0mself\u001b[0m\u001b[1;33m.\u001b[0m\u001b[0mdecision_function\u001b[0m\u001b[1;33m(\u001b[0m\u001b[0mX\u001b[0m\u001b[1;33m)\u001b[0m\u001b[1;33m\u001b[0m\u001b[1;33m\u001b[0m\u001b[0m\n\u001b[0m\u001b[0;32m    426\u001b[0m         \u001b[1;32mif\u001b[0m \u001b[0mlen\u001b[0m\u001b[1;33m(\u001b[0m\u001b[0mscores\u001b[0m\u001b[1;33m.\u001b[0m\u001b[0mshape\u001b[0m\u001b[1;33m)\u001b[0m \u001b[1;33m==\u001b[0m \u001b[1;36m1\u001b[0m\u001b[1;33m:\u001b[0m\u001b[1;33m\u001b[0m\u001b[1;33m\u001b[0m\u001b[0m\n\u001b[0;32m    427\u001b[0m             \u001b[0mindices\u001b[0m \u001b[1;33m=\u001b[0m \u001b[1;33m(\u001b[0m\u001b[0mscores\u001b[0m \u001b[1;33m>\u001b[0m \u001b[1;36m0\u001b[0m\u001b[1;33m)\u001b[0m\u001b[1;33m.\u001b[0m\u001b[0mastype\u001b[0m\u001b[1;33m(\u001b[0m\u001b[0mint\u001b[0m\u001b[1;33m)\u001b[0m\u001b[1;33m\u001b[0m\u001b[1;33m\u001b[0m\u001b[0m\n",
      "\u001b[1;32m~\\anaconda3\\lib\\site-packages\\sklearn\\linear_model\\_base.py\u001b[0m in \u001b[0;36mdecision_function\u001b[1;34m(self, X)\u001b[0m\n\u001b[0;32m    405\u001b[0m         \u001b[0mcheck_is_fitted\u001b[0m\u001b[1;33m(\u001b[0m\u001b[0mself\u001b[0m\u001b[1;33m)\u001b[0m\u001b[1;33m\u001b[0m\u001b[1;33m\u001b[0m\u001b[0m\n\u001b[0;32m    406\u001b[0m \u001b[1;33m\u001b[0m\u001b[0m\n\u001b[1;32m--> 407\u001b[1;33m         \u001b[0mX\u001b[0m \u001b[1;33m=\u001b[0m \u001b[0mself\u001b[0m\u001b[1;33m.\u001b[0m\u001b[0m_validate_data\u001b[0m\u001b[1;33m(\u001b[0m\u001b[0mX\u001b[0m\u001b[1;33m,\u001b[0m \u001b[0maccept_sparse\u001b[0m\u001b[1;33m=\u001b[0m\u001b[1;34m\"csr\"\u001b[0m\u001b[1;33m,\u001b[0m \u001b[0mreset\u001b[0m\u001b[1;33m=\u001b[0m\u001b[1;32mFalse\u001b[0m\u001b[1;33m)\u001b[0m\u001b[1;33m\u001b[0m\u001b[1;33m\u001b[0m\u001b[0m\n\u001b[0m\u001b[0;32m    408\u001b[0m         \u001b[0mscores\u001b[0m \u001b[1;33m=\u001b[0m \u001b[0msafe_sparse_dot\u001b[0m\u001b[1;33m(\u001b[0m\u001b[0mX\u001b[0m\u001b[1;33m,\u001b[0m \u001b[0mself\u001b[0m\u001b[1;33m.\u001b[0m\u001b[0mcoef_\u001b[0m\u001b[1;33m.\u001b[0m\u001b[0mT\u001b[0m\u001b[1;33m,\u001b[0m \u001b[0mdense_output\u001b[0m\u001b[1;33m=\u001b[0m\u001b[1;32mTrue\u001b[0m\u001b[1;33m)\u001b[0m \u001b[1;33m+\u001b[0m \u001b[0mself\u001b[0m\u001b[1;33m.\u001b[0m\u001b[0mintercept_\u001b[0m\u001b[1;33m\u001b[0m\u001b[1;33m\u001b[0m\u001b[0m\n\u001b[0;32m    409\u001b[0m         \u001b[1;32mreturn\u001b[0m \u001b[0mscores\u001b[0m\u001b[1;33m.\u001b[0m\u001b[0mravel\u001b[0m\u001b[1;33m(\u001b[0m\u001b[1;33m)\u001b[0m \u001b[1;32mif\u001b[0m \u001b[0mscores\u001b[0m\u001b[1;33m.\u001b[0m\u001b[0mshape\u001b[0m\u001b[1;33m[\u001b[0m\u001b[1;36m1\u001b[0m\u001b[1;33m]\u001b[0m \u001b[1;33m==\u001b[0m \u001b[1;36m1\u001b[0m \u001b[1;32melse\u001b[0m \u001b[0mscores\u001b[0m\u001b[1;33m\u001b[0m\u001b[1;33m\u001b[0m\u001b[0m\n",
      "\u001b[1;32m~\\anaconda3\\lib\\site-packages\\sklearn\\base.py\u001b[0m in \u001b[0;36m_validate_data\u001b[1;34m(self, X, y, reset, validate_separately, **check_params)\u001b[0m\n\u001b[0;32m    583\u001b[0m \u001b[1;33m\u001b[0m\u001b[0m\n\u001b[0;32m    584\u001b[0m         \u001b[1;32mif\u001b[0m \u001b[1;32mnot\u001b[0m \u001b[0mno_val_X\u001b[0m \u001b[1;32mand\u001b[0m \u001b[0mcheck_params\u001b[0m\u001b[1;33m.\u001b[0m\u001b[0mget\u001b[0m\u001b[1;33m(\u001b[0m\u001b[1;34m\"ensure_2d\"\u001b[0m\u001b[1;33m,\u001b[0m \u001b[1;32mTrue\u001b[0m\u001b[1;33m)\u001b[0m\u001b[1;33m:\u001b[0m\u001b[1;33m\u001b[0m\u001b[1;33m\u001b[0m\u001b[0m\n\u001b[1;32m--> 585\u001b[1;33m             \u001b[0mself\u001b[0m\u001b[1;33m.\u001b[0m\u001b[0m_check_n_features\u001b[0m\u001b[1;33m(\u001b[0m\u001b[0mX\u001b[0m\u001b[1;33m,\u001b[0m \u001b[0mreset\u001b[0m\u001b[1;33m=\u001b[0m\u001b[0mreset\u001b[0m\u001b[1;33m)\u001b[0m\u001b[1;33m\u001b[0m\u001b[1;33m\u001b[0m\u001b[0m\n\u001b[0m\u001b[0;32m    586\u001b[0m \u001b[1;33m\u001b[0m\u001b[0m\n\u001b[0;32m    587\u001b[0m         \u001b[1;32mreturn\u001b[0m \u001b[0mout\u001b[0m\u001b[1;33m\u001b[0m\u001b[1;33m\u001b[0m\u001b[0m\n",
      "\u001b[1;32m~\\anaconda3\\lib\\site-packages\\sklearn\\base.py\u001b[0m in \u001b[0;36m_check_n_features\u001b[1;34m(self, X, reset)\u001b[0m\n\u001b[0;32m    398\u001b[0m \u001b[1;33m\u001b[0m\u001b[0m\n\u001b[0;32m    399\u001b[0m         \u001b[1;32mif\u001b[0m \u001b[0mn_features\u001b[0m \u001b[1;33m!=\u001b[0m \u001b[0mself\u001b[0m\u001b[1;33m.\u001b[0m\u001b[0mn_features_in_\u001b[0m\u001b[1;33m:\u001b[0m\u001b[1;33m\u001b[0m\u001b[1;33m\u001b[0m\u001b[0m\n\u001b[1;32m--> 400\u001b[1;33m             raise ValueError(\n\u001b[0m\u001b[0;32m    401\u001b[0m                 \u001b[1;34mf\"X has {n_features} features, but {self.__class__.__name__} \"\u001b[0m\u001b[1;33m\u001b[0m\u001b[1;33m\u001b[0m\u001b[0m\n\u001b[0;32m    402\u001b[0m                 \u001b[1;34mf\"is expecting {self.n_features_in_} features as input.\"\u001b[0m\u001b[1;33m\u001b[0m\u001b[1;33m\u001b[0m\u001b[0m\n",
      "\u001b[1;31mValueError\u001b[0m: X has 96 features, but SGDClassifier is expecting 9814 features as input."
     ]
    }
   ],
   "source": [
    "predict_w2v(\"Hi, thanks for watching the whole project\")"
   ]
  },
  {
   "cell_type": "code",
   "execution_count": 222,
   "metadata": {},
   "outputs": [
    {
     "ename": "ValueError",
     "evalue": "X has 96 features, but SGDClassifier is expecting 9814 features as input.",
     "output_type": "error",
     "traceback": [
      "\u001b[1;31m---------------------------------------------------------------------------\u001b[0m",
      "\u001b[1;31mValueError\u001b[0m                                Traceback (most recent call last)",
      "\u001b[1;32m<ipython-input-222-47a406a25609>\u001b[0m in \u001b[0;36m<module>\u001b[1;34m\u001b[0m\n\u001b[1;32m----> 1\u001b[1;33m \u001b[0mpredict_w2v\u001b[0m\u001b[1;33m(\u001b[0m\u001b[1;34m\"please letme know if you want more video\"\u001b[0m\u001b[1;33m)\u001b[0m\u001b[1;33m\u001b[0m\u001b[1;33m\u001b[0m\u001b[0m\n\u001b[0m",
      "\u001b[1;32m<ipython-input-220-befbf74075a3>\u001b[0m in \u001b[0;36mpredict_w2v\u001b[1;34m(x)\u001b[0m\n\u001b[0;32m      1\u001b[0m \u001b[1;32mdef\u001b[0m \u001b[0mpredict_w2v\u001b[0m\u001b[1;33m(\u001b[0m\u001b[0mx\u001b[0m\u001b[1;33m)\u001b[0m\u001b[1;33m:\u001b[0m\u001b[1;33m\u001b[0m\u001b[1;33m\u001b[0m\u001b[0m\n\u001b[0;32m      2\u001b[0m     \u001b[1;32mfor\u001b[0m \u001b[0mkey\u001b[0m \u001b[1;32min\u001b[0m \u001b[0mclf\u001b[0m\u001b[1;33m.\u001b[0m\u001b[0mkeys\u001b[0m\u001b[1;33m(\u001b[0m\u001b[1;33m)\u001b[0m\u001b[1;33m:\u001b[0m\u001b[1;33m\u001b[0m\u001b[1;33m\u001b[0m\u001b[0m\n\u001b[1;32m----> 3\u001b[1;33m         \u001b[0my_pred\u001b[0m \u001b[1;33m=\u001b[0m \u001b[0mclf\u001b[0m\u001b[1;33m[\u001b[0m\u001b[0mkey\u001b[0m\u001b[1;33m]\u001b[0m\u001b[1;33m.\u001b[0m\u001b[0mpredict\u001b[0m\u001b[1;33m(\u001b[0m\u001b[0mget_vec\u001b[0m\u001b[1;33m(\u001b[0m\u001b[0mx\u001b[0m\u001b[1;33m)\u001b[0m\u001b[1;33m)\u001b[0m\u001b[1;33m\u001b[0m\u001b[1;33m\u001b[0m\u001b[0m\n\u001b[0m\u001b[0;32m      4\u001b[0m         \u001b[0mprint\u001b[0m\u001b[1;33m(\u001b[0m\u001b[0mkey\u001b[0m\u001b[1;33m,\u001b[0m \u001b[1;34m'----->'\u001b[0m\u001b[1;33m,\u001b[0m \u001b[0my_pred\u001b[0m\u001b[1;33m)\u001b[0m\u001b[1;33m\u001b[0m\u001b[1;33m\u001b[0m\u001b[0m\n",
      "\u001b[1;32m~\\anaconda3\\lib\\site-packages\\sklearn\\linear_model\\_base.py\u001b[0m in \u001b[0;36mpredict\u001b[1;34m(self, X)\u001b[0m\n\u001b[0;32m    423\u001b[0m             \u001b[0mVector\u001b[0m \u001b[0mcontaining\u001b[0m \u001b[0mthe\u001b[0m \u001b[1;32mclass\u001b[0m \u001b[0mlabels\u001b[0m \u001b[1;32mfor\u001b[0m \u001b[0meach\u001b[0m \u001b[0msample\u001b[0m\u001b[1;33m.\u001b[0m\u001b[1;33m\u001b[0m\u001b[1;33m\u001b[0m\u001b[0m\n\u001b[0;32m    424\u001b[0m         \"\"\"\n\u001b[1;32m--> 425\u001b[1;33m         \u001b[0mscores\u001b[0m \u001b[1;33m=\u001b[0m \u001b[0mself\u001b[0m\u001b[1;33m.\u001b[0m\u001b[0mdecision_function\u001b[0m\u001b[1;33m(\u001b[0m\u001b[0mX\u001b[0m\u001b[1;33m)\u001b[0m\u001b[1;33m\u001b[0m\u001b[1;33m\u001b[0m\u001b[0m\n\u001b[0m\u001b[0;32m    426\u001b[0m         \u001b[1;32mif\u001b[0m \u001b[0mlen\u001b[0m\u001b[1;33m(\u001b[0m\u001b[0mscores\u001b[0m\u001b[1;33m.\u001b[0m\u001b[0mshape\u001b[0m\u001b[1;33m)\u001b[0m \u001b[1;33m==\u001b[0m \u001b[1;36m1\u001b[0m\u001b[1;33m:\u001b[0m\u001b[1;33m\u001b[0m\u001b[1;33m\u001b[0m\u001b[0m\n\u001b[0;32m    427\u001b[0m             \u001b[0mindices\u001b[0m \u001b[1;33m=\u001b[0m \u001b[1;33m(\u001b[0m\u001b[0mscores\u001b[0m \u001b[1;33m>\u001b[0m \u001b[1;36m0\u001b[0m\u001b[1;33m)\u001b[0m\u001b[1;33m.\u001b[0m\u001b[0mastype\u001b[0m\u001b[1;33m(\u001b[0m\u001b[0mint\u001b[0m\u001b[1;33m)\u001b[0m\u001b[1;33m\u001b[0m\u001b[1;33m\u001b[0m\u001b[0m\n",
      "\u001b[1;32m~\\anaconda3\\lib\\site-packages\\sklearn\\linear_model\\_base.py\u001b[0m in \u001b[0;36mdecision_function\u001b[1;34m(self, X)\u001b[0m\n\u001b[0;32m    405\u001b[0m         \u001b[0mcheck_is_fitted\u001b[0m\u001b[1;33m(\u001b[0m\u001b[0mself\u001b[0m\u001b[1;33m)\u001b[0m\u001b[1;33m\u001b[0m\u001b[1;33m\u001b[0m\u001b[0m\n\u001b[0;32m    406\u001b[0m \u001b[1;33m\u001b[0m\u001b[0m\n\u001b[1;32m--> 407\u001b[1;33m         \u001b[0mX\u001b[0m \u001b[1;33m=\u001b[0m \u001b[0mself\u001b[0m\u001b[1;33m.\u001b[0m\u001b[0m_validate_data\u001b[0m\u001b[1;33m(\u001b[0m\u001b[0mX\u001b[0m\u001b[1;33m,\u001b[0m \u001b[0maccept_sparse\u001b[0m\u001b[1;33m=\u001b[0m\u001b[1;34m\"csr\"\u001b[0m\u001b[1;33m,\u001b[0m \u001b[0mreset\u001b[0m\u001b[1;33m=\u001b[0m\u001b[1;32mFalse\u001b[0m\u001b[1;33m)\u001b[0m\u001b[1;33m\u001b[0m\u001b[1;33m\u001b[0m\u001b[0m\n\u001b[0m\u001b[0;32m    408\u001b[0m         \u001b[0mscores\u001b[0m \u001b[1;33m=\u001b[0m \u001b[0msafe_sparse_dot\u001b[0m\u001b[1;33m(\u001b[0m\u001b[0mX\u001b[0m\u001b[1;33m,\u001b[0m \u001b[0mself\u001b[0m\u001b[1;33m.\u001b[0m\u001b[0mcoef_\u001b[0m\u001b[1;33m.\u001b[0m\u001b[0mT\u001b[0m\u001b[1;33m,\u001b[0m \u001b[0mdense_output\u001b[0m\u001b[1;33m=\u001b[0m\u001b[1;32mTrue\u001b[0m\u001b[1;33m)\u001b[0m \u001b[1;33m+\u001b[0m \u001b[0mself\u001b[0m\u001b[1;33m.\u001b[0m\u001b[0mintercept_\u001b[0m\u001b[1;33m\u001b[0m\u001b[1;33m\u001b[0m\u001b[0m\n\u001b[0;32m    409\u001b[0m         \u001b[1;32mreturn\u001b[0m \u001b[0mscores\u001b[0m\u001b[1;33m.\u001b[0m\u001b[0mravel\u001b[0m\u001b[1;33m(\u001b[0m\u001b[1;33m)\u001b[0m \u001b[1;32mif\u001b[0m \u001b[0mscores\u001b[0m\u001b[1;33m.\u001b[0m\u001b[0mshape\u001b[0m\u001b[1;33m[\u001b[0m\u001b[1;36m1\u001b[0m\u001b[1;33m]\u001b[0m \u001b[1;33m==\u001b[0m \u001b[1;36m1\u001b[0m \u001b[1;32melse\u001b[0m \u001b[0mscores\u001b[0m\u001b[1;33m\u001b[0m\u001b[1;33m\u001b[0m\u001b[0m\n",
      "\u001b[1;32m~\\anaconda3\\lib\\site-packages\\sklearn\\base.py\u001b[0m in \u001b[0;36m_validate_data\u001b[1;34m(self, X, y, reset, validate_separately, **check_params)\u001b[0m\n\u001b[0;32m    583\u001b[0m \u001b[1;33m\u001b[0m\u001b[0m\n\u001b[0;32m    584\u001b[0m         \u001b[1;32mif\u001b[0m \u001b[1;32mnot\u001b[0m \u001b[0mno_val_X\u001b[0m \u001b[1;32mand\u001b[0m \u001b[0mcheck_params\u001b[0m\u001b[1;33m.\u001b[0m\u001b[0mget\u001b[0m\u001b[1;33m(\u001b[0m\u001b[1;34m\"ensure_2d\"\u001b[0m\u001b[1;33m,\u001b[0m \u001b[1;32mTrue\u001b[0m\u001b[1;33m)\u001b[0m\u001b[1;33m:\u001b[0m\u001b[1;33m\u001b[0m\u001b[1;33m\u001b[0m\u001b[0m\n\u001b[1;32m--> 585\u001b[1;33m             \u001b[0mself\u001b[0m\u001b[1;33m.\u001b[0m\u001b[0m_check_n_features\u001b[0m\u001b[1;33m(\u001b[0m\u001b[0mX\u001b[0m\u001b[1;33m,\u001b[0m \u001b[0mreset\u001b[0m\u001b[1;33m=\u001b[0m\u001b[0mreset\u001b[0m\u001b[1;33m)\u001b[0m\u001b[1;33m\u001b[0m\u001b[1;33m\u001b[0m\u001b[0m\n\u001b[0m\u001b[0;32m    586\u001b[0m \u001b[1;33m\u001b[0m\u001b[0m\n\u001b[0;32m    587\u001b[0m         \u001b[1;32mreturn\u001b[0m \u001b[0mout\u001b[0m\u001b[1;33m\u001b[0m\u001b[1;33m\u001b[0m\u001b[0m\n",
      "\u001b[1;32m~\\anaconda3\\lib\\site-packages\\sklearn\\base.py\u001b[0m in \u001b[0;36m_check_n_features\u001b[1;34m(self, X, reset)\u001b[0m\n\u001b[0;32m    398\u001b[0m \u001b[1;33m\u001b[0m\u001b[0m\n\u001b[0;32m    399\u001b[0m         \u001b[1;32mif\u001b[0m \u001b[0mn_features\u001b[0m \u001b[1;33m!=\u001b[0m \u001b[0mself\u001b[0m\u001b[1;33m.\u001b[0m\u001b[0mn_features_in_\u001b[0m\u001b[1;33m:\u001b[0m\u001b[1;33m\u001b[0m\u001b[1;33m\u001b[0m\u001b[0m\n\u001b[1;32m--> 400\u001b[1;33m             raise ValueError(\n\u001b[0m\u001b[0;32m    401\u001b[0m                 \u001b[1;34mf\"X has {n_features} features, but {self.__class__.__name__} \"\u001b[0m\u001b[1;33m\u001b[0m\u001b[1;33m\u001b[0m\u001b[0m\n\u001b[0;32m    402\u001b[0m                 \u001b[1;34mf\"is expecting {self.n_features_in_} features as input.\"\u001b[0m\u001b[1;33m\u001b[0m\u001b[1;33m\u001b[0m\u001b[0m\n",
      "\u001b[1;31mValueError\u001b[0m: X has 96 features, but SGDClassifier is expecting 9814 features as input."
     ]
    }
   ],
   "source": [
    "predict_w2v(\"please letme know if you want more video\")"
   ]
  },
  {
   "cell_type": "code",
   "execution_count": 223,
   "metadata": {},
   "outputs": [
    {
     "ename": "ValueError",
     "evalue": "X has 96 features, but SGDClassifier is expecting 9814 features as input.",
     "output_type": "error",
     "traceback": [
      "\u001b[1;31m---------------------------------------------------------------------------\u001b[0m",
      "\u001b[1;31mValueError\u001b[0m                                Traceback (most recent call last)",
      "\u001b[1;32m<ipython-input-223-0114f0362f98>\u001b[0m in \u001b[0;36m<module>\u001b[1;34m\u001b[0m\n\u001b[1;32m----> 1\u001b[1;33m \u001b[0mpredict_w2v\u001b[0m\u001b[1;33m(\u001b[0m\u001b[1;34m\"we stand together, we will win together\"\u001b[0m\u001b[1;33m)\u001b[0m\u001b[1;33m\u001b[0m\u001b[1;33m\u001b[0m\u001b[0m\n\u001b[0m",
      "\u001b[1;32m<ipython-input-220-befbf74075a3>\u001b[0m in \u001b[0;36mpredict_w2v\u001b[1;34m(x)\u001b[0m\n\u001b[0;32m      1\u001b[0m \u001b[1;32mdef\u001b[0m \u001b[0mpredict_w2v\u001b[0m\u001b[1;33m(\u001b[0m\u001b[0mx\u001b[0m\u001b[1;33m)\u001b[0m\u001b[1;33m:\u001b[0m\u001b[1;33m\u001b[0m\u001b[1;33m\u001b[0m\u001b[0m\n\u001b[0;32m      2\u001b[0m     \u001b[1;32mfor\u001b[0m \u001b[0mkey\u001b[0m \u001b[1;32min\u001b[0m \u001b[0mclf\u001b[0m\u001b[1;33m.\u001b[0m\u001b[0mkeys\u001b[0m\u001b[1;33m(\u001b[0m\u001b[1;33m)\u001b[0m\u001b[1;33m:\u001b[0m\u001b[1;33m\u001b[0m\u001b[1;33m\u001b[0m\u001b[0m\n\u001b[1;32m----> 3\u001b[1;33m         \u001b[0my_pred\u001b[0m \u001b[1;33m=\u001b[0m \u001b[0mclf\u001b[0m\u001b[1;33m[\u001b[0m\u001b[0mkey\u001b[0m\u001b[1;33m]\u001b[0m\u001b[1;33m.\u001b[0m\u001b[0mpredict\u001b[0m\u001b[1;33m(\u001b[0m\u001b[0mget_vec\u001b[0m\u001b[1;33m(\u001b[0m\u001b[0mx\u001b[0m\u001b[1;33m)\u001b[0m\u001b[1;33m)\u001b[0m\u001b[1;33m\u001b[0m\u001b[1;33m\u001b[0m\u001b[0m\n\u001b[0m\u001b[0;32m      4\u001b[0m         \u001b[0mprint\u001b[0m\u001b[1;33m(\u001b[0m\u001b[0mkey\u001b[0m\u001b[1;33m,\u001b[0m \u001b[1;34m'----->'\u001b[0m\u001b[1;33m,\u001b[0m \u001b[0my_pred\u001b[0m\u001b[1;33m)\u001b[0m\u001b[1;33m\u001b[0m\u001b[1;33m\u001b[0m\u001b[0m\n",
      "\u001b[1;32m~\\anaconda3\\lib\\site-packages\\sklearn\\linear_model\\_base.py\u001b[0m in \u001b[0;36mpredict\u001b[1;34m(self, X)\u001b[0m\n\u001b[0;32m    423\u001b[0m             \u001b[0mVector\u001b[0m \u001b[0mcontaining\u001b[0m \u001b[0mthe\u001b[0m \u001b[1;32mclass\u001b[0m \u001b[0mlabels\u001b[0m \u001b[1;32mfor\u001b[0m \u001b[0meach\u001b[0m \u001b[0msample\u001b[0m\u001b[1;33m.\u001b[0m\u001b[1;33m\u001b[0m\u001b[1;33m\u001b[0m\u001b[0m\n\u001b[0;32m    424\u001b[0m         \"\"\"\n\u001b[1;32m--> 425\u001b[1;33m         \u001b[0mscores\u001b[0m \u001b[1;33m=\u001b[0m \u001b[0mself\u001b[0m\u001b[1;33m.\u001b[0m\u001b[0mdecision_function\u001b[0m\u001b[1;33m(\u001b[0m\u001b[0mX\u001b[0m\u001b[1;33m)\u001b[0m\u001b[1;33m\u001b[0m\u001b[1;33m\u001b[0m\u001b[0m\n\u001b[0m\u001b[0;32m    426\u001b[0m         \u001b[1;32mif\u001b[0m \u001b[0mlen\u001b[0m\u001b[1;33m(\u001b[0m\u001b[0mscores\u001b[0m\u001b[1;33m.\u001b[0m\u001b[0mshape\u001b[0m\u001b[1;33m)\u001b[0m \u001b[1;33m==\u001b[0m \u001b[1;36m1\u001b[0m\u001b[1;33m:\u001b[0m\u001b[1;33m\u001b[0m\u001b[1;33m\u001b[0m\u001b[0m\n\u001b[0;32m    427\u001b[0m             \u001b[0mindices\u001b[0m \u001b[1;33m=\u001b[0m \u001b[1;33m(\u001b[0m\u001b[0mscores\u001b[0m \u001b[1;33m>\u001b[0m \u001b[1;36m0\u001b[0m\u001b[1;33m)\u001b[0m\u001b[1;33m.\u001b[0m\u001b[0mastype\u001b[0m\u001b[1;33m(\u001b[0m\u001b[0mint\u001b[0m\u001b[1;33m)\u001b[0m\u001b[1;33m\u001b[0m\u001b[1;33m\u001b[0m\u001b[0m\n",
      "\u001b[1;32m~\\anaconda3\\lib\\site-packages\\sklearn\\linear_model\\_base.py\u001b[0m in \u001b[0;36mdecision_function\u001b[1;34m(self, X)\u001b[0m\n\u001b[0;32m    405\u001b[0m         \u001b[0mcheck_is_fitted\u001b[0m\u001b[1;33m(\u001b[0m\u001b[0mself\u001b[0m\u001b[1;33m)\u001b[0m\u001b[1;33m\u001b[0m\u001b[1;33m\u001b[0m\u001b[0m\n\u001b[0;32m    406\u001b[0m \u001b[1;33m\u001b[0m\u001b[0m\n\u001b[1;32m--> 407\u001b[1;33m         \u001b[0mX\u001b[0m \u001b[1;33m=\u001b[0m \u001b[0mself\u001b[0m\u001b[1;33m.\u001b[0m\u001b[0m_validate_data\u001b[0m\u001b[1;33m(\u001b[0m\u001b[0mX\u001b[0m\u001b[1;33m,\u001b[0m \u001b[0maccept_sparse\u001b[0m\u001b[1;33m=\u001b[0m\u001b[1;34m\"csr\"\u001b[0m\u001b[1;33m,\u001b[0m \u001b[0mreset\u001b[0m\u001b[1;33m=\u001b[0m\u001b[1;32mFalse\u001b[0m\u001b[1;33m)\u001b[0m\u001b[1;33m\u001b[0m\u001b[1;33m\u001b[0m\u001b[0m\n\u001b[0m\u001b[0;32m    408\u001b[0m         \u001b[0mscores\u001b[0m \u001b[1;33m=\u001b[0m \u001b[0msafe_sparse_dot\u001b[0m\u001b[1;33m(\u001b[0m\u001b[0mX\u001b[0m\u001b[1;33m,\u001b[0m \u001b[0mself\u001b[0m\u001b[1;33m.\u001b[0m\u001b[0mcoef_\u001b[0m\u001b[1;33m.\u001b[0m\u001b[0mT\u001b[0m\u001b[1;33m,\u001b[0m \u001b[0mdense_output\u001b[0m\u001b[1;33m=\u001b[0m\u001b[1;32mTrue\u001b[0m\u001b[1;33m)\u001b[0m \u001b[1;33m+\u001b[0m \u001b[0mself\u001b[0m\u001b[1;33m.\u001b[0m\u001b[0mintercept_\u001b[0m\u001b[1;33m\u001b[0m\u001b[1;33m\u001b[0m\u001b[0m\n\u001b[0;32m    409\u001b[0m         \u001b[1;32mreturn\u001b[0m \u001b[0mscores\u001b[0m\u001b[1;33m.\u001b[0m\u001b[0mravel\u001b[0m\u001b[1;33m(\u001b[0m\u001b[1;33m)\u001b[0m \u001b[1;32mif\u001b[0m \u001b[0mscores\u001b[0m\u001b[1;33m.\u001b[0m\u001b[0mshape\u001b[0m\u001b[1;33m[\u001b[0m\u001b[1;36m1\u001b[0m\u001b[1;33m]\u001b[0m \u001b[1;33m==\u001b[0m \u001b[1;36m1\u001b[0m \u001b[1;32melse\u001b[0m \u001b[0mscores\u001b[0m\u001b[1;33m\u001b[0m\u001b[1;33m\u001b[0m\u001b[0m\n",
      "\u001b[1;32m~\\anaconda3\\lib\\site-packages\\sklearn\\base.py\u001b[0m in \u001b[0;36m_validate_data\u001b[1;34m(self, X, y, reset, validate_separately, **check_params)\u001b[0m\n\u001b[0;32m    583\u001b[0m \u001b[1;33m\u001b[0m\u001b[0m\n\u001b[0;32m    584\u001b[0m         \u001b[1;32mif\u001b[0m \u001b[1;32mnot\u001b[0m \u001b[0mno_val_X\u001b[0m \u001b[1;32mand\u001b[0m \u001b[0mcheck_params\u001b[0m\u001b[1;33m.\u001b[0m\u001b[0mget\u001b[0m\u001b[1;33m(\u001b[0m\u001b[1;34m\"ensure_2d\"\u001b[0m\u001b[1;33m,\u001b[0m \u001b[1;32mTrue\u001b[0m\u001b[1;33m)\u001b[0m\u001b[1;33m:\u001b[0m\u001b[1;33m\u001b[0m\u001b[1;33m\u001b[0m\u001b[0m\n\u001b[1;32m--> 585\u001b[1;33m             \u001b[0mself\u001b[0m\u001b[1;33m.\u001b[0m\u001b[0m_check_n_features\u001b[0m\u001b[1;33m(\u001b[0m\u001b[0mX\u001b[0m\u001b[1;33m,\u001b[0m \u001b[0mreset\u001b[0m\u001b[1;33m=\u001b[0m\u001b[0mreset\u001b[0m\u001b[1;33m)\u001b[0m\u001b[1;33m\u001b[0m\u001b[1;33m\u001b[0m\u001b[0m\n\u001b[0m\u001b[0;32m    586\u001b[0m \u001b[1;33m\u001b[0m\u001b[0m\n\u001b[0;32m    587\u001b[0m         \u001b[1;32mreturn\u001b[0m \u001b[0mout\u001b[0m\u001b[1;33m\u001b[0m\u001b[1;33m\u001b[0m\u001b[0m\n",
      "\u001b[1;32m~\\anaconda3\\lib\\site-packages\\sklearn\\base.py\u001b[0m in \u001b[0;36m_check_n_features\u001b[1;34m(self, X, reset)\u001b[0m\n\u001b[0;32m    398\u001b[0m \u001b[1;33m\u001b[0m\u001b[0m\n\u001b[0;32m    399\u001b[0m         \u001b[1;32mif\u001b[0m \u001b[0mn_features\u001b[0m \u001b[1;33m!=\u001b[0m \u001b[0mself\u001b[0m\u001b[1;33m.\u001b[0m\u001b[0mn_features_in_\u001b[0m\u001b[1;33m:\u001b[0m\u001b[1;33m\u001b[0m\u001b[1;33m\u001b[0m\u001b[0m\n\u001b[1;32m--> 400\u001b[1;33m             raise ValueError(\n\u001b[0m\u001b[0;32m    401\u001b[0m                 \u001b[1;34mf\"X has {n_features} features, but {self.__class__.__name__} \"\u001b[0m\u001b[1;33m\u001b[0m\u001b[1;33m\u001b[0m\u001b[0m\n\u001b[0;32m    402\u001b[0m                 \u001b[1;34mf\"is expecting {self.n_features_in_} features as input.\"\u001b[0m\u001b[1;33m\u001b[0m\u001b[1;33m\u001b[0m\u001b[0m\n",
      "\u001b[1;31mValueError\u001b[0m: X has 96 features, but SGDClassifier is expecting 9814 features as input."
     ]
    }
   ],
   "source": [
    "predict_w2v(\"we stand together, we will win together\")"
   ]
  },
  {
   "cell_type": "code",
   "execution_count": 224,
   "metadata": {},
   "outputs": [
    {
     "ename": "ValueError",
     "evalue": "X has 96 features, but SGDClassifier is expecting 9814 features as input.",
     "output_type": "error",
     "traceback": [
      "\u001b[1;31m---------------------------------------------------------------------------\u001b[0m",
      "\u001b[1;31mValueError\u001b[0m                                Traceback (most recent call last)",
      "\u001b[1;32m<ipython-input-224-b422518f9bf9>\u001b[0m in \u001b[0;36m<module>\u001b[1;34m\u001b[0m\n\u001b[1;32m----> 1\u001b[1;33m \u001b[0mpredict_w2v\u001b[0m\u001b[1;33m(\u001b[0m\u001b[1;34m\"congratulations, that's fine\"\u001b[0m\u001b[1;33m)\u001b[0m\u001b[1;33m\u001b[0m\u001b[1;33m\u001b[0m\u001b[0m\n\u001b[0m",
      "\u001b[1;32m<ipython-input-220-befbf74075a3>\u001b[0m in \u001b[0;36mpredict_w2v\u001b[1;34m(x)\u001b[0m\n\u001b[0;32m      1\u001b[0m \u001b[1;32mdef\u001b[0m \u001b[0mpredict_w2v\u001b[0m\u001b[1;33m(\u001b[0m\u001b[0mx\u001b[0m\u001b[1;33m)\u001b[0m\u001b[1;33m:\u001b[0m\u001b[1;33m\u001b[0m\u001b[1;33m\u001b[0m\u001b[0m\n\u001b[0;32m      2\u001b[0m     \u001b[1;32mfor\u001b[0m \u001b[0mkey\u001b[0m \u001b[1;32min\u001b[0m \u001b[0mclf\u001b[0m\u001b[1;33m.\u001b[0m\u001b[0mkeys\u001b[0m\u001b[1;33m(\u001b[0m\u001b[1;33m)\u001b[0m\u001b[1;33m:\u001b[0m\u001b[1;33m\u001b[0m\u001b[1;33m\u001b[0m\u001b[0m\n\u001b[1;32m----> 3\u001b[1;33m         \u001b[0my_pred\u001b[0m \u001b[1;33m=\u001b[0m \u001b[0mclf\u001b[0m\u001b[1;33m[\u001b[0m\u001b[0mkey\u001b[0m\u001b[1;33m]\u001b[0m\u001b[1;33m.\u001b[0m\u001b[0mpredict\u001b[0m\u001b[1;33m(\u001b[0m\u001b[0mget_vec\u001b[0m\u001b[1;33m(\u001b[0m\u001b[0mx\u001b[0m\u001b[1;33m)\u001b[0m\u001b[1;33m)\u001b[0m\u001b[1;33m\u001b[0m\u001b[1;33m\u001b[0m\u001b[0m\n\u001b[0m\u001b[0;32m      4\u001b[0m         \u001b[0mprint\u001b[0m\u001b[1;33m(\u001b[0m\u001b[0mkey\u001b[0m\u001b[1;33m,\u001b[0m \u001b[1;34m'----->'\u001b[0m\u001b[1;33m,\u001b[0m \u001b[0my_pred\u001b[0m\u001b[1;33m)\u001b[0m\u001b[1;33m\u001b[0m\u001b[1;33m\u001b[0m\u001b[0m\n",
      "\u001b[1;32m~\\anaconda3\\lib\\site-packages\\sklearn\\linear_model\\_base.py\u001b[0m in \u001b[0;36mpredict\u001b[1;34m(self, X)\u001b[0m\n\u001b[0;32m    423\u001b[0m             \u001b[0mVector\u001b[0m \u001b[0mcontaining\u001b[0m \u001b[0mthe\u001b[0m \u001b[1;32mclass\u001b[0m \u001b[0mlabels\u001b[0m \u001b[1;32mfor\u001b[0m \u001b[0meach\u001b[0m \u001b[0msample\u001b[0m\u001b[1;33m.\u001b[0m\u001b[1;33m\u001b[0m\u001b[1;33m\u001b[0m\u001b[0m\n\u001b[0;32m    424\u001b[0m         \"\"\"\n\u001b[1;32m--> 425\u001b[1;33m         \u001b[0mscores\u001b[0m \u001b[1;33m=\u001b[0m \u001b[0mself\u001b[0m\u001b[1;33m.\u001b[0m\u001b[0mdecision_function\u001b[0m\u001b[1;33m(\u001b[0m\u001b[0mX\u001b[0m\u001b[1;33m)\u001b[0m\u001b[1;33m\u001b[0m\u001b[1;33m\u001b[0m\u001b[0m\n\u001b[0m\u001b[0;32m    426\u001b[0m         \u001b[1;32mif\u001b[0m \u001b[0mlen\u001b[0m\u001b[1;33m(\u001b[0m\u001b[0mscores\u001b[0m\u001b[1;33m.\u001b[0m\u001b[0mshape\u001b[0m\u001b[1;33m)\u001b[0m \u001b[1;33m==\u001b[0m \u001b[1;36m1\u001b[0m\u001b[1;33m:\u001b[0m\u001b[1;33m\u001b[0m\u001b[1;33m\u001b[0m\u001b[0m\n\u001b[0;32m    427\u001b[0m             \u001b[0mindices\u001b[0m \u001b[1;33m=\u001b[0m \u001b[1;33m(\u001b[0m\u001b[0mscores\u001b[0m \u001b[1;33m>\u001b[0m \u001b[1;36m0\u001b[0m\u001b[1;33m)\u001b[0m\u001b[1;33m.\u001b[0m\u001b[0mastype\u001b[0m\u001b[1;33m(\u001b[0m\u001b[0mint\u001b[0m\u001b[1;33m)\u001b[0m\u001b[1;33m\u001b[0m\u001b[1;33m\u001b[0m\u001b[0m\n",
      "\u001b[1;32m~\\anaconda3\\lib\\site-packages\\sklearn\\linear_model\\_base.py\u001b[0m in \u001b[0;36mdecision_function\u001b[1;34m(self, X)\u001b[0m\n\u001b[0;32m    405\u001b[0m         \u001b[0mcheck_is_fitted\u001b[0m\u001b[1;33m(\u001b[0m\u001b[0mself\u001b[0m\u001b[1;33m)\u001b[0m\u001b[1;33m\u001b[0m\u001b[1;33m\u001b[0m\u001b[0m\n\u001b[0;32m    406\u001b[0m \u001b[1;33m\u001b[0m\u001b[0m\n\u001b[1;32m--> 407\u001b[1;33m         \u001b[0mX\u001b[0m \u001b[1;33m=\u001b[0m \u001b[0mself\u001b[0m\u001b[1;33m.\u001b[0m\u001b[0m_validate_data\u001b[0m\u001b[1;33m(\u001b[0m\u001b[0mX\u001b[0m\u001b[1;33m,\u001b[0m \u001b[0maccept_sparse\u001b[0m\u001b[1;33m=\u001b[0m\u001b[1;34m\"csr\"\u001b[0m\u001b[1;33m,\u001b[0m \u001b[0mreset\u001b[0m\u001b[1;33m=\u001b[0m\u001b[1;32mFalse\u001b[0m\u001b[1;33m)\u001b[0m\u001b[1;33m\u001b[0m\u001b[1;33m\u001b[0m\u001b[0m\n\u001b[0m\u001b[0;32m    408\u001b[0m         \u001b[0mscores\u001b[0m \u001b[1;33m=\u001b[0m \u001b[0msafe_sparse_dot\u001b[0m\u001b[1;33m(\u001b[0m\u001b[0mX\u001b[0m\u001b[1;33m,\u001b[0m \u001b[0mself\u001b[0m\u001b[1;33m.\u001b[0m\u001b[0mcoef_\u001b[0m\u001b[1;33m.\u001b[0m\u001b[0mT\u001b[0m\u001b[1;33m,\u001b[0m \u001b[0mdense_output\u001b[0m\u001b[1;33m=\u001b[0m\u001b[1;32mTrue\u001b[0m\u001b[1;33m)\u001b[0m \u001b[1;33m+\u001b[0m \u001b[0mself\u001b[0m\u001b[1;33m.\u001b[0m\u001b[0mintercept_\u001b[0m\u001b[1;33m\u001b[0m\u001b[1;33m\u001b[0m\u001b[0m\n\u001b[0;32m    409\u001b[0m         \u001b[1;32mreturn\u001b[0m \u001b[0mscores\u001b[0m\u001b[1;33m.\u001b[0m\u001b[0mravel\u001b[0m\u001b[1;33m(\u001b[0m\u001b[1;33m)\u001b[0m \u001b[1;32mif\u001b[0m \u001b[0mscores\u001b[0m\u001b[1;33m.\u001b[0m\u001b[0mshape\u001b[0m\u001b[1;33m[\u001b[0m\u001b[1;36m1\u001b[0m\u001b[1;33m]\u001b[0m \u001b[1;33m==\u001b[0m \u001b[1;36m1\u001b[0m \u001b[1;32melse\u001b[0m \u001b[0mscores\u001b[0m\u001b[1;33m\u001b[0m\u001b[1;33m\u001b[0m\u001b[0m\n",
      "\u001b[1;32m~\\anaconda3\\lib\\site-packages\\sklearn\\base.py\u001b[0m in \u001b[0;36m_validate_data\u001b[1;34m(self, X, y, reset, validate_separately, **check_params)\u001b[0m\n\u001b[0;32m    583\u001b[0m \u001b[1;33m\u001b[0m\u001b[0m\n\u001b[0;32m    584\u001b[0m         \u001b[1;32mif\u001b[0m \u001b[1;32mnot\u001b[0m \u001b[0mno_val_X\u001b[0m \u001b[1;32mand\u001b[0m \u001b[0mcheck_params\u001b[0m\u001b[1;33m.\u001b[0m\u001b[0mget\u001b[0m\u001b[1;33m(\u001b[0m\u001b[1;34m\"ensure_2d\"\u001b[0m\u001b[1;33m,\u001b[0m \u001b[1;32mTrue\u001b[0m\u001b[1;33m)\u001b[0m\u001b[1;33m:\u001b[0m\u001b[1;33m\u001b[0m\u001b[1;33m\u001b[0m\u001b[0m\n\u001b[1;32m--> 585\u001b[1;33m             \u001b[0mself\u001b[0m\u001b[1;33m.\u001b[0m\u001b[0m_check_n_features\u001b[0m\u001b[1;33m(\u001b[0m\u001b[0mX\u001b[0m\u001b[1;33m,\u001b[0m \u001b[0mreset\u001b[0m\u001b[1;33m=\u001b[0m\u001b[0mreset\u001b[0m\u001b[1;33m)\u001b[0m\u001b[1;33m\u001b[0m\u001b[1;33m\u001b[0m\u001b[0m\n\u001b[0m\u001b[0;32m    586\u001b[0m \u001b[1;33m\u001b[0m\u001b[0m\n\u001b[0;32m    587\u001b[0m         \u001b[1;32mreturn\u001b[0m \u001b[0mout\u001b[0m\u001b[1;33m\u001b[0m\u001b[1;33m\u001b[0m\u001b[0m\n",
      "\u001b[1;32m~\\anaconda3\\lib\\site-packages\\sklearn\\base.py\u001b[0m in \u001b[0;36m_check_n_features\u001b[1;34m(self, X, reset)\u001b[0m\n\u001b[0;32m    398\u001b[0m \u001b[1;33m\u001b[0m\u001b[0m\n\u001b[0;32m    399\u001b[0m         \u001b[1;32mif\u001b[0m \u001b[0mn_features\u001b[0m \u001b[1;33m!=\u001b[0m \u001b[0mself\u001b[0m\u001b[1;33m.\u001b[0m\u001b[0mn_features_in_\u001b[0m\u001b[1;33m:\u001b[0m\u001b[1;33m\u001b[0m\u001b[1;33m\u001b[0m\u001b[0m\n\u001b[1;32m--> 400\u001b[1;33m             raise ValueError(\n\u001b[0m\u001b[0;32m    401\u001b[0m                 \u001b[1;34mf\"X has {n_features} features, but {self.__class__.__name__} \"\u001b[0m\u001b[1;33m\u001b[0m\u001b[1;33m\u001b[0m\u001b[0m\n\u001b[0;32m    402\u001b[0m                 \u001b[1;34mf\"is expecting {self.n_features_in_} features as input.\"\u001b[0m\u001b[1;33m\u001b[0m\u001b[1;33m\u001b[0m\u001b[0m\n",
      "\u001b[1;31mValueError\u001b[0m: X has 96 features, but SGDClassifier is expecting 9814 features as input."
     ]
    }
   ],
   "source": [
    "predict_w2v(\"congratulations, that's fine\")"
   ]
  },
  {
   "cell_type": "code",
   "execution_count": null,
   "metadata": {},
   "outputs": [],
   "source": []
  }
 ],
 "metadata": {
  "kernelspec": {
   "display_name": "Python 3",
   "language": "python",
   "name": "python3"
  },
  "language_info": {
   "codemirror_mode": {
    "name": "ipython",
    "version": 3
   },
   "file_extension": ".py",
   "mimetype": "text/x-python",
   "name": "python",
   "nbconvert_exporter": "python",
   "pygments_lexer": "ipython3",
   "version": "3.8.5"
  }
 },
 "nbformat": 4,
 "nbformat_minor": 4
}
